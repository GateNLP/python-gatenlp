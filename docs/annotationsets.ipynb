{
 "cells": [
  {
   "cell_type": "markdown",
   "metadata": {},
   "source": [
    "# Annotation Sets\n",
    "\n",
    "See also: [Python Documentation](pythondoc/gatenlp/annotation_set.html)\n",
    "\n",
    "Annotation sets group annotations that belong together in some way. How to group annotations is entirely up to the user. \n",
    "\n",
    "Annotation sets are identified by names and there can be as many different sets as needed. The annotation set with the empty string as name is called the \"default annotation set\". There are no strict limitations to annotation set names, but it is recommended that apart from the default set, all names should follow Java or python name conventions. \n",
    "\n",
    "Annotation sets are represented by the `AnnotationSet` class and created by fetching a set from the document."
   ]
  },
  {
   "cell_type": "code",
   "execution_count": 1,
   "metadata": {},
   "outputs": [],
   "source": [
    "from gatenlp import Document\n",
    "\n",
    "doc = Document(\"some document with some text so we can add annotations.\")\n",
    "annset = doc.annset(\"MySet\")"
   ]
  },
  {
   "cell_type": "markdown",
   "metadata": {},
   "source": [
    "Once an annotation set has been created it can be used to create and\n",
    "add as many annotations as needed to it:"
   ]
  },
  {
   "cell_type": "code",
   "execution_count": 2,
   "metadata": {},
   "outputs": [],
   "source": [
    "ann_tok1 = annset.add(0,4,\"Token\")\n",
    "ann_tok2 = annset.add(5,13,\"Token\")\n",
    "ann_all = annset.add(0,13,\"Document\")\n",
    "ann_vowel1 = annset.add(1,2,\"Vowel\")\n",
    "ann_vowel2 = annset.add(3,4,\"Vowel\")"
   ]
  },
  {
   "cell_type": "markdown",
   "metadata": {},
   "source": [
    "Annotations can overlap arbitrarily and there are methods to check the overlapping and location relative to each other through the [Annotation](annotations) methods. \n",
    "\n",
    "The AnnotationSet instance has methods to retrieve annotations which relate to an annotation span or offset span in some specific way, e.g. are contained in the annotation span, overlap the annotation span or contain the annotation span:"
   ]
  },
  {
   "cell_type": "code",
   "execution_count": 3,
   "metadata": {},
   "outputs": [
    {
     "name": "stderr",
     "output_type": "stream",
     "text": [
      "AnnotationSet([Annotation(1,2,Vowel,features=Features({}),id=3), Annotation(3,4,Vowel,features=Features({}),id=4)])\n",
      "AnnotationSet([Annotation(0,4,Token,features=Features({}),id=0), Annotation(1,2,Vowel,features=Features({}),id=3), Annotation(3,4,Vowel,features=Features({}),id=4)])\n"
     ]
    }
   ],
   "source": [
    "anns_intok1 = annset.within(ann_tok1)\n",
    "print(anns_intok1)\n",
    "# AnnotationSet([\n",
    "#   Annotation(1,2,Vowel,id=3,features=None),\n",
    "#   Annotation(3,4,Vowel,id=4,features=None)])\n",
    "\n",
    "anns_intok1 = annset.within(0,4)\n",
    "print(anns_intok1)\n",
    "# AnnotationSet([\n",
    "#   Annotation(0,4,Token,id=0,features=None),\n",
    "#   Annotation(1,2,Vowel,id=3,features=None),\n",
    "#   Annotation(3,4,Vowel,id=4,features=None)])"
   ]
  },
  {
   "cell_type": "markdown",
   "metadata": {},
   "source": [
    "In the example above, the annotation `ann_tok1` which has offsets (0,4) is not \n",
    "included in the result of `annset.within(ann_tok1)`: if an annotation is passed to any of these functions, by default that same annotation is not included in the result annotation set. \n",
    "This behaviour can be changed by using `include_self=True`. \n",
    "\n",
    "## Result Annotation Sets\n",
    "\n",
    "There are three ways of how one can obtain an annotation set in `gatenlp`:\n",
    "\n",
    "* From the document, using `annset()` or `annset(\"name\")`: this is how to get a handle to an annotation set that is stored with the document and known by some name (which can be the empty string) . Whenever annotations are added to or deleted from such a set, this modifies what is stored with the document.  Such sets are called \"attached\". \n",
    "* As the result of many of the AnnotationSet methods, e.g. `annset.covering(span)`: such annotation sets are by default immutable: they do not allow to add or delete annotations, but they can be changed to be mutable. Once mutable, annotations can get added or deleted but none of these changes are visible in the document: the set returned from the method is a \"*detached*\" set. \n",
    "* With the `AnnotationSet` constructor: such a set is empty and \"detached\". \n",
    "\n",
    "A \"detached\" annotation set returned from an AnnotationSet method contains annotations from the original attached set, and while the list of annotations is separate, the annotations themselves are identical to the ones in the original attached set. So if you change features of those annotations, they will modify the annotations in the document. \n",
    "\n",
    "In order to get a completely independent copy of all the annotations from a result set (which is a detached set), the method: `clone_anns()` can be used. After this, all the annotations are deep copies of the originals and can be modified without affecting the annotations in the original attached set. \n",
    "\n",
    "In order to get a completely independent copy of all the annotations from an original attached set, the method `deepcopy()` can be used.\n",
    "\n",
    "See examples below under \"Accessing Annotations by Type\""
   ]
  },
  {
   "cell_type": "markdown",
   "metadata": {},
   "source": [
    "## Indexing by offset and type\n",
    "\n",
    "AnnotationSet objects initially just contain the annotations which are stored in some arbitrary order internally. But as soon any method is used that has to check how the start or end offsets compare between annotations or which require to process annotations in offset order, an index is created internally for accessing annotations in order of start or end offset. Similarly, any method that retrieves annotations by type creates an index to speed up retrieval. Index creation is done automatically as needed. \n",
    "\n",
    "Index creation can require a lot of time if it is done for a large corpus of documents. "
   ]
  },
  {
   "cell_type": "markdown",
   "metadata": {},
   "source": [
    "## Iterating over Annotations \n",
    "\n",
    "Any AnnotationSet can be iterated over: \n",
    "\n"
   ]
  },
  {
   "cell_type": "code",
   "execution_count": 4,
   "metadata": {},
   "outputs": [
    {
     "name": "stderr",
     "output_type": "stream",
     "text": [
      "Annotation(0,4,Token,features=Features({}),id=0)\n",
      "Annotation(0,13,Document,features=Features({}),id=2)\n",
      "Annotation(1,2,Vowel,features=Features({}),id=3)\n",
      "Annotation(3,4,Vowel,features=Features({}),id=4)\n",
      "Annotation(5,13,Token,features=Features({}),id=1)\n",
      "Annotation(20,25,X,features=Features({}),id=5)\n",
      "Annotation(20,21,X,features=Features({}),id=6)\n",
      "Annotation(20,27,X,features=Features({}),id=7)\n"
     ]
    }
   ],
   "source": [
    "annset.add(20,25,\"X\")\n",
    "annset.add(20,21,\"X\")\n",
    "annset.add(20,27,\"X\")\n",
    "\n",
    "for ann in annset:\n",
    "    print(ann)"
   ]
  },
  {
   "cell_type": "markdown",
   "metadata": {},
   "source": [
    "The default sorting order of annotations is by start offset, then by annotation id. So the end offset is not \n",
    "involved in the order, but annotations at the same offset are ordered by annotation id. Annotation ids are always incremented when annotations get added.\n",
    "\n",
    "The default iterator needs to first created the index for sorting annotations in offset order. If this is not relevant, it is possible to avoid creating the index by using `fast_iter()` which iterates over the annotations in the order they were added to the set. "
   ]
  },
  {
   "cell_type": "code",
   "execution_count": 5,
   "metadata": {},
   "outputs": [
    {
     "name": "stderr",
     "output_type": "stream",
     "text": [
      "Annotation(0,4,Token,features=Features({}),id=0)\n",
      "Annotation(5,13,Token,features=Features({}),id=1)\n",
      "Annotation(0,13,Document,features=Features({}),id=2)\n",
      "Annotation(1,2,Vowel,features=Features({}),id=3)\n",
      "Annotation(3,4,Vowel,features=Features({}),id=4)\n",
      "Annotation(20,25,X,features=Features({}),id=5)\n",
      "Annotation(20,21,X,features=Features({}),id=6)\n",
      "Annotation(20,27,X,features=Features({}),id=7)\n"
     ]
    }
   ],
   "source": [
    "for ann in annset.fast_iter():\n",
    "    print(ann)"
   ]
  },
  {
   "cell_type": "markdown",
   "metadata": {},
   "source": [
    "Annotations can be iterated over in reverse offset order using `reverse_iter()`:"
   ]
  },
  {
   "cell_type": "code",
   "execution_count": 6,
   "metadata": {},
   "outputs": [
    {
     "name": "stderr",
     "output_type": "stream",
     "text": [
      "Annotation(20,27,X,features=Features({}),id=7)\n",
      "Annotation(20,21,X,features=Features({}),id=6)\n",
      "Annotation(20,25,X,features=Features({}),id=5)\n",
      "Annotation(5,13,Token,features=Features({}),id=1)\n",
      "Annotation(3,4,Vowel,features=Features({}),id=4)\n",
      "Annotation(1,2,Vowel,features=Features({}),id=3)\n",
      "Annotation(0,13,Document,features=Features({}),id=2)\n",
      "Annotation(0,4,Token,features=Features({}),id=0)\n"
     ]
    }
   ],
   "source": [
    "for ann in annset.reverse_iter():\n",
    "    print(ann)"
   ]
  },
  {
   "cell_type": "markdown",
   "metadata": {},
   "source": [
    "## Accessing Annotations by Type\n",
    "\n",
    "Each annotation has an annotation type, which can be an arbitrary string, but using something that follows Java or Python naming conventions is recommended. \n",
    "\n",
    "To retrieve all annotations with some specific type, use `with_type()`:"
   ]
  },
  {
   "cell_type": "code",
   "execution_count": 7,
   "metadata": {},
   "outputs": [
    {
     "name": "stderr",
     "output_type": "stream",
     "text": [
      "AnnotationSet([Annotation(1,2,Vowel,features=Features({}),id=3), Annotation(3,4,Vowel,features=Features({}),id=4)])\n"
     ]
    }
   ],
   "source": [
    "anns_vowel = annset.with_type(\"Vowel\")\n",
    "print(anns_vowel)"
   ]
  },
  {
   "cell_type": "markdown",
   "metadata": {},
   "source": [
    "The result set is a *detached* and *immutable* annotation set:\n",
    "    "
   ]
  },
  {
   "cell_type": "code",
   "execution_count": 8,
   "metadata": {},
   "outputs": [
    {
     "name": "stderr",
     "output_type": "stream",
     "text": [
      "True\n",
      "True\n",
      "Cannot add a new annotation\n"
     ]
    }
   ],
   "source": [
    "print(anns_vowel.immutable)\n",
    "print(anns_vowel.isdetached())\n",
    "\n",
    "try:\n",
    "    anns_vowel.add(2,3,\"SomeNew\")\n",
    "except:\n",
    "    print(\"Cannot add a new annotation\")"
   ]
  },
  {
   "cell_type": "markdown",
   "metadata": {},
   "source": [
    "After making the result set mutable, we can add annotations:\n"
   ]
  },
  {
   "cell_type": "code",
   "execution_count": 9,
   "metadata": {},
   "outputs": [
    {
     "name": "stderr",
     "output_type": "stream",
     "text": [
      "AnnotationSet([Annotation(1,2,Vowel,features=Features({}),id=3), Annotation(2,3,SomeNew,features=Features({}),id=8), Annotation(3,4,Vowel,features=Features({}),id=4)])\n"
     ]
    }
   ],
   "source": [
    "anns_vowel.immutable = False\n",
    "anns_vowel.add(2,3,\"SomeNew\")\n",
    "print(anns_vowel)"
   ]
  },
  {
   "cell_type": "markdown",
   "metadata": {},
   "source": [
    "But since the result set is detached, the added annotation does not become part of the original annotation set stored with the document:"
   ]
  },
  {
   "cell_type": "code",
   "execution_count": 10,
   "metadata": {},
   "outputs": [
    {
     "name": "stderr",
     "output_type": "stream",
     "text": [
      "AnnotationSet([Annotation(0,4,Token,features=Features({}),id=0), Annotation(0,13,Document,features=Features({}),id=2), Annotation(1,2,Vowel,features=Features({}),id=3), Annotation(3,4,Vowel,features=Features({}),id=4), Annotation(5,13,Token,features=Features({}),id=1), Annotation(20,25,X,features=Features({}),id=5), Annotation(20,21,X,features=Features({}),id=6), Annotation(20,27,X,features=Features({}),id=7)])\n"
     ]
    }
   ],
   "source": [
    "print(annset)"
   ]
  },
  {
   "cell_type": "markdown",
   "metadata": {},
   "source": [
    "In order to add annotations to the set stored with the  document, that set needs to be used directly, not a result set \n",
    "obtained from it. Note that if an annotation is added to the original set, this does not affect any result set already obtained:  "
   ]
  },
  {
   "cell_type": "code",
   "execution_count": 11,
   "metadata": {},
   "outputs": [
    {
     "name": "stderr",
     "output_type": "stream",
     "text": [
      "AnnotationSet([Annotation(0,4,Token,features=Features({}),id=0), Annotation(0,13,Document,features=Features({}),id=2), Annotation(1,2,Vowel,features=Features({}),id=3), Annotation(2,3,SomeOtherNew,features=Features({}),id=8), Annotation(3,4,Vowel,features=Features({}),id=4), Annotation(5,13,Token,features=Features({}),id=1), Annotation(20,25,X,features=Features({}),id=5), Annotation(20,21,X,features=Features({}),id=6), Annotation(20,27,X,features=Features({}),id=7)])\n"
     ]
    }
   ],
   "source": [
    "annset.add(2,3,\"SomeOtherNew\")\n",
    "print(annset)"
   ]
  },
  {
   "cell_type": "markdown",
   "metadata": {},
   "source": [
    "## Overview over the AnnotationSet API\n",
    "\n"
   ]
  },
  {
   "cell_type": "code",
   "execution_count": 12,
   "metadata": {},
   "outputs": [
    {
     "name": "stderr",
     "output_type": "stream",
     "text": [
      "MySet\n"
     ]
    }
   ],
   "source": [
    "# get the annotation set name\n",
    "print(annset.name)"
   ]
  },
  {
   "cell_type": "code",
   "execution_count": 13,
   "metadata": {},
   "outputs": [
    {
     "name": "stderr",
     "output_type": "stream",
     "text": [
      "9 9\n"
     ]
    }
   ],
   "source": [
    "# Get the number of annotations in the set: these two are equivalent\n",
    "print(annset.size, len(annset))"
   ]
  },
  {
   "cell_type": "code",
   "execution_count": 14,
   "metadata": {},
   "outputs": [
    {
     "name": "stderr",
     "output_type": "stream",
     "text": [
      "Document(some document with some text so we can add annotations.,features=Features({}),anns=['MySet':9])\n"
     ]
    }
   ],
   "source": [
    "# Get the document the annotation set belongs to:\n",
    "print(annset.document)"
   ]
  },
  {
   "cell_type": "code",
   "execution_count": 15,
   "metadata": {},
   "outputs": [
    {
     "name": "stderr",
     "output_type": "stream",
     "text": [
      "None\n"
     ]
    }
   ],
   "source": [
    "# But a detached set does not have a document it belongs to:\n",
    "print(anns_vowel.document)"
   ]
  },
  {
   "cell_type": "code",
   "execution_count": 16,
   "metadata": {},
   "outputs": [
    {
     "name": "stderr",
     "output_type": "stream",
     "text": [
      "0 27\n",
      "(0, 27)\n"
     ]
    }
   ],
   "source": [
    "# Get the start and end offsets for the whole annotation set\n",
    "print(annset.start, annset.end)\n",
    "# or return a tuple directly\n",
    "print(annset.span)"
   ]
  },
  {
   "cell_type": "code",
   "execution_count": 17,
   "metadata": {},
   "outputs": [
    {
     "name": "stderr",
     "output_type": "stream",
     "text": [
      "Annotation(2,3,SomeNew,features=Features({}),id=8)\n"
     ]
    }
   ],
   "source": [
    "# get an annotation by annotation id\n",
    "a1 = anns_vowel.get(8)\n",
    "print(a1)\n"
   ]
  },
  {
   "cell_type": "code",
   "execution_count": 18,
   "metadata": {},
   "outputs": [
    {
     "name": "stderr",
     "output_type": "stream",
     "text": [
      "Annotation(2,3,SomeNew,features=Features({}),id=9)\n",
      "Annotation(2,3,SomeNew,features=Features({}),id=10)\n"
     ]
    }
   ],
   "source": [
    "# add an annotation that looks exactly as a given annotation:\n",
    "# the given annotation itself is not becoming a member of the set\n",
    "# It gets a new annotation id and a new identity. However the features are shared.\n",
    "# An annotation can be added multiple times this way:\n",
    "a2 = annset.add_ann(a1)\n",
    "print(a2)\n",
    "a3 = annset.add_ann(a1)\n",
    "print(a3)\n"
   ]
  },
  {
   "cell_type": "code",
   "execution_count": 19,
   "metadata": {},
   "outputs": [
    {
     "name": "stderr",
     "output_type": "stream",
     "text": [
      "AnnotationSet([Annotation(0,4,Token,features=Features({}),id=0), Annotation(0,13,Document,features=Features({}),id=2), Annotation(1,2,Vowel,features=Features({}),id=3), Annotation(2,3,SomeOtherNew,features=Features({}),id=8), Annotation(3,4,Vowel,features=Features({}),id=4), Annotation(5,13,Token,features=Features({}),id=1), Annotation(20,25,X,features=Features({}),id=5), Annotation(20,21,X,features=Features({}),id=6), Annotation(20,27,X,features=Features({}),id=7)])\n"
     ]
    }
   ],
   "source": [
    "# Remove an annotation from the set.\n",
    "# This can be done by annotation id:\n",
    "annset.remove(a3.id)\n",
    "# or by passing the annotation to remove\n",
    "annset.remove(a2)\n",
    "print(annset)"
   ]
  },
  {
   "cell_type": "code",
   "execution_count": 20,
   "metadata": {},
   "outputs": [
    {
     "name": "stderr",
     "output_type": "stream",
     "text": [
      "ann_tok1 in the set: True\n",
      "ann_tok1 in the set, by id: True\n"
     ]
    }
   ],
   "source": [
    "# Check if an annotation is in the set\n",
    "\n",
    "print(\"ann_tok1 in the set:\", ann_tok1 in annset)\n",
    "tmpid = ann_tok1.id\n",
    "print(\"ann_tok1 in the set, by id:\", tmpid in annset)\n"
   ]
  },
  {
   "cell_type": "code",
   "execution_count": 21,
   "metadata": {},
   "outputs": [
    {
     "name": "stderr",
     "output_type": "stream",
     "text": [
      "Types: dict_keys(['Token', 'Document', 'Vowel', 'X', 'SomeOtherNew', 'SomeNew'])\n"
     ]
    }
   ],
   "source": [
    "# Get all annotation type names in an annotation set\n",
    "print(\"Types:\", annset.type_names)"
   ]
  }
 ],
 "metadata": {
  "kernelspec": {
   "display_name": "Python gatenlp",
   "language": "python",
   "name": "gatenlp"
  },
  "language_info": {
   "codemirror_mode": {
    "name": "ipython",
    "version": 3
   },
   "file_extension": ".py",
   "mimetype": "text/x-python",
   "name": "python",
   "nbconvert_exporter": "python",
   "pygments_lexer": "ipython3",
   "version": "3.7.7"
  }
 },
 "nbformat": 4,
 "nbformat_minor": 4
}
