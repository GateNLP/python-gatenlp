{
 "cells": [
  {
   "cell_type": "markdown",
   "metadata": {},
   "source": [
    "# Processing\n",
    "\n",
    "\n",
    "GateNLP does not limit how documents are stored in collections, iterated over, functions applied to the \n",
    "documents to modify them etc.\n",
    "\n",
    "However, GateNLP provides a number of abstractions to help with this in an organized fashion:\n",
    "\n",
    "* Corpus, DocumentSource, DocumentDestination: this is how collections of documents which can be read/written, \n",
    "  read only, or written only are represented in GateNLP. See [Corpora](corpora).\n",
    "* Annotator: an annotator is something that processes a document and returns the processed document. Most \n",
    "  annotators simple return the modified document but GateNLP abstractions also allow to return None to indicate\n",
    "  filtering a document or a list of documents (e.g. for splitting up documents)\n",
    "  Any Python callable can be used as an Annotator but GateNLP annotators in addition may implement the methods\n",
    "  `start` (to perform some start of corpus processing), `finish` (to perform some end of corpus processing and\n",
    "  return some over-the-corpus result) and `reduce` (to merge several partial over-the corpus results from parallel \n",
    "  processing into a single result). \n",
    "* Pipeline: a special annotator the encapsulates several annotators. When the pipeline is run on a document, \n",
    "  all the contained annotators are run in sequence. \n",
    "* Executor: an object that runs some Annotator on a corpus or document source and optionally stores the results\n",
    "  back into the corpus or into a document destination"
   ]
  },
  {
   "cell_type": "code",
   "execution_count": null,
   "metadata": {},
   "outputs": [],
   "source": []
  }
 ],
 "metadata": {
  "kernelspec": {
   "display_name": "Python 3",
   "language": "python",
   "name": "python3"
  },
  "language_info": {
   "codemirror_mode": {
    "name": "ipython",
    "version": 3
   },
   "file_extension": ".py",
   "mimetype": "text/x-python",
   "name": "python",
   "nbconvert_exporter": "python",
   "pygments_lexer": "ipython3",
   "version": "3.7.7"
  }
 },
 "nbformat": 4,
 "nbformat_minor": 4
}
