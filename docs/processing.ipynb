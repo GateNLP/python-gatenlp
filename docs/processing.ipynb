{
 "cells": [
  {
   "cell_type": "markdown",
   "metadata": {},
   "source": [
    "# Processing\n",
    "\n",
    "\n",
    "GateNLP does not limit how documents are stored in collections, iterated over, functions applied to the \n",
    "documents to modify them etc.\n",
    "\n",
    "However, GateNLP provides a number of abstractions to help with this in an organized fashion:\n",
    "\n",
    "* Corpus, DocumentSource, DocumentDestination: this is how collections of documents which can be read/written, \n",
    "  read only, or written only are represented in GateNLP. See [Corpora](corpora).\n",
    "* Annotator: an annotator is something that processes a document and returns the processed document. Most \n",
    "  annotators simple return the modified document but GateNLP abstractions also allow to return None to indicate\n",
    "  filtering a document or a list of documents (e.g. for splitting up documents)\n",
    "  Any Python callable can be used as an Annotator but GateNLP annotators in addition may implement the methods\n",
    "  `start` (to perform some start of corpus processing), `finish` (to perform some end of corpus processing and\n",
    "  return some over-the-corpus result) and `reduce` (to merge several partial over-the corpus results from parallel \n",
    "  processing into a single result). \n",
    "* Pipeline: a special annotator the encapsulates several annotators. When the pipeline is run on a document, \n",
    "  all the contained annotators are run in sequence. \n",
    "* Executor: an object that runs some Annotator on a corpus or document source and optionally stores the results\n",
    "  back into the corpus or into a document destination\n",
    "  \n",
    "  \n",
    "## Annotators\n",
    "\n",
    "Anny callable that takes a document and returns that document can act as an annotator. Note that an annotator\n",
    "usually modifies the annotations or features of the document it receives. This happens in place, so the annotator would not have to return the document. However, it is a convention that annotators always return the document that got modified to indicate this to downstream annotators or document destinations. \n",
    "\n",
    "If an annotator returns a list, the result of processing is instead the documents in the list which could be none, or more than one. This convention allows a processing pipeline to filter documents or generate several documents from a single one. \n",
    "\n",
    "Lets create a simple annotator as a function and apply it to a corpus of documents which in the simplest form is just a list of documents:\n"
   ]
  },
  {
   "cell_type": "code",
   "execution_count": 1,
   "metadata": {},
   "outputs": [],
   "source": [
    "import os\n",
    "from gatenlp import Document\n",
    "from gatenlp.processing.executor import SerialCorpusExecutor"
   ]
  },
  {
   "cell_type": "code",
   "execution_count": 2,
   "metadata": {},
   "outputs": [
    {
     "name": "stderr",
     "output_type": "stream",
     "text": [
      "Document(Text for the first document.,features=Features({}),anns=['':1])\n",
      "Document(Text for the second document. This one has two sentences.,features=Features({}),anns=['':1])\n",
      "Document(And another one.,features=Features({}),anns=['':1])\n"
     ]
    }
   ],
   "source": [
    "def annotator1(doc):\n",
    "    doc.annset().add(2,3,\"Type1\")\n",
    "    return doc\n",
    "\n",
    "texts = [\n",
    "    \"Text for the first document.\",\n",
    "    \"Text for the second document. This one has two sentences.\",\n",
    "    \"And another one.\",\n",
    "]\n",
    "\n",
    "corpus = [Document(txt) for txt in texts]\n",
    "\n",
    "# everything happens in memory here, so we can ignore the returned document\n",
    "for doc in corpus:\n",
    "    annotator1(doc)\n",
    "    \n",
    "for doc in corpus:\n",
    "    print(doc)\n",
    "\n",
    "\n",
    "    "
   ]
  },
  {
   "cell_type": "markdown",
   "metadata": {},
   "source": [
    "### Annotator classes\n",
    "\n",
    "When scaling up, annotators become more complex, processing gets more complex, a corpus does not fit into memory any more and so on. For this reason, GateNLP has abstractions which simplify processing in those situations. \n",
    "\n",
    "Annotators as classes always must implement the `__call__` special method so that an instance of the class can be used just like a function. In addition Annotator classes can also implement the following methods:\n",
    "\n",
    "* `start`: this gets automatically invoked by an \"Executor\"  when processing over a set of documents starts and\n",
    "  before the first document is processed\n",
    "* `finish`: this gets automatically invoked by an \"Executor\" after all documents have been processed and may return an over-the-corpus result\n",
    "* `reduce`: this gets automatically invoked by any multi-processing \"Executor\", passing on the results returned by `finish` for each process and passing back the combined results over all processes. \n",
    "\n",
    "The result of processing a corpus returned by the executor is whatever is returned by the finish method for a single process execution or what is returned by the reduce method for multiprocessing. (NOTE: multiprocessing executors are not implemented yet!)"
   ]
  },
  {
   "cell_type": "code",
   "execution_count": null,
   "metadata": {},
   "outputs": [],
   "source": []
  }
 ],
 "metadata": {
  "kernelspec": {
   "display_name": "Python 3",
   "language": "python",
   "name": "python3"
  },
  "language_info": {
   "codemirror_mode": {
    "name": "ipython",
    "version": 3
   },
   "file_extension": ".py",
   "mimetype": "text/x-python",
   "name": "python",
   "nbconvert_exporter": "python",
   "pygments_lexer": "ipython3",
   "version": "3.6.12"
  }
 },
 "nbformat": 4,
 "nbformat_minor": 4
}
