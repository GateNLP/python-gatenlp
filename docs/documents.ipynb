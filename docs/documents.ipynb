{
 "cells": [
  {
   "cell_type": "markdown",
   "metadata": {},
   "source": [
    "# Documents"
   ]
  },
  {
   "cell_type": "code",
   "execution_count": 1,
   "metadata": {},
   "outputs": [],
   "source": [
    "from gatenlp import Document\n"
   ]
  },
  {
   "cell_type": "code",
   "execution_count": 2,
   "metadata": {},
   "outputs": [
    {
     "name": "stderr",
     "output_type": "stream",
     "text": [
      "Document(This is a test document.\n",
      "\n",
      "It contains just a few sentences. \n",
      "Here is a sentence that mentions a few named entities like \n",
      "the persons Barack Obama or Ursula von der Leyen, locations\n",
      "like New York City, Vienna or Beijing or companies like \n",
      "Google, UniCredit or Huawei. \n",
      "\n",
      "Here we include a URL https://gatenlp.github.io/python-gatenlp/ \n",
      "and a fake email address john.doe@hiscoolserver.com as well \n",
      "as #some #cool #hastags and a bunch of emojis like 😽 (a kissing cat),\n",
      "👩‍🏫 (a woman teacher), 🧬 (DNA), \n",
      "🧗 (a person climbing), \n",
      "💩 (a pile of poo). \n",
      "\n",
      "Here we test a few different scripts, e.g. Hangul 한글 or \n",
      "simplified Hanzi 汉字 or Farsi فارسی which goes from right to left. \n",
      "\n",
      "\n",
      ",features=Features({}),anns=[])\n"
     ]
    }
   ],
   "source": [
    "# To load a document from a file with the name \"file.bdocjs\" into gatenlp simply use:\n",
    "# doc = Document.load(\"test2a.bdocjs\")\n",
    "\n",
    "# But it is also possible to load from a file that is somewhere on the internet. For this notebook, we use\n",
    "# an example document that gets loaded from a URL:\n",
    "doc = Document.load(\"https://gatenlp.github.io/python-gatenlp/testdocument1.txt\")\n",
    "\n",
    "# We can visualize the document by printing it:\n",
    "print(doc)"
   ]
  },
  {
   "cell_type": "markdown",
   "metadata": {},
   "source": [
    "Printing the document shows the document text and indicates that there are no document features and no \n",
    "annotations which is to be expected since we just loaded from a plain text file. \n",
    "\n",
    "In a Jupyter notebook, a `gatenlp` document can also be visualized graphically by either just using the document \n",
    "as the last value of a cell or by using the IPython \"display\" function:"
   ]
  },
  {
   "cell_type": "code",
   "execution_count": 3,
   "metadata": {},
   "outputs": [
    {
     "data": {
      "text/html": [
       "\n",
       "<div>\n",
       "<style>\n",
       "#DXOGIUACRW-content {\n",
       "    width: 100%;\n",
       "    height: 100%;\n",
       "    font-family: -apple-system, BlinkMacSystemFont, 'Segoe UI', Roboto, Oxygen, Ubuntu, Cantarell, 'Open Sans', 'Helvetica Neue', sans-serif;\n",
       "}\n",
       "\n",
       ".DXOGIUACRW-row {\n",
       "    width: 100%;\n",
       "    display: flex;\n",
       "    flex-direction: row;\n",
       "    flex-wrap: nowrap;\n",
       "}\n",
       "\n",
       ".DXOGIUACRW-col {\n",
       "    border: 1px solid grey;\n",
       "    display: inline-block;\n",
       "    min-width: 200px;\n",
       "    padding: 5px;\n",
       "    /* white-space: normal; */\n",
       "    /* white-space: pre-wrap; */\n",
       "    overflow-y: auto;\n",
       "}\n",
       "\n",
       ".DXOGIUACRW-hdr {\n",
       "    font-size: 1.2rem;\n",
       "    font-weight: bold;\n",
       "}\n",
       "\n",
       ".DXOGIUACRW-label {\n",
       "    margin-bottom: -15px;\n",
       "    display: block;\n",
       "}\n",
       "\n",
       ".DXOGIUACRW-input {\n",
       "    vertical-align: middle;\n",
       "    position: relative;\n",
       "    *overflow: hidden;\n",
       "}\n",
       "\n",
       "#DXOGIUACRW-popup {\n",
       "    display: none;\n",
       "    colour: white;\n",
       "    position: absolute;\n",
       "    margin-top: 10%;\n",
       "    margin-left: 10%;\n",
       "    background: #ff88ff;\n",
       "    width: 60%;\n",
       "    height: 60%;\n",
       "    z-index: 50;\n",
       "    padding: 25px 25px 25px;\n",
       "    border: 1px solid black;\n",
       "    overflow: auto;\n",
       "}\n",
       "\n",
       ".DXOGIUACRW-selection {\n",
       "    margin-bottom: 5px;\n",
       "}\n",
       "\n",
       ".DXOGIUACRW-featuretable {\n",
       "    margin-top: 10px;\n",
       "}\n",
       "\n",
       ".DXOGIUACRW-fname {\n",
       "    text-align: left !important;\n",
       "    font-weight: bold;\n",
       "    margin-right: 10px;\n",
       "}\n",
       ".DXOGIUACRW-fvalue {\n",
       "    text-align: left !important;\n",
       "}\n",
       "</style>\n",
       "  <div id=\"DXOGIUACRW-content\">\n",
       "        <div id=\"DXOGIUACRW-popup\" style=\"display: none;\">\n",
       "        </div>\n",
       "        <div class=\"DXOGIUACRW-row\" id=\"DXOGIUACRW-row1\" style=\"height:67vh; min-height:100px;\">\n",
       "            <div id=\"DXOGIUACRW-text-wrapper\" class=\"DXOGIUACRW-col\" style=\"width:70%;\">\n",
       "                <div class=\"DXOGIUACRW-hdr\" id=\"DXOGIUACRW-dochdr\"></div>\n",
       "                <div id=\"DXOGIUACRW-text\">\n",
       "                </div>\n",
       "            </div>\n",
       "            <div id=\"DXOGIUACRW-chooser\" class=\"DXOGIUACRW-col\" style=\"width:30%; border-left-width: 0px;\"></div>\n",
       "        </div>\n",
       "        <div class=\"DXOGIUACRW-row\" id=\"DXOGIUACRW-row2\" style=\"height:30vh; min-height: 100px;\">\n",
       "            <div id=\"DXOGIUACRW-details\" class=\"DXOGIUACRW-col\" style=\"width:100%; border-top-width: 0px;\">\n",
       "            </div>\n",
       "        </div>\n",
       "    </div>\n",
       "    <script src=\"https://ajax.googleapis.com/ajax/libs/jquery/3.5.1/jquery.min.js\"></script><script src=\"https://unpkg.com/gatenlp-ann-viewer@1.0.8/gatenlp-ann-viewer.js\"></script>\n",
       "    <script type=\"application/json\" id=\"DXOGIUACRW-data\">\n",
       "    {\"annotation_sets\": {}, \"text\": \"This is a test document.\\n\\nIt contains just a few sentences. \\nHere is a sentence that mentions a few named entities like \\nthe persons Barack Obama or Ursula von der Leyen, locations\\nlike New York City, Vienna or Beijing or companies like \\nGoogle, UniCredit or Huawei. \\n\\nHere we include a URL https://gatenlp.github.io/python-gatenlp/ \\nand a fake email address john.doe@hiscoolserver.com as well \\nas #some #cool #hastags and a bunch of emojis like \\ud83d\\ude3d (a kissing cat),\\n\\ud83d\\udc69\\u200d\\ud83c\\udfeb (a woman teacher), \\ud83e\\uddec (DNA), \\n\\ud83e\\uddd7 (a person climbing), \\n\\ud83d\\udca9 (a pile of poo). \\n\\nHere we test a few different scripts, e.g. Hangul \\ud55c\\uae00 or \\nsimplified Hanzi \\u6c49\\u5b57 or Farsi \\u0641\\u0627\\u0631\\u0633\\u06cc which goes from right to left. \\n\\n\\n\", \"features\": {}, \"offset_type\": \"j\", \"name\": \"\"}\n",
       "    </script>\n",
       "    <script type=\"text/javascript\">\n",
       "        gatenlp_run(\"DXOGIUACRW-\");\n",
       "    </script>\n",
       "  </div>\n",
       "<div>ID: DXOGIUACRW</div>"
      ],
      "text/plain": [
       "Document(This is a test document.\n",
       "\n",
       "It contains just a few sentences. \n",
       "Here is a sentence that mentions a few named entities like \n",
       "the persons Barack Obama or Ursula von der Leyen, locations\n",
       "like New York City, Vienna or Beijing or companies like \n",
       "Google, UniCredit or Huawei. \n",
       "\n",
       "Here we include a URL https://gatenlp.github.io/python-gatenlp/ \n",
       "and a fake email address john.doe@hiscoolserver.com as well \n",
       "as #some #cool #hastags and a bunch of emojis like 😽 (a kissing cat),\n",
       "👩‍🏫 (a woman teacher), 🧬 (DNA), \n",
       "🧗 (a person climbing), \n",
       "💩 (a pile of poo). \n",
       "\n",
       "Here we test a few different scripts, e.g. Hangul 한글 or \n",
       "simplified Hanzi 汉字 or Farsi فارسی which goes from right to left. \n",
       "\n",
       "\n",
       ",features=Features({}),anns={})"
      ]
     },
     "metadata": {},
     "output_type": "display_data"
    }
   ],
   "source": [
    "from IPython.display import display\n",
    "display(doc)"
   ]
  },
  {
   "cell_type": "markdown",
   "metadata": {},
   "source": [
    "This shows the document in a layout that has three areas: the document text in the upper left,\n",
    "the list of annotation set and type names in the upper right and document or annotation features\n",
    "at the bottom. In the example above only the text is shown because there are no document features or \n",
    "annotations. "
   ]
  },
  {
   "cell_type": "markdown",
   "metadata": {},
   "source": [
    "## Document features\n",
    "\n",
    "Lets add some document features:"
   ]
  },
  {
   "cell_type": "code",
   "execution_count": 4,
   "metadata": {
    "scrolled": false
   },
   "outputs": [],
   "source": [
    "doc.features[\"loaded-from\"] = \"https://gatenlp.github.io/python-gatenlp/testdocument1.txt\"\n",
    "doc.features[\"purpose\"] = \"test document for gatenlp\"\n",
    "doc.features[\"someotherfeature\"] = 22\n",
    "doc.features[\"andanother\"] = {\"what\": \"a dict\", \"alist\": [1,2,3,4,5]}"
   ]
  },
  {
   "cell_type": "markdown",
   "metadata": {
    "scrolled": false
   },
   "source": [
    "Document features map feature names to feature values and behave a lot like a Python dictionary. Feature names\n",
    "should always be strings, feature values can be anything, but a document can only be stored or exchanged with Java GATE if feature values are restricted to whatever can be serialized with JSON: dictionaries, lists, numbers, strings and booleans. \n",
    "\n",
    "Now that we have create document features the document is shown like this:"
   ]
  },
  {
   "cell_type": "code",
   "execution_count": 5,
   "metadata": {},
   "outputs": [
    {
     "data": {
      "text/html": [
       "\n",
       "<div>\n",
       "<style>\n",
       "#OVLVLXTDUO-content {\n",
       "    width: 100%;\n",
       "    height: 100%;\n",
       "    font-family: -apple-system, BlinkMacSystemFont, 'Segoe UI', Roboto, Oxygen, Ubuntu, Cantarell, 'Open Sans', 'Helvetica Neue', sans-serif;\n",
       "}\n",
       "\n",
       ".OVLVLXTDUO-row {\n",
       "    width: 100%;\n",
       "    display: flex;\n",
       "    flex-direction: row;\n",
       "    flex-wrap: nowrap;\n",
       "}\n",
       "\n",
       ".OVLVLXTDUO-col {\n",
       "    border: 1px solid grey;\n",
       "    display: inline-block;\n",
       "    min-width: 200px;\n",
       "    padding: 5px;\n",
       "    /* white-space: normal; */\n",
       "    /* white-space: pre-wrap; */\n",
       "    overflow-y: auto;\n",
       "}\n",
       "\n",
       ".OVLVLXTDUO-hdr {\n",
       "    font-size: 1.2rem;\n",
       "    font-weight: bold;\n",
       "}\n",
       "\n",
       ".OVLVLXTDUO-label {\n",
       "    margin-bottom: -15px;\n",
       "    display: block;\n",
       "}\n",
       "\n",
       ".OVLVLXTDUO-input {\n",
       "    vertical-align: middle;\n",
       "    position: relative;\n",
       "    *overflow: hidden;\n",
       "}\n",
       "\n",
       "#OVLVLXTDUO-popup {\n",
       "    display: none;\n",
       "    colour: white;\n",
       "    position: absolute;\n",
       "    margin-top: 10%;\n",
       "    margin-left: 10%;\n",
       "    background: #ff88ff;\n",
       "    width: 60%;\n",
       "    height: 60%;\n",
       "    z-index: 50;\n",
       "    padding: 25px 25px 25px;\n",
       "    border: 1px solid black;\n",
       "    overflow: auto;\n",
       "}\n",
       "\n",
       ".OVLVLXTDUO-selection {\n",
       "    margin-bottom: 5px;\n",
       "}\n",
       "\n",
       ".OVLVLXTDUO-featuretable {\n",
       "    margin-top: 10px;\n",
       "}\n",
       "\n",
       ".OVLVLXTDUO-fname {\n",
       "    text-align: left !important;\n",
       "    font-weight: bold;\n",
       "    margin-right: 10px;\n",
       "}\n",
       ".OVLVLXTDUO-fvalue {\n",
       "    text-align: left !important;\n",
       "}\n",
       "</style>\n",
       "  <div id=\"OVLVLXTDUO-content\">\n",
       "        <div id=\"OVLVLXTDUO-popup\" style=\"display: none;\">\n",
       "        </div>\n",
       "        <div class=\"OVLVLXTDUO-row\" id=\"OVLVLXTDUO-row1\" style=\"height:67vh; min-height:100px;\">\n",
       "            <div id=\"OVLVLXTDUO-text-wrapper\" class=\"OVLVLXTDUO-col\" style=\"width:70%;\">\n",
       "                <div class=\"OVLVLXTDUO-hdr\" id=\"OVLVLXTDUO-dochdr\"></div>\n",
       "                <div id=\"OVLVLXTDUO-text\">\n",
       "                </div>\n",
       "            </div>\n",
       "            <div id=\"OVLVLXTDUO-chooser\" class=\"OVLVLXTDUO-col\" style=\"width:30%; border-left-width: 0px;\"></div>\n",
       "        </div>\n",
       "        <div class=\"OVLVLXTDUO-row\" id=\"OVLVLXTDUO-row2\" style=\"height:30vh; min-height: 100px;\">\n",
       "            <div id=\"OVLVLXTDUO-details\" class=\"OVLVLXTDUO-col\" style=\"width:100%; border-top-width: 0px;\">\n",
       "            </div>\n",
       "        </div>\n",
       "    </div>\n",
       "    <script src=\"https://ajax.googleapis.com/ajax/libs/jquery/3.5.1/jquery.min.js\"></script><script src=\"https://unpkg.com/gatenlp-ann-viewer@1.0.8/gatenlp-ann-viewer.js\"></script>\n",
       "    <script type=\"application/json\" id=\"OVLVLXTDUO-data\">\n",
       "    {\"annotation_sets\": {}, \"text\": \"This is a test document.\\n\\nIt contains just a few sentences. \\nHere is a sentence that mentions a few named entities like \\nthe persons Barack Obama or Ursula von der Leyen, locations\\nlike New York City, Vienna or Beijing or companies like \\nGoogle, UniCredit or Huawei. \\n\\nHere we include a URL https://gatenlp.github.io/python-gatenlp/ \\nand a fake email address john.doe@hiscoolserver.com as well \\nas #some #cool #hastags and a bunch of emojis like \\ud83d\\ude3d (a kissing cat),\\n\\ud83d\\udc69\\u200d\\ud83c\\udfeb (a woman teacher), \\ud83e\\uddec (DNA), \\n\\ud83e\\uddd7 (a person climbing), \\n\\ud83d\\udca9 (a pile of poo). \\n\\nHere we test a few different scripts, e.g. Hangul \\ud55c\\uae00 or \\nsimplified Hanzi \\u6c49\\u5b57 or Farsi \\u0641\\u0627\\u0631\\u0633\\u06cc which goes from right to left. \\n\\n\\n\", \"features\": {\"loaded-from\": \"https://gatenlp.github.io/python-gatenlp/testdocument1.txt\", \"purpose\": \"test document for gatenlp\", \"someotherfeature\": 22, \"andanother\": {\"what\": \"a dict\", \"alist\": [1, 2, 3, 4, 5]}}, \"offset_type\": \"j\", \"name\": \"\"}\n",
       "    </script>\n",
       "    <script type=\"text/javascript\">\n",
       "        gatenlp_run(\"OVLVLXTDUO-\");\n",
       "    </script>\n",
       "  </div>\n",
       "<div>ID: OVLVLXTDUO</div>"
      ],
      "text/plain": [
       "Document(This is a test document.\n",
       "\n",
       "It contains just a few sentences. \n",
       "Here is a sentence that mentions a few named entities like \n",
       "the persons Barack Obama or Ursula von der Leyen, locations\n",
       "like New York City, Vienna or Beijing or companies like \n",
       "Google, UniCredit or Huawei. \n",
       "\n",
       "Here we include a URL https://gatenlp.github.io/python-gatenlp/ \n",
       "and a fake email address john.doe@hiscoolserver.com as well \n",
       "as #some #cool #hastags and a bunch of emojis like 😽 (a kissing cat),\n",
       "👩‍🏫 (a woman teacher), 🧬 (DNA), \n",
       "🧗 (a person climbing), \n",
       "💩 (a pile of poo). \n",
       "\n",
       "Here we test a few different scripts, e.g. Hangul 한글 or \n",
       "simplified Hanzi 汉字 or Farsi فارسی which goes from right to left. \n",
       "\n",
       "\n",
       ",features=Features({'loaded-from': 'https://gatenlp.github.io/python-gatenlp/testdocument1.txt', 'purpose': 'test document for gatenlp', 'someotherfeature': 22, 'andanother': {'what': 'a dict', 'alist': [1, 2, 3, 4, 5]}}),anns={})"
      ]
     },
     "execution_count": 5,
     "metadata": {},
     "output_type": "execute_result"
    }
   ],
   "source": [
    "doc"
   ]
  },
  {
   "cell_type": "code",
   "execution_count": 6,
   "metadata": {},
   "outputs": [
    {
     "data": {
      "text/plain": [
       "'test document for gatenlp'"
      ]
     },
     "execution_count": 6,
     "metadata": {},
     "output_type": "execute_result"
    }
   ],
   "source": [
    "# to retrieve a feature value we can do:\n",
    "doc.features[\"purpose\"]"
   ]
  },
  {
   "cell_type": "code",
   "execution_count": 7,
   "metadata": {},
   "outputs": [
    {
     "name": "stderr",
     "output_type": "stream",
     "text": [
      "None\n",
      "MV!\n"
     ]
    }
   ],
   "source": [
    "# If a feature does not exist, None is returned or a default value if specified:\n",
    "print(doc.features.get(\"doesntexist\"))\n",
    "print(doc.features.get(\"doesntexist\", \"MV!\"))\n"
   ]
  },
  {
   "cell_type": "markdown",
   "metadata": {},
   "source": [
    "## Annotations\n",
    "\n",
    "Lets add some annotations too. Annotations are items of information for some range of characters within the document. They can be used to represent information about things like tokens, entities, sentences, paragraphs, or \n",
    "anything that corresponds to some contiguous range of offsets in the document.\n",
    "\n",
    "Annotations consist of the following parts:\n",
    "* The \"start\" and \"end\" offset to identify the text the annotation refers to\n",
    "* A \"type\" which is an arbitrary name that identifies what kind of thing the annotation describes, e.g. \"Token\"\n",
    "* Features: these work in the same way as for the whole document: an arbitrary set of feature name / feature value\n",
    "  pairs which provide more information, e.g. for a Token the features could include the lemma, the part of speech,\n",
    "  the stem, the number, etc. \n",
    "\n",
    "Annotations can be organized in \"annotation sets\". Each annotation set has a name and a set of annotations. There can be as many sets as needed. \n",
    "\n",
    "Annotation can overlap arbitrarily and there can be as many as needed. \n",
    "\n",
    "Let us manually add a few annotations to the document:"
   ]
  },
  {
   "cell_type": "code",
   "execution_count": 9,
   "metadata": {},
   "outputs": [],
   "source": [
    "# create and get an annotation set with the name \"Set1\"\n",
    "annset = doc.annset(\"Set1\")"
   ]
  },
  {
   "cell_type": "markdown",
   "metadata": {},
   "source": [
    "Add an annotation to the set which refers to the first word in the document \"This\". The range of characters\n",
    "for this word starts at offset 0 and the length of the annotation is 4, so the \"start\" offset is 0 and the \"end\" offset is 0+4=4. Note that the end offset always points to the offset *after* the last character of the range."
   ]
  },
  {
   "cell_type": "code",
   "execution_count": 10,
   "metadata": {},
   "outputs": [
    {
     "data": {
      "text/plain": [
       "Annotation(0,4,Word,features=Features({'what': 'our first annotation'}),id=0)"
      ]
     },
     "execution_count": 10,
     "metadata": {},
     "output_type": "execute_result"
    }
   ],
   "source": [
    "annset.add(0,4,\"Word\",{\"what\": \"our first annotation\"})"
   ]
  },
  {
   "cell_type": "code",
   "execution_count": 11,
   "metadata": {},
   "outputs": [
    {
     "data": {
      "text/plain": [
       "Annotation(0,24,Sentence,features=Features({'what': 'our first sentence annotation'}),id=2)"
      ]
     },
     "execution_count": 11,
     "metadata": {},
     "output_type": "execute_result"
    }
   ],
   "source": [
    "# Add more\n",
    "annset.add(5,7,\"Word\",{\"what\": \"our second annotation\"})\n",
    "annset.add(0,24,\"Sentence\",{\"what\": \"our first sentence annotation\"})"
   ]
  },
  {
   "cell_type": "markdown",
   "metadata": {},
   "source": [
    "If we visualize the document now, the newly created set \"Set\" is shown in the right part of\n",
    "the display. It shows the different annotation types that exist in the set, and how many annotations\n",
    "for each type are in the set. If you click the check box, the annotation ranges are shown in the \n",
    "text with the colour associated with the annotation type. You can then click on a range / annotation in the\n",
    "text and the features of the annotation are shown in the lower part. \n",
    "To show the features for a different annotation click on the coloured range for the annotation in the text.\n",
    "To show the document features, click on \"Document\".\n",
    "\n",
    "If you have selected more than one type, a range can have more than one overlapping annotations. \n",
    "This is shown by mixing the colours. If you click at such a location, a dialog appears which lets you\n",
    "select for which of the overlapping annotations you want to display the features. "
   ]
  },
  {
   "cell_type": "code",
   "execution_count": 12,
   "metadata": {},
   "outputs": [
    {
     "data": {
      "text/html": [
       "\n",
       "<div>\n",
       "<style>\n",
       "#UPTNAZPYYI-content {\n",
       "    width: 100%;\n",
       "    height: 100%;\n",
       "    font-family: -apple-system, BlinkMacSystemFont, 'Segoe UI', Roboto, Oxygen, Ubuntu, Cantarell, 'Open Sans', 'Helvetica Neue', sans-serif;\n",
       "}\n",
       "\n",
       ".UPTNAZPYYI-row {\n",
       "    width: 100%;\n",
       "    display: flex;\n",
       "    flex-direction: row;\n",
       "    flex-wrap: nowrap;\n",
       "}\n",
       "\n",
       ".UPTNAZPYYI-col {\n",
       "    border: 1px solid grey;\n",
       "    display: inline-block;\n",
       "    min-width: 200px;\n",
       "    padding: 5px;\n",
       "    /* white-space: normal; */\n",
       "    /* white-space: pre-wrap; */\n",
       "    overflow-y: auto;\n",
       "}\n",
       "\n",
       ".UPTNAZPYYI-hdr {\n",
       "    font-size: 1.2rem;\n",
       "    font-weight: bold;\n",
       "}\n",
       "\n",
       ".UPTNAZPYYI-label {\n",
       "    margin-bottom: -15px;\n",
       "    display: block;\n",
       "}\n",
       "\n",
       ".UPTNAZPYYI-input {\n",
       "    vertical-align: middle;\n",
       "    position: relative;\n",
       "    *overflow: hidden;\n",
       "}\n",
       "\n",
       "#UPTNAZPYYI-popup {\n",
       "    display: none;\n",
       "    colour: white;\n",
       "    position: absolute;\n",
       "    margin-top: 10%;\n",
       "    margin-left: 10%;\n",
       "    background: #ff88ff;\n",
       "    width: 60%;\n",
       "    height: 60%;\n",
       "    z-index: 50;\n",
       "    padding: 25px 25px 25px;\n",
       "    border: 1px solid black;\n",
       "    overflow: auto;\n",
       "}\n",
       "\n",
       ".UPTNAZPYYI-selection {\n",
       "    margin-bottom: 5px;\n",
       "}\n",
       "\n",
       ".UPTNAZPYYI-featuretable {\n",
       "    margin-top: 10px;\n",
       "}\n",
       "\n",
       ".UPTNAZPYYI-fname {\n",
       "    text-align: left !important;\n",
       "    font-weight: bold;\n",
       "    margin-right: 10px;\n",
       "}\n",
       ".UPTNAZPYYI-fvalue {\n",
       "    text-align: left !important;\n",
       "}\n",
       "</style>\n",
       "  <div id=\"UPTNAZPYYI-content\">\n",
       "        <div id=\"UPTNAZPYYI-popup\" style=\"display: none;\">\n",
       "        </div>\n",
       "        <div class=\"UPTNAZPYYI-row\" id=\"UPTNAZPYYI-row1\" style=\"height:67vh; min-height:100px;\">\n",
       "            <div id=\"UPTNAZPYYI-text-wrapper\" class=\"UPTNAZPYYI-col\" style=\"width:70%;\">\n",
       "                <div class=\"UPTNAZPYYI-hdr\" id=\"UPTNAZPYYI-dochdr\"></div>\n",
       "                <div id=\"UPTNAZPYYI-text\">\n",
       "                </div>\n",
       "            </div>\n",
       "            <div id=\"UPTNAZPYYI-chooser\" class=\"UPTNAZPYYI-col\" style=\"width:30%; border-left-width: 0px;\"></div>\n",
       "        </div>\n",
       "        <div class=\"UPTNAZPYYI-row\" id=\"UPTNAZPYYI-row2\" style=\"height:30vh; min-height: 100px;\">\n",
       "            <div id=\"UPTNAZPYYI-details\" class=\"UPTNAZPYYI-col\" style=\"width:100%; border-top-width: 0px;\">\n",
       "            </div>\n",
       "        </div>\n",
       "    </div>\n",
       "    <script src=\"https://ajax.googleapis.com/ajax/libs/jquery/3.5.1/jquery.min.js\"></script><script src=\"https://unpkg.com/gatenlp-ann-viewer@1.0.8/gatenlp-ann-viewer.js\"></script>\n",
       "    <script type=\"application/json\" id=\"UPTNAZPYYI-data\">\n",
       "    {\"annotation_sets\": {\"Set1\": {\"name\": \"detached-from:Set1\", \"annotations\": [{\"type\": \"Word\", \"start\": 0, \"end\": 4, \"id\": 0, \"features\": {\"what\": \"our first annotation\"}}, {\"type\": \"Word\", \"start\": 5, \"end\": 7, \"id\": 1, \"features\": {\"what\": \"our second annotation\"}}, {\"type\": \"Sentence\", \"start\": 0, \"end\": 24, \"id\": 2, \"features\": {\"what\": \"our first sentence annotation\"}}], \"next_annid\": 3}}, \"text\": \"This is a test document.\\n\\nIt contains just a few sentences. \\nHere is a sentence that mentions a few named entities like \\nthe persons Barack Obama or Ursula von der Leyen, locations\\nlike New York City, Vienna or Beijing or companies like \\nGoogle, UniCredit or Huawei. \\n\\nHere we include a URL https://gatenlp.github.io/python-gatenlp/ \\nand a fake email address john.doe@hiscoolserver.com as well \\nas #some #cool #hastags and a bunch of emojis like \\ud83d\\ude3d (a kissing cat),\\n\\ud83d\\udc69\\u200d\\ud83c\\udfeb (a woman teacher), \\ud83e\\uddec (DNA), \\n\\ud83e\\uddd7 (a person climbing), \\n\\ud83d\\udca9 (a pile of poo). \\n\\nHere we test a few different scripts, e.g. Hangul \\ud55c\\uae00 or \\nsimplified Hanzi \\u6c49\\u5b57 or Farsi \\u0641\\u0627\\u0631\\u0633\\u06cc which goes from right to left. \\n\\n\\n\", \"features\": {\"loaded-from\": \"https://gatenlp.github.io/python-gatenlp/testdocument1.txt\", \"purpose\": \"test document for gatenlp\", \"someotherfeature\": 22, \"andanother\": {\"what\": \"a dict\", \"alist\": [1, 2, 3, 4, 5]}}, \"offset_type\": \"j\", \"name\": \"\"}\n",
       "    </script>\n",
       "    <script type=\"text/javascript\">\n",
       "        gatenlp_run(\"UPTNAZPYYI-\");\n",
       "    </script>\n",
       "  </div>\n",
       "<div>ID: UPTNAZPYYI</div>"
      ],
      "text/plain": [
       "Document(This is a test document.\n",
       "\n",
       "It contains just a few sentences. \n",
       "Here is a sentence that mentions a few named entities like \n",
       "the persons Barack Obama or Ursula von der Leyen, locations\n",
       "like New York City, Vienna or Beijing or companies like \n",
       "Google, UniCredit or Huawei. \n",
       "\n",
       "Here we include a URL https://gatenlp.github.io/python-gatenlp/ \n",
       "and a fake email address john.doe@hiscoolserver.com as well \n",
       "as #some #cool #hastags and a bunch of emojis like 😽 (a kissing cat),\n",
       "👩‍🏫 (a woman teacher), 🧬 (DNA), \n",
       "🧗 (a person climbing), \n",
       "💩 (a pile of poo). \n",
       "\n",
       "Here we test a few different scripts, e.g. Hangul 한글 or \n",
       "simplified Hanzi 汉字 or Farsi فارسی which goes from right to left. \n",
       "\n",
       "\n",
       ",features=Features({'loaded-from': 'https://gatenlp.github.io/python-gatenlp/testdocument1.txt', 'purpose': 'test document for gatenlp', 'someotherfeature': 22, 'andanother': {'what': 'a dict', 'alist': [1, 2, 3, 4, 5]}}),anns={'Set1': AnnotationSet([Annotation(0,4,Word,features=Features({'what': 'our first annotation'}),id=0), Annotation(0,24,Sentence,features=Features({'what': 'our first sentence annotation'}),id=2), Annotation(5,7,Word,features=Features({'what': 'our second annotation'}),id=1)])})"
      ]
     },
     "execution_count": 12,
     "metadata": {},
     "output_type": "execute_result"
    }
   ],
   "source": [
    "doc"
   ]
  },
  {
   "cell_type": "code",
   "execution_count": null,
   "metadata": {},
   "outputs": [],
   "source": []
  }
 ],
 "metadata": {
  "kernelspec": {
   "display_name": "Python gatenlp",
   "language": "python",
   "name": "gatenlp"
  },
  "language_info": {
   "codemirror_mode": {
    "name": "ipython",
    "version": 3
   },
   "file_extension": ".py",
   "mimetype": "text/x-python",
   "name": "python",
   "nbconvert_exporter": "python",
   "pygments_lexer": "ipython3",
   "version": "3.7.7"
  }
 },
 "nbformat": 4,
 "nbformat_minor": 4
}
