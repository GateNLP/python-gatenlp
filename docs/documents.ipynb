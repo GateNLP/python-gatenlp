{
 "cells": [
  {
   "cell_type": "markdown",
   "metadata": {},
   "source": [
    "# Documents"
   ]
  },
  {
   "cell_type": "code",
   "execution_count": null,
   "metadata": {},
   "outputs": [],
   "source": [
    "from gatenlp import Document\n"
   ]
  },
  {
   "cell_type": "code",
   "execution_count": null,
   "metadata": {},
   "outputs": [],
   "source": [
    "# To load a document from a file with the name \"file.bdocjs\" into gatenlp simply use:\n",
    "# doc = Document.load(\"test2a.bdocjs\")\n",
    "\n",
    "# But it is also possible to load from a file that is somewhere on the internet. For this notebook, we use\n",
    "# an example document that gets loaded from a URL:\n",
    "doc = Document.load(\"https://gatenlp.github.io/python-gatenlp/testdocument1.txt\")\n",
    "\n",
    "# We can visualize the document by printing it:\n",
    "print(doc)"
   ]
  },
  {
   "cell_type": "markdown",
   "metadata": {},
   "source": [
    "Printing the document shows the document text and indicates that there are no document features and no \n",
    "annotations which is to be expected since we just loaded from a plain text file. \n",
    "\n",
    "In a Jupyter notebook, a `gatenlp` document can also be visualized graphically by either just using the document \n",
    "as the last value of a cell or by using the IPython \"display\" function:"
   ]
  },
  {
   "cell_type": "code",
   "execution_count": null,
   "metadata": {},
   "outputs": [],
   "source": [
    "from IPython.display import display\n",
    "display(doc)"
   ]
  },
  {
   "cell_type": "markdown",
   "metadata": {},
   "source": [
    "This shows the document in a layout that has three areas: the document text in the upper left,\n",
    "the list of annotation set and type names in the upper right and document or annotation features\n",
    "at the bottom. In the example above only the text is shown because there are no document features or \n",
    "annotations. "
   ]
  },
  {
   "cell_type": "markdown",
   "metadata": {},
   "source": [
    "## Document features\n",
    "\n",
    "Lets add some document features:"
   ]
  },
  {
   "cell_type": "code",
   "execution_count": null,
   "metadata": {
    "scrolled": false
   },
   "outputs": [],
   "source": [
    "doc.set_feature(\"loaded-from\", \"https://gatenlp.github.io/python-gatenlp/testdocument1.txt\")\n",
    "doc.set_feature(\"purpose\", \"test document for gatenlp\")\n",
    "doc.set_feature(\"someotherfeature\", 22)\n",
    "doc.set_feature(\"andanother\", {\"what\": \"a dict\", \"alist\": [1,2,3,4,5]})"
   ]
  },
  {
   "cell_type": "markdown",
   "metadata": {
    "scrolled": false
   },
   "source": [
    "Document features map feature names to feature values and behave a lot like a Python dictionary. Feature names\n",
    "should always be strings, feature values can be anything, but a document can only be stored or exchanged with Java GATE if feature values are restricted to whatever can be serialized with JSON: dictionaries, lists, numbers, strings and booleans. \n",
    "\n",
    "Now that we have create document features the document is shown like this:"
   ]
  },
  {
   "cell_type": "code",
   "execution_count": null,
   "metadata": {},
   "outputs": [],
   "source": [
    "doc"
   ]
  },
  {
   "cell_type": "code",
   "execution_count": null,
   "metadata": {},
   "outputs": [],
   "source": [
    "# to retrieve a feature value we can do:\n",
    "doc.get_feature(\"purpose\")"
   ]
  },
  {
   "cell_type": "code",
   "execution_count": null,
   "metadata": {},
   "outputs": [],
   "source": [
    "# If a feature does not exist, None is returned or a default value if specified:\n",
    "print(doc.get_feature(\"doesntexist\"))\n",
    "print(doc.get_feature(\"doesntexist\", \"MV!\"))\n"
   ]
  },
  {
   "cell_type": "markdown",
   "metadata": {},
   "source": [
    "## Annotations\n",
    "\n",
    "Lets add some annotations too. Annotations are items of information for some range of characters within the document. They can be used to represent information about things like tokens, entities, sentences, paragraphs, or \n",
    "anything that corresponds to some contiguous range of offsets in the document.\n",
    "\n",
    "Annotations consist of the following parts:\n",
    "* The \"start\" and \"end\" offset to identify the text the annotation refers to\n",
    "* A \"type\" which is an arbitrary name that identifies what kind of thing the annotation describes, e.g. \"Token\"\n",
    "* Features: these work in the same way as for the whole document: an arbitrary set of feature name / feature value\n",
    "  pairs which provide more information, e.g. for a Token the features could include the lemma, the part of speech,\n",
    "  the stem, the number, etc. \n",
    "\n",
    "Annotations can be organized in \"annotation sets\". Each annotation set has a name and a set of annotations. There can be as many sets as needed. \n",
    "\n",
    "Annotation can overlap arbitrarily and there can be as many as needed. \n",
    "\n",
    "Let us manually add a few annotations to the document:"
   ]
  },
  {
   "cell_type": "code",
   "execution_count": null,
   "metadata": {},
   "outputs": [],
   "source": [
    "# create and get an annotation set with the name \"Set1\"\n",
    "annset = doc.get_annotations(\"Set1\")"
   ]
  },
  {
   "cell_type": "markdown",
   "metadata": {},
   "source": [
    "Add an annotation to the set which refers to the first word in the document \"This\". The range of characters\n",
    "for this word starts at offset 0 and the length of the annotation is 4, so the \"start\" offset is 0 and the \"end\" offset is 0+4=4. Note that the end offset always points to the offset *after* the last character of the range."
   ]
  },
  {
   "cell_type": "code",
   "execution_count": null,
   "metadata": {},
   "outputs": [],
   "source": [
    "annset.add(0,4,\"Word\",{\"what\": \"our first annotation\"})"
   ]
  },
  {
   "cell_type": "code",
   "execution_count": null,
   "metadata": {},
   "outputs": [],
   "source": [
    "# Add more\n",
    "annset.add(5,7,\"Word\",{\"what\": \"our second annotation\"})\n",
    "annset.add(0,24,\"Sentence\",{\"what\": \"our first sentence annotation\"})"
   ]
  },
  {
   "cell_type": "markdown",
   "metadata": {},
   "source": [
    "If we visualize the document now, the newly created set \"Set\" is shown in the right part of\n",
    "the display. It shows the different annotation types that exist in the set, and how many annotations\n",
    "for each type are in the set. If you click the check box, the annotation ranges are shown in the \n",
    "text with the colour associated with the annotation type. You can then click on a range / annotation in the\n",
    "text and the features of the annotation are shown in the lower part. \n",
    "To show the features for a different annotation click on the coloured range for the annotation in the text.\n",
    "To show the document features, click on \"Document\".\n",
    "\n",
    "If you have selected more than one type, a range can have more than one overlapping annotations. \n",
    "This is shown by mixing the colours. If you click at such a location, a dialog appears which lets you\n",
    "select for which of the overlapping annotations you want to display the features. \n",
    "**NOTE: bug, the dialog is not shown in the notebook!**"
   ]
  },
  {
   "cell_type": "code",
   "execution_count": null,
   "metadata": {},
   "outputs": [],
   "source": [
    "doc"
   ]
  },
  {
   "cell_type": "code",
   "execution_count": null,
   "metadata": {},
   "outputs": [],
   "source": []
  }
 ],
 "metadata": {
  "kernelspec": {
   "display_name": "Python gatenlp",
   "language": "python",
   "name": "gatenlp"
  },
  "language_info": {
   "codemirror_mode": {
    "name": "ipython",
    "version": 3
   },
   "file_extension": ".py",
   "mimetype": "text/x-python",
   "name": "python",
   "nbconvert_exporter": "python",
   "pygments_lexer": "ipython3",
   "version": "3.7.7"
  }
 },
 "nbformat": 4,
 "nbformat_minor": 4
}
