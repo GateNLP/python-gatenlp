{
 "cells": [
  {
   "cell_type": "markdown",
   "metadata": {},
   "source": [
    "# Gazetteers\n",
    "\n",
    "Gazetteers make it easy to find matches in a document from a large list of gazetteer entries. Entries can be associated with arbitrary features, and when a match is found, an annotation is created with the features related to the gazetteer entry. `gatenlp` currently supports the following gazetteer annotators:\n",
    "\n",
    "* `StringGazetteer`: match the document text against a gazetteer list of string entries\n",
    "* `TokenGazetteer`: match an annotation (token) sequence in the document against a gazetteer list of entries, where each entry is a sequence of token strings\n"
   ]
  },
  {
   "cell_type": "code",
   "execution_count": 1,
   "metadata": {},
   "outputs": [],
   "source": [
    "import os\n",
    "from gatenlp import Document\n",
    "from gatenlp.processing.gazetteer import TokenGazetteer, StringGazetteer\n",
    "from gatenlp.processing.tokenizer import NLTKTokenizer\n",
    "\n",
    "# all the example files will be created in \"./tmp\"\n",
    "if not os.path.exists(\"tmp\"):\n",
    "    os.mkdir(\"tmp\")"
   ]
  },
  {
   "cell_type": "markdown",
   "metadata": {},
   "source": [
    "## StringGazetteer\n",
    "\n",
    "The main features of the `StringGazetteer`\n",
    "\n",
    "* match arbitrary strings in the document text\n",
    "* matches a single space in an gazetteer entry against any number of whitespace characters in the document text\n",
    "* can use a list of characters, a function, or annotations to define what should be treated as whitespace\n",
    "* optionally will not match across \"split\" characters\n",
    "* can use a list of characters, a function, or annotations to define what should be treated as split characters\n",
    "* optionally only matches from word starting and/or to word ending positions\n",
    "* uses annotations to define where word start/end locations are in the document\n",
    "* can load GATE gazetteer files\n",
    "* can load the gazetteer from Python a python list"
   ]
  },
  {
   "cell_type": "markdown",
   "metadata": {},
   "source": [
    "#### Create a gazetteer from a Python list\n",
    "\n",
    "Each gazetteer entry is a tuple, where the first element is the string to match and the second element is a dictionary with arbitrary features. When an entry contains leading or trailing whitespace, by default it is removed and multiple whitespace characters within the entry are replaced by a single space internally (this can be disabled with the `ws_clean=False` parameter if the gazetteer entries are already properly cleaned)\n"
   ]
  },
  {
   "cell_type": "code",
   "execution_count": 22,
   "metadata": {
    "scrolled": true
   },
   "outputs": [
    {
     "data": {
      "text/html": [
       "<div><style>#BAALRJCXUJ-wrapper { color: black !important; }</style>\n",
       "<div id=\"BAALRJCXUJ-wrapper\">\n",
       "\n",
       "<div>\n",
       "<style>\n",
       "#BAALRJCXUJ-content {\n",
       "    width: 100%;\n",
       "    height: 100%;\n",
       "    font-family: -apple-system, BlinkMacSystemFont, 'Segoe UI', Roboto, Oxygen, Ubuntu, Cantarell, 'Open Sans', 'Helvetica Neue', sans-serif;\n",
       "}\n",
       "\n",
       ".BAALRJCXUJ-row {\n",
       "    width: 100%;\n",
       "    display: flex;\n",
       "    flex-direction: row;\n",
       "    flex-wrap: nowrap;\n",
       "}\n",
       "\n",
       ".BAALRJCXUJ-col {\n",
       "    border: 1px solid grey;\n",
       "    display: inline-block;\n",
       "    min-width: 200px;\n",
       "    padding: 5px;\n",
       "    /* white-space: normal; */\n",
       "    /* white-space: pre-wrap; */\n",
       "    overflow-y: auto;\n",
       "}\n",
       "\n",
       ".BAALRJCXUJ-hdr {\n",
       "    font-size: 1.2rem;\n",
       "    font-weight: bold;\n",
       "}\n",
       "\n",
       ".BAALRJCXUJ-label {\n",
       "    margin-bottom: -15px;\n",
       "    display: block;\n",
       "}\n",
       "\n",
       ".BAALRJCXUJ-input {\n",
       "    vertical-align: middle;\n",
       "    position: relative;\n",
       "    *overflow: hidden;\n",
       "}\n",
       "\n",
       "#BAALRJCXUJ-popup {\n",
       "    display: none;\n",
       "    color: black;\n",
       "    position: absolute;\n",
       "    margin-top: 10%;\n",
       "    margin-left: 10%;\n",
       "    background: #aaaaaa;\n",
       "    width: 60%;\n",
       "    height: 60%;\n",
       "    z-index: 50;\n",
       "    padding: 25px 25px 25px;\n",
       "    border: 1px solid black;\n",
       "    overflow: auto;\n",
       "}\n",
       "\n",
       ".BAALRJCXUJ-selection {\n",
       "    margin-bottom: 5px;\n",
       "}\n",
       "\n",
       ".BAALRJCXUJ-featuretable {\n",
       "    margin-top: 10px;\n",
       "}\n",
       "\n",
       ".BAALRJCXUJ-fname {\n",
       "    text-align: left !important;\n",
       "    font-weight: bold;\n",
       "    margin-right: 10px;\n",
       "}\n",
       ".BAALRJCXUJ-fvalue {\n",
       "    text-align: left !important;\n",
       "}\n",
       "</style>\n",
       "  <div id=\"BAALRJCXUJ-content\">\n",
       "        <div id=\"BAALRJCXUJ-popup\" style=\"display: none;\">\n",
       "        </div>\n",
       "        <div class=\"BAALRJCXUJ-row\" id=\"BAALRJCXUJ-row1\" style=\"max-height: 20em; min-height:5em;\">\n",
       "            <div id=\"BAALRJCXUJ-text-wrapper\" class=\"BAALRJCXUJ-col\" style=\"width:70%;\">\n",
       "                <div class=\"BAALRJCXUJ-hdr\" id=\"BAALRJCXUJ-dochdr\"></div>\n",
       "                <div id=\"BAALRJCXUJ-text\" style=\"\">\n",
       "                </div>\n",
       "            </div>\n",
       "            <div id=\"BAALRJCXUJ-chooser\" class=\"BAALRJCXUJ-col\" style=\"width:30%; border-left-width: 0px;\"></div>\n",
       "        </div>\n",
       "        <div class=\"BAALRJCXUJ-row\" id=\"BAALRJCXUJ-row2\" style=\"max-height: 14em; min-height: 3em;\">\n",
       "            <div id=\"BAALRJCXUJ-details\" class=\"BAALRJCXUJ-col\" style=\"width:100%; border-top-width: 0px;\">\n",
       "            </div>\n",
       "        </div>\n",
       "    </div>\n",
       "    \n",
       "    <script type=\"text/javascript\">\n",
       "    let BAALRJCXUJ_data = {\"annotation_sets\": {}, \"text\": \"Barack Obama was the 44th president of the US and he followed George W. Bush and\\n  was followed by Donald Trump. Before Bush, Bill Clinton was president.\\n  Also, lets include a sentence about South Korea which is called \\ub300\\ud55c\\ubbfc\\uad6d in Korean.\\n  And a sentence with the full name of Iran in Farsi: \\u062c\\u0645\\u0647\\u0648\\u0631\\u06cc \\u0627\\u0633\\u0644\\u0627\\u0645\\u06cc \\u0627\\u06cc\\u0631\\u0627\\u0646 and also with \\n  just the word \\\"Iran\\\" in Farsi: \\u0627\\u06cc\\u0631\\u0627\\u0646 \\n  Also barack obama in all lower case and SOUTH KOREA in all upper case\\n  \", \"features\": {}, \"offset_type\": \"j\", \"name\": \"\"} ; \n",
       "    new gatenlpDocView(new gatenlpDocRep(BAALRJCXUJ_data), \"BAALRJCXUJ-\").init();\n",
       "    </script>\n",
       "  </div>\n",
       "\n",
       "</div></div>"
      ],
      "text/plain": [
       "Document(Barack Obama was the 44th president of the US and he followed George W. Bush and\n",
       "  was followed by Donald Trump. Before Bush, Bill Clinton was president.\n",
       "  Also, lets include a sentence about South Korea which is called 대한민국 in Korean.\n",
       "  And a sentence with the full name of Iran in Farsi: جمهوری اسلامی ایران and also with \n",
       "  just the word \"Iran\" in Farsi: ایران \n",
       "  Also barack obama in all lower case and SOUTH KOREA in all upper case\n",
       "  ,features=Features({}),anns={})"
      ]
     },
     "execution_count": 22,
     "metadata": {},
     "output_type": "execute_result"
    }
   ],
   "source": [
    "gazlist1 = [\n",
    "    (\"Barack Obama\", dict(url=\"https://en.wikipedia.org/wiki/Barack_Obama\")),\n",
    "    (\"Obama\", dict(url=\"https://en.wikipedia.org/wiki/Barack_Obama\")),\n",
    "    (\"Donald Trump\", dict(url=\"https://en.wikipedia.org/wiki/Donald_Trump\")),\n",
    "    (\"Trump\", dict(url=\"https://en.wikipedia.org/wiki/Donald_Trump\")),\n",
    "    (\"George W. Bush\", dict(url=\"https://en.wikipedia.org/wiki/George_W._Bush\")),\n",
    "    (\"George Bush\", dict(url=\"https://en.wikipedia.org/wiki/George_W._Bush\")),\n",
    "    (\"Bush\", dict(url=\"https://en.wikipedia.org/wiki/George_W._Bush\")),\n",
    "    (\"    Bill        Clinton   \", dict(url=\"https://en.wikipedia.org/wiki/Bill_Clinton\")),\n",
    "    (\"Clinton\", dict(url=\"https://en.wikipedia.org/wiki/Bill_Clinton\")),\n",
    "]\n",
    "\n",
    "# Document with some text mentioning some of the names in the gazeteer for testing\n",
    "text = \"\"\"Barack Obama was the 44th president of the US and he followed George W. Bush and\n",
    "  was followed by Donald Trump. Before Bush, Bill Clinton was president.\n",
    "  Also, lets include a sentence about South Korea which is called 대한민국 in Korean.\n",
    "  And a sentence with the full name of Iran in Farsi: جمهوری اسلامی ایران and also with \n",
    "  just the word \"Iran\" in Farsi: ایران \n",
    "  Also barack obama in all lower case and SOUTH KOREA in all upper case\n",
    "  \"\"\"\n",
    "doc = Document(text)\n",
    "doc"
   ]
  },
  {
   "cell_type": "markdown",
   "metadata": {},
   "source": [
    "### Create the StringGazetteer annotator \n",
    "\n",
    "In the following example we create the StringGazetteer and specify the source and the format of the source to also load some gazetteer entries into it. This is not required, gazetteer entries can also be added later (see below)"
   ]
  },
  {
   "cell_type": "code",
   "execution_count": 23,
   "metadata": {},
   "outputs": [],
   "source": [
    "gaz1 = StringGazetteer(source=gazlist1, source_fmt=\"gazlist\")"
   ]
  },
  {
   "cell_type": "markdown",
   "metadata": {},
   "source": [
    "The StringGazetteer instance is a gatenlp annotator, but can also be used to lookup the information for an entry \n",
    "or check if an entry is in the gazetteer."
   ]
  },
  {
   "cell_type": "code",
   "execution_count": 24,
   "metadata": {},
   "outputs": [
    {
     "name": "stdout",
     "output_type": "stream",
     "text": [
      "Entries:      9\n",
      "Entry 'Trump':  [{'url': 'https://en.wikipedia.org/wiki/Donald_Trump'}]\n",
      "Entry 'Bill Clinton':  [{'url': 'https://en.wikipedia.org/wiki/Bill_Clinton'}]\n",
      "Contains 'Bush': True\n"
     ]
    }
   ],
   "source": [
    "print(\"Entries:     \", len(gaz1))\n",
    "print(\"Entry 'Trump': \", gaz1[\"Trump\"])\n",
    "print(\"Entry 'Bill Clinton': \", gaz1.get(\"Bill Clinton\"))\n",
    "print(\"Contains 'Bush':\", \"Bush\" in gaz1)"
   ]
  },
  {
   "cell_type": "markdown",
   "metadata": {},
   "source": [
    "Gazetteer entries can also be added with the `add` and `append` methods. That way the gazetteer can be \n",
    "created from several different sources.\n",
    "\n",
    "Every time gazetteer entries are loaded, it is possible to specify features which should get added to all \n",
    "entries of that list. \n",
    "\n",
    "Let us create a new list and specify some features common to all entries of this list and add it to the gazetteer:"
   ]
  },
  {
   "cell_type": "code",
   "execution_count": 25,
   "metadata": {},
   "outputs": [
    {
     "name": "stdout",
     "output_type": "stream",
     "text": [
      "Entries:      19\n",
      "Entry 'ایران':  [{'url': 'https://en.wikipedia.org/wiki/Iran', 'type': 'country'}]\n",
      "Entry 'South Korea':  [{'url': 'https://en.wikipedia.org/wiki/South_Korea', 'type': 'country'}]\n"
     ]
    }
   ],
   "source": [
    "gazlist2 = [\n",
    "    (\"United States\", dict(url=\"https://en.wikipedia.org/wiki/United_States\")),\n",
    "    (\"US\", dict(url=\"https://en.wikipedia.org/wiki/United_States\")),\n",
    "    (\"United Kingdom\", dict(url=\"https://en.wikipedia.org/wiki/United_Kingdom\")),\n",
    "    (\"UK\", dict(url=\"https://en.wikipedia.org/wiki/United_Kingdom\")),    \n",
    "    (\"Austria\", dict(url=\"https://en.wikipedia.org/wiki/Austria\")),\n",
    "    (\"South Korea\", dict(url=\"https://en.wikipedia.org/wiki/South_Korea\")),\n",
    "    (\"대한민국\", dict(url=\"https://en.wikipedia.org/wiki/South_Korea\")),\n",
    "    (\"Iran\", dict(url=\"https://en.wikipedia.org/wiki/Iran\")),\n",
    "    (\"جمهوری اسلامی ایران\", dict(url=\"https://en.wikipedia.org/wiki/Iran\")),\n",
    "    (\"ایران\", dict(url=\"https://en.wikipedia.org/wiki/Iran\")),\n",
    "]\n",
    "\n",
    "# Note: if this cell gets executed several times, the data stored with each gazetteer entry gets  \n",
    "# extended by a new dictionary of features!\n",
    "# In general, there can be arbitrary many feature dictionaries for each entry which can be used to \n",
    "# store the different sets of information for different entities which share the same name.\n",
    "gaz1.append(source=gazlist2, source_fmt=\"gazlist\", list_features=dict(type=\"country\"))\n",
    "\n",
    "print(\"Entries:     \", len(gaz1))\n",
    "print(\"Entry 'ایران': \", gaz1[\"ایران\"])\n",
    "print(\"Entry 'South Korea': \", gaz1[\"South Korea\"])"
   ]
  },
  {
   "cell_type": "markdown",
   "metadata": {},
   "source": [
    "There are also methods to check if there is a match at some specific position in some text, to find the next match in some text, and to find all matches in some text:"
   ]
  },
  {
   "cell_type": "code",
   "execution_count": 26,
   "metadata": {},
   "outputs": [
    {
     "name": "stdout",
     "output_type": "stream",
     "text": [
      "Check for a match in the document text at position 0:  ([StringGazetteerMatch(start=0, end=12, match='Barack Obama', data=[{'url': 'https://en.wikipedia.org/wiki/Barack_Obama'}], listidxs=[0])], 12)\n",
      "Check for a match in the document text at position 1:  ([], 0)\n",
      "Find the next match from position 3 ([StringGazetteerMatch(start=7, end=12, match='Obama', data=[{'url': 'https://en.wikipedia.org/wiki/Barack_Obama'}], listidxs=[0])], 5, 7)\n",
      "Find all matches from position 340 [StringGazetteerMatch(start=342, end=346, match='Iran', data=[{'url': 'https://en.wikipedia.org/wiki/Iran'}], listidxs=[1]), StringGazetteerMatch(start=358, end=363, match='ایران', data=[{'url': 'https://en.wikipedia.org/wiki/Iran'}], listidxs=[1])]\n"
     ]
    }
   ],
   "source": [
    "# methods match and find return a tuple with a list of StringGazetteerMatch objects describing all matches\n",
    "# as the first element and the length of the longest of the matches at the second element, the find method returns\n",
    "# the location of the match as the third element in the tuple\n",
    "print(\"Check for a match in the document text at position 0: \", gaz1.match(doc.text, start=0))\n",
    "print(\"Check for a match in the document text at position 1: \", gaz1.match(doc.text, start=1))\n",
    "print(\"Find the next match from position 3\", gaz1.find(doc.text, start=3))\n",
    "# the find_all method does not return a tuple, but a generator of tuples:\n",
    "print(\"Find all matches from position 340\", list(gaz1.find_all(doc.text, start=340)))"
   ]
  },
  {
   "cell_type": "markdown",
   "metadata": {},
   "source": [
    "To annotate a document with the matches found in the gazetteer, the StringGazetteer instance can be \n",
    "used as an annotator. By default, matches can occur anywhere in the document, non-whitespace characters must\n",
    "match exactly and no special split characters are recognized (so matches can occur across newline characters \n",
    "and sentence boundaries)\n",
    "\n",
    "By default, annotations of type \"Lookup\" are created in the default set. The features of the annotation are set\n",
    "to the information from the gazetteer entry and the list. If a gazetteer entry was added several times, separate\n",
    "annotations are created for each information that was added for the gazetteer string."
   ]
  },
  {
   "cell_type": "code",
   "execution_count": 27,
   "metadata": {},
   "outputs": [
    {
     "data": {
      "text/html": [
       "<div><style>#TAUMMIFXOM-wrapper { color: black !important; }</style>\n",
       "<div id=\"TAUMMIFXOM-wrapper\">\n",
       "\n",
       "<div>\n",
       "<style>\n",
       "#TAUMMIFXOM-content {\n",
       "    width: 100%;\n",
       "    height: 100%;\n",
       "    font-family: -apple-system, BlinkMacSystemFont, 'Segoe UI', Roboto, Oxygen, Ubuntu, Cantarell, 'Open Sans', 'Helvetica Neue', sans-serif;\n",
       "}\n",
       "\n",
       ".TAUMMIFXOM-row {\n",
       "    width: 100%;\n",
       "    display: flex;\n",
       "    flex-direction: row;\n",
       "    flex-wrap: nowrap;\n",
       "}\n",
       "\n",
       ".TAUMMIFXOM-col {\n",
       "    border: 1px solid grey;\n",
       "    display: inline-block;\n",
       "    min-width: 200px;\n",
       "    padding: 5px;\n",
       "    /* white-space: normal; */\n",
       "    /* white-space: pre-wrap; */\n",
       "    overflow-y: auto;\n",
       "}\n",
       "\n",
       ".TAUMMIFXOM-hdr {\n",
       "    font-size: 1.2rem;\n",
       "    font-weight: bold;\n",
       "}\n",
       "\n",
       ".TAUMMIFXOM-label {\n",
       "    margin-bottom: -15px;\n",
       "    display: block;\n",
       "}\n",
       "\n",
       ".TAUMMIFXOM-input {\n",
       "    vertical-align: middle;\n",
       "    position: relative;\n",
       "    *overflow: hidden;\n",
       "}\n",
       "\n",
       "#TAUMMIFXOM-popup {\n",
       "    display: none;\n",
       "    color: black;\n",
       "    position: absolute;\n",
       "    margin-top: 10%;\n",
       "    margin-left: 10%;\n",
       "    background: #aaaaaa;\n",
       "    width: 60%;\n",
       "    height: 60%;\n",
       "    z-index: 50;\n",
       "    padding: 25px 25px 25px;\n",
       "    border: 1px solid black;\n",
       "    overflow: auto;\n",
       "}\n",
       "\n",
       ".TAUMMIFXOM-selection {\n",
       "    margin-bottom: 5px;\n",
       "}\n",
       "\n",
       ".TAUMMIFXOM-featuretable {\n",
       "    margin-top: 10px;\n",
       "}\n",
       "\n",
       ".TAUMMIFXOM-fname {\n",
       "    text-align: left !important;\n",
       "    font-weight: bold;\n",
       "    margin-right: 10px;\n",
       "}\n",
       ".TAUMMIFXOM-fvalue {\n",
       "    text-align: left !important;\n",
       "}\n",
       "</style>\n",
       "  <div id=\"TAUMMIFXOM-content\">\n",
       "        <div id=\"TAUMMIFXOM-popup\" style=\"display: none;\">\n",
       "        </div>\n",
       "        <div class=\"TAUMMIFXOM-row\" id=\"TAUMMIFXOM-row1\" style=\"max-height: 20em; min-height:5em;\">\n",
       "            <div id=\"TAUMMIFXOM-text-wrapper\" class=\"TAUMMIFXOM-col\" style=\"width:70%;\">\n",
       "                <div class=\"TAUMMIFXOM-hdr\" id=\"TAUMMIFXOM-dochdr\"></div>\n",
       "                <div id=\"TAUMMIFXOM-text\" style=\"\">\n",
       "                </div>\n",
       "            </div>\n",
       "            <div id=\"TAUMMIFXOM-chooser\" class=\"TAUMMIFXOM-col\" style=\"width:30%; border-left-width: 0px;\"></div>\n",
       "        </div>\n",
       "        <div class=\"TAUMMIFXOM-row\" id=\"TAUMMIFXOM-row2\" style=\"max-height: 14em; min-height: 3em;\">\n",
       "            <div id=\"TAUMMIFXOM-details\" class=\"TAUMMIFXOM-col\" style=\"width:100%; border-top-width: 0px;\">\n",
       "            </div>\n",
       "        </div>\n",
       "    </div>\n",
       "    \n",
       "    <script type=\"text/javascript\">\n",
       "    let TAUMMIFXOM_data = {\"annotation_sets\": {\"\": {\"name\": \"detached-from:\", \"annotations\": [{\"type\": \"Lookup\", \"start\": 0, \"end\": 12, \"id\": 0, \"features\": {\"url\": \"https://en.wikipedia.org/wiki/Barack_Obama\"}}, {\"type\": \"Lookup\", \"start\": 7, \"end\": 12, \"id\": 1, \"features\": {\"url\": \"https://en.wikipedia.org/wiki/Barack_Obama\"}}, {\"type\": \"Lookup\", \"start\": 43, \"end\": 45, \"id\": 2, \"features\": {\"type\": \"country\", \"url\": \"https://en.wikipedia.org/wiki/United_States\"}}, {\"type\": \"Lookup\", \"start\": 62, \"end\": 76, \"id\": 3, \"features\": {\"url\": \"https://en.wikipedia.org/wiki/George_W._Bush\"}}, {\"type\": \"Lookup\", \"start\": 72, \"end\": 76, \"id\": 4, \"features\": {\"url\": \"https://en.wikipedia.org/wiki/George_W._Bush\"}}, {\"type\": \"Lookup\", \"start\": 99, \"end\": 111, \"id\": 5, \"features\": {\"url\": \"https://en.wikipedia.org/wiki/Donald_Trump\"}}, {\"type\": \"Lookup\", \"start\": 106, \"end\": 111, \"id\": 6, \"features\": {\"url\": \"https://en.wikipedia.org/wiki/Donald_Trump\"}}, {\"type\": \"Lookup\", \"start\": 120, \"end\": 124, \"id\": 7, \"features\": {\"url\": \"https://en.wikipedia.org/wiki/George_W._Bush\"}}, {\"type\": \"Lookup\", \"start\": 126, \"end\": 138, \"id\": 8, \"features\": {\"url\": \"https://en.wikipedia.org/wiki/Bill_Clinton\"}}, {\"type\": \"Lookup\", \"start\": 131, \"end\": 138, \"id\": 9, \"features\": {\"url\": \"https://en.wikipedia.org/wiki/Bill_Clinton\"}}, {\"type\": \"Lookup\", \"start\": 192, \"end\": 203, \"id\": 10, \"features\": {\"type\": \"country\", \"url\": \"https://en.wikipedia.org/wiki/South_Korea\"}}, {\"type\": \"Lookup\", \"start\": 220, \"end\": 224, \"id\": 11, \"features\": {\"type\": \"country\", \"url\": \"https://en.wikipedia.org/wiki/South_Korea\"}}, {\"type\": \"Lookup\", \"start\": 275, \"end\": 279, \"id\": 12, \"features\": {\"type\": \"country\", \"url\": \"https://en.wikipedia.org/wiki/Iran\"}}, {\"type\": \"Lookup\", \"start\": 290, \"end\": 309, \"id\": 13, \"features\": {\"type\": \"country\", \"url\": \"https://en.wikipedia.org/wiki/Iran\"}}, {\"type\": \"Lookup\", \"start\": 304, \"end\": 309, \"id\": 14, \"features\": {\"type\": \"country\", \"url\": \"https://en.wikipedia.org/wiki/Iran\"}}, {\"type\": \"Lookup\", \"start\": 342, \"end\": 346, \"id\": 15, \"features\": {\"type\": \"country\", \"url\": \"https://en.wikipedia.org/wiki/Iran\"}}, {\"type\": \"Lookup\", \"start\": 358, \"end\": 363, \"id\": 16, \"features\": {\"type\": \"country\", \"url\": \"https://en.wikipedia.org/wiki/Iran\"}}], \"next_annid\": 17}}, \"text\": \"Barack Obama was the 44th president of the US and he followed George W. Bush and\\n  was followed by Donald Trump. Before Bush, Bill Clinton was president.\\n  Also, lets include a sentence about South Korea which is called \\ub300\\ud55c\\ubbfc\\uad6d in Korean.\\n  And a sentence with the full name of Iran in Farsi: \\u062c\\u0645\\u0647\\u0648\\u0631\\u06cc \\u0627\\u0633\\u0644\\u0627\\u0645\\u06cc \\u0627\\u06cc\\u0631\\u0627\\u0646 and also with \\n  just the word \\\"Iran\\\" in Farsi: \\u0627\\u06cc\\u0631\\u0627\\u0646 \\n  Also barack obama in all lower case and SOUTH KOREA in all upper case\\n  \", \"features\": {}, \"offset_type\": \"j\", \"name\": \"\"} ; \n",
       "    new gatenlpDocView(new gatenlpDocRep(TAUMMIFXOM_data), \"TAUMMIFXOM-\").init();\n",
       "    </script>\n",
       "  </div>\n",
       "\n",
       "</div></div>"
      ],
      "text/plain": [
       "Document(Barack Obama was the 44th president of the US and he followed George W. Bush and\n",
       "  was followed by Donald Trump. Before Bush, Bill Clinton was president.\n",
       "  Also, lets include a sentence about South Korea which is called 대한민국 in Korean.\n",
       "  And a sentence with the full name of Iran in Farsi: جمهوری اسلامی ایران and also with \n",
       "  just the word \"Iran\" in Farsi: ایران \n",
       "  Also barack obama in all lower case and SOUTH KOREA in all upper case\n",
       "  ,features=Features({}),anns={'': AnnotationSet([Annotation(0,12,Lookup,features=Features({'url': 'https://en.wikipedia.org/wiki/Barack_Obama'}),id=0), Annotation(7,12,Lookup,features=Features({'url': 'https://en.wikipedia.org/wiki/Barack_Obama'}),id=1), Annotation(43,45,Lookup,features=Features({'type': 'country', 'url': 'https://en.wikipedia.org/wiki/United_States'}),id=2), Annotation(62,76,Lookup,features=Features({'url': 'https://en.wikipedia.org/wiki/George_W._Bush'}),id=3), Annotation(72,76,Lookup,features=Features({'url': 'https://en.wikipedia.org/wiki/George_W._Bush'}),id=4), Annotation(99,111,Lookup,features=Features({'url': 'https://en.wikipedia.org/wiki/Donald_Trump'}),id=5), Annotation(106,111,Lookup,features=Features({'url': 'https://en.wikipedia.org/wiki/Donald_Trump'}),id=6), Annotation(120,124,Lookup,features=Features({'url': 'https://en.wikipedia.org/wiki/George_W._Bush'}),id=7), Annotation(126,138,Lookup,features=Features({'url': 'https://en.wikipedia.org/wiki/Bill_Clinton'}),id=8), Annotation(131,138,Lookup,features=Features({'url': 'https://en.wikipedia.org/wiki/Bill_Clinton'}),id=9), Annotation(192,203,Lookup,features=Features({'type': 'country', 'url': 'https://en.wikipedia.org/wiki/South_Korea'}),id=10), Annotation(220,224,Lookup,features=Features({'type': 'country', 'url': 'https://en.wikipedia.org/wiki/South_Korea'}),id=11), Annotation(275,279,Lookup,features=Features({'type': 'country', 'url': 'https://en.wikipedia.org/wiki/Iran'}),id=12), Annotation(290,309,Lookup,features=Features({'type': 'country', 'url': 'https://en.wikipedia.org/wiki/Iran'}),id=13), Annotation(304,309,Lookup,features=Features({'type': 'country', 'url': 'https://en.wikipedia.org/wiki/Iran'}),id=14), Annotation(342,346,Lookup,features=Features({'type': 'country', 'url': 'https://en.wikipedia.org/wiki/Iran'}),id=15), Annotation(358,363,Lookup,features=Features({'type': 'country', 'url': 'https://en.wikipedia.org/wiki/Iran'}),id=16)])})"
      ]
     },
     "execution_count": 27,
     "metadata": {},
     "output_type": "execute_result"
    }
   ],
   "source": [
    "doc.annset().clear()\n",
    "doc = gaz1(doc)\n",
    "doc"
   ]
  },
  {
   "cell_type": "markdown",
   "metadata": {},
   "source": [
    "### StringGazetteer parameters\n",
    "\n",
    "The parameters for the StringGazetteer constructor can be used to change the behaviour of the gazetteer in many ways. The parameters related to loading gazetteer entries can also be specified with the `append` method. \n",
    "\n",
    "Parameters to influence how annotations for matches are created:\n",
    "* `outset_name`: which annotation set to place the annotations in\n",
    "* `ann_type`: the annotation type to use, default is \"Lookup\". Note that if a list is loaded, it is possible to \n",
    "  specify a list-specific annotation type.\n",
    "\n",
    "Parameters to influence how the matches are carried out through annotations in the document. If a parameter is None,\n",
    "the match is not influenced by that kind of annotations, but could be influenced by other parameters (see below):\n",
    "* `start_type`: the type of annotations used to identify where matches can start (e.g. Token annotations)\n",
    "* `end_type`: the type of annotations used to identify where atches can end\n",
    "* `ws_type`: the type of annotations which indicate whitespace in the document. \n",
    "* `split_type`: the type of annotations which indicate a split, i.e. something which should not be part of a match\n",
    "* `annset_name`: the name of the annotation set where all the annotations above are expceted\n",
    "\n",
    "Other parameters to influence how matches are carried out:\n",
    "* `ws_chars`: if `ws_type` is not specified, can be used to change which characters should be considered whitespace by specifying a string of those characters or a callable that returns True or False when passed a character\n",
    "* `split_chars`: if `split_type` is not specified, can be used to change which characters should be considered split characters by specifying a string of those characters or a callable that returns True or False when passed a character\n",
    "* `map_chars`: how to map characters when storing a gazetteer entry or accessing the text to match: either a callable that maps a single character to a single character or one of the strings \"lower\" or \"upper\"\n",
    "* `ws_clean`: if True (the default) enables trimming and white-space normalization of gazetteer entries when loading, if False, assumes that this has been correctly done already.\n",
    "\n",
    "Parameters that influence how gazetteer data is loaded:\n",
    "* `source`: what to load. This is either the path to a file (a string) or a list with gazetteer entries, depending on the `source_fmt` \n",
    "* `source_fmt`: specifies what format the gazetteer data to load is in\n",
    "* `source_encoding`: the encoding if data gets loaded from a file\n",
    "* `source_sep`: the separator character if the format is \"gate-def\". For legacy GATE gazetteer files, \":\" should be used. \n",
    "* `list_features`: a dict of features to assign to all entries of a list that gets loaded \n",
    "* `list_type`: if a list gets loaded, this can be used to override the annotation type of annotations that get created for matches, if None, the type specified via `ann_type` or the default \"Lookup\" is used\n",
    "* `list_nr`: can be used to add list features to the list features of an already loaded list and add the gazetteer entries to that list\n"
   ]
  },
  {
   "cell_type": "code",
   "execution_count": null,
   "metadata": {},
   "outputs": [],
   "source": []
  },
  {
   "cell_type": "code",
   "execution_count": null,
   "metadata": {},
   "outputs": [],
   "source": []
  },
  {
   "cell_type": "code",
   "execution_count": null,
   "metadata": {},
   "outputs": [],
   "source": []
  },
  {
   "cell_type": "code",
   "execution_count": null,
   "metadata": {},
   "outputs": [],
   "source": []
  },
  {
   "cell_type": "code",
   "execution_count": null,
   "metadata": {},
   "outputs": [],
   "source": []
  },
  {
   "cell_type": "code",
   "execution_count": null,
   "metadata": {},
   "outputs": [],
   "source": []
  },
  {
   "cell_type": "code",
   "execution_count": null,
   "metadata": {},
   "outputs": [],
   "source": []
  },
  {
   "cell_type": "code",
   "execution_count": null,
   "metadata": {},
   "outputs": [],
   "source": []
  },
  {
   "cell_type": "code",
   "execution_count": null,
   "metadata": {},
   "outputs": [],
   "source": [
    "# Tokenize the document, lets use an NLTK tokenizer\n",
    "from nltk.tokenize.destructive import NLTKWordTokenizer\n",
    "\n",
    "tokenizer = NLTKTokenizer(nltk_tokenizer=NLTKWordTokenizer(), out_set=\"\", token_type=\"Token\")\n",
    "doc = tokenizer(doc)\n",
    "doc"
   ]
  },
  {
   "cell_type": "code",
   "execution_count": null,
   "metadata": {},
   "outputs": [],
   "source": [
    "\n",
    "# Tokenize the strings from our gazetteer list as well\n",
    "\n",
    "def text2tokenstrings(text):\n",
    "    tmpdoc = Document(text)\n",
    "    tokenizer(tmpdoc)\n",
    "    tokens = list(tmpdoc.annset().with_type(\"Token\"))\n",
    "    return [tmpdoc[tok] for tok in tokens]\n",
    "\n",
    "gazlist = [(text2tokenstrings(txt), feats) for txt, feats in gazlist]\n",
    "gazlist\n",
    "    "
   ]
  },
  {
   "cell_type": "code",
   "execution_count": null,
   "metadata": {},
   "outputs": [],
   "source": [
    "# Create the gazetter and apply it to the document\n",
    "\n",
    "gazetteer = TokenGazetteer(gazlist, fmt=\"gazlist\", all=True, skip=False, outset=\"\", outtype=\"Lookup\",\n",
    "                          annset=\"\", tokentype=\"Token\")\n",
    "\n",
    "doc = gazetteer(doc)\n",
    "doc"
   ]
  }
 ],
 "metadata": {
  "kernelspec": {
   "display_name": "Python (gatenlp-36)",
   "language": "python",
   "name": "gatenlp-36"
  },
  "language_info": {
   "codemirror_mode": {
    "name": "ipython",
    "version": 3
   },
   "file_extension": ".py",
   "mimetype": "text/x-python",
   "name": "python",
   "nbconvert_exporter": "python",
   "pygments_lexer": "ipython3",
   "version": "3.6.12"
  }
 },
 "nbformat": 4,
 "nbformat_minor": 4
}
