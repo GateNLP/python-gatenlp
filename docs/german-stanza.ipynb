{
 "cells": [
  {
   "cell_type": "markdown",
   "metadata": {},
   "source": [
    "# Running German Stanza\n",
    "\n",
    "Requirements:\n",
    "* Python 3.7 or later\n",
    "* `pip install ipykernel ipython notebook gatenlp stanza`"
   ]
  },
  {
   "cell_type": "code",
   "execution_count": 4,
   "metadata": {},
   "outputs": [],
   "source": [
    "from gatenlp import Document\n",
    "import stanza \n",
    "from gatenlp.lib_stanza import apply_stanza\n",
    "from IPython.display import display\n",
    "\n"
   ]
  },
  {
   "cell_type": "code",
   "execution_count": 6,
   "metadata": {},
   "outputs": [],
   "source": [
    "text = \"\"\"\n",
    "n der Computerlinguistik (CL) oder linguistischen Datenverarbeitung (LDV)[1] wird untersucht, \n",
    "wie natürliche Sprache in Form von Text- oder Sprachdaten mit Hilfe des Computers algorithmisch \n",
    "verarbeitet werden kann. Sie ist Schnittstelle zwischen Sprachwissenschaft und Informatik. \n",
    "In der englischsprachigen Literatur und Informatik ist der Begriff \n",
    "Natural language processing (NLP) gebräuchlich.\n",
    "\"\"\""
   ]
  },
  {
   "cell_type": "code",
   "execution_count": 7,
   "metadata": {},
   "outputs": [],
   "source": [
    "doc = Document(text)\n"
   ]
  },
  {
   "cell_type": "code",
   "execution_count": 13,
   "metadata": {},
   "outputs": [
    {
     "name": "stderr",
     "output_type": "stream",
     "text": [
      "INFO:stanza:Loading these models for language: de (German):\n",
      "=======================\n",
      "| Processor | Package |\n",
      "-----------------------\n",
      "| tokenize  | gsd     |\n",
      "| mwt       | gsd     |\n",
      "| pos       | gsd     |\n",
      "| lemma     | gsd     |\n",
      "| depparse  | gsd     |\n",
      "| sentiment | sb10k   |\n",
      "| ner       | conll03 |\n",
      "=======================\n",
      "\n",
      "INFO:stanza:Use device: cpu\n",
      "INFO:stanza:Loading: tokenize\n",
      "INFO:stanza:Loading: mwt\n",
      "INFO:stanza:Loading: pos\n",
      "INFO:stanza:Loading: lemma\n",
      "INFO:stanza:Loading: depparse\n",
      "INFO:stanza:Loading: sentiment\n",
      "INFO:stanza:Loading: ner\n",
      "INFO:stanza:Done loading processors!\n"
     ]
    }
   ],
   "source": [
    "# If necessary, first download the Stanza model (uncomment)\n",
    "# stanza.download(\"de\")\n",
    "\n",
    "# Load the german stanza model\n",
    "nlp = stanza.Pipeline(lang=\"de\", use_gpu=False)"
   ]
  },
  {
   "cell_type": "code",
   "execution_count": 15,
   "metadata": {},
   "outputs": [],
   "source": [
    "# Run stanza on the gatenlp document and convert annotations to gatenlp representation\n",
    "doc = apply_stanza(nlp, doc)\n"
   ]
  },
  {
   "cell_type": "code",
   "execution_count": 16,
   "metadata": {},
   "outputs": [
    {
     "data": {
      "text/html": [
       "\n",
       "<div>\n",
       "<style>\n",
       "#ZYYBUSRIAL-content {\n",
       "    width: 100%;\n",
       "    height: 100%;\n",
       "    font-family: -apple-system, BlinkMacSystemFont, 'Segoe UI', Roboto, Oxygen, Ubuntu, Cantarell, 'Open Sans', 'Helvetica Neue', sans-serif;\n",
       "}\n",
       "\n",
       ".ZYYBUSRIAL-row {\n",
       "    width: 100%;\n",
       "    display: flex;\n",
       "    flex-direction: row;\n",
       "    flex-wrap: nowrap;\n",
       "}\n",
       "\n",
       ".ZYYBUSRIAL-col {\n",
       "    border: 1px solid grey;\n",
       "    display: inline-block;\n",
       "    min-width: 200px;\n",
       "    padding: 5px;\n",
       "    /* white-space: normal; */\n",
       "    /* white-space: pre-wrap; */\n",
       "    overflow-y: auto;\n",
       "}\n",
       "\n",
       ".ZYYBUSRIAL-hdr {\n",
       "    font-size: 1.2rem;\n",
       "    font-weight: bold;\n",
       "}\n",
       "\n",
       ".ZYYBUSRIAL-label {\n",
       "    margin-bottom: -15px;\n",
       "    display: block;\n",
       "}\n",
       "\n",
       ".ZYYBUSRIAL-input {\n",
       "    vertical-align: middle;\n",
       "    position: relative;\n",
       "    *overflow: hidden;\n",
       "}\n",
       "\n",
       "#ZYYBUSRIAL-popup {\n",
       "    display: none;\n",
       "    colour: white;\n",
       "    position: absolute;\n",
       "    margin-top: 10%;\n",
       "    margin-left: 10%;\n",
       "    background: #ff88ff;\n",
       "    width: 60%;\n",
       "    height: 60%;\n",
       "    z-index: 50;\n",
       "    padding: 25px 25px 25px;\n",
       "    border: 1px solid black;\n",
       "    overflow: auto;\n",
       "}\n",
       "\n",
       ".ZYYBUSRIAL-selection {\n",
       "    margin-bottom: 5px;\n",
       "}\n",
       "\n",
       ".ZYYBUSRIAL-featuretable {\n",
       "    margin-top: 10px;\n",
       "}\n",
       "\n",
       ".ZYYBUSRIAL-fname {\n",
       "    text-align: left !important;\n",
       "    font-weight: bold;\n",
       "    margin-right: 10px;\n",
       "}\n",
       ".ZYYBUSRIAL-fvalue {\n",
       "    text-align: left !important;\n",
       "}\n",
       "</style>\n",
       "  <div id=\"ZYYBUSRIAL-content\">\n",
       "        <div id=\"ZYYBUSRIAL-popup\" style=\"display: none;\">\n",
       "        </div>\n",
       "        <div class=\"ZYYBUSRIAL-row\" id=\"ZYYBUSRIAL-row1\" style=\"height:67vh; min-height:100px;\">\n",
       "            <div id=\"ZYYBUSRIAL-text-wrapper\" class=\"ZYYBUSRIAL-col\" style=\"width:70%;\">\n",
       "                <div class=\"ZYYBUSRIAL-hdr\" id=\"ZYYBUSRIAL-dochdr\"></div>\n",
       "                <div id=\"ZYYBUSRIAL-text\">\n",
       "                </div>\n",
       "            </div>\n",
       "            <div id=\"ZYYBUSRIAL-chooser\" class=\"ZYYBUSRIAL-col\" style=\"width:30%; border-left-width: 0px;\"></div>\n",
       "        </div>\n",
       "        <div class=\"ZYYBUSRIAL-row\" id=\"ZYYBUSRIAL-row2\" style=\"height:30vh; min-height: 100px;\">\n",
       "            <div id=\"ZYYBUSRIAL-details\" class=\"ZYYBUSRIAL-col\" style=\"width:100%; border-top-width: 0px;\">\n",
       "            </div>\n",
       "        </div>\n",
       "    </div>\n",
       "    \n",
       "    <script type=\"application/json\" id=\"ZYYBUSRIAL-data\">\n",
       "    {\"annotation_sets\": {\"\": {\"name\": \"detached-from:\", \"annotations\": [{\"type\": \"Token\", \"start\": 1, \"end\": 2, \"id\": 0, \"features\": {\"id\": 1, \"text\": \"n\", \"lemma\": \"n\", \"upos\": \"PROPN\", \"xpos\": \"NE\", \"head\": 15, \"deprel\": \"nsubj:pass\", \"ner\": \"O\"}}, {\"type\": \"Token\", \"start\": 3, \"end\": 6, \"id\": 1, \"features\": {\"id\": 2, \"text\": \"der\", \"lemma\": \"der\", \"upos\": \"DET\", \"xpos\": \"ART\", \"head\": 2, \"deprel\": \"det\", \"ner\": \"O\", \"Case\": \"Gen\", \"Definite\": \"Def\", \"Gender\": \"Fem\", \"Number\": \"Sing\", \"PronType\": \"Art\"}}, {\"type\": \"Token\", \"start\": 7, \"end\": 25, \"id\": 2, \"features\": {\"id\": 3, \"text\": \"Computerlinguistik\", \"lemma\": \"Computerlinguistik\", \"upos\": \"NOUN\", \"xpos\": \"NN\", \"head\": 0, \"deprel\": \"nmod\", \"ner\": \"O\", \"Case\": \"Gen\", \"Gender\": \"Fem\", \"Number\": \"Sing\"}}, {\"type\": \"Token\", \"start\": 26, \"end\": 27, \"id\": 3, \"features\": {\"id\": 4, \"text\": \"(\", \"lemma\": \"(\", \"upos\": \"PUNCT\", \"xpos\": \"$(\", \"head\": 4, \"deprel\": \"punct\", \"ner\": \"O\"}}, {\"type\": \"Token\", \"start\": 27, \"end\": 29, \"id\": 4, \"features\": {\"id\": 5, \"text\": \"CL\", \"lemma\": \"CL\", \"upos\": \"PROPN\", \"xpos\": \"NE\", \"head\": 2, \"deprel\": \"appos\", \"ner\": \"O\", \"Case\": \"Gen\", \"Gender\": \"Fem\", \"Number\": \"Sing\"}}, {\"type\": \"Token\", \"start\": 29, \"end\": 30, \"id\": 5, \"features\": {\"id\": 6, \"text\": \")\", \"lemma\": \")\", \"upos\": \"PUNCT\", \"xpos\": \"$(\", \"head\": 4, \"deprel\": \"punct\", \"ner\": \"O\"}}, {\"type\": \"Token\", \"start\": 31, \"end\": 35, \"id\": 6, \"features\": {\"id\": 7, \"text\": \"oder\", \"lemma\": \"oder\", \"upos\": \"CCONJ\", \"xpos\": \"KON\", \"head\": 8, \"deprel\": \"cc\", \"ner\": \"O\"}}, {\"type\": \"Token\", \"start\": 36, \"end\": 50, \"id\": 7, \"features\": {\"id\": 8, \"text\": \"linguistischen\", \"lemma\": \"linguistisch\", \"upos\": \"ADJ\", \"xpos\": \"ADJA\", \"head\": 8, \"deprel\": \"amod\", \"ner\": \"O\", \"Case\": \"Dat\", \"Gender\": \"Fem\", \"Number\": \"Sing\"}}, {\"type\": \"Token\", \"start\": 51, \"end\": 68, \"id\": 8, \"features\": {\"id\": 9, \"text\": \"Datenverarbeitung\", \"lemma\": \"Datenverarbeitung\", \"upos\": \"NOUN\", \"xpos\": \"NN\", \"head\": 2, \"deprel\": \"conj\", \"ner\": \"O\", \"Case\": \"Dat\", \"Gender\": \"Fem\", \"Number\": \"Sing\"}}, {\"type\": \"Token\", \"start\": 69, \"end\": 70, \"id\": 9, \"features\": {\"id\": 10, \"text\": \"(\", \"lemma\": \"(\", \"upos\": \"PUNCT\", \"xpos\": \"$(\", \"head\": 10, \"deprel\": \"punct\", \"ner\": \"O\"}}, {\"type\": \"Token\", \"start\": 70, \"end\": 73, \"id\": 10, \"features\": {\"id\": 11, \"text\": \"LDV\", \"lemma\": \"LDV\", \"upos\": \"PROPN\", \"xpos\": \"NE\", \"head\": 8, \"deprel\": \"appos\", \"ner\": \"S-MISC\", \"Case\": \"Nom\", \"Gender\": \"Fem\", \"Number\": \"Sing\"}}, {\"type\": \"Token\", \"start\": 73, \"end\": 74, \"id\": 11, \"features\": {\"id\": 12, \"text\": \")\", \"lemma\": \")\", \"upos\": \"PUNCT\", \"xpos\": \"$(\", \"head\": 10, \"deprel\": \"punct\", \"ner\": \"O\"}}, {\"type\": \"Token\", \"start\": 74, \"end\": 76, \"id\": 12, \"features\": {\"id\": 13, \"text\": \"[1\", \"lemma\": \"[1\", \"upos\": \"PUNCT\", \"xpos\": \"$(\", \"head\": 10, \"deprel\": \"punct\", \"ner\": \"O\"}}, {\"type\": \"Token\", \"start\": 76, \"end\": 77, \"id\": 13, \"features\": {\"id\": 14, \"text\": \"]\", \"lemma\": \"]\", \"upos\": \"PUNCT\", \"xpos\": \"$(\", \"head\": 10, \"deprel\": \"punct\", \"ner\": \"O\"}}, {\"type\": \"Token\", \"start\": 78, \"end\": 82, \"id\": 14, \"features\": {\"id\": 15, \"text\": \"wird\", \"lemma\": \"werden\", \"upos\": \"AUX\", \"xpos\": \"VAFIN\", \"head\": 15, \"deprel\": \"aux:pass\", \"ner\": \"O\", \"Mood\": \"Ind\", \"Number\": \"Sing\", \"Person\": \"3\", \"Tense\": \"Pres\", \"VerbForm\": \"Fin\", \"Voice\": \"Pass\"}}, {\"type\": \"Token\", \"start\": 83, \"end\": 93, \"id\": 15, \"features\": {\"id\": 16, \"text\": \"untersucht\", \"lemma\": \"untersuchen\", \"upos\": \"VERB\", \"xpos\": \"VVPP\", \"head\": 36, \"deprel\": \"root\", \"ner\": \"O\", \"VerbForm\": \"Part\"}}, {\"type\": \"Token\", \"start\": 93, \"end\": 94, \"id\": 16, \"features\": {\"id\": 17, \"text\": \",\", \"lemma\": \",\", \"upos\": \"PUNCT\", \"xpos\": \"$,\", \"head\": 32, \"deprel\": \"punct\", \"ner\": \"O\"}}, {\"type\": \"Token\", \"start\": 96, \"end\": 99, \"id\": 17, \"features\": {\"id\": 18, \"text\": \"wie\", \"lemma\": \"wie\", \"upos\": \"SCONJ\", \"xpos\": \"KOUS\", \"head\": 32, \"deprel\": \"mark\", \"ner\": \"O\"}}, {\"type\": \"Token\", \"start\": 100, \"end\": 110, \"id\": 18, \"features\": {\"id\": 19, \"text\": \"nat\\u00fcrliche\", \"lemma\": \"nat\\u00fcrlich\", \"upos\": \"ADJ\", \"xpos\": \"ADJA\", \"head\": 19, \"deprel\": \"amod\", \"ner\": \"O\", \"Case\": \"Nom\", \"Gender\": \"Fem\", \"Number\": \"Sing\"}}, {\"type\": \"Token\", \"start\": 111, \"end\": 118, \"id\": 19, \"features\": {\"id\": 20, \"text\": \"Sprache\", \"lemma\": \"Sprache\", \"upos\": \"NOUN\", \"xpos\": \"NN\", \"head\": 32, \"deprel\": \"nsubj:pass\", \"ner\": \"O\", \"Case\": \"Nom\", \"Gender\": \"Fem\", \"Number\": \"Sing\"}}, {\"type\": \"Token\", \"start\": 119, \"end\": 121, \"id\": 20, \"features\": {\"id\": 21, \"text\": \"in\", \"lemma\": \"in\", \"upos\": \"ADP\", \"xpos\": \"APPR\", \"head\": 21, \"deprel\": \"case\", \"ner\": \"O\"}}, {\"type\": \"Token\", \"start\": 122, \"end\": 126, \"id\": 21, \"features\": {\"id\": 22, \"text\": \"Form\", \"lemma\": \"Form\", \"upos\": \"NOUN\", \"xpos\": \"NN\", \"head\": 32, \"deprel\": \"obl\", \"ner\": \"O\", \"Case\": \"Dat\", \"Gender\": \"Fem\", \"Number\": \"Sing\"}}, {\"type\": \"Token\", \"start\": 127, \"end\": 130, \"id\": 22, \"features\": {\"id\": 23, \"text\": \"von\", \"lemma\": \"von\", \"upos\": \"ADP\", \"xpos\": \"APPR\", \"head\": 23, \"deprel\": \"case\", \"ner\": \"O\"}}, {\"type\": \"Token\", \"start\": 131, \"end\": 135, \"id\": 23, \"features\": {\"id\": 24, \"text\": \"Text\", \"lemma\": \"Text\", \"upos\": \"NOUN\", \"xpos\": \"TRUNC\", \"head\": 21, \"deprel\": \"nmod\", \"ner\": \"O\", \"Case\": \"Dat\"}}, {\"type\": \"Token\", \"start\": 135, \"end\": 136, \"id\": 24, \"features\": {\"id\": 25, \"text\": \"-\", \"lemma\": \"-\", \"upos\": \"PUNCT\", \"xpos\": \"$(\", \"head\": 26, \"deprel\": \"punct\", \"ner\": \"O\"}}, {\"type\": \"Token\", \"start\": 137, \"end\": 141, \"id\": 25, \"features\": {\"id\": 26, \"text\": \"oder\", \"lemma\": \"oder\", \"upos\": \"CCONJ\", \"xpos\": \"KON\", \"head\": 26, \"deprel\": \"cc\", \"ner\": \"O\"}}, {\"type\": \"Token\", \"start\": 142, \"end\": 153, \"id\": 26, \"features\": {\"id\": 27, \"text\": \"Sprachdaten\", \"lemma\": \"Sprachdaten\", \"upos\": \"NOUN\", \"xpos\": \"NN\", \"head\": 23, \"deprel\": \"conj\", \"ner\": \"O\", \"Case\": \"Dat\", \"Gender\": \"Masc\", \"Number\": \"Plur\"}}, {\"type\": \"Token\", \"start\": 154, \"end\": 157, \"id\": 27, \"features\": {\"id\": 28, \"text\": \"mit\", \"lemma\": \"mit\", \"upos\": \"ADP\", \"xpos\": \"APPR\", \"head\": 28, \"deprel\": \"case\", \"ner\": \"O\"}}, {\"type\": \"Token\", \"start\": 158, \"end\": 163, \"id\": 28, \"features\": {\"id\": 29, \"text\": \"Hilfe\", \"lemma\": \"Hilfe\", \"upos\": \"NOUN\", \"xpos\": \"NN\", \"head\": 32, \"deprel\": \"obl\", \"ner\": \"O\", \"Case\": \"Dat\", \"Gender\": \"Fem\", \"Number\": \"Sing\"}}, {\"type\": \"Token\", \"start\": 164, \"end\": 167, \"id\": 29, \"features\": {\"id\": 30, \"text\": \"des\", \"lemma\": \"der\", \"upos\": \"DET\", \"xpos\": \"ART\", \"head\": 30, \"deprel\": \"det\", \"ner\": \"O\", \"Case\": \"Gen\", \"Definite\": \"Def\", \"Gender\": \"Masc\", \"Number\": \"Sing\", \"PronType\": \"Art\"}}, {\"type\": \"Token\", \"start\": 168, \"end\": 177, \"id\": 30, \"features\": {\"id\": 31, \"text\": \"Computers\", \"lemma\": \"Computer\", \"upos\": \"NOUN\", \"xpos\": \"NN\", \"head\": 28, \"deprel\": \"nmod\", \"ner\": \"O\", \"Case\": \"Gen\", \"Gender\": \"Masc\", \"Number\": \"Sing\"}}, {\"type\": \"Token\", \"start\": 178, \"end\": 191, \"id\": 31, \"features\": {\"id\": 32, \"text\": \"algorithmisch\", \"lemma\": \"algorithmisch\", \"upos\": \"ADJ\", \"xpos\": \"ADJD\", \"head\": 32, \"deprel\": \"advmod\", \"ner\": \"O\"}}, {\"type\": \"Token\", \"start\": 193, \"end\": 204, \"id\": 32, \"features\": {\"id\": 33, \"text\": \"verarbeitet\", \"lemma\": \"verarbeiten\", \"upos\": \"VERB\", \"xpos\": \"VVPP\", \"head\": 15, \"deprel\": \"advcl\", \"ner\": \"O\", \"VerbForm\": \"Part\"}}, {\"type\": \"Token\", \"start\": 205, \"end\": 211, \"id\": 33, \"features\": {\"id\": 34, \"text\": \"werden\", \"lemma\": \"werden\", \"upos\": \"AUX\", \"xpos\": \"VAINF\", \"head\": 32, \"deprel\": \"aux:pass\", \"ner\": \"O\", \"VerbForm\": \"Inf\", \"Voice\": \"Pass\"}}, {\"type\": \"Token\", \"start\": 212, \"end\": 216, \"id\": 34, \"features\": {\"id\": 35, \"text\": \"kann\", \"lemma\": \"k\\u00f6nnen\", \"upos\": \"AUX\", \"xpos\": \"VMFIN\", \"head\": 32, \"deprel\": \"aux\", \"ner\": \"O\", \"Mood\": \"Ind\", \"Number\": \"Sing\", \"Person\": \"3\", \"Tense\": \"Pres\", \"VerbForm\": \"Fin\"}}, {\"type\": \"Token\", \"start\": 216, \"end\": 217, \"id\": 35, \"features\": {\"id\": 36, \"text\": \".\", \"lemma\": \".\", \"upos\": \"PUNCT\", \"xpos\": \"$.\", \"head\": 15, \"deprel\": \"punct\", \"ner\": \"O\"}}, {\"type\": \"Sentence\", \"start\": 1, \"end\": 217, \"id\": 36, \"features\": {}}, {\"type\": \"MISC\", \"start\": 70, \"end\": 73, \"id\": 37, \"features\": {}}, {\"type\": \"MISC\", \"start\": 292, \"end\": 310, \"id\": 38, \"features\": {}}, {\"type\": \"MISC\", \"start\": 353, \"end\": 380, \"id\": 39, \"features\": {}}, {\"type\": \"MISC\", \"start\": 382, \"end\": 385, \"id\": 40, \"features\": {}}, {\"type\": \"Token\", \"start\": 218, \"end\": 221, \"id\": 41, \"features\": {\"id\": 1, \"text\": \"Sie\", \"lemma\": \"Sie|sie\", \"upos\": \"PRON\", \"xpos\": \"PPER\", \"head\": 43, \"deprel\": \"nsubj\", \"ner\": \"O\", \"Case\": \"Nom\", \"Gender\": \"Fem\", \"Number\": \"Sing\", \"Person\": \"3\", \"PronType\": \"Prs\"}}, {\"type\": \"Token\", \"start\": 222, \"end\": 225, \"id\": 42, \"features\": {\"id\": 2, \"text\": \"ist\", \"lemma\": \"sein\", \"upos\": \"AUX\", \"xpos\": \"VAFIN\", \"head\": 43, \"deprel\": \"cop\", \"ner\": \"O\", \"Mood\": \"Ind\", \"Number\": \"Sing\", \"Person\": \"3\", \"Tense\": \"Pres\", \"VerbForm\": \"Fin\"}}, {\"type\": \"Token\", \"start\": 226, \"end\": 239, \"id\": 43, \"features\": {\"id\": 3, \"text\": \"Schnittstelle\", \"lemma\": \"Schnittstelle\", \"upos\": \"NOUN\", \"xpos\": \"NN\", \"head\": 49, \"deprel\": \"root\", \"ner\": \"O\", \"Case\": \"Nom\", \"Gender\": \"Fem\", \"Number\": \"Sing\"}}, {\"type\": \"Token\", \"start\": 240, \"end\": 248, \"id\": 44, \"features\": {\"id\": 4, \"text\": \"zwischen\", \"lemma\": \"zwischen\", \"upos\": \"ADP\", \"xpos\": \"APPR\", \"head\": 45, \"deprel\": \"case\", \"ner\": \"O\"}}, {\"type\": \"Token\", \"start\": 249, \"end\": 267, \"id\": 45, \"features\": {\"id\": 5, \"text\": \"Sprachwissenschaft\", \"lemma\": \"Sprachwissenschaft\", \"upos\": \"NOUN\", \"xpos\": \"NN\", \"head\": 43, \"deprel\": \"nmod\", \"ner\": \"O\", \"Case\": \"Dat\", \"Gender\": \"Fem\", \"Number\": \"Sing\"}}, {\"type\": \"Token\", \"start\": 268, \"end\": 271, \"id\": 46, \"features\": {\"id\": 6, \"text\": \"und\", \"lemma\": \"und\", \"upos\": \"CCONJ\", \"xpos\": \"KON\", \"head\": 47, \"deprel\": \"cc\", \"ner\": \"O\"}}, {\"type\": \"Token\", \"start\": 272, \"end\": 282, \"id\": 47, \"features\": {\"id\": 7, \"text\": \"Informatik\", \"lemma\": \"Informatik\", \"upos\": \"NOUN\", \"xpos\": \"NN\", \"head\": 45, \"deprel\": \"conj\", \"ner\": \"O\", \"Case\": \"Dat\", \"Gender\": \"Fem\", \"Number\": \"Sing\"}}, {\"type\": \"Token\", \"start\": 282, \"end\": 283, \"id\": 48, \"features\": {\"id\": 8, \"text\": \".\", \"lemma\": \".\", \"upos\": \"PUNCT\", \"xpos\": \"$.\", \"head\": 43, \"deprel\": \"punct\", \"ner\": \"O\"}}, {\"type\": \"Sentence\", \"start\": 218, \"end\": 283, \"id\": 49, \"features\": {}}, {\"type\": \"MISC\", \"start\": 70, \"end\": 73, \"id\": 50, \"features\": {}}, {\"type\": \"MISC\", \"start\": 292, \"end\": 310, \"id\": 51, \"features\": {}}, {\"type\": \"MISC\", \"start\": 353, \"end\": 380, \"id\": 52, \"features\": {}}, {\"type\": \"MISC\", \"start\": 382, \"end\": 385, \"id\": 53, \"features\": {}}, {\"type\": \"Token\", \"start\": 285, \"end\": 287, \"id\": 54, \"features\": {\"id\": 1, \"text\": \"In\", \"lemma\": \"in\", \"upos\": \"ADP\", \"xpos\": \"APPR\", \"head\": 57, \"deprel\": \"case\", \"ner\": \"O\"}}, {\"type\": \"Token\", \"start\": 288, \"end\": 291, \"id\": 55, \"features\": {\"id\": 2, \"text\": \"der\", \"lemma\": \"der\", \"upos\": \"DET\", \"xpos\": \"ART\", \"head\": 57, \"deprel\": \"det\", \"ner\": \"O\", \"Case\": \"Dat\", \"Definite\": \"Def\", \"Gender\": \"Fem\", \"Number\": \"Sing\", \"PronType\": \"Art\"}}, {\"type\": \"Token\", \"start\": 292, \"end\": 310, \"id\": 56, \"features\": {\"id\": 3, \"text\": \"englischsprachigen\", \"lemma\": \"englischsprachig\", \"upos\": \"ADJ\", \"xpos\": \"ADJA\", \"head\": 57, \"deprel\": \"amod\", \"ner\": \"S-MISC\", \"Case\": \"Dat\", \"Gender\": \"Fem\", \"Number\": \"Sing\"}}, {\"type\": \"Token\", \"start\": 311, \"end\": 320, \"id\": 57, \"features\": {\"id\": 4, \"text\": \"Literatur\", \"lemma\": \"Literatur\", \"upos\": \"NOUN\", \"xpos\": \"NN\", \"head\": 69, \"deprel\": \"nmod\", \"ner\": \"O\", \"Case\": \"Dat\", \"Gender\": \"Fem\", \"Number\": \"Sing\"}}, {\"type\": \"Token\", \"start\": 321, \"end\": 324, \"id\": 58, \"features\": {\"id\": 5, \"text\": \"und\", \"lemma\": \"und\", \"upos\": \"CCONJ\", \"xpos\": \"KON\", \"head\": 59, \"deprel\": \"cc\", \"ner\": \"O\"}}, {\"type\": \"Token\", \"start\": 325, \"end\": 335, \"id\": 59, \"features\": {\"id\": 6, \"text\": \"Informatik\", \"lemma\": \"Informatik\", \"upos\": \"NOUN\", \"xpos\": \"NN\", \"head\": 57, \"deprel\": \"conj\", \"ner\": \"O\", \"Case\": \"Dat\", \"Gender\": \"Fem\", \"Number\": \"Sing\"}}, {\"type\": \"Token\", \"start\": 336, \"end\": 339, \"id\": 60, \"features\": {\"id\": 7, \"text\": \"ist\", \"lemma\": \"sein\", \"upos\": \"AUX\", \"xpos\": \"VAFIN\", \"head\": 69, \"deprel\": \"cop\", \"ner\": \"O\", \"Mood\": \"Ind\", \"Number\": \"Sing\", \"Person\": \"3\", \"Tense\": \"Pres\", \"VerbForm\": \"Fin\"}}, {\"type\": \"Token\", \"start\": 340, \"end\": 343, \"id\": 61, \"features\": {\"id\": 8, \"text\": \"der\", \"lemma\": \"der\", \"upos\": \"DET\", \"xpos\": \"ART\", \"head\": 62, \"deprel\": \"det\", \"ner\": \"O\", \"Case\": \"Nom\", \"Definite\": \"Def\", \"Gender\": \"Masc\", \"Number\": \"Sing\", \"PronType\": \"Art\"}}, {\"type\": \"Token\", \"start\": 344, \"end\": 351, \"id\": 62, \"features\": {\"id\": 9, \"text\": \"Begriff\", \"lemma\": \"Begriff\", \"upos\": \"NOUN\", \"xpos\": \"NN\", \"head\": 69, \"deprel\": \"nsubj\", \"ner\": \"O\", \"Case\": \"Nom\", \"Gender\": \"Masc\", \"Number\": \"Sing\"}}, {\"type\": \"Token\", \"start\": 353, \"end\": 360, \"id\": 63, \"features\": {\"id\": 10, \"text\": \"Natural\", \"lemma\": \"Natural\", \"upos\": \"PROPN\", \"xpos\": \"NE\", \"head\": 62, \"deprel\": \"appos\", \"ner\": \"B-MISC\", \"Foreign\": \"Yes\"}}, {\"type\": \"Token\", \"start\": 361, \"end\": 369, \"id\": 64, \"features\": {\"id\": 11, \"text\": \"language\", \"lemma\": \"language\", \"upos\": \"PROPN\", \"xpos\": \"NE\", \"head\": 63, \"deprel\": \"flat\", \"ner\": \"I-MISC\", \"Foreign\": \"Yes\"}}, {\"type\": \"Token\", \"start\": 370, \"end\": 380, \"id\": 65, \"features\": {\"id\": 12, \"text\": \"processing\", \"lemma\": \"processing\", \"upos\": \"PROPN\", \"xpos\": \"NE\", \"head\": 63, \"deprel\": \"flat\", \"ner\": \"E-MISC\", \"Foreign\": \"Yes\"}}, {\"type\": \"Token\", \"start\": 381, \"end\": 382, \"id\": 66, \"features\": {\"id\": 13, \"text\": \"(\", \"lemma\": \"(\", \"upos\": \"PUNCT\", \"xpos\": \"$(\", \"head\": 67, \"deprel\": \"punct\", \"ner\": \"O\"}}, {\"type\": \"Token\", \"start\": 382, \"end\": 385, \"id\": 67, \"features\": {\"id\": 14, \"text\": \"NLP\", \"lemma\": \"NLP\", \"upos\": \"PROPN\", \"xpos\": \"NE\", \"head\": 63, \"deprel\": \"appos\", \"ner\": \"S-MISC\", \"Case\": \"Nom\", \"Gender\": \"Fem\", \"Number\": \"Sing\"}}, {\"type\": \"Token\", \"start\": 385, \"end\": 386, \"id\": 68, \"features\": {\"id\": 15, \"text\": \")\", \"lemma\": \")\", \"upos\": \"PUNCT\", \"xpos\": \"$(\", \"head\": 67, \"deprel\": \"punct\", \"ner\": \"O\"}}, {\"type\": \"Token\", \"start\": 387, \"end\": 399, \"id\": 69, \"features\": {\"id\": 16, \"text\": \"gebr\\u00e4uchlich\", \"lemma\": \"gebr\\u00e4uchlich\", \"upos\": \"ADJ\", \"xpos\": \"ADJD\", \"head\": 71, \"deprel\": \"root\", \"ner\": \"O\"}}, {\"type\": \"Token\", \"start\": 399, \"end\": 400, \"id\": 70, \"features\": {\"id\": 17, \"text\": \".\", \"lemma\": \".\", \"upos\": \"PUNCT\", \"xpos\": \"$.\", \"head\": 69, \"deprel\": \"punct\", \"ner\": \"O\"}}, {\"type\": \"Sentence\", \"start\": 285, \"end\": 400, \"id\": 71, \"features\": {}}, {\"type\": \"MISC\", \"start\": 70, \"end\": 73, \"id\": 72, \"features\": {}}, {\"type\": \"MISC\", \"start\": 292, \"end\": 310, \"id\": 73, \"features\": {}}, {\"type\": \"MISC\", \"start\": 353, \"end\": 380, \"id\": 74, \"features\": {}}, {\"type\": \"MISC\", \"start\": 382, \"end\": 385, \"id\": 75, \"features\": {}}], \"next_annid\": 76}}, \"text\": \"\\nn der Computerlinguistik (CL) oder linguistischen Datenverarbeitung (LDV)[1] wird untersucht, \\nwie nat\\u00fcrliche Sprache in Form von Text- oder Sprachdaten mit Hilfe des Computers algorithmisch \\nverarbeitet werden kann. Sie ist Schnittstelle zwischen Sprachwissenschaft und Informatik. \\nIn der englischsprachigen Literatur und Informatik ist der Begriff \\nNatural language processing (NLP) gebr\\u00e4uchlich.\\n\", \"features\": {}, \"offset_type\": \"j\", \"name\": \"\"}\n",
       "    </script>\n",
       "    <script type=\"text/javascript\">\n",
       "        gatenlp_run(\"ZYYBUSRIAL-\");\n",
       "    </script>\n",
       "  </div>\n",
       "<div>ID: ZYYBUSRIAL</div>"
      ],
      "text/plain": [
       "Document(\n",
       "n der Computerlinguistik (CL) oder linguistischen Datenverarbeitung (LDV)[1] wird untersucht, \n",
       "wie natürliche Sprache in Form von Text- oder Sprachdaten mit Hilfe des Computers algorithmisch \n",
       "verarbeitet werden kann. Sie ist Schnittstelle zwischen Sprachwissenschaft und Informatik. \n",
       "In der englischsprachigen Literatur und Informatik ist der Begriff \n",
       "Natural language processing (NLP) gebräuchlich.\n",
       ",features=Features({}),anns={'': AnnotationSet([Annotation(1,2,Token,features=Features({'id': 1, 'text': 'n', 'lemma': 'n', 'upos': 'PROPN', 'xpos': 'NE', 'head': 15, 'deprel': 'nsubj:pass', 'ner': 'O'}),id=0), Annotation(1,217,Sentence,features=Features({}),id=36), Annotation(3,6,Token,features=Features({'id': 2, 'text': 'der', 'lemma': 'der', 'upos': 'DET', 'xpos': 'ART', 'head': 2, 'deprel': 'det', 'ner': 'O', 'Case': 'Gen', 'Definite': 'Def', 'Gender': 'Fem', 'Number': 'Sing', 'PronType': 'Art'}),id=1), Annotation(7,25,Token,features=Features({'id': 3, 'text': 'Computerlinguistik', 'lemma': 'Computerlinguistik', 'upos': 'NOUN', 'xpos': 'NN', 'head': 0, 'deprel': 'nmod', 'ner': 'O', 'Case': 'Gen', 'Gender': 'Fem', 'Number': 'Sing'}),id=2), Annotation(26,27,Token,features=Features({'id': 4, 'text': '(', 'lemma': '(', 'upos': 'PUNCT', 'xpos': '$(', 'head': 4, 'deprel': 'punct', 'ner': 'O'}),id=3), Annotation(27,29,Token,features=Features({'id': 5, 'text': 'CL', 'lemma': 'CL', 'upos': 'PROPN', 'xpos': 'NE', 'head': 2, 'deprel': 'appos', 'ner': 'O', 'Case': 'Gen', 'Gender': 'Fem', 'Number': 'Sing'}),id=4), Annotation(29,30,Token,features=Features({'id': 6, 'text': ')', 'lemma': ')', 'upos': 'PUNCT', 'xpos': '$(', 'head': 4, 'deprel': 'punct', 'ner': 'O'}),id=5), Annotation(31,35,Token,features=Features({'id': 7, 'text': 'oder', 'lemma': 'oder', 'upos': 'CCONJ', 'xpos': 'KON', 'head': 8, 'deprel': 'cc', 'ner': 'O'}),id=6), Annotation(36,50,Token,features=Features({'id': 8, 'text': 'linguistischen', 'lemma': 'linguistisch', 'upos': 'ADJ', 'xpos': 'ADJA', 'head': 8, 'deprel': 'amod', 'ner': 'O', 'Case': 'Dat', 'Gender': 'Fem', 'Number': 'Sing'}),id=7), Annotation(51,68,Token,features=Features({'id': 9, 'text': 'Datenverarbeitung', 'lemma': 'Datenverarbeitung', 'upos': 'NOUN', 'xpos': 'NN', 'head': 2, 'deprel': 'conj', 'ner': 'O', 'Case': 'Dat', 'Gender': 'Fem', 'Number': 'Sing'}),id=8), Annotation(69,70,Token,features=Features({'id': 10, 'text': '(', 'lemma': '(', 'upos': 'PUNCT', 'xpos': '$(', 'head': 10, 'deprel': 'punct', 'ner': 'O'}),id=9), Annotation(70,73,Token,features=Features({'id': 11, 'text': 'LDV', 'lemma': 'LDV', 'upos': 'PROPN', 'xpos': 'NE', 'head': 8, 'deprel': 'appos', 'ner': 'S-MISC', 'Case': 'Nom', 'Gender': 'Fem', 'Number': 'Sing'}),id=10), Annotation(70,73,MISC,features=Features({}),id=37), Annotation(70,73,MISC,features=Features({}),id=50), Annotation(70,73,MISC,features=Features({}),id=72), Annotation(73,74,Token,features=Features({'id': 12, 'text': ')', 'lemma': ')', 'upos': 'PUNCT', 'xpos': '$(', 'head': 10, 'deprel': 'punct', 'ner': 'O'}),id=11), Annotation(74,76,Token,features=Features({'id': 13, 'text': '[1', 'lemma': '[1', 'upos': 'PUNCT', 'xpos': '$(', 'head': 10, 'deprel': 'punct', 'ner': 'O'}),id=12), Annotation(76,77,Token,features=Features({'id': 14, 'text': ']', 'lemma': ']', 'upos': 'PUNCT', 'xpos': '$(', 'head': 10, 'deprel': 'punct', 'ner': 'O'}),id=13), Annotation(78,82,Token,features=Features({'id': 15, 'text': 'wird', 'lemma': 'werden', 'upos': 'AUX', 'xpos': 'VAFIN', 'head': 15, 'deprel': 'aux:pass', 'ner': 'O', 'Mood': 'Ind', 'Number': 'Sing', 'Person': '3', 'Tense': 'Pres', 'VerbForm': 'Fin', 'Voice': 'Pass'}),id=14), Annotation(83,93,Token,features=Features({'id': 16, 'text': 'untersucht', 'lemma': 'untersuchen', 'upos': 'VERB', 'xpos': 'VVPP', 'head': 36, 'deprel': 'root', 'ner': 'O', 'VerbForm': 'Part'}),id=15), Annotation(93,94,Token,features=Features({'id': 17, 'text': ',', 'lemma': ',', 'upos': 'PUNCT', 'xpos': '$,', 'head': 32, 'deprel': 'punct', 'ner': 'O'}),id=16), Annotation(96,99,Token,features=Features({'id': 18, 'text': 'wie', 'lemma': 'wie', 'upos': 'SCONJ', 'xpos': 'KOUS', 'head': 32, 'deprel': 'mark', 'ner': 'O'}),id=17), Annotation(100,110,Token,features=Features({'id': 19, 'text': 'natürliche', 'lemma': 'natürlich', 'upos': 'ADJ', 'xpos': 'ADJA', 'head': 19, 'deprel': 'amod', 'ner': 'O', 'Case': 'Nom', 'Gender': 'Fem', 'Number': 'Sing'}),id=18), Annotation(111,118,Token,features=Features({'id': 20, 'text': 'Sprache', 'lemma': 'Sprache', 'upos': 'NOUN', 'xpos': 'NN', 'head': 32, 'deprel': 'nsubj:pass', 'ner': 'O', 'Case': 'Nom', 'Gender': 'Fem', 'Number': 'Sing'}),id=19), Annotation(119,121,Token,features=Features({'id': 21, 'text': 'in', 'lemma': 'in', 'upos': 'ADP', 'xpos': 'APPR', 'head': 21, 'deprel': 'case', 'ner': 'O'}),id=20), Annotation(122,126,Token,features=Features({'id': 22, 'text': 'Form', 'lemma': 'Form', 'upos': 'NOUN', 'xpos': 'NN', 'head': 32, 'deprel': 'obl', 'ner': 'O', 'Case': 'Dat', 'Gender': 'Fem', 'Number': 'Sing'}),id=21), Annotation(127,130,Token,features=Features({'id': 23, 'text': 'von', 'lemma': 'von', 'upos': 'ADP', 'xpos': 'APPR', 'head': 23, 'deprel': 'case', 'ner': 'O'}),id=22), Annotation(131,135,Token,features=Features({'id': 24, 'text': 'Text', 'lemma': 'Text', 'upos': 'NOUN', 'xpos': 'TRUNC', 'head': 21, 'deprel': 'nmod', 'ner': 'O', 'Case': 'Dat'}),id=23), Annotation(135,136,Token,features=Features({'id': 25, 'text': '-', 'lemma': '-', 'upos': 'PUNCT', 'xpos': '$(', 'head': 26, 'deprel': 'punct', 'ner': 'O'}),id=24), Annotation(137,141,Token,features=Features({'id': 26, 'text': 'oder', 'lemma': 'oder', 'upos': 'CCONJ', 'xpos': 'KON', 'head': 26, 'deprel': 'cc', 'ner': 'O'}),id=25), Annotation(142,153,Token,features=Features({'id': 27, 'text': 'Sprachdaten', 'lemma': 'Sprachdaten', 'upos': 'NOUN', 'xpos': 'NN', 'head': 23, 'deprel': 'conj', 'ner': 'O', 'Case': 'Dat', 'Gender': 'Masc', 'Number': 'Plur'}),id=26), Annotation(154,157,Token,features=Features({'id': 28, 'text': 'mit', 'lemma': 'mit', 'upos': 'ADP', 'xpos': 'APPR', 'head': 28, 'deprel': 'case', 'ner': 'O'}),id=27), Annotation(158,163,Token,features=Features({'id': 29, 'text': 'Hilfe', 'lemma': 'Hilfe', 'upos': 'NOUN', 'xpos': 'NN', 'head': 32, 'deprel': 'obl', 'ner': 'O', 'Case': 'Dat', 'Gender': 'Fem', 'Number': 'Sing'}),id=28), Annotation(164,167,Token,features=Features({'id': 30, 'text': 'des', 'lemma': 'der', 'upos': 'DET', 'xpos': 'ART', 'head': 30, 'deprel': 'det', 'ner': 'O', 'Case': 'Gen', 'Definite': 'Def', 'Gender': 'Masc', 'Number': 'Sing', 'PronType': 'Art'}),id=29), Annotation(168,177,Token,features=Features({'id': 31, 'text': 'Computers', 'lemma': 'Computer', 'upos': 'NOUN', 'xpos': 'NN', 'head': 28, 'deprel': 'nmod', 'ner': 'O', 'Case': 'Gen', 'Gender': 'Masc', 'Number': 'Sing'}),id=30), Annotation(178,191,Token,features=Features({'id': 32, 'text': 'algorithmisch', 'lemma': 'algorithmisch', 'upos': 'ADJ', 'xpos': 'ADJD', 'head': 32, 'deprel': 'advmod', 'ner': 'O'}),id=31), Annotation(193,204,Token,features=Features({'id': 33, 'text': 'verarbeitet', 'lemma': 'verarbeiten', 'upos': 'VERB', 'xpos': 'VVPP', 'head': 15, 'deprel': 'advcl', 'ner': 'O', 'VerbForm': 'Part'}),id=32), Annotation(205,211,Token,features=Features({'id': 34, 'text': 'werden', 'lemma': 'werden', 'upos': 'AUX', 'xpos': 'VAINF', 'head': 32, 'deprel': 'aux:pass', 'ner': 'O', 'VerbForm': 'Inf', 'Voice': 'Pass'}),id=33), Annotation(212,216,Token,features=Features({'id': 35, 'text': 'kann', 'lemma': 'können', 'upos': 'AUX', 'xpos': 'VMFIN', 'head': 32, 'deprel': 'aux', 'ner': 'O', 'Mood': 'Ind', 'Number': 'Sing', 'Person': '3', 'Tense': 'Pres', 'VerbForm': 'Fin'}),id=34), Annotation(216,217,Token,features=Features({'id': 36, 'text': '.', 'lemma': '.', 'upos': 'PUNCT', 'xpos': '$.', 'head': 15, 'deprel': 'punct', 'ner': 'O'}),id=35), Annotation(218,221,Token,features=Features({'id': 1, 'text': 'Sie', 'lemma': 'Sie|sie', 'upos': 'PRON', 'xpos': 'PPER', 'head': 43, 'deprel': 'nsubj', 'ner': 'O', 'Case': 'Nom', 'Gender': 'Fem', 'Number': 'Sing', 'Person': '3', 'PronType': 'Prs'}),id=41), Annotation(218,283,Sentence,features=Features({}),id=49), Annotation(222,225,Token,features=Features({'id': 2, 'text': 'ist', 'lemma': 'sein', 'upos': 'AUX', 'xpos': 'VAFIN', 'head': 43, 'deprel': 'cop', 'ner': 'O', 'Mood': 'Ind', 'Number': 'Sing', 'Person': '3', 'Tense': 'Pres', 'VerbForm': 'Fin'}),id=42), Annotation(226,239,Token,features=Features({'id': 3, 'text': 'Schnittstelle', 'lemma': 'Schnittstelle', 'upos': 'NOUN', 'xpos': 'NN', 'head': 49, 'deprel': 'root', 'ner': 'O', 'Case': 'Nom', 'Gender': 'Fem', 'Number': 'Sing'}),id=43), Annotation(240,248,Token,features=Features({'id': 4, 'text': 'zwischen', 'lemma': 'zwischen', 'upos': 'ADP', 'xpos': 'APPR', 'head': 45, 'deprel': 'case', 'ner': 'O'}),id=44), Annotation(249,267,Token,features=Features({'id': 5, 'text': 'Sprachwissenschaft', 'lemma': 'Sprachwissenschaft', 'upos': 'NOUN', 'xpos': 'NN', 'head': 43, 'deprel': 'nmod', 'ner': 'O', 'Case': 'Dat', 'Gender': 'Fem', 'Number': 'Sing'}),id=45), Annotation(268,271,Token,features=Features({'id': 6, 'text': 'und', 'lemma': 'und', 'upos': 'CCONJ', 'xpos': 'KON', 'head': 47, 'deprel': 'cc', 'ner': 'O'}),id=46), Annotation(272,282,Token,features=Features({'id': 7, 'text': 'Informatik', 'lemma': 'Informatik', 'upos': 'NOUN', 'xpos': 'NN', 'head': 45, 'deprel': 'conj', 'ner': 'O', 'Case': 'Dat', 'Gender': 'Fem', 'Number': 'Sing'}),id=47), Annotation(282,283,Token,features=Features({'id': 8, 'text': '.', 'lemma': '.', 'upos': 'PUNCT', 'xpos': '$.', 'head': 43, 'deprel': 'punct', 'ner': 'O'}),id=48), Annotation(285,287,Token,features=Features({'id': 1, 'text': 'In', 'lemma': 'in', 'upos': 'ADP', 'xpos': 'APPR', 'head': 57, 'deprel': 'case', 'ner': 'O'}),id=54), Annotation(285,400,Sentence,features=Features({}),id=71), Annotation(288,291,Token,features=Features({'id': 2, 'text': 'der', 'lemma': 'der', 'upos': 'DET', 'xpos': 'ART', 'head': 57, 'deprel': 'det', 'ner': 'O', 'Case': 'Dat', 'Definite': 'Def', 'Gender': 'Fem', 'Number': 'Sing', 'PronType': 'Art'}),id=55), Annotation(292,310,MISC,features=Features({}),id=38), Annotation(292,310,MISC,features=Features({}),id=51), Annotation(292,310,Token,features=Features({'id': 3, 'text': 'englischsprachigen', 'lemma': 'englischsprachig', 'upos': 'ADJ', 'xpos': 'ADJA', 'head': 57, 'deprel': 'amod', 'ner': 'S-MISC', 'Case': 'Dat', 'Gender': 'Fem', 'Number': 'Sing'}),id=56), Annotation(292,310,MISC,features=Features({}),id=73), Annotation(311,320,Token,features=Features({'id': 4, 'text': 'Literatur', 'lemma': 'Literatur', 'upos': 'NOUN', 'xpos': 'NN', 'head': 69, 'deprel': 'nmod', 'ner': 'O', 'Case': 'Dat', 'Gender': 'Fem', 'Number': 'Sing'}),id=57), Annotation(321,324,Token,features=Features({'id': 5, 'text': 'und', 'lemma': 'und', 'upos': 'CCONJ', 'xpos': 'KON', 'head': 59, 'deprel': 'cc', 'ner': 'O'}),id=58), Annotation(325,335,Token,features=Features({'id': 6, 'text': 'Informatik', 'lemma': 'Informatik', 'upos': 'NOUN', 'xpos': 'NN', 'head': 57, 'deprel': 'conj', 'ner': 'O', 'Case': 'Dat', 'Gender': 'Fem', 'Number': 'Sing'}),id=59), Annotation(336,339,Token,features=Features({'id': 7, 'text': 'ist', 'lemma': 'sein', 'upos': 'AUX', 'xpos': 'VAFIN', 'head': 69, 'deprel': 'cop', 'ner': 'O', 'Mood': 'Ind', 'Number': 'Sing', 'Person': '3', 'Tense': 'Pres', 'VerbForm': 'Fin'}),id=60), Annotation(340,343,Token,features=Features({'id': 8, 'text': 'der', 'lemma': 'der', 'upos': 'DET', 'xpos': 'ART', 'head': 62, 'deprel': 'det', 'ner': 'O', 'Case': 'Nom', 'Definite': 'Def', 'Gender': 'Masc', 'Number': 'Sing', 'PronType': 'Art'}),id=61), Annotation(344,351,Token,features=Features({'id': 9, 'text': 'Begriff', 'lemma': 'Begriff', 'upos': 'NOUN', 'xpos': 'NN', 'head': 69, 'deprel': 'nsubj', 'ner': 'O', 'Case': 'Nom', 'Gender': 'Masc', 'Number': 'Sing'}),id=62), Annotation(353,380,MISC,features=Features({}),id=39), Annotation(353,380,MISC,features=Features({}),id=52), Annotation(353,360,Token,features=Features({'id': 10, 'text': 'Natural', 'lemma': 'Natural', 'upos': 'PROPN', 'xpos': 'NE', 'head': 62, 'deprel': 'appos', 'ner': 'B-MISC', 'Foreign': 'Yes'}),id=63), Annotation(353,380,MISC,features=Features({}),id=74), Annotation(361,369,Token,features=Features({'id': 11, 'text': 'language', 'lemma': 'language', 'upos': 'PROPN', 'xpos': 'NE', 'head': 63, 'deprel': 'flat', 'ner': 'I-MISC', 'Foreign': 'Yes'}),id=64), Annotation(370,380,Token,features=Features({'id': 12, 'text': 'processing', 'lemma': 'processing', 'upos': 'PROPN', 'xpos': 'NE', 'head': 63, 'deprel': 'flat', 'ner': 'E-MISC', 'Foreign': 'Yes'}),id=65), Annotation(381,382,Token,features=Features({'id': 13, 'text': '(', 'lemma': '(', 'upos': 'PUNCT', 'xpos': '$(', 'head': 67, 'deprel': 'punct', 'ner': 'O'}),id=66), Annotation(382,385,MISC,features=Features({}),id=40), Annotation(382,385,MISC,features=Features({}),id=53), Annotation(382,385,Token,features=Features({'id': 14, 'text': 'NLP', 'lemma': 'NLP', 'upos': 'PROPN', 'xpos': 'NE', 'head': 63, 'deprel': 'appos', 'ner': 'S-MISC', 'Case': 'Nom', 'Gender': 'Fem', 'Number': 'Sing'}),id=67), Annotation(382,385,MISC,features=Features({}),id=75), Annotation(385,386,Token,features=Features({'id': 15, 'text': ')', 'lemma': ')', 'upos': 'PUNCT', 'xpos': '$(', 'head': 67, 'deprel': 'punct', 'ner': 'O'}),id=68), Annotation(387,399,Token,features=Features({'id': 16, 'text': 'gebräuchlich', 'lemma': 'gebräuchlich', 'upos': 'ADJ', 'xpos': 'ADJD', 'head': 71, 'deprel': 'root', 'ner': 'O'}),id=69), Annotation(399,400,Token,features=Features({'id': 17, 'text': '.', 'lemma': '.', 'upos': 'PUNCT', 'xpos': '$.', 'head': 69, 'deprel': 'punct', 'ner': 'O'}),id=70)])})"
      ]
     },
     "metadata": {},
     "output_type": "display_data"
    }
   ],
   "source": [
    "# Show the annotated document\n",
    "display(doc)"
   ]
  },
  {
   "cell_type": "markdown",
   "metadata": {},
   "source": []
  }
 ],
 "metadata": {
  "kernelspec": {
   "display_name": "Python gatenlp",
   "language": "python",
   "name": "gatenlp"
  },
  "language_info": {
   "codemirror_mode": {
    "name": "ipython",
    "version": 3
   },
   "file_extension": ".py",
   "mimetype": "text/x-python",
   "name": "python",
   "nbconvert_exporter": "python",
   "pygments_lexer": "ipython3",
   "version": "3.7.7"
  }
 },
 "nbformat": 4,
 "nbformat_minor": 4
}
