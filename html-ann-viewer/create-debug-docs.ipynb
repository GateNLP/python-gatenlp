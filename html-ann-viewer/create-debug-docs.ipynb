{
 "cells": [
  {
   "cell_type": "markdown",
   "metadata": {},
   "source": [
    "# create-debug-docs\n",
    "\n",
    "## Create documents to debug the HTML viewer\n",
    "\n"
   ]
  },
  {
   "cell_type": "code",
   "execution_count": 2,
   "metadata": {},
   "outputs": [],
   "source": [
    "from gatenlp import Document"
   ]
  },
  {
   "cell_type": "code",
   "execution_count": 16,
   "metadata": {},
   "outputs": [],
   "source": [
    "doc1 = Document.load(\"debug_doc1.bdocjs\")"
   ]
  },
  {
   "cell_type": "code",
   "execution_count": 17,
   "metadata": {},
   "outputs": [
    {
     "data": {
      "text/plain": [
       "['', 'Set2']"
      ]
     },
     "execution_count": 17,
     "metadata": {},
     "output_type": "execute_result"
    }
   ],
   "source": [
    "doc1.annset_names()"
   ]
  },
  {
   "cell_type": "code",
   "execution_count": 18,
   "metadata": {},
   "outputs": [
    {
     "data": {
      "text/html": [
       "<div><style>#FIEWQNLYNB-wrapper { color: black !important; }</style>\n",
       "<div id=\"FIEWQNLYNB-wrapper\">\n",
       "\n",
       "<div>\n",
       "<style>\n",
       "#FIEWQNLYNB-content {\n",
       "    width: 100%;\n",
       "    height: 100%;\n",
       "    font-family: -apple-system, BlinkMacSystemFont, 'Segoe UI', Roboto, Oxygen, Ubuntu, Cantarell, 'Open Sans', 'Helvetica Neue', sans-serif;\n",
       "}\n",
       "\n",
       ".FIEWQNLYNB-row {\n",
       "    width: 100%;\n",
       "    display: flex;\n",
       "    flex-direction: row;\n",
       "    flex-wrap: nowrap;\n",
       "}\n",
       "\n",
       ".FIEWQNLYNB-col {\n",
       "    border: 1px solid grey;\n",
       "    display: inline-block;\n",
       "    min-width: 200px;\n",
       "    padding: 5px;\n",
       "    /* white-space: normal; */\n",
       "    /* white-space: pre-wrap; */\n",
       "    overflow-y: auto;\n",
       "}\n",
       "\n",
       ".FIEWQNLYNB-hdr {\n",
       "    font-size: 1.2rem;\n",
       "    font-weight: bold;\n",
       "}\n",
       "\n",
       ".FIEWQNLYNB-label {\n",
       "    margin-bottom: -15px;\n",
       "    display: block;\n",
       "}\n",
       "\n",
       ".FIEWQNLYNB-input {\n",
       "    vertical-align: middle;\n",
       "    position: relative;\n",
       "    *overflow: hidden;\n",
       "}\n",
       "\n",
       "#FIEWQNLYNB-popup {\n",
       "    display: none;\n",
       "    color: black;\n",
       "    position: absolute;\n",
       "    margin-top: 10%;\n",
       "    margin-left: 10%;\n",
       "    background: #aaaaaa;\n",
       "    width: 60%;\n",
       "    height: 60%;\n",
       "    z-index: 50;\n",
       "    padding: 25px 25px 25px;\n",
       "    border: 1px solid black;\n",
       "    overflow: auto;\n",
       "}\n",
       "\n",
       ".FIEWQNLYNB-selection {\n",
       "    margin-bottom: 5px;\n",
       "}\n",
       "\n",
       ".FIEWQNLYNB-featuretable {\n",
       "    margin-top: 10px;\n",
       "}\n",
       "\n",
       ".FIEWQNLYNB-fname {\n",
       "    text-align: left !important;\n",
       "    font-weight: bold;\n",
       "    margin-right: 10px;\n",
       "}\n",
       ".FIEWQNLYNB-fvalue {\n",
       "    text-align: left !important;\n",
       "}\n",
       "</style>\n",
       "  <div id=\"FIEWQNLYNB-content\">\n",
       "        <div id=\"FIEWQNLYNB-popup\" style=\"display: none;\">\n",
       "        </div>\n",
       "        <div class=\"FIEWQNLYNB-row\" id=\"FIEWQNLYNB-row1\" style=\"height:67vh; min-height:100px;\">\n",
       "            <div id=\"FIEWQNLYNB-text-wrapper\" class=\"FIEWQNLYNB-col\" style=\"width:70%;\">\n",
       "                <div class=\"FIEWQNLYNB-hdr\" id=\"FIEWQNLYNB-dochdr\"></div>\n",
       "                <div id=\"FIEWQNLYNB-text\">\n",
       "                </div>\n",
       "            </div>\n",
       "            <div id=\"FIEWQNLYNB-chooser\" class=\"FIEWQNLYNB-col\" style=\"width:30%; border-left-width: 0px;\"></div>\n",
       "        </div>\n",
       "        <div class=\"FIEWQNLYNB-row\" id=\"FIEWQNLYNB-row2\" style=\"height:30vh; min-height: 100px;\">\n",
       "            <div id=\"FIEWQNLYNB-details\" class=\"FIEWQNLYNB-col\" style=\"width:100%; border-top-width: 0px;\">\n",
       "            </div>\n",
       "        </div>\n",
       "    </div>\n",
       "    <script src=\"https://ajax.googleapis.com/ajax/libs/jquery/3.5.1/jquery.min.js\"></script><script src=\"https://unpkg.com/gatenlp-ann-viewer@1.0.10/gatenlp-ann-viewer.js\"></script>\n",
       "    <script type=\"application/json\" id=\"FIEWQNLYNB-data\">\n",
       "    {\"annotation_sets\": {\"\": {\"name\": \"detached-from:detached-from:\", \"annotations\": [{\"type\": \"Token\", \"start\": 0, \"end\": 1, \"id\": 0, \"features\": {\"orth\": \"upperInitial\", \"string\": \"A\", \"kind\": \"word\", \"length\": \"1\", \"category\": \"DT\"}}, {\"type\": \"SpaceToken\", \"start\": 1, \"end\": 2, \"id\": 1, \"features\": {\"string\": \" \", \"kind\": \"space\", \"length\": \"1\"}}, {\"type\": \"Token\", \"start\": 2, \"end\": 8, \"id\": 2, \"features\": {\"orth\": \"lowercase\", \"string\": \"simple\", \"kind\": \"word\", \"length\": \"6\", \"category\": \"JJ\"}}, {\"type\": \"SpaceToken\", \"start\": 8, \"end\": 9, \"id\": 3, \"features\": {\"string\": \" \", \"kind\": \"space\", \"length\": \"1\"}}, {\"type\": \"Token\", \"start\": 9, \"end\": 13, \"id\": 4, \"features\": {\"orth\": \"lowercase\", \"string\": \"test\", \"kind\": \"word\", \"length\": \"4\", \"category\": \"NN\"}}, {\"type\": \"SpaceToken\", \"start\": 13, \"end\": 14, \"id\": 5, \"features\": {\"string\": \" \", \"kind\": \"space\", \"length\": \"1\"}}, {\"type\": \"Token\", \"start\": 14, \"end\": 22, \"id\": 6, \"features\": {\"orth\": \"lowercase\", \"string\": \"document\", \"kind\": \"word\", \"length\": \"8\", \"category\": \"NN\"}}, {\"type\": \"Token\", \"start\": 22, \"end\": 23, \"id\": 7, \"features\": {\"string\": \".\", \"kind\": \"punctuation\", \"length\": \"1\", \"category\": \".\"}}, {\"type\": \"Token\", \"start\": 24, \"end\": 26, \"id\": 9, \"features\": {\"orth\": \"upperInitial\", \"string\": \"It\", \"kind\": \"word\", \"length\": \"2\", \"category\": \"PRP\"}}, {\"type\": \"SpaceToken\", \"start\": 26, \"end\": 27, \"id\": 10, \"features\": {\"string\": \" \", \"kind\": \"space\", \"length\": \"1\"}}, {\"type\": \"Token\", \"start\": 27, \"end\": 35, \"id\": 11, \"features\": {\"orth\": \"lowercase\", \"string\": \"contains\", \"kind\": \"word\", \"length\": \"8\", \"category\": \"VBZ\"}}, {\"type\": \"SpaceToken\", \"start\": 35, \"end\": 36, \"id\": 12, \"features\": {\"string\": \" \", \"kind\": \"space\", \"length\": \"1\"}}, {\"type\": \"Token\", \"start\": 36, \"end\": 40, \"id\": 13, \"features\": {\"orth\": \"lowercase\", \"string\": \"some\", \"kind\": \"word\", \"length\": \"4\", \"category\": \"DT\"}}, {\"type\": \"SpaceToken\", \"start\": 40, \"end\": 41, \"id\": 14, \"features\": {\"string\": \" \", \"kind\": \"space\", \"length\": \"1\"}}, {\"type\": \"Token\", \"start\": 41, \"end\": 47, \"id\": 15, \"features\": {\"orth\": \"lowercase\", \"string\": \"emojis\", \"kind\": \"word\", \"length\": \"6\", \"category\": \"NNS\"}}, {\"type\": \"Token\", \"start\": 47, \"end\": 48, \"id\": 16, \"features\": {\"string\": \":\", \"kind\": \"punctuation\", \"length\": \"1\", \"category\": \":\"}}, {\"type\": \"SpaceToken\", \"start\": 48, \"end\": 49, \"id\": 17, \"features\": {\"string\": \" \", \"kind\": \"space\", \"length\": \"1\"}}, {\"type\": \"Token\", \"start\": 49, \"end\": 51, \"id\": 18, \"features\": {\"string\": \"\\ud83d\\udca9\", \"kind\": \"symbol\", \"length\": \"2\", \"category\": \"NN\"}}, {\"type\": \"SpaceToken\", \"start\": 51, \"end\": 52, \"id\": 19, \"features\": {\"string\": \" \", \"kind\": \"space\", \"length\": \"1\"}}, {\"type\": \"Token\", \"start\": 52, \"end\": 55, \"id\": 20, \"features\": {\"orth\": \"lowercase\", \"string\": \"and\", \"kind\": \"word\", \"length\": \"3\", \"category\": \"CC\"}}, {\"type\": \"SpaceToken\", \"start\": 55, \"end\": 56, \"id\": 21, \"features\": {\"string\": \" \", \"kind\": \"space\", \"length\": \"1\"}}, {\"type\": \"Token\", \"start\": 56, \"end\": 58, \"id\": 22, \"features\": {\"string\": \"\\ud83d\\udc35\", \"kind\": \"symbol\", \"length\": \"2\", \"category\": \"NN\"}}, {\"type\": \"Token\", \"start\": 59, \"end\": 62, \"id\": 24, \"features\": {\"orth\": \"lowercase\", \"string\": \"and\", \"kind\": \"word\", \"length\": \"3\", \"category\": \"CC\"}}, {\"type\": \"SpaceToken\", \"start\": 62, \"end\": 63, \"id\": 25, \"features\": {\"string\": \" \", \"kind\": \"space\", \"length\": \"1\"}}, {\"type\": \"Token\", \"start\": 63, \"end\": 67, \"id\": 26, \"features\": {\"orth\": \"lowercase\", \"string\": \"also\", \"kind\": \"word\", \"length\": \"4\", \"category\": \"RB\"}}, {\"type\": \"SpaceToken\", \"start\": 67, \"end\": 68, \"id\": 27, \"features\": {\"string\": \" \", \"kind\": \"space\", \"length\": \"1\"}}, {\"type\": \"Token\", \"start\": 68, \"end\": 72, \"id\": 28, \"features\": {\"orth\": \"lowercase\", \"string\": \"some\", \"kind\": \"word\", \"length\": \"4\", \"category\": \"DT\"}}, {\"type\": \"SpaceToken\", \"start\": 72, \"end\": 73, \"id\": 29, \"features\": {\"string\": \" \", \"kind\": \"space\", \"length\": \"1\"}}, {\"type\": \"Token\", \"start\": 73, \"end\": 76, \"id\": 30, \"features\": {\"orth\": \"lowercase\", \"string\": \"non\", \"kind\": \"word\", \"length\": \"3\", \"category\": \"NN\"}}, {\"type\": \"SpaceToken\", \"start\": 76, \"end\": 77, \"id\": 31, \"features\": {\"string\": \" \", \"kind\": \"space\", \"length\": \"1\"}}, {\"type\": \"Token\", \"start\": 77, \"end\": 84, \"id\": 32, \"features\": {\"orth\": \"upperInitial\", \"string\": \"English\", \"kind\": \"word\", \"length\": \"7\", \"category\": \"NNP\"}}, {\"type\": \"SpaceToken\", \"start\": 84, \"end\": 85, \"id\": 33, \"features\": {\"string\": \" \", \"kind\": \"space\", \"length\": \"1\"}}, {\"type\": \"Token\", \"start\": 85, \"end\": 89, \"id\": 34, \"features\": {\"orth\": \"lowercase\", \"string\": \"text\", \"kind\": \"word\", \"length\": \"4\", \"category\": \"NN\"}}, {\"type\": \"Token\", \"start\": 89, \"end\": 90, \"id\": 35, \"features\": {\"string\": \":\", \"kind\": \"punctuation\", \"length\": \"1\", \"category\": \":\"}}, {\"type\": \"SpaceToken\", \"start\": 90, \"end\": 91, \"id\": 36, \"features\": {\"string\": \" \", \"kind\": \"space\", \"length\": \"1\"}}, {\"type\": \"Token\", \"start\": 92, \"end\": 98, \"id\": 38, \"features\": {\"orth\": \"upperInitial\", \"string\": \"Korean\", \"kind\": \"word\", \"length\": \"6\", \"category\": \"JJ\"}}, {\"type\": \"SpaceToken\", \"start\": 98, \"end\": 99, \"id\": 39, \"features\": {\"string\": \" \", \"kind\": \"space\", \"length\": \"1\"}}, {\"type\": \"Token\", \"start\": 99, \"end\": 101, \"id\": 40, \"features\": {\"string\": \"\\ud55c\\uae00\", \"kind\": \"word\", \"length\": \"2\", \"type\": \"other\", \"category\": \"NN\"}}, {\"type\": \"SpaceToken\", \"start\": 101, \"end\": 102, \"id\": 41, \"features\": {\"string\": \" \", \"kind\": \"space\", \"length\": \"1\"}}, {\"type\": \"Token\", \"start\": 102, \"end\": 105, \"id\": 42, \"features\": {\"orth\": \"lowercase\", \"string\": \"and\", \"kind\": \"word\", \"length\": \"3\", \"category\": \"CC\"}}, {\"type\": \"SpaceToken\", \"start\": 105, \"end\": 106, \"id\": 43, \"features\": {\"string\": \" \", \"kind\": \"space\", \"length\": \"1\"}}, {\"type\": \"Token\", \"start\": 106, \"end\": 111, \"id\": 44, \"features\": {\"orth\": \"upperInitial\", \"string\": \"Farsi\", \"kind\": \"word\", \"length\": \"5\", \"category\": \"NNP\"}}, {\"type\": \"Token\", \"start\": 111, \"end\": 112, \"id\": 45, \"features\": {\"string\": \":\", \"kind\": \"punctuation\", \"length\": \"1\", \"category\": \":\"}}, {\"type\": \"SpaceToken\", \"start\": 112, \"end\": 113, \"id\": 46, \"features\": {\"string\": \" \", \"kind\": \"space\", \"length\": \"1\"}}, {\"type\": \"Token\", \"start\": 113, \"end\": 118, \"id\": 47, \"features\": {\"string\": \"\\u0641\\u0627\\u0631\\u0633\\u06cc\", \"kind\": \"word\", \"length\": \"5\", \"type\": \"other\", \"category\": \"NN\"}}, {\"type\": \"Token\", \"start\": 119, \"end\": 120, \"id\": 49, \"features\": {\"orth\": \"upperInitial\", \"string\": \"A\", \"kind\": \"word\", \"length\": \"1\", \"category\": \"DT\"}}, {\"type\": \"SpaceToken\", \"start\": 120, \"end\": 121, \"id\": 50, \"features\": {\"string\": \" \", \"kind\": \"space\", \"length\": \"1\"}}, {\"type\": \"Token\", \"start\": 121, \"end\": 128, \"id\": 51, \"features\": {\"orth\": \"lowercase\", \"string\": \"sentece\", \"kind\": \"word\", \"length\": \"7\", \"category\": \"NN\"}}, {\"type\": \"SpaceToken\", \"start\": 128, \"end\": 129, \"id\": 52, \"features\": {\"string\": \" \", \"kind\": \"space\", \"length\": \"1\"}}, {\"type\": \"Token\", \"start\": 129, \"end\": 133, \"id\": 53, \"features\": {\"orth\": \"lowercase\", \"string\": \"that\", \"kind\": \"word\", \"length\": \"4\", \"category\": \"WDT\"}}, {\"type\": \"SpaceToken\", \"start\": 133, \"end\": 134, \"id\": 54, \"features\": {\"string\": \" \", \"kind\": \"space\", \"length\": \"1\"}}, {\"type\": \"Token\", \"start\": 134, \"end\": 142, \"id\": 55, \"features\": {\"orth\": \"lowercase\", \"string\": \"mentions\", \"kind\": \"word\", \"length\": \"8\", \"category\": \"VBZ\"}}, {\"type\": \"SpaceToken\", \"start\": 142, \"end\": 143, \"id\": 56, \"features\": {\"string\": \" \", \"kind\": \"space\", \"length\": \"1\"}}, {\"type\": \"Token\", \"start\": 143, \"end\": 149, \"id\": 57, \"features\": {\"orth\": \"upperInitial\", \"string\": \"Barack\", \"kind\": \"word\", \"length\": \"6\", \"category\": \"NNP\"}}, {\"type\": \"SpaceToken\", \"start\": 149, \"end\": 150, \"id\": 58, \"features\": {\"string\": \" \", \"kind\": \"space\", \"length\": \"1\"}}, {\"type\": \"Token\", \"start\": 150, \"end\": 155, \"id\": 59, \"features\": {\"orth\": \"upperInitial\", \"string\": \"Obama\", \"kind\": \"word\", \"length\": \"5\", \"category\": \"NNP\"}}, {\"type\": \"SpaceToken\", \"start\": 155, \"end\": 156, \"id\": 60, \"features\": {\"string\": \" \", \"kind\": \"space\", \"length\": \"1\"}}, {\"type\": \"Token\", \"start\": 156, \"end\": 159, \"id\": 61, \"features\": {\"orth\": \"lowercase\", \"string\": \"and\", \"kind\": \"word\", \"length\": \"3\", \"category\": \"CC\"}}, {\"type\": \"SpaceToken\", \"start\": 159, \"end\": 160, \"id\": 62, \"features\": {\"string\": \" \", \"kind\": \"space\", \"length\": \"1\"}}, {\"type\": \"Token\", \"start\": 160, \"end\": 163, \"id\": 63, \"features\": {\"orth\": \"upperInitial\", \"string\": \"New\", \"kind\": \"word\", \"length\": \"3\", \"category\": \"NNP\"}}, {\"type\": \"SpaceToken\", \"start\": 163, \"end\": 164, \"id\": 64, \"features\": {\"string\": \" \", \"kind\": \"space\", \"length\": \"1\"}}, {\"type\": \"Token\", \"start\": 164, \"end\": 168, \"id\": 65, \"features\": {\"orth\": \"upperInitial\", \"string\": \"York\", \"kind\": \"word\", \"length\": \"4\", \"category\": \"NNP\"}}, {\"type\": \"SpaceToken\", \"start\": 168, \"end\": 169, \"id\": 66, \"features\": {\"string\": \" \", \"kind\": \"space\", \"length\": \"1\"}}, {\"type\": \"Token\", \"start\": 169, \"end\": 173, \"id\": 67, \"features\": {\"orth\": \"upperInitial\", \"string\": \"City\", \"kind\": \"word\", \"length\": \"4\", \"category\": \"NNP\"}}, {\"type\": \"SpaceToken\", \"start\": 173, \"end\": 174, \"id\": 68, \"features\": {\"string\": \" \", \"kind\": \"space\", \"length\": \"1\"}}, {\"type\": \"Token\", \"start\": 174, \"end\": 177, \"id\": 69, \"features\": {\"orth\": \"lowercase\", \"string\": \"and\", \"kind\": \"word\", \"length\": \"3\", \"category\": \"CC\"}}, {\"type\": \"SpaceToken\", \"start\": 177, \"end\": 178, \"id\": 70, \"features\": {\"string\": \" \", \"kind\": \"space\", \"length\": \"1\"}}, {\"type\": \"Token\", \"start\": 178, \"end\": 187, \"id\": 71, \"features\": {\"orth\": \"upperInitial\", \"string\": \"Microsoft\", \"kind\": \"word\", \"length\": \"9\", \"category\": \"NNP\"}}, {\"type\": \"Token\", \"start\": 187, \"end\": 188, \"id\": 72, \"features\": {\"string\": \".\", \"kind\": \"punctuation\", \"length\": \"1\", \"category\": \".\"}}, {\"type\": \"SpaceToken\", \"start\": 23, \"end\": 24, \"id\": 73, \"features\": {\"string\": \"\\n\", \"kind\": \"control\", \"length\": \"1\"}}, {\"type\": \"SpaceToken\", \"start\": 58, \"end\": 59, \"id\": 74, \"features\": {\"string\": \"\\n\", \"kind\": \"control\", \"length\": \"1\"}}, {\"type\": \"SpaceToken\", \"start\": 91, \"end\": 92, \"id\": 75, \"features\": {\"string\": \"\\n\", \"kind\": \"control\", \"length\": \"1\"}}, {\"type\": \"SpaceToken\", \"start\": 118, \"end\": 119, \"id\": 76, \"features\": {\"string\": \"\\n\", \"kind\": \"control\", \"length\": \"1\"}}, {\"type\": \"Lookup\", \"start\": 24, \"end\": 26, \"id\": 77, \"features\": {\"majorType\": \"stop\"}}, {\"type\": \"Lookup\", \"start\": 77, \"end\": 84, \"id\": 78, \"features\": {\"majorType\": \"country_adj\", \"country\": \"England\", \"minorType\": \"COUNTRYADJ\"}}, {\"type\": \"Lookup\", \"start\": 92, \"end\": 98, \"id\": 79, \"features\": {\"majorType\": \"country_adj\", \"minorType\": \"COUNTRYADJ\"}}, {\"type\": \"Lookup\", \"start\": 143, \"end\": 155, \"id\": 80, \"features\": {\"majorType\": \"person_full\", \"gender\": \"male\"}}, {\"type\": \"Lookup\", \"start\": 150, \"end\": 155, \"id\": 81, \"features\": {\"majorType\": \"person_full\", \"gender\": \"male\"}}, {\"type\": \"Lookup\", \"start\": 160, \"end\": 173, \"id\": 82, \"features\": {\"majorType\": \"location\", \"minorType\": \"city\"}}, {\"type\": \"Lookup\", \"start\": 164, \"end\": 168, \"id\": 83, \"features\": {\"majorType\": \"location\", \"minorType\": \"city\"}}, {\"type\": \"Lookup\", \"start\": 169, \"end\": 173, \"id\": 84, \"features\": {\"majorType\": \"location\", \"minorType\": \"city\"}}, {\"type\": \"Lookup\", \"start\": 169, \"end\": 173, \"id\": 85, \"features\": {\"majorType\": \"loc_key\", \"minorType\": \"post\"}}, {\"type\": \"Lookup\", \"start\": 178, \"end\": 187, \"id\": 86, \"features\": {\"majorType\": \"organization\", \"minorType\": \"company\"}}, {\"type\": \"Split\", \"start\": 22, \"end\": 23, \"id\": 87, \"features\": {\"kind\": \"internal\"}}, {\"type\": \"Split\", \"start\": 23, \"end\": 24, \"id\": 88, \"features\": {\"kind\": \"external\"}}, {\"type\": \"Split\", \"start\": 58, \"end\": 59, \"id\": 89, \"features\": {\"kind\": \"external\"}}, {\"type\": \"Split\", \"start\": 91, \"end\": 92, \"id\": 90, \"features\": {\"kind\": \"external\"}}, {\"type\": \"Split\", \"start\": 118, \"end\": 119, \"id\": 91, \"features\": {\"kind\": \"external\"}}, {\"type\": \"Split\", \"start\": 187, \"end\": 188, \"id\": 92, \"features\": {\"kind\": \"internal\"}}, {\"type\": \"Sentence\", \"start\": 0, \"end\": 23, \"id\": 93, \"features\": {}}, {\"type\": \"Sentence\", \"start\": 24, \"end\": 58, \"id\": 94, \"features\": {}}, {\"type\": \"Sentence\", \"start\": 59, \"end\": 90, \"id\": 95, \"features\": {}}, {\"type\": \"Sentence\", \"start\": 92, \"end\": 118, \"id\": 96, \"features\": {}}, {\"type\": \"Sentence\", \"start\": 119, \"end\": 188, \"id\": 97, \"features\": {}}, {\"type\": \"Person\", \"start\": 143, \"end\": 155, \"id\": 116, \"features\": {\"firstName\": \"Barack\", \"ruleFinal\": \"PersonFinal\", \"gender\": \"male\", \"surname\": \"Obama\", \"kind\": \"fullName\", \"rule\": \"GazPerson\"}}, {\"type\": \"Location\", \"start\": 160, \"end\": 173, \"id\": 117, \"features\": {\"ruleFinal\": \"LocFinal\", \"rule\": \"Location1\", \"locType\": \"city\"}}, {\"type\": \"Organization\", \"start\": 178, \"end\": 187, \"id\": 118, \"features\": {\"orgType\": \"company\", \"ruleFinal\": \"OrgFinal\", \"rule\": \"GazOrganization\"}}, {\"type\": \"Unknown\", \"start\": 106, \"end\": 111, \"id\": 119, \"features\": {\"kind\": \"PN\", \"rule\": \"Unknown\"}}, {\"type\": \"Weird\", \"start\": 100, \"end\": 116, \"id\": 120, \"features\": {\"feature\": \"value\"}}, {\"type\": \"Weird\", \"start\": 105, \"end\": 125, \"id\": 121, \"features\": {\"nr\": \"2\"}}], \"next_annid\": 122}, \"Set2\": {\"name\": \"detached-from:detached-from:Set2\", \"annotations\": [{\"type\": \"Type1\", \"start\": 5, \"end\": 35, \"id\": 122, \"features\": {}}, {\"type\": \"Type1\", \"start\": 39, \"end\": 47, \"id\": 123, \"features\": {}}, {\"type\": \"Type2\", \"start\": 2, \"end\": 74, \"id\": 124, \"features\": {}}], \"next_annid\": 125}}, \"text\": \"A simple test document.\\nIt contains some emojis: \\ud83d\\udca9 and \\ud83d\\udc35\\nand also some non English text: \\nKorean \\ud55c\\uae00 and Farsi: \\u0641\\u0627\\u0631\\u0633\\u06cc\\nA sentece that mentions Barack Obama and New York City and Microsoft.\", \"features\": {\"gate.SourceURL\": \"created from String\"}, \"offset_type\": \"j\", \"name\": \"\"}\n",
       "    </script>\n",
       "    <script type=\"text/javascript\">\n",
       "        gatenlp_run(\"FIEWQNLYNB-\");\n",
       "    </script>\n",
       "  </div>\n",
       "\n",
       "</div></div>"
      ],
      "text/plain": [
       "Document(A simple test document.\n",
       "It contains some emojis: 💩 and 🐵\n",
       "and also some non English text: \n",
       "Korean 한글 and Farsi: فارسی\n",
       "A sentece that mentions Barack Obama and New York City and Microsoft.,features=Features({'gate.SourceURL': 'created from String'}),anns={'': AnnotationSet([Annotation(0,1,Token,features=Features({'orth': 'upperInitial', 'string': 'A', 'kind': 'word', 'length': '1', 'category': 'DT'}),id=0), Annotation(0,23,Sentence,features=Features({}),id=93), Annotation(1,2,SpaceToken,features=Features({'string': ' ', 'kind': 'space', 'length': '1'}),id=1), Annotation(2,8,Token,features=Features({'orth': 'lowercase', 'string': 'simple', 'kind': 'word', 'length': '6', 'category': 'JJ'}),id=2), Annotation(8,9,SpaceToken,features=Features({'string': ' ', 'kind': 'space', 'length': '1'}),id=3), Annotation(9,13,Token,features=Features({'orth': 'lowercase', 'string': 'test', 'kind': 'word', 'length': '4', 'category': 'NN'}),id=4), Annotation(13,14,SpaceToken,features=Features({'string': ' ', 'kind': 'space', 'length': '1'}),id=5), Annotation(14,22,Token,features=Features({'orth': 'lowercase', 'string': 'document', 'kind': 'word', 'length': '8', 'category': 'NN'}),id=6), Annotation(22,23,Token,features=Features({'string': '.', 'kind': 'punctuation', 'length': '1', 'category': '.'}),id=7), Annotation(22,23,Split,features=Features({'kind': 'internal'}),id=87), Annotation(23,24,SpaceToken,features=Features({'string': '\\n', 'kind': 'control', 'length': '1'}),id=73), Annotation(23,24,Split,features=Features({'kind': 'external'}),id=88), Annotation(24,26,Token,features=Features({'orth': 'upperInitial', 'string': 'It', 'kind': 'word', 'length': '2', 'category': 'PRP'}),id=9), Annotation(24,26,Lookup,features=Features({'majorType': 'stop'}),id=77), Annotation(24,56,Sentence,features=Features({}),id=94), Annotation(26,27,SpaceToken,features=Features({'string': ' ', 'kind': 'space', 'length': '1'}),id=10), Annotation(27,35,Token,features=Features({'orth': 'lowercase', 'string': 'contains', 'kind': 'word', 'length': '8', 'category': 'VBZ'}),id=11), Annotation(35,36,SpaceToken,features=Features({'string': ' ', 'kind': 'space', 'length': '1'}),id=12), Annotation(36,40,Token,features=Features({'orth': 'lowercase', 'string': 'some', 'kind': 'word', 'length': '4', 'category': 'DT'}),id=13), Annotation(40,41,SpaceToken,features=Features({'string': ' ', 'kind': 'space', 'length': '1'}),id=14), Annotation(41,47,Token,features=Features({'orth': 'lowercase', 'string': 'emojis', 'kind': 'word', 'length': '6', 'category': 'NNS'}),id=15), Annotation(47,48,Token,features=Features({'string': ':', 'kind': 'punctuation', 'length': '1', 'category': ':'}),id=16), Annotation(48,49,SpaceToken,features=Features({'string': ' ', 'kind': 'space', 'length': '1'}),id=17), Annotation(49,50,Token,features=Features({'string': '💩', 'kind': 'symbol', 'length': '2', 'category': 'NN'}),id=18), Annotation(50,51,SpaceToken,features=Features({'string': ' ', 'kind': 'space', 'length': '1'}),id=19), Annotation(51,54,Token,features=Features({'orth': 'lowercase', 'string': 'and', 'kind': 'word', 'length': '3', 'category': 'CC'}),id=20), Annotation(54,55,SpaceToken,features=Features({'string': ' ', 'kind': 'space', 'length': '1'}),id=21), Annotation(55,56,Token,features=Features({'string': '🐵', 'kind': 'symbol', 'length': '2', 'category': 'NN'}),id=22), Annotation(56,57,SpaceToken,features=Features({'string': '\\n', 'kind': 'control', 'length': '1'}),id=74), Annotation(56,57,Split,features=Features({'kind': 'external'}),id=89), Annotation(57,60,Token,features=Features({'orth': 'lowercase', 'string': 'and', 'kind': 'word', 'length': '3', 'category': 'CC'}),id=24), Annotation(57,88,Sentence,features=Features({}),id=95), Annotation(60,61,SpaceToken,features=Features({'string': ' ', 'kind': 'space', 'length': '1'}),id=25), Annotation(61,65,Token,features=Features({'orth': 'lowercase', 'string': 'also', 'kind': 'word', 'length': '4', 'category': 'RB'}),id=26), Annotation(65,66,SpaceToken,features=Features({'string': ' ', 'kind': 'space', 'length': '1'}),id=27), Annotation(66,70,Token,features=Features({'orth': 'lowercase', 'string': 'some', 'kind': 'word', 'length': '4', 'category': 'DT'}),id=28), Annotation(70,71,SpaceToken,features=Features({'string': ' ', 'kind': 'space', 'length': '1'}),id=29), Annotation(71,74,Token,features=Features({'orth': 'lowercase', 'string': 'non', 'kind': 'word', 'length': '3', 'category': 'NN'}),id=30), Annotation(74,75,SpaceToken,features=Features({'string': ' ', 'kind': 'space', 'length': '1'}),id=31), Annotation(75,82,Token,features=Features({'orth': 'upperInitial', 'string': 'English', 'kind': 'word', 'length': '7', 'category': 'NNP'}),id=32), Annotation(75,82,Lookup,features=Features({'majorType': 'country_adj', 'country': 'England', 'minorType': 'COUNTRYADJ'}),id=78), Annotation(82,83,SpaceToken,features=Features({'string': ' ', 'kind': 'space', 'length': '1'}),id=33), Annotation(83,87,Token,features=Features({'orth': 'lowercase', 'string': 'text', 'kind': 'word', 'length': '4', 'category': 'NN'}),id=34), Annotation(87,88,Token,features=Features({'string': ':', 'kind': 'punctuation', 'length': '1', 'category': ':'}),id=35), Annotation(88,89,SpaceToken,features=Features({'string': ' ', 'kind': 'space', 'length': '1'}),id=36), Annotation(89,90,SpaceToken,features=Features({'string': '\\n', 'kind': 'control', 'length': '1'}),id=75), Annotation(89,90,Split,features=Features({'kind': 'external'}),id=90), Annotation(90,96,Token,features=Features({'orth': 'upperInitial', 'string': 'Korean', 'kind': 'word', 'length': '6', 'category': 'JJ'}),id=38), Annotation(90,96,Lookup,features=Features({'majorType': 'country_adj', 'minorType': 'COUNTRYADJ'}),id=79), Annotation(90,116,Sentence,features=Features({}),id=96), Annotation(96,97,SpaceToken,features=Features({'string': ' ', 'kind': 'space', 'length': '1'}),id=39), Annotation(97,99,Token,features=Features({'string': '한글', 'kind': 'word', 'length': '2', 'type': 'other', 'category': 'NN'}),id=40), Annotation(98,114,Weird,features=Features({'feature': 'value'}),id=120), Annotation(99,100,SpaceToken,features=Features({'string': ' ', 'kind': 'space', 'length': '1'}),id=41), Annotation(100,103,Token,features=Features({'orth': 'lowercase', 'string': 'and', 'kind': 'word', 'length': '3', 'category': 'CC'}),id=42), Annotation(103,104,SpaceToken,features=Features({'string': ' ', 'kind': 'space', 'length': '1'}),id=43), Annotation(103,123,Weird,features=Features({'nr': '2'}),id=121), Annotation(104,109,Token,features=Features({'orth': 'upperInitial', 'string': 'Farsi', 'kind': 'word', 'length': '5', 'category': 'NNP'}),id=44), Annotation(104,109,Unknown,features=Features({'kind': 'PN', 'rule': 'Unknown'}),id=119), Annotation(109,110,Token,features=Features({'string': ':', 'kind': 'punctuation', 'length': '1', 'category': ':'}),id=45), Annotation(110,111,SpaceToken,features=Features({'string': ' ', 'kind': 'space', 'length': '1'}),id=46), Annotation(111,116,Token,features=Features({'string': 'فارسی', 'kind': 'word', 'length': '5', 'type': 'other', 'category': 'NN'}),id=47), Annotation(116,117,SpaceToken,features=Features({'string': '\\n', 'kind': 'control', 'length': '1'}),id=76), Annotation(116,117,Split,features=Features({'kind': 'external'}),id=91), Annotation(117,118,Token,features=Features({'orth': 'upperInitial', 'string': 'A', 'kind': 'word', 'length': '1', 'category': 'DT'}),id=49), Annotation(117,186,Sentence,features=Features({}),id=97), Annotation(118,119,SpaceToken,features=Features({'string': ' ', 'kind': 'space', 'length': '1'}),id=50), Annotation(119,126,Token,features=Features({'orth': 'lowercase', 'string': 'sentece', 'kind': 'word', 'length': '7', 'category': 'NN'}),id=51), Annotation(126,127,SpaceToken,features=Features({'string': ' ', 'kind': 'space', 'length': '1'}),id=52), Annotation(127,131,Token,features=Features({'orth': 'lowercase', 'string': 'that', 'kind': 'word', 'length': '4', 'category': 'WDT'}),id=53), Annotation(131,132,SpaceToken,features=Features({'string': ' ', 'kind': 'space', 'length': '1'}),id=54), Annotation(132,140,Token,features=Features({'orth': 'lowercase', 'string': 'mentions', 'kind': 'word', 'length': '8', 'category': 'VBZ'}),id=55), Annotation(140,141,SpaceToken,features=Features({'string': ' ', 'kind': 'space', 'length': '1'}),id=56), Annotation(141,147,Token,features=Features({'orth': 'upperInitial', 'string': 'Barack', 'kind': 'word', 'length': '6', 'category': 'NNP'}),id=57), Annotation(141,153,Lookup,features=Features({'majorType': 'person_full', 'gender': 'male'}),id=80), Annotation(141,153,Person,features=Features({'firstName': 'Barack', 'ruleFinal': 'PersonFinal', 'gender': 'male', 'surname': 'Obama', 'kind': 'fullName', 'rule': 'GazPerson'}),id=116), Annotation(147,148,SpaceToken,features=Features({'string': ' ', 'kind': 'space', 'length': '1'}),id=58), Annotation(148,153,Token,features=Features({'orth': 'upperInitial', 'string': 'Obama', 'kind': 'word', 'length': '5', 'category': 'NNP'}),id=59), Annotation(148,153,Lookup,features=Features({'majorType': 'person_full', 'gender': 'male'}),id=81), Annotation(153,154,SpaceToken,features=Features({'string': ' ', 'kind': 'space', 'length': '1'}),id=60), Annotation(154,157,Token,features=Features({'orth': 'lowercase', 'string': 'and', 'kind': 'word', 'length': '3', 'category': 'CC'}),id=61), Annotation(157,158,SpaceToken,features=Features({'string': ' ', 'kind': 'space', 'length': '1'}),id=62), Annotation(158,161,Token,features=Features({'orth': 'upperInitial', 'string': 'New', 'kind': 'word', 'length': '3', 'category': 'NNP'}),id=63), Annotation(158,171,Lookup,features=Features({'majorType': 'location', 'minorType': 'city'}),id=82), Annotation(158,171,Location,features=Features({'ruleFinal': 'LocFinal', 'rule': 'Location1', 'locType': 'city'}),id=117), Annotation(161,162,SpaceToken,features=Features({'string': ' ', 'kind': 'space', 'length': '1'}),id=64), Annotation(162,166,Token,features=Features({'orth': 'upperInitial', 'string': 'York', 'kind': 'word', 'length': '4', 'category': 'NNP'}),id=65), Annotation(162,166,Lookup,features=Features({'majorType': 'location', 'minorType': 'city'}),id=83), Annotation(166,167,SpaceToken,features=Features({'string': ' ', 'kind': 'space', 'length': '1'}),id=66), Annotation(167,171,Token,features=Features({'orth': 'upperInitial', 'string': 'City', 'kind': 'word', 'length': '4', 'category': 'NNP'}),id=67), Annotation(167,171,Lookup,features=Features({'majorType': 'location', 'minorType': 'city'}),id=84), Annotation(167,171,Lookup,features=Features({'majorType': 'loc_key', 'minorType': 'post'}),id=85), Annotation(171,172,SpaceToken,features=Features({'string': ' ', 'kind': 'space', 'length': '1'}),id=68), Annotation(172,175,Token,features=Features({'orth': 'lowercase', 'string': 'and', 'kind': 'word', 'length': '3', 'category': 'CC'}),id=69), Annotation(175,176,SpaceToken,features=Features({'string': ' ', 'kind': 'space', 'length': '1'}),id=70), Annotation(176,185,Token,features=Features({'orth': 'upperInitial', 'string': 'Microsoft', 'kind': 'word', 'length': '9', 'category': 'NNP'}),id=71), Annotation(176,185,Lookup,features=Features({'majorType': 'organization', 'minorType': 'company'}),id=86), Annotation(176,185,Organization,features=Features({'orgType': 'company', 'ruleFinal': 'OrgFinal', 'rule': 'GazOrganization'}),id=118), Annotation(185,186,Token,features=Features({'string': '.', 'kind': 'punctuation', 'length': '1', 'category': '.'}),id=72), Annotation(185,186,Split,features=Features({'kind': 'internal'}),id=92)]), 'Set2': AnnotationSet([Annotation(2,72,Type2,features=Features({}),id=124), Annotation(5,35,Type1,features=Features({}),id=122), Annotation(39,47,Type1,features=Features({}),id=123)])})"
      ]
     },
     "execution_count": 18,
     "metadata": {},
     "output_type": "execute_result"
    }
   ],
   "source": [
    "doc1"
   ]
  },
  {
   "cell_type": "code",
   "execution_count": 19,
   "metadata": {},
   "outputs": [],
   "source": [
    "anns = doc1.annset()"
   ]
  },
  {
   "cell_type": "code",
   "execution_count": 20,
   "metadata": {},
   "outputs": [
    {
     "data": {
      "text/plain": [
       "Annotation(25,25,ZERO1,features=Features({'f1': 1}),id=122)"
      ]
     },
     "execution_count": 20,
     "metadata": {},
     "output_type": "execute_result"
    }
   ],
   "source": [
    "anns.add(25,25,\"ZERO1\",dict(f1=1))"
   ]
  },
  {
   "cell_type": "code",
   "execution_count": 21,
   "metadata": {},
   "outputs": [
    {
     "data": {
      "text/plain": [
       "Annotation(30,30,ZERO2b,features=Features({}),id=124)"
      ]
     },
     "execution_count": 21,
     "metadata": {},
     "output_type": "execute_result"
    }
   ],
   "source": [
    "anns.add(30,30,\"ZERO2a\")\n",
    "anns.add(30,30,\"ZERO2b\")"
   ]
  },
  {
   "cell_type": "code",
   "execution_count": 22,
   "metadata": {},
   "outputs": [],
   "source": [
    "doc1.save(\"debug_doc1.bdocjs\")"
   ]
  },
  {
   "cell_type": "markdown",
   "metadata": {},
   "source": [
    "## Much shorter document for just testing zero length\n",
    "\n",
    "Make one within another longer, starting at same offset, two other coextensive ones\n"
   ]
  },
  {
   "cell_type": "code",
   "execution_count": 4,
   "metadata": {},
   "outputs": [
    {
     "data": {
      "text/html": [
       "<div><style>#HDXSHHJCOA-wrapper { color: black !important; }</style>\n",
       "<div id=\"HDXSHHJCOA-wrapper\">\n",
       "\n",
       "<div>\n",
       "<style>\n",
       "#HDXSHHJCOA-content {\n",
       "    width: 100%;\n",
       "    height: 100%;\n",
       "    font-family: -apple-system, BlinkMacSystemFont, 'Segoe UI', Roboto, Oxygen, Ubuntu, Cantarell, 'Open Sans', 'Helvetica Neue', sans-serif;\n",
       "}\n",
       "\n",
       ".HDXSHHJCOA-row {\n",
       "    width: 100%;\n",
       "    display: flex;\n",
       "    flex-direction: row;\n",
       "    flex-wrap: nowrap;\n",
       "}\n",
       "\n",
       ".HDXSHHJCOA-col {\n",
       "    border: 1px solid grey;\n",
       "    display: inline-block;\n",
       "    min-width: 200px;\n",
       "    padding: 5px;\n",
       "    /* white-space: normal; */\n",
       "    /* white-space: pre-wrap; */\n",
       "    overflow-y: auto;\n",
       "}\n",
       "\n",
       ".HDXSHHJCOA-hdr {\n",
       "    font-size: 1.2rem;\n",
       "    font-weight: bold;\n",
       "}\n",
       "\n",
       ".HDXSHHJCOA-label {\n",
       "    margin-bottom: -15px;\n",
       "    display: block;\n",
       "}\n",
       "\n",
       ".HDXSHHJCOA-input {\n",
       "    vertical-align: middle;\n",
       "    position: relative;\n",
       "    *overflow: hidden;\n",
       "}\n",
       "\n",
       "#HDXSHHJCOA-popup {\n",
       "    display: none;\n",
       "    color: black;\n",
       "    position: absolute;\n",
       "    margin-top: 10%;\n",
       "    margin-left: 10%;\n",
       "    background: #aaaaaa;\n",
       "    width: 60%;\n",
       "    height: 60%;\n",
       "    z-index: 50;\n",
       "    padding: 25px 25px 25px;\n",
       "    border: 1px solid black;\n",
       "    overflow: auto;\n",
       "}\n",
       "\n",
       ".HDXSHHJCOA-selection {\n",
       "    margin-bottom: 5px;\n",
       "}\n",
       "\n",
       ".HDXSHHJCOA-featuretable {\n",
       "    margin-top: 10px;\n",
       "}\n",
       "\n",
       ".HDXSHHJCOA-fname {\n",
       "    text-align: left !important;\n",
       "    font-weight: bold;\n",
       "    margin-right: 10px;\n",
       "}\n",
       ".HDXSHHJCOA-fvalue {\n",
       "    text-align: left !important;\n",
       "}\n",
       "</style>\n",
       "  <div id=\"HDXSHHJCOA-content\">\n",
       "        <div id=\"HDXSHHJCOA-popup\" style=\"display: none;\">\n",
       "        </div>\n",
       "        <div class=\"HDXSHHJCOA-row\" id=\"HDXSHHJCOA-row1\" style=\"height:67vh; min-height:100px;\">\n",
       "            <div id=\"HDXSHHJCOA-text-wrapper\" class=\"HDXSHHJCOA-col\" style=\"width:70%;\">\n",
       "                <div class=\"HDXSHHJCOA-hdr\" id=\"HDXSHHJCOA-dochdr\"></div>\n",
       "                <div id=\"HDXSHHJCOA-text\">\n",
       "                </div>\n",
       "            </div>\n",
       "            <div id=\"HDXSHHJCOA-chooser\" class=\"HDXSHHJCOA-col\" style=\"width:30%; border-left-width: 0px;\"></div>\n",
       "        </div>\n",
       "        <div class=\"HDXSHHJCOA-row\" id=\"HDXSHHJCOA-row2\" style=\"height:30vh; min-height: 100px;\">\n",
       "            <div id=\"HDXSHHJCOA-details\" class=\"HDXSHHJCOA-col\" style=\"width:100%; border-top-width: 0px;\">\n",
       "            </div>\n",
       "        </div>\n",
       "    </div>\n",
       "    <script src=\"https://ajax.googleapis.com/ajax/libs/jquery/3.5.1/jquery.min.js\"></script><script src=\"https://unpkg.com/gatenlp-ann-viewer@1.0.11/gatenlp-ann-viewer.js\"></script>\n",
       "    <script type=\"application/json\" id=\"HDXSHHJCOA-data\">\n",
       "    {\"annotation_sets\": {\"\": {\"name\": \"detached-from:\", \"annotations\": [{\"type\": \"ANN1\", \"start\": 6, \"end\": 14, \"id\": 0, \"features\": {}}, {\"type\": \"ZERO1\", \"start\": 6, \"end\": 6, \"id\": 1, \"features\": {}}, {\"type\": \"ZERO2a\", \"start\": 13, \"end\": 13, \"id\": 2, \"features\": {}}, {\"type\": \"ZERO2b\", \"start\": 13, \"end\": 13, \"id\": 3, \"features\": {}}], \"next_annid\": 4}}, \"text\": \"Small document for testing zero-length annotations.\", \"features\": {}, \"offset_type\": \"j\", \"name\": \"\"}\n",
       "    </script>\n",
       "    <script type=\"text/javascript\">\n",
       "        gatenlp_run(\"HDXSHHJCOA-\");\n",
       "    </script>\n",
       "  </div>\n",
       "\n",
       "</div></div>"
      ],
      "text/plain": [
       "Document(Small document for testing zero-length annotations.,features=Features({}),anns={'': AnnotationSet([Annotation(6,14,ANN1,features=Features({}),id=0), Annotation(6,6,ZERO1,features=Features({}),id=1), Annotation(13,13,ZERO2a,features=Features({}),id=2), Annotation(13,13,ZERO2b,features=Features({}),id=3)])})"
      ]
     },
     "execution_count": 4,
     "metadata": {},
     "output_type": "execute_result"
    }
   ],
   "source": [
    "doc2 = Document(\"Small document for testing zero-length annotations.\")\n",
    "anns2 = doc2.annset()\n",
    "anns2.add(6,14,\"ANN1\")\n",
    "anns2.add(6,6,\"ZERO1\")\n",
    "anns2.add(13,13,\"ZERO2a\")\n",
    "anns2.add(13,13,\"ZERO2b\")\n",
    "doc2"
   ]
  },
  {
   "cell_type": "code",
   "execution_count": 28,
   "metadata": {},
   "outputs": [],
   "source": [
    "doc2.save(\"debug_doc2.bdocjs\")"
   ]
  },
  {
   "cell_type": "code",
   "execution_count": null,
   "metadata": {},
   "outputs": [],
   "source": []
  }
 ],
 "metadata": {
  "kernelspec": {
   "display_name": "Python gatenlp",
   "language": "python",
   "name": "gatenlp"
  },
  "language_info": {
   "codemirror_mode": {
    "name": "ipython",
    "version": 3
   },
   "file_extension": ".py",
   "mimetype": "text/x-python",
   "name": "python",
   "nbconvert_exporter": "python",
   "pygments_lexer": "ipython3",
   "version": "3.7.7"
  }
 },
 "nbformat": 4,
 "nbformat_minor": 4
}
