{
 "cells": [
  {
   "cell_type": "markdown",
   "metadata": {},
   "source": [
    "# Debug de html viewer"
   ]
  },
  {
   "cell_type": "code",
   "execution_count": 1,
   "metadata": {},
   "outputs": [],
   "source": [
    "from gatenlp import Document\n",
    "from IPython.display import HTML, display"
   ]
  },
  {
   "cell_type": "code",
   "execution_count": 2,
   "metadata": {},
   "outputs": [
    {
     "name": "stderr",
     "output_type": "stream",
     "text": [
      "Document(This is a test document.\n",
      "\n",
      "It contains just a few sentences. \n",
      "Here is a sentence that mentions a few named entities like \n",
      "the persons Barack Obama or Ursula von der Leyen, locations\n",
      "like New York City, Vienna or Beijing or companies like \n",
      "Google, UniCredit or Huawei. \n",
      "\n",
      "Here we include a URL https://gatenlp.github.io/python-gatenlp/ \n",
      "and a fake email address john.doe@hiscoolserver.com as well \n",
      "as #some #cool #hastags and a bunch of emojis like 😽 (a kissing cat),\n",
      "👩‍🏫 (a woman teacher), 🧬 (DNA), \n",
      "🧗 (a person climbing), \n",
      "💩 (a pile of poo). \n",
      "\n",
      "Here we test a few different scripts, e.g. Hangul 한글 or \n",
      "simplified Hanzi 汉字 or Farsi فارسی which goes from right to left. \n",
      "\n",
      "\n",
      ",features=Features({}),anns=[])\n"
     ]
    }
   ],
   "source": [
    "doc = Document.load(\"https://gatenlp.github.io/python-gatenlp/testdocument1.txt\")\n",
    "print(doc)"
   ]
  },
  {
   "cell_type": "code",
   "execution_count": 3,
   "metadata": {},
   "outputs": [
    {
     "name": "stderr",
     "output_type": "stream",
     "text": [
      "Features({'feat1': 123, 'feat2': 'This is a string with some unicode: 👩\\u200d🏫 as well', 'feat3': [1, 2, 3, ['x', 'y'], {'a': 1}, (1, 2, 3)]})\n"
     ]
    }
   ],
   "source": [
    "# set some document features\n",
    "doc.features[\"feat1\"] = 123\n",
    "doc.features[\"feat2\"] = \"This is a string with some unicode: 👩‍🏫 as well\"\n",
    "doc.features[\"feat3\"] = [1, 2, 3, [\"x\", \"y\"], {\"a\": 1}, (1,2,3)]\n",
    "\n",
    "print(doc.features)"
   ]
  },
  {
   "cell_type": "code",
   "execution_count": 4,
   "metadata": {},
   "outputs": [
    {
     "data": {
      "text/plain": [
       "Annotation(4,5,AnnType2,features=Features({}),id=0)"
      ]
     },
     "execution_count": 4,
     "metadata": {},
     "output_type": "execute_result"
    }
   ],
   "source": [
    "# add annotations \n",
    "set1 = doc.annset(\"Set1\")\n",
    "set1.add(1,3,\"AnnType1\", dict(a=1, b=\"asas\"))\n",
    "set2 = doc.annset(\"set2\")\n",
    "set2.add(4,5, \"AnnType2\")"
   ]
  },
  {
   "cell_type": "code",
   "execution_count": 1,
   "metadata": {},
   "outputs": [
    {
     "ename": "NameError",
     "evalue": "name 'HTML' is not defined",
     "output_type": "error",
     "traceback": [
      "\u001b[0;31m---------------------------------------------------------------------------\u001b[0m",
      "\u001b[0;31mNameError\u001b[0m                                 Traceback (most recent call last)",
      "\u001b[0;32m<ipython-input-1-3d7a9baceccf>\u001b[0m in \u001b[0;36m<module>\u001b[0;34m\u001b[0m\n\u001b[0;32m----> 1\u001b[0;31m \u001b[0mHTML\u001b[0m\u001b[0;34m(\u001b[0m\u001b[0mdoc\u001b[0m\u001b[0;34m.\u001b[0m\u001b[0mrepr_html\u001b[0m\u001b[0;34m(\u001b[0m\u001b[0mnotebook\u001b[0m\u001b[0;34m=\u001b[0m\u001b[0;32mTrue\u001b[0m\u001b[0;34m,\u001b[0m \u001b[0moffline\u001b[0m\u001b[0;34m=\u001b[0m\u001b[0;32mFalse\u001b[0m\u001b[0;34m,\u001b[0m \u001b[0mhtmlid\u001b[0m\u001b[0;34m=\u001b[0m\u001b[0;34m\"ID123\"\u001b[0m\u001b[0;34m)\u001b[0m\u001b[0;34m)\u001b[0m\u001b[0;34m\u001b[0m\u001b[0;34m\u001b[0m\u001b[0m\n\u001b[0m",
      "\u001b[0;31mNameError\u001b[0m: name 'HTML' is not defined"
     ]
    }
   ],
   "source": [
    "HTML(doc.repr_html(notebook=True, offline=False, htmlid=\"ID123\"))"
   ]
  },
  {
   "cell_type": "code",
   "execution_count": 31,
   "metadata": {},
   "outputs": [
    {
     "data": {
      "text/html": [
       "\n",
       "<style>\n",
       "  div#ID123-wrapper { width:  100% !important; }\n",
       "  div#ID123-wrapper { height: 10em !important; }\n",
       "  div#ID123-wrapper { color: black !important; }\n",
       "</style>"
      ],
      "text/plain": [
       "<IPython.core.display.HTML object>"
      ]
     },
     "metadata": {},
     "output_type": "display_data"
    }
   ],
   "source": [
    "display(HTML(\"\"\"\n",
    "<style>\n",
    "  div#ID123-wrapper { width:  100% !important; }\n",
    "  div#ID123-wrapper { height: 10em !important; }\n",
    "  div#ID123-wrapper { color: black !important; }\n",
    "</style>\"\"\"))"
   ]
  },
  {
   "cell_type": "code",
   "execution_count": 33,
   "metadata": {},
   "outputs": [
    {
     "data": {
      "text/html": [
       "\n",
       "            <style>\n",
       "            </style>\n",
       "            <div id=\"DUZXJVLZIE-wrapper\">\n",
       "            \n",
       "<div>\n",
       "<style>\n",
       "#DUZXJVLZIE-content {\n",
       "    width: 100%;\n",
       "    height: 100%;\n",
       "    font-family: -apple-system, BlinkMacSystemFont, 'Segoe UI', Roboto, Oxygen, Ubuntu, Cantarell, 'Open Sans', 'Helvetica Neue', sans-serif;\n",
       "}\n",
       "\n",
       ".DUZXJVLZIE-row {\n",
       "    width: 100%;\n",
       "    display: flex;\n",
       "    flex-direction: row;\n",
       "    flex-wrap: nowrap;\n",
       "}\n",
       "\n",
       ".DUZXJVLZIE-col {\n",
       "    border: 1px solid grey;\n",
       "    display: inline-block;\n",
       "    min-width: 200px;\n",
       "    padding: 5px;\n",
       "    /* white-space: normal; */\n",
       "    /* white-space: pre-wrap; */\n",
       "    overflow-y: auto;\n",
       "}\n",
       "\n",
       ".DUZXJVLZIE-hdr {\n",
       "    font-size: 1.2rem;\n",
       "    font-weight: bold;\n",
       "}\n",
       "\n",
       ".DUZXJVLZIE-label {\n",
       "    margin-bottom: -15px;\n",
       "    display: block;\n",
       "}\n",
       "\n",
       ".DUZXJVLZIE-input {\n",
       "    vertical-align: middle;\n",
       "    position: relative;\n",
       "    *overflow: hidden;\n",
       "}\n",
       "\n",
       "#DUZXJVLZIE-popup {\n",
       "    display: none;\n",
       "    colour: white;\n",
       "    position: absolute;\n",
       "    margin-top: 10%;\n",
       "    margin-left: 10%;\n",
       "    background: #ff88ff;\n",
       "    width: 60%;\n",
       "    height: 60%;\n",
       "    z-index: 50;\n",
       "    padding: 25px 25px 25px;\n",
       "    border: 1px solid black;\n",
       "    overflow: auto;\n",
       "}\n",
       "\n",
       ".DUZXJVLZIE-selection {\n",
       "    margin-bottom: 5px;\n",
       "}\n",
       "\n",
       ".DUZXJVLZIE-featuretable {\n",
       "    margin-top: 10px;\n",
       "}\n",
       "\n",
       ".DUZXJVLZIE-fname {\n",
       "    text-align: left !important;\n",
       "    font-weight: bold;\n",
       "    margin-right: 10px;\n",
       "}\n",
       ".DUZXJVLZIE-fvalue {\n",
       "    text-align: left !important;\n",
       "}\n",
       "</style>\n",
       "  <div id=\"DUZXJVLZIE-content\">\n",
       "        <div id=\"DUZXJVLZIE-popup\" style=\"display: none;\">\n",
       "        </div>\n",
       "        <div class=\"DUZXJVLZIE-row\" id=\"DUZXJVLZIE-row1\" style=\"height:67vh; min-height:100px;\">\n",
       "            <div id=\"DUZXJVLZIE-text-wrapper\" class=\"DUZXJVLZIE-col\" style=\"width:70%;\">\n",
       "                <div class=\"DUZXJVLZIE-hdr\" id=\"DUZXJVLZIE-dochdr\"></div>\n",
       "                <div id=\"DUZXJVLZIE-text\">\n",
       "                </div>\n",
       "            </div>\n",
       "            <div id=\"DUZXJVLZIE-chooser\" class=\"DUZXJVLZIE-col\" style=\"width:30%; border-left-width: 0px;\"></div>\n",
       "        </div>\n",
       "        <div class=\"DUZXJVLZIE-row\" id=\"DUZXJVLZIE-row2\" style=\"height:30vh; min-height: 100px;\">\n",
       "            <div id=\"DUZXJVLZIE-details\" class=\"DUZXJVLZIE-col\" style=\"width:100%; border-top-width: 0px;\">\n",
       "            </div>\n",
       "        </div>\n",
       "    </div>\n",
       "    \n",
       "    <script type=\"application/json\" id=\"DUZXJVLZIE-data\">\n",
       "    {\"annotation_sets\": {\"Set1\": {\"name\": \"detached-from:Set1\", \"annotations\": [{\"type\": \"AnnType1\", \"start\": 1, \"end\": 3, \"id\": 0, \"features\": {\"a\": 1, \"b\": \"asas\"}}], \"next_annid\": 1}, \"set2\": {\"name\": \"detached-from:set2\", \"annotations\": [{\"type\": \"AnnType2\", \"start\": 4, \"end\": 5, \"id\": 0, \"features\": {}}], \"next_annid\": 1}}, \"text\": \"This is a test document.\\n\\nIt contains just a few sentences. \\nHere is a sentence that mentions a few named entities like \\nthe persons Barack Obama or Ursula von der Leyen, locations\\nlike New York City, Vienna or Beijing or companies like \\nGoogle, UniCredit or Huawei. \\n\\nHere we include a URL https://gatenlp.github.io/python-gatenlp/ \\nand a fake email address john.doe@hiscoolserver.com as well \\nas #some #cool #hastags and a bunch of emojis like \\ud83d\\ude3d (a kissing cat),\\n\\ud83d\\udc69\\u200d\\ud83c\\udfeb (a woman teacher), \\ud83e\\uddec (DNA), \\n\\ud83e\\uddd7 (a person climbing), \\n\\ud83d\\udca9 (a pile of poo). \\n\\nHere we test a few different scripts, e.g. Hangul \\ud55c\\uae00 or \\nsimplified Hanzi \\u6c49\\u5b57 or Farsi \\u0641\\u0627\\u0631\\u0633\\u06cc which goes from right to left. \\n\\n\\n\", \"features\": {\"feat1\": 123, \"feat2\": \"This is a string with some unicode: \\ud83d\\udc69\\u200d\\ud83c\\udfeb as well\", \"feat3\": [1, 2, 3, [\"x\", \"y\"], {\"a\": 1}, [1, 2, 3]]}, \"offset_type\": \"j\", \"name\": \"\"}\n",
       "    </script>\n",
       "    <script type=\"text/javascript\">\n",
       "        gatenlp_run(\"DUZXJVLZIE-\");\n",
       "    </script>\n",
       "  </div>\n",
       "\n",
       "            </div>\n",
       "            "
      ],
      "text/plain": [
       "<IPython.core.display.HTML object>"
      ]
     },
     "execution_count": 33,
     "metadata": {},
     "output_type": "execute_result"
    }
   ],
   "source": [
    "HTML(doc.save_mem(fmt=\"html-ann-viewer\", notebook=True, offline=True))"
   ]
  },
  {
   "cell_type": "code",
   "execution_count": 28,
   "metadata": {
    "scrolled": true
   },
   "outputs": [
    {
     "data": {
      "text/html": [
       "<div style=\"height: 300px !important;\">x<div style=\"height: 100%\">some text</div></div>"
      ],
      "text/plain": [
       "<IPython.core.display.HTML object>"
      ]
     },
     "execution_count": 28,
     "metadata": {},
     "output_type": "execute_result"
    }
   ],
   "source": [
    "HTML('<div style=\"height: 300px !important;\">x<div style=\"height: 100%\">some text</div></div>')"
   ]
  },
  {
   "cell_type": "code",
   "execution_count": null,
   "metadata": {},
   "outputs": [],
   "source": []
  }
 ],
 "metadata": {
  "kernelspec": {
   "display_name": "Python gatenlp",
   "language": "python",
   "name": "gatenlp"
  },
  "language_info": {
   "codemirror_mode": {
    "name": "ipython",
    "version": 3
   },
   "file_extension": ".py",
   "mimetype": "text/x-python",
   "name": "python",
   "nbconvert_exporter": "python",
   "pygments_lexer": "ipython3",
   "version": "3.7.7"
  }
 },
 "nbformat": 4,
 "nbformat_minor": 4
}
