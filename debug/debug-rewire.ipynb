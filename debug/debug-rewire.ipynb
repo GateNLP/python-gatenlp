{
 "cells": [
  {
   "cell_type": "markdown",
   "metadata": {},
   "source": [
    "# Try Rewire Annotator"
   ]
  },
  {
   "cell_type": "code",
   "execution_count": 2,
   "metadata": {},
   "outputs": [
    {
     "name": "stderr",
     "output_type": "stream",
     "text": [
      "/home/johann/software/anaconda3/envs/gatenlp-37/lib/python3.7/site-packages/torch/cuda/__init__.py:80: UserWarning: CUDA initialization: The NVIDIA driver on your system is too old (found version 9010). Please update your GPU driver by downloading and installing a new version from the URL: http://www.nvidia.com/Download/index.aspx Alternatively, go to: https://pytorch.org to install a PyTorch version that has been compiled with your version of the CUDA driver. (Triggered internally at  ../c10/cuda/CUDAFunctions.cpp:112.)\n",
      "  return torch._C._cuda_getDeviceCount() > 0\n"
     ]
    }
   ],
   "source": [
    "import os\n",
    "import json\n",
    "from gatenlp import Document, Span\n",
    "from gatenlp.processing.client.rewire import RewireAnnotator\n",
    "from gatenlp.lib_spacy import AnnSpacy\n"
   ]
  },
  {
   "cell_type": "code",
   "execution_count": 3,
   "metadata": {},
   "outputs": [],
   "source": [
    "apikey = os.environ[\"REWIRE_KEY\"]"
   ]
  },
  {
   "cell_type": "code",
   "execution_count": 9,
   "metadata": {},
   "outputs": [],
   "source": [
    "texts = [\n",
    "    \"\"\"\n",
    "    This is just some example text. Has a sentence that talks about shit in general. And another\n",
    "    talking about 💩💩💩💩 in general. Donald Trump is a moron.\n",
    "    \"\"\",\n",
    "    \"What a stupid bitch she is.\",\n",
    "    \"What a stupid paki bitch she is.\"\n",
    "]\n",
    "docs = [Document(t) for t in texts]"
   ]
  },
  {
   "cell_type": "code",
   "execution_count": 10,
   "metadata": {},
   "outputs": [],
   "source": [
    "anntr = AnnSpacy()\n",
    "for doc in docs:\n",
    "    doc = anntr(doc)"
   ]
  },
  {
   "cell_type": "code",
   "execution_count": 11,
   "metadata": {},
   "outputs": [
    {
     "name": "stdout",
     "output_type": "stream",
     "text": [
      "Features({'hate': 0.13034075498580933, 'abuse': 0.9589241147041321})\n",
      "Features({'hate': 0.22320769727230072, 'abuse': 0.9741657972335815})\n",
      "Features({'hate': 0.9963500499725342, 'abuse': 0.9912039041519165})\n"
     ]
    }
   ],
   "source": [
    "# annotate documents as a whole\n",
    "rewire1 = RewireAnnotator(auth_token=apikey)\n",
    "for doc in docs:\n",
    "    doc.features.clear()\n",
    "    rewire1(doc)\n",
    "    print(doc.features)"
   ]
  },
  {
   "cell_type": "code",
   "execution_count": 12,
   "metadata": {},
   "outputs": [],
   "source": [
    "# annotate sentences\n",
    "rewire2 = RewireAnnotator(auth_token=apikey, ann_type=\"Sentence\")\n",
    "for doc in docs:\n",
    "    rewire2(doc)\n"
   ]
  },
  {
   "cell_type": "code",
   "execution_count": 13,
   "metadata": {},
   "outputs": [
    {
     "data": {
      "application/vnd.jupyter.widget-view+json": {
       "model_id": "c667c95bab60490c965972ae571becf4",
       "version_major": 2,
       "version_minor": 0
      },
      "text/plain": [
       "HBox(children=(Button(icon='arrow-left', layout=Layout(width='5em'), style=ButtonStyle()), IntSlider(value=2, …"
      ]
     },
     "metadata": {},
     "output_type": "display_data"
    },
    {
     "data": {
      "text/html": [
       "<div><style>#MAWPSVGUGQ-wrapper { color: black !important; }</style>\n",
       "<div id=\"MAWPSVGUGQ-wrapper\">\n",
       "\n",
       "<div>\n",
       "<style>\n",
       "#MAWPSVGUGQ-content {\n",
       "    width: 100%;\n",
       "    height: 100%;\n",
       "    font-family: -apple-system, BlinkMacSystemFont, 'Segoe UI', Roboto, Oxygen, Ubuntu, Cantarell, 'Open Sans', 'Helvetica Neue', sans-serif;\n",
       "}\n",
       "\n",
       ".MAWPSVGUGQ-row {\n",
       "    width: 100%;\n",
       "    display: flex;\n",
       "    flex-direction: row;\n",
       "    flex-wrap: nowrap;\n",
       "}\n",
       "\n",
       ".MAWPSVGUGQ-col {\n",
       "    border: 1px solid grey;\n",
       "    display: inline-block;\n",
       "    min-width: 200px;\n",
       "    padding: 5px;\n",
       "    /* white-space: normal; */\n",
       "    /* white-space: pre-wrap; */\n",
       "    overflow-y: auto;\n",
       "}\n",
       "\n",
       ".MAWPSVGUGQ-hdr {\n",
       "    font-size: 1.2rem;\n",
       "    font-weight: bold;\n",
       "}\n",
       "\n",
       ".MAWPSVGUGQ-label {\n",
       "    margin-bottom: -15px;\n",
       "    display: block;\n",
       "}\n",
       "\n",
       ".MAWPSVGUGQ-input {\n",
       "    vertical-align: middle;\n",
       "    position: relative;\n",
       "    *overflow: hidden;\n",
       "}\n",
       "\n",
       "#MAWPSVGUGQ-popup {\n",
       "    display: none;\n",
       "    color: black;\n",
       "    position: absolute;\n",
       "    margin-top: 10%;\n",
       "    margin-left: 10%;\n",
       "    background: #aaaaaa;\n",
       "    width: 60%;\n",
       "    height: 60%;\n",
       "    z-index: 50;\n",
       "    padding: 25px 25px 25px;\n",
       "    border: 1px solid black;\n",
       "    overflow: auto;\n",
       "}\n",
       "\n",
       ".MAWPSVGUGQ-selection {\n",
       "    margin-bottom: 5px;\n",
       "}\n",
       "\n",
       ".MAWPSVGUGQ-featuretable {\n",
       "    margin-top: 10px;\n",
       "}\n",
       "\n",
       ".MAWPSVGUGQ-fname {\n",
       "    text-align: left !important;\n",
       "    font-weight: bold;\n",
       "    margin-right: 10px;\n",
       "}\n",
       ".MAWPSVGUGQ-fvalue {\n",
       "    text-align: left !important;\n",
       "}\n",
       "</style>\n",
       "  <div id=\"MAWPSVGUGQ-content\">\n",
       "        <div id=\"MAWPSVGUGQ-popup\" style=\"display: none;\">\n",
       "        </div>\n",
       "        <div class=\"MAWPSVGUGQ-row\" id=\"MAWPSVGUGQ-row1\" style=\"min-height:5em;max-height:20em; min-height:5em;\">\n",
       "            <div id=\"MAWPSVGUGQ-text-wrapper\" class=\"MAWPSVGUGQ-col\" style=\"width:70%;\">\n",
       "                <div class=\"MAWPSVGUGQ-hdr\" id=\"MAWPSVGUGQ-dochdr\"></div>\n",
       "                <div id=\"MAWPSVGUGQ-text\" style=\"\">\n",
       "                </div>\n",
       "            </div>\n",
       "            <div id=\"MAWPSVGUGQ-chooser\" class=\"MAWPSVGUGQ-col\" style=\"width:30%; border-left-width: 0px;\"></div>\n",
       "        </div>\n",
       "        <div class=\"MAWPSVGUGQ-row\" id=\"MAWPSVGUGQ-row2\" style=\"min-height:3em;max-height:14em; min-height: 3em;\">\n",
       "            <div id=\"MAWPSVGUGQ-details\" class=\"MAWPSVGUGQ-col\" style=\"width:100%; border-top-width: 0px;\">\n",
       "            </div>\n",
       "        </div>\n",
       "    </div>\n",
       "    \n",
       "    <script type=\"text/javascript\">\n",
       "    let MAWPSVGUGQ_data = {\"annotation_sets\": {\"\": {\"name\": \"detached-from:\", \"annotations\": [{\"type\": \"Token\", \"start\": 0, \"end\": 4, \"id\": 0, \"features\": {\"_i\": 0, \"is_alpha\": true, \"is_bracket\": false, \"is_currency\": false, \"is_digit\": false, \"is_left_punct\": false, \"is_lower\": false, \"is_oov\": true, \"is_punct\": false, \"is_quote\": false, \"is_right_punct\": false, \"is_sent_start\": true, \"is_space\": false, \"is_stop\": true, \"is_title\": true, \"is_upper\": false, \"lang\": \"en\", \"lemma\": \"what\", \"like_email\": false, \"like_num\": false, \"like_url\": false, \"orth\": 5931147113347055926, \"pos\": \"PRON\", \"prefix\": \"W\", \"prob\": -20.0, \"rank\": 18446744073709551615, \"sentiment\": 0.0, \"tag\": \"WP\", \"shape\": \"Xxxx\", \"suffix\": \"hat\", \"ent_type\": \"\", \"dep\": \"det\", \"head\": 8, \"left_edge\": 0, \"right_edge\": 0}}, {\"type\": \"SpaceToken\", \"start\": 4, \"end\": 5, \"id\": 1, \"features\": {\"is_space\": true}}, {\"type\": \"Token\", \"start\": 5, \"end\": 6, \"id\": 2, \"features\": {\"_i\": 1, \"is_alpha\": true, \"is_bracket\": false, \"is_currency\": false, \"is_digit\": false, \"is_left_punct\": false, \"is_lower\": true, \"is_oov\": true, \"is_punct\": false, \"is_quote\": false, \"is_right_punct\": false, \"is_sent_start\": false, \"is_space\": false, \"is_stop\": true, \"is_title\": false, \"is_upper\": false, \"lang\": \"en\", \"lemma\": \"a\", \"like_email\": false, \"like_num\": false, \"like_url\": false, \"orth\": 11901859001352538922, \"pos\": \"DET\", \"prefix\": \"a\", \"prob\": -20.0, \"rank\": 18446744073709551615, \"sentiment\": 0.0, \"tag\": \"DT\", \"shape\": \"x\", \"suffix\": \"a\", \"ent_type\": \"\", \"dep\": \"det\", \"head\": 8, \"left_edge\": 2, \"right_edge\": 2}}, {\"type\": \"SpaceToken\", \"start\": 6, \"end\": 7, \"id\": 3, \"features\": {\"is_space\": true}}, {\"type\": \"Token\", \"start\": 7, \"end\": 13, \"id\": 4, \"features\": {\"_i\": 2, \"is_alpha\": true, \"is_bracket\": false, \"is_currency\": false, \"is_digit\": false, \"is_left_punct\": false, \"is_lower\": true, \"is_oov\": true, \"is_punct\": false, \"is_quote\": false, \"is_right_punct\": false, \"is_sent_start\": false, \"is_space\": false, \"is_stop\": false, \"is_title\": false, \"is_upper\": false, \"lang\": \"en\", \"lemma\": \"stupid\", \"like_email\": false, \"like_num\": false, \"like_url\": false, \"orth\": 9673440059141067876, \"pos\": \"ADJ\", \"prefix\": \"s\", \"prob\": -20.0, \"rank\": 18446744073709551615, \"sentiment\": 0.0, \"tag\": \"JJ\", \"shape\": \"xxxx\", \"suffix\": \"pid\", \"ent_type\": \"\", \"dep\": \"amod\", \"head\": 8, \"left_edge\": 4, \"right_edge\": 4}}, {\"type\": \"SpaceToken\", \"start\": 13, \"end\": 14, \"id\": 5, \"features\": {\"is_space\": true}}, {\"type\": \"Token\", \"start\": 14, \"end\": 18, \"id\": 6, \"features\": {\"_i\": 3, \"is_alpha\": true, \"is_bracket\": false, \"is_currency\": false, \"is_digit\": false, \"is_left_punct\": false, \"is_lower\": true, \"is_oov\": true, \"is_punct\": false, \"is_quote\": false, \"is_right_punct\": false, \"is_sent_start\": false, \"is_space\": false, \"is_stop\": false, \"is_title\": false, \"is_upper\": false, \"lang\": \"en\", \"lemma\": \"paki\", \"like_email\": false, \"like_num\": false, \"like_url\": false, \"orth\": 8300739095281390614, \"pos\": \"NOUN\", \"prefix\": \"p\", \"prob\": -20.0, \"rank\": 18446744073709551615, \"sentiment\": 0.0, \"tag\": \"NN\", \"shape\": \"xxxx\", \"suffix\": \"aki\", \"ent_type\": \"\", \"dep\": \"compound\", \"head\": 8, \"left_edge\": 6, \"right_edge\": 6}}, {\"type\": \"SpaceToken\", \"start\": 18, \"end\": 19, \"id\": 7, \"features\": {\"is_space\": true}}, {\"type\": \"Token\", \"start\": 19, \"end\": 24, \"id\": 8, \"features\": {\"_i\": 4, \"is_alpha\": true, \"is_bracket\": false, \"is_currency\": false, \"is_digit\": false, \"is_left_punct\": false, \"is_lower\": true, \"is_oov\": true, \"is_punct\": false, \"is_quote\": false, \"is_right_punct\": false, \"is_sent_start\": false, \"is_space\": false, \"is_stop\": false, \"is_title\": false, \"is_upper\": false, \"lang\": \"en\", \"lemma\": \"bitch\", \"like_email\": false, \"like_num\": false, \"like_url\": false, \"orth\": 10512814226314425837, \"pos\": \"NOUN\", \"prefix\": \"b\", \"prob\": -20.0, \"rank\": 18446744073709551615, \"sentiment\": 0.0, \"tag\": \"NN\", \"shape\": \"xxxx\", \"suffix\": \"tch\", \"ent_type\": \"\", \"dep\": \"attr\", \"head\": 12, \"left_edge\": 0, \"right_edge\": 8}}, {\"type\": \"SpaceToken\", \"start\": 24, \"end\": 25, \"id\": 9, \"features\": {\"is_space\": true}}, {\"type\": \"Token\", \"start\": 25, \"end\": 28, \"id\": 10, \"features\": {\"_i\": 5, \"is_alpha\": true, \"is_bracket\": false, \"is_currency\": false, \"is_digit\": false, \"is_left_punct\": false, \"is_lower\": true, \"is_oov\": true, \"is_punct\": false, \"is_quote\": false, \"is_right_punct\": false, \"is_sent_start\": false, \"is_space\": false, \"is_stop\": true, \"is_title\": false, \"is_upper\": false, \"lang\": \"en\", \"lemma\": \"she\", \"like_email\": false, \"like_num\": false, \"like_url\": false, \"orth\": 6740321247510922449, \"pos\": \"PRON\", \"prefix\": \"s\", \"prob\": -20.0, \"rank\": 18446744073709551615, \"sentiment\": 0.0, \"tag\": \"PRP\", \"shape\": \"xxx\", \"suffix\": \"she\", \"ent_type\": \"\", \"dep\": \"nsubj\", \"head\": 12, \"left_edge\": 10, \"right_edge\": 10}}, {\"type\": \"SpaceToken\", \"start\": 28, \"end\": 29, \"id\": 11, \"features\": {\"is_space\": true}}, {\"type\": \"Token\", \"start\": 29, \"end\": 31, \"id\": 12, \"features\": {\"_i\": 6, \"is_alpha\": true, \"is_bracket\": false, \"is_currency\": false, \"is_digit\": false, \"is_left_punct\": false, \"is_lower\": true, \"is_oov\": true, \"is_punct\": false, \"is_quote\": false, \"is_right_punct\": false, \"is_sent_start\": false, \"is_space\": false, \"is_stop\": true, \"is_title\": false, \"is_upper\": false, \"lang\": \"en\", \"lemma\": \"be\", \"like_email\": false, \"like_num\": false, \"like_url\": false, \"orth\": 3411606890003347522, \"pos\": \"AUX\", \"prefix\": \"i\", \"prob\": -20.0, \"rank\": 18446744073709551615, \"sentiment\": 0.0, \"tag\": \"VBZ\", \"shape\": \"xx\", \"suffix\": \"is\", \"ent_type\": \"\", \"dep\": \"ROOT\", \"head\": 12, \"left_edge\": 0, \"right_edge\": 13}}, {\"type\": \"Token\", \"start\": 31, \"end\": 32, \"id\": 13, \"features\": {\"_i\": 7, \"is_alpha\": false, \"is_bracket\": false, \"is_currency\": false, \"is_digit\": false, \"is_left_punct\": false, \"is_lower\": false, \"is_oov\": true, \"is_punct\": true, \"is_quote\": false, \"is_right_punct\": false, \"is_sent_start\": false, \"is_space\": false, \"is_stop\": false, \"is_title\": false, \"is_upper\": false, \"lang\": \"en\", \"lemma\": \".\", \"like_email\": false, \"like_num\": false, \"like_url\": false, \"orth\": 12646065887601541794, \"pos\": \"PUNCT\", \"prefix\": \".\", \"prob\": -20.0, \"rank\": 18446744073709551615, \"sentiment\": 0.0, \"tag\": \".\", \"shape\": \".\", \"suffix\": \".\", \"ent_type\": \"\", \"dep\": \"punct\", \"head\": 12, \"left_edge\": 13, \"right_edge\": 13}}, {\"type\": \"Sentence\", \"start\": 0, \"end\": 32, \"id\": 14, \"features\": {\"hate\": 0.9963500499725342, \"abuse\": 0.9912039041519165}}, {\"type\": \"NounChunk\", \"start\": 0, \"end\": 24, \"id\": 15, \"features\": {}}, {\"type\": \"NounChunk\", \"start\": 25, \"end\": 28, \"id\": 16, \"features\": {}}], \"next_annid\": 17}}, \"text\": \"What a stupid paki bitch she is.\", \"features\": {\"hate\": 0.9963500499725342, \"abuse\": 0.9912039041519165}, \"offset_type\": \"j\", \"name\": \"\"} ; \n",
       "    let MAWPSVGUGQ_parms = {\"presel_set\": [], \"presel_list\": [], \"cols4types\": {}} ;\n",
       "    new gatenlpDocView(new gatenlpDocRep(MAWPSVGUGQ_data, MAWPSVGUGQ_parms), \"MAWPSVGUGQ-\").init();\n",
       "    </script>\n",
       "  </div>\n",
       "\n",
       "</div></div>"
      ]
     },
     "metadata": {},
     "output_type": "display_data"
    }
   ],
   "source": [
    "from gatenlp.visualization import CorpusViewer\n",
    "from gatenlp.corpora.memory import ListCorpus\n",
    "\n",
    "corpus = ListCorpus(docs)\n",
    "CorpusViewer(corpus).show()"
   ]
  },
  {
   "cell_type": "code",
   "execution_count": null,
   "metadata": {},
   "outputs": [],
   "source": []
  }
 ],
 "metadata": {
  "interpreter": {
   "hash": "894109e46787fb430265e20e1827b1c148e8f49dd04d1d979ad223af39dddabc"
  },
  "kernelspec": {
   "display_name": "gatenlp-37",
   "language": "python",
   "name": "gatenlp-37"
  },
  "language_info": {
   "codemirror_mode": {
    "name": "ipython",
    "version": 3
   },
   "file_extension": ".py",
   "mimetype": "text/x-python",
   "name": "python",
   "nbconvert_exporter": "python",
   "pygments_lexer": "ipython3",
   "version": "3.7.11"
  }
 },
 "nbformat": 4,
 "nbformat_minor": 4
}
