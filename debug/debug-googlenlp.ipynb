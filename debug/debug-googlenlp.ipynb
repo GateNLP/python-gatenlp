{
 "cells": [
  {
   "cell_type": "markdown",
   "metadata": {},
   "source": [
    "# Try Google NLP Annotator"
   ]
  },
  {
   "cell_type": "code",
   "execution_count": 1,
   "metadata": {},
   "outputs": [],
   "source": [
    "import os\n",
    "import json\n",
    "from gatenlp import Document, Span\n",
    "from gatenlp.processing.client import GoogleNlpAnnotator\n",
    "\n",
    "from google.cloud import language_v1\n"
   ]
  },
  {
   "cell_type": "code",
   "execution_count": 2,
   "metadata": {},
   "outputs": [],
   "source": [
    "# NOTE: make sure the environment variable GOOGLE_APPLICATION_CREDENTIALS points to the json file with the \n",
    "# service account credentials\n",
    "client = language_v1.LanguageServiceClient()\n",
    "\n"
   ]
  },
  {
   "cell_type": "code",
   "execution_count": 15,
   "metadata": {},
   "outputs": [],
   "source": [
    "text = \"\"\"\n",
    "This is just some example text. It mentions the name US President Barack Obama and the \n",
    "companies Microsoft, IBM, Google as well as a few place names like Los Angeles and New York.\n",
    "It has strange characters like 💩 and emojis like 😊 and 😂.\n",
    "Here we mention Barack Obama again and here we mention Charlie Chaplin.\n",
    "It mentions mathematics and economy and the terms cloud computing and gene therapy.\n",
    "John Smith beat Harald Schmidt at the tennis tournament.\n",
    "In Washington D.C. Barack Obama met Donald Trump. \n",
    "This is about politics, get it?\n",
    "\"\"\"\n",
    "doc = Document(text)"
   ]
  },
  {
   "cell_type": "code",
   "execution_count": 16,
   "metadata": {
    "scrolled": false,
    "slideshow": {
     "slide_type": ""
    }
   },
   "outputs": [],
   "source": [
    "goodoc = language_v1.Document(content=text, type_=language_v1.Document.Type.PLAIN_TEXT)\n",
    "# response = client.annotate_text(document=goodoc)\n",
    "# response = client.analyze_syntax(document=goodoc, encoding_type=\"UTF32\")\n",
    "# print(response)\n"
   ]
  },
  {
   "cell_type": "code",
   "execution_count": 17,
   "metadata": {},
   "outputs": [],
   "source": [
    "feats=language_v1.types.language_service.AnnotateTextRequest.Features(\n",
    "    #extract_syntax=True, \n",
    "    #extract_entities=True, \n",
    "    #extract_document_sentiment=True, \n",
    "    #extract_entity_sentiment=True, \n",
    "    classify_text=True,\n",
    ")"
   ]
  },
  {
   "cell_type": "code",
   "execution_count": 18,
   "metadata": {},
   "outputs": [
    {
     "data": {
      "text/plain": [
       "document_sentiment {\n",
       "}\n",
       "language: \"en\""
      ]
     },
     "execution_count": 18,
     "metadata": {},
     "output_type": "execute_result"
    }
   ],
   "source": [
    "response = client.annotate_text(document=goodoc, encoding_type=\"UTF32\", features=feats)\n",
    "response"
   ]
  },
  {
   "cell_type": "code",
   "execution_count": 7,
   "metadata": {},
   "outputs": [],
   "source": [
    "val=response.entities[1].metadata"
   ]
  },
  {
   "cell_type": "code",
   "execution_count": 8,
   "metadata": {},
   "outputs": [
    {
     "data": {
      "text/plain": [
       "{'wikipedia_url': 'https://en.wikipedia.org/wiki/Barack_Obama',\n",
       " 'mid': '/m/02mjmr'}"
      ]
     },
     "execution_count": 8,
     "metadata": {},
     "output_type": "execute_result"
    }
   ],
   "source": [
    "dict(val)"
   ]
  },
  {
   "cell_type": "code",
   "execution_count": 11,
   "metadata": {},
   "outputs": [],
   "source": [
    "doc.annset().clear()\n",
    "annt = GoogleNlpAnnotator(\n",
    "    which_features=\"syntax,entities,entity_sentiment,document_sentiment\",\n",
    "    debug=False,\n",
    ")"
   ]
  },
  {
   "cell_type": "code",
   "execution_count": 12,
   "metadata": {
    "scrolled": false
   },
   "outputs": [
    {
     "data": {
      "text/html": [
       "<div><style>#CGTCXFHPMN-wrapper { color: black !important; }</style>\n",
       "<div id=\"CGTCXFHPMN-wrapper\">\n",
       "\n",
       "<div>\n",
       "<style>\n",
       "#CGTCXFHPMN-content {\n",
       "    width: 100%;\n",
       "    height: 100%;\n",
       "    font-family: -apple-system, BlinkMacSystemFont, 'Segoe UI', Roboto, Oxygen, Ubuntu, Cantarell, 'Open Sans', 'Helvetica Neue', sans-serif;\n",
       "}\n",
       "\n",
       ".CGTCXFHPMN-row {\n",
       "    width: 100%;\n",
       "    display: flex;\n",
       "    flex-direction: row;\n",
       "    flex-wrap: nowrap;\n",
       "}\n",
       "\n",
       ".CGTCXFHPMN-col {\n",
       "    border: 1px solid grey;\n",
       "    display: inline-block;\n",
       "    min-width: 200px;\n",
       "    padding: 5px;\n",
       "    /* white-space: normal; */\n",
       "    /* white-space: pre-wrap; */\n",
       "    overflow-y: auto;\n",
       "}\n",
       "\n",
       ".CGTCXFHPMN-hdr {\n",
       "    font-size: 1.2rem;\n",
       "    font-weight: bold;\n",
       "}\n",
       "\n",
       ".CGTCXFHPMN-label {\n",
       "    margin-bottom: -15px;\n",
       "    display: block;\n",
       "}\n",
       "\n",
       ".CGTCXFHPMN-input {\n",
       "    vertical-align: middle;\n",
       "    position: relative;\n",
       "    *overflow: hidden;\n",
       "}\n",
       "\n",
       "#CGTCXFHPMN-popup {\n",
       "    display: none;\n",
       "    color: black;\n",
       "    position: absolute;\n",
       "    margin-top: 10%;\n",
       "    margin-left: 10%;\n",
       "    background: #aaaaaa;\n",
       "    width: 60%;\n",
       "    height: 60%;\n",
       "    z-index: 50;\n",
       "    padding: 25px 25px 25px;\n",
       "    border: 1px solid black;\n",
       "    overflow: auto;\n",
       "}\n",
       "\n",
       ".CGTCXFHPMN-selection {\n",
       "    margin-bottom: 5px;\n",
       "}\n",
       "\n",
       ".CGTCXFHPMN-featuretable {\n",
       "    margin-top: 10px;\n",
       "}\n",
       "\n",
       ".CGTCXFHPMN-fname {\n",
       "    text-align: left !important;\n",
       "    font-weight: bold;\n",
       "    margin-right: 10px;\n",
       "}\n",
       ".CGTCXFHPMN-fvalue {\n",
       "    text-align: left !important;\n",
       "}\n",
       "</style>\n",
       "  <div id=\"CGTCXFHPMN-content\">\n",
       "        <div id=\"CGTCXFHPMN-popup\" style=\"display: none;\">\n",
       "        </div>\n",
       "        <div class=\"CGTCXFHPMN-row\" id=\"CGTCXFHPMN-row1\" style=\"min-height:5em;max-height:20em;\">\n",
       "            <div id=\"CGTCXFHPMN-text-wrapper\" class=\"CGTCXFHPMN-col\" style=\"width:70%;\">\n",
       "                <div class=\"CGTCXFHPMN-hdr\" id=\"CGTCXFHPMN-dochdr\"></div>\n",
       "                <div id=\"CGTCXFHPMN-text\" style=\"\">\n",
       "                </div>\n",
       "            </div>\n",
       "            <div id=\"CGTCXFHPMN-chooser\" class=\"CGTCXFHPMN-col\" style=\"width:30%;border-left-width:0px;\"></div>\n",
       "        </div>\n",
       "        <div class=\"CGTCXFHPMN-row\" id=\"CGTCXFHPMN-row2\" style=\"min-height:3em;max-height:14em;\">\n",
       "            <div id=\"CGTCXFHPMN-details\" class=\"CGTCXFHPMN-col\" style=\"width:100%;border-top-width:0px;\">\n",
       "            </div>\n",
       "        </div>\n",
       "    </div>\n",
       "    \n",
       "    <script type=\"text/javascript\">\n",
       "    let CGTCXFHPMN_data = {\"annotation_sets\": {\"\": {\"name\": \"detached-from:\", \"annotations\": [{\"type\": \"Sentence\", \"start\": 1, \"end\": 32, \"id\": 118, \"features\": {\"sentiment_magnitude\": 0.5, \"sentiment_score\": -0.5}}, {\"type\": \"Sentence\", \"start\": 33, \"end\": 181, \"id\": 119, \"features\": {\"sentiment_magnitude\": 0.0, \"sentiment_score\": 0.0}}, {\"type\": \"Sentence\", \"start\": 182, \"end\": 242, \"id\": 120, \"features\": {\"sentiment_magnitude\": 0.20000000298023224, \"sentiment_score\": -0.20000000298023224}}, {\"type\": \"Sentence\", \"start\": 243, \"end\": 314, \"id\": 121, \"features\": {\"sentiment_magnitude\": 0.0, \"sentiment_score\": 0.0}}, {\"type\": \"Sentence\", \"start\": 315, \"end\": 398, \"id\": 122, \"features\": {\"sentiment_magnitude\": 0.0, \"sentiment_score\": 0.0}}, {\"type\": \"Sentence\", \"start\": 399, \"end\": 455, \"id\": 123, \"features\": {\"sentiment_magnitude\": 0.10000000149011612, \"sentiment_score\": 0.10000000149011612}}, {\"type\": \"Token\", \"start\": 1, \"end\": 5, \"id\": 124, \"features\": {\"pos\": \"DET\", \"number\": \"SINGULAR\", \"head\": 1, \"deprel\": \"NSUBJ\", \"lemma\": \"This\"}}, {\"type\": \"Token\", \"start\": 6, \"end\": 8, \"id\": 125, \"features\": {\"pos\": \"VERB\", \"number\": \"SINGULAR\", \"mood\": \"INDICATIVE\", \"person\": \"THIRD\", \"tense\": \"PRESENT\", \"head\": 1, \"deprel\": \"ROOT\", \"lemma\": \"be\"}}, {\"type\": \"Token\", \"start\": 9, \"end\": 13, \"id\": 126, \"features\": {\"pos\": \"ADV\", \"head\": 5, \"deprel\": \"ADVMOD\", \"lemma\": \"just\"}}, {\"type\": \"Token\", \"start\": 14, \"end\": 18, \"id\": 127, \"features\": {\"pos\": \"DET\", \"head\": 5, \"deprel\": \"DET\", \"lemma\": \"some\"}}, {\"type\": \"Token\", \"start\": 19, \"end\": 26, \"id\": 128, \"features\": {\"pos\": \"NOUN\", \"number\": \"SINGULAR\", \"head\": 5, \"deprel\": \"NN\", \"lemma\": \"example\"}}, {\"type\": \"Token\", \"start\": 27, \"end\": 31, \"id\": 129, \"features\": {\"pos\": \"NOUN\", \"number\": \"SINGULAR\", \"head\": 1, \"deprel\": \"ATTR\", \"lemma\": \"text\"}}, {\"type\": \"Token\", \"start\": 31, \"end\": 32, \"id\": 130, \"features\": {\"pos\": \"PUNCT\", \"head\": 1, \"deprel\": \"P\", \"lemma\": \".\"}}, {\"type\": \"Token\", \"start\": 33, \"end\": 35, \"id\": 131, \"features\": {\"pos\": \"PRON\", \"number\": \"SINGULAR\", \"person\": \"THIRD\", \"gender\": \"NEUTER\", \"case\": \"NOMINATIVE\", \"head\": 8, \"deprel\": \"NSUBJ\", \"lemma\": \"It\"}}, {\"type\": \"Token\", \"start\": 36, \"end\": 44, \"id\": 132, \"features\": {\"pos\": \"VERB\", \"number\": \"SINGULAR\", \"mood\": \"INDICATIVE\", \"person\": \"THIRD\", \"tense\": \"PRESENT\", \"head\": 8, \"deprel\": \"ROOT\", \"lemma\": \"mention\"}}, {\"type\": \"Token\", \"start\": 45, \"end\": 48, \"id\": 133, \"features\": {\"pos\": \"DET\", \"head\": 10, \"deprel\": \"DET\", \"lemma\": \"the\"}}, {\"type\": \"Token\", \"start\": 49, \"end\": 53, \"id\": 134, \"features\": {\"pos\": \"NOUN\", \"number\": \"SINGULAR\", \"head\": 8, \"deprel\": \"DOBJ\", \"lemma\": \"name\"}}, {\"type\": \"Token\", \"start\": 54, \"end\": 56, \"id\": 135, \"features\": {\"pos\": \"NOUN\", \"number\": \"SINGULAR\", \"proper\": \"PROPER\", \"head\": 12, \"deprel\": \"NN\", \"lemma\": \"US\"}}, {\"type\": \"Token\", \"start\": 57, \"end\": 66, \"id\": 136, \"features\": {\"pos\": \"NOUN\", \"number\": \"SINGULAR\", \"proper\": \"PROPER\", \"head\": 14, \"deprel\": \"TITLE\", \"lemma\": \"President\"}}, {\"type\": \"Token\", \"start\": 67, \"end\": 73, \"id\": 137, \"features\": {\"pos\": \"NOUN\", \"number\": \"SINGULAR\", \"proper\": \"PROPER\", \"head\": 14, \"deprel\": \"NN\", \"lemma\": \"Barack\"}}, {\"type\": \"Token\", \"start\": 74, \"end\": 79, \"id\": 138, \"features\": {\"pos\": \"NOUN\", \"number\": \"SINGULAR\", \"proper\": \"PROPER\", \"head\": 10, \"deprel\": \"APPOS\", \"lemma\": \"Obama\"}}, {\"type\": \"Token\", \"start\": 80, \"end\": 83, \"id\": 139, \"features\": {\"pos\": \"CONJ\", \"head\": 14, \"deprel\": \"CC\", \"lemma\": \"and\"}}, {\"type\": \"Token\", \"start\": 84, \"end\": 87, \"id\": 140, \"features\": {\"pos\": \"DET\", \"head\": 17, \"deprel\": \"DET\", \"lemma\": \"the\"}}, {\"type\": \"Token\", \"start\": 89, \"end\": 98, \"id\": 141, \"features\": {\"pos\": \"NOUN\", \"number\": \"PLURAL\", \"head\": 14, \"deprel\": \"CONJ\", \"lemma\": \"company\"}}, {\"type\": \"Token\", \"start\": 99, \"end\": 108, \"id\": 142, \"features\": {\"pos\": \"NOUN\", \"number\": \"SINGULAR\", \"proper\": \"PROPER\", \"head\": 17, \"deprel\": \"APPOS\", \"lemma\": \"Microsoft\"}}, {\"type\": \"Token\", \"start\": 108, \"end\": 109, \"id\": 143, \"features\": {\"pos\": \"PUNCT\", \"head\": 18, \"deprel\": \"P\", \"lemma\": \",\"}}, {\"type\": \"Token\", \"start\": 110, \"end\": 113, \"id\": 144, \"features\": {\"pos\": \"NOUN\", \"number\": \"SINGULAR\", \"proper\": \"PROPER\", \"head\": 18, \"deprel\": \"CONJ\", \"lemma\": \"IBM\"}}, {\"type\": \"Token\", \"start\": 113, \"end\": 114, \"id\": 145, \"features\": {\"pos\": \"PUNCT\", \"head\": 18, \"deprel\": \"P\", \"lemma\": \",\"}}, {\"type\": \"Token\", \"start\": 115, \"end\": 121, \"id\": 146, \"features\": {\"pos\": \"NOUN\", \"number\": \"SINGULAR\", \"proper\": \"PROPER\", \"head\": 18, \"deprel\": \"CONJ\", \"lemma\": \"Google\"}}, {\"type\": \"Token\", \"start\": 122, \"end\": 124, \"id\": 147, \"features\": {\"pos\": \"ADV\", \"head\": 24, \"deprel\": \"ADVMOD\", \"lemma\": \"as\"}}, {\"type\": \"Token\", \"start\": 125, \"end\": 129, \"id\": 148, \"features\": {\"pos\": \"ADV\", \"head\": 18, \"deprel\": \"CC\", \"lemma\": \"well\"}}, {\"type\": \"Token\", \"start\": 130, \"end\": 132, \"id\": 149, \"features\": {\"pos\": \"ADP\", \"head\": 24, \"deprel\": \"MWE\", \"lemma\": \"as\"}}, {\"type\": \"Token\", \"start\": 133, \"end\": 134, \"id\": 150, \"features\": {\"pos\": \"DET\", \"head\": 29, \"deprel\": \"DET\", \"lemma\": \"a\"}}, {\"type\": \"Token\", \"start\": 135, \"end\": 138, \"id\": 151, \"features\": {\"pos\": \"ADJ\", \"head\": 29, \"deprel\": \"AMOD\", \"lemma\": \"few\"}}, {\"type\": \"Token\", \"start\": 139, \"end\": 144, \"id\": 152, \"features\": {\"pos\": \"NOUN\", \"number\": \"SINGULAR\", \"head\": 29, \"deprel\": \"NN\", \"lemma\": \"place\"}}, {\"type\": \"Token\", \"start\": 145, \"end\": 150, \"id\": 153, \"features\": {\"pos\": \"NOUN\", \"number\": \"PLURAL\", \"head\": 18, \"deprel\": \"CONJ\", \"lemma\": \"name\"}}, {\"type\": \"Token\", \"start\": 151, \"end\": 155, \"id\": 154, \"features\": {\"pos\": \"ADP\", \"head\": 29, \"deprel\": \"PREP\", \"lemma\": \"like\"}}, {\"type\": \"Token\", \"start\": 156, \"end\": 159, \"id\": 155, \"features\": {\"pos\": \"NOUN\", \"number\": \"SINGULAR\", \"proper\": \"PROPER\", \"head\": 32, \"deprel\": \"NN\", \"lemma\": \"Los\"}}, {\"type\": \"Token\", \"start\": 160, \"end\": 167, \"id\": 156, \"features\": {\"pos\": \"NOUN\", \"number\": \"SINGULAR\", \"proper\": \"PROPER\", \"head\": 30, \"deprel\": \"POBJ\", \"lemma\": \"Angeles\"}}, {\"type\": \"Token\", \"start\": 168, \"end\": 171, \"id\": 157, \"features\": {\"pos\": \"CONJ\", \"head\": 32, \"deprel\": \"CC\", \"lemma\": \"and\"}}, {\"type\": \"Token\", \"start\": 172, \"end\": 175, \"id\": 158, \"features\": {\"pos\": \"NOUN\", \"number\": \"SINGULAR\", \"proper\": \"PROPER\", \"head\": 35, \"deprel\": \"NN\", \"lemma\": \"New\"}}, {\"type\": \"Token\", \"start\": 176, \"end\": 180, \"id\": 159, \"features\": {\"pos\": \"NOUN\", \"number\": \"SINGULAR\", \"proper\": \"PROPER\", \"head\": 32, \"deprel\": \"CONJ\", \"lemma\": \"York\"}}, {\"type\": \"Token\", \"start\": 180, \"end\": 181, \"id\": 160, \"features\": {\"pos\": \"PUNCT\", \"head\": 8, \"deprel\": \"P\", \"lemma\": \".\"}}, {\"type\": \"Token\", \"start\": 182, \"end\": 184, \"id\": 161, \"features\": {\"pos\": \"PRON\", \"number\": \"SINGULAR\", \"person\": \"THIRD\", \"gender\": \"NEUTER\", \"case\": \"NOMINATIVE\", \"head\": 38, \"deprel\": \"NSUBJ\", \"lemma\": \"It\"}}, {\"type\": \"Token\", \"start\": 185, \"end\": 188, \"id\": 162, \"features\": {\"pos\": \"VERB\", \"number\": \"SINGULAR\", \"mood\": \"INDICATIVE\", \"person\": \"THIRD\", \"tense\": \"PRESENT\", \"head\": 38, \"deprel\": \"ROOT\", \"lemma\": \"have\"}}, {\"type\": \"Token\", \"start\": 189, \"end\": 196, \"id\": 163, \"features\": {\"pos\": \"ADJ\", \"head\": 40, \"deprel\": \"AMOD\", \"lemma\": \"strange\"}}, {\"type\": \"Token\", \"start\": 197, \"end\": 207, \"id\": 164, \"features\": {\"pos\": \"NOUN\", \"number\": \"PLURAL\", \"head\": 38, \"deprel\": \"DOBJ\", \"lemma\": \"character\"}}, {\"type\": \"Token\", \"start\": 208, \"end\": 212, \"id\": 165, \"features\": {\"pos\": \"ADP\", \"head\": 40, \"deprel\": \"PREP\", \"lemma\": \"like\"}}, {\"type\": \"Token\", \"start\": 213, \"end\": 215, \"id\": 166, \"features\": {\"pos\": \"NUM\", \"head\": 41, \"deprel\": \"POBJ\", \"lemma\": \"\\ud83d\\udca9\"}}, {\"type\": \"Token\", \"start\": 216, \"end\": 219, \"id\": 167, \"features\": {\"pos\": \"CONJ\", \"head\": 42, \"deprel\": \"CC\", \"lemma\": \"and\"}}, {\"type\": \"Token\", \"start\": 220, \"end\": 226, \"id\": 168, \"features\": {\"pos\": \"NOUN\", \"number\": \"SINGULAR\", \"head\": 42, \"deprel\": \"CONJ\", \"lemma\": \"emoji\"}}, {\"type\": \"Token\", \"start\": 227, \"end\": 231, \"id\": 169, \"features\": {\"pos\": \"ADP\", \"head\": 44, \"deprel\": \"PREP\", \"lemma\": \"like\"}}, {\"type\": \"Token\", \"start\": 232, \"end\": 234, \"id\": 170, \"features\": {\"pos\": \"NUM\", \"head\": 45, \"deprel\": \"POBJ\", \"lemma\": \"\\ud83d\\ude0a\"}}, {\"type\": \"Token\", \"start\": 235, \"end\": 238, \"id\": 171, \"features\": {\"pos\": \"CONJ\", \"head\": 46, \"deprel\": \"CC\", \"lemma\": \"and\"}}, {\"type\": \"Token\", \"start\": 239, \"end\": 241, \"id\": 172, \"features\": {\"pos\": \"NUM\", \"head\": 46, \"deprel\": \"CONJ\", \"lemma\": \"\\ud83d\\ude02\"}}, {\"type\": \"Token\", \"start\": 241, \"end\": 242, \"id\": 173, \"features\": {\"pos\": \"PUNCT\", \"head\": 38, \"deprel\": \"P\", \"lemma\": \".\"}}, {\"type\": \"Token\", \"start\": 243, \"end\": 247, \"id\": 174, \"features\": {\"pos\": \"ADV\", \"number\": \"SINGULAR\", \"person\": \"THIRD\", \"head\": 52, \"deprel\": \"ADVMOD\", \"lemma\": \"Here\"}}, {\"type\": \"Token\", \"start\": 248, \"end\": 250, \"id\": 175, \"features\": {\"pos\": \"PRON\", \"number\": \"PLURAL\", \"person\": \"FIRST\", \"case\": \"NOMINATIVE\", \"head\": 52, \"deprel\": \"NSUBJ\", \"lemma\": \"we\"}}, {\"type\": \"Token\", \"start\": 251, \"end\": 258, \"id\": 176, \"features\": {\"pos\": \"VERB\", \"mood\": \"INDICATIVE\", \"tense\": \"PRESENT\", \"head\": 52, \"deprel\": \"ROOT\", \"lemma\": \"mention\"}}, {\"type\": \"Token\", \"start\": 259, \"end\": 265, \"id\": 177, \"features\": {\"pos\": \"NOUN\", \"number\": \"SINGULAR\", \"proper\": \"PROPER\", \"head\": 54, \"deprel\": \"NN\", \"lemma\": \"Barack\"}}, {\"type\": \"Token\", \"start\": 266, \"end\": 271, \"id\": 178, \"features\": {\"pos\": \"NOUN\", \"number\": \"SINGULAR\", \"proper\": \"PROPER\", \"head\": 52, \"deprel\": \"DOBJ\", \"lemma\": \"Obama\"}}, {\"type\": \"Token\", \"start\": 272, \"end\": 277, \"id\": 179, \"features\": {\"pos\": \"ADV\", \"head\": 52, \"deprel\": \"ADVMOD\", \"lemma\": \"again\"}}, {\"type\": \"Token\", \"start\": 278, \"end\": 281, \"id\": 180, \"features\": {\"pos\": \"CONJ\", \"head\": 52, \"deprel\": \"CC\", \"lemma\": \"and\"}}, {\"type\": \"Token\", \"start\": 282, \"end\": 286, \"id\": 181, \"features\": {\"pos\": \"ADV\", \"number\": \"SINGULAR\", \"person\": \"THIRD\", \"head\": 59, \"deprel\": \"ADVMOD\", \"lemma\": \"here\"}}, {\"type\": \"Token\", \"start\": 287, \"end\": 289, \"id\": 182, \"features\": {\"pos\": \"PRON\", \"number\": \"PLURAL\", \"person\": \"FIRST\", \"case\": \"NOMINATIVE\", \"head\": 59, \"deprel\": \"NSUBJ\", \"lemma\": \"we\"}}, {\"type\": \"Token\", \"start\": 290, \"end\": 297, \"id\": 183, \"features\": {\"pos\": \"VERB\", \"mood\": \"INDICATIVE\", \"tense\": \"PRESENT\", \"head\": 52, \"deprel\": \"CONJ\", \"lemma\": \"mention\"}}, {\"type\": \"Token\", \"start\": 298, \"end\": 305, \"id\": 184, \"features\": {\"pos\": \"NOUN\", \"number\": \"SINGULAR\", \"proper\": \"PROPER\", \"head\": 61, \"deprel\": \"NN\", \"lemma\": \"Charlie\"}}, {\"type\": \"Token\", \"start\": 306, \"end\": 313, \"id\": 185, \"features\": {\"pos\": \"NOUN\", \"number\": \"SINGULAR\", \"proper\": \"PROPER\", \"head\": 59, \"deprel\": \"NSUBJ\", \"lemma\": \"Chaplin\"}}, {\"type\": \"Token\", \"start\": 313, \"end\": 314, \"id\": 186, \"features\": {\"pos\": \"PUNCT\", \"head\": 52, \"deprel\": \"P\", \"lemma\": \".\"}}, {\"type\": \"Token\", \"start\": 315, \"end\": 317, \"id\": 187, \"features\": {\"pos\": \"PRON\", \"number\": \"SINGULAR\", \"person\": \"THIRD\", \"gender\": \"NEUTER\", \"case\": \"NOMINATIVE\", \"head\": 64, \"deprel\": \"NSUBJ\", \"lemma\": \"It\"}}, {\"type\": \"Token\", \"start\": 318, \"end\": 326, \"id\": 188, \"features\": {\"pos\": \"VERB\", \"number\": \"SINGULAR\", \"mood\": \"INDICATIVE\", \"person\": \"THIRD\", \"tense\": \"PRESENT\", \"head\": 64, \"deprel\": \"ROOT\", \"lemma\": \"mention\"}}, {\"type\": \"Token\", \"start\": 327, \"end\": 338, \"id\": 189, \"features\": {\"pos\": \"NOUN\", \"number\": \"SINGULAR\", \"head\": 64, \"deprel\": \"DOBJ\", \"lemma\": \"mathematics\"}}, {\"type\": \"Token\", \"start\": 339, \"end\": 342, \"id\": 190, \"features\": {\"pos\": \"CONJ\", \"head\": 65, \"deprel\": \"CC\", \"lemma\": \"and\"}}, {\"type\": \"Token\", \"start\": 343, \"end\": 350, \"id\": 191, \"features\": {\"pos\": \"NOUN\", \"number\": \"SINGULAR\", \"head\": 65, \"deprel\": \"CONJ\", \"lemma\": \"economy\"}}, {\"type\": \"Token\", \"start\": 351, \"end\": 354, \"id\": 192, \"features\": {\"pos\": \"CONJ\", \"head\": 65, \"deprel\": \"CC\", \"lemma\": \"and\"}}, {\"type\": \"Token\", \"start\": 355, \"end\": 358, \"id\": 193, \"features\": {\"pos\": \"DET\", \"head\": 75, \"deprel\": \"DET\", \"lemma\": \"the\"}}, {\"type\": \"Token\", \"start\": 359, \"end\": 364, \"id\": 194, \"features\": {\"pos\": \"NOUN\", \"number\": \"PLURAL\", \"head\": 71, \"deprel\": \"NN\", \"lemma\": \"term\"}}, {\"type\": \"Token\", \"start\": 365, \"end\": 370, \"id\": 195, \"features\": {\"pos\": \"NOUN\", \"number\": \"SINGULAR\", \"head\": 75, \"deprel\": \"NN\", \"lemma\": \"cloud\"}}, {\"type\": \"Token\", \"start\": 371, \"end\": 380, \"id\": 196, \"features\": {\"pos\": \"NOUN\", \"number\": \"SINGULAR\", \"head\": 75, \"deprel\": \"NN\", \"lemma\": \"computing\"}}, {\"type\": \"Token\", \"start\": 381, \"end\": 384, \"id\": 197, \"features\": {\"pos\": \"CONJ\", \"head\": 72, \"deprel\": \"CC\", \"lemma\": \"and\"}}, {\"type\": \"Token\", \"start\": 385, \"end\": 389, \"id\": 198, \"features\": {\"pos\": \"NOUN\", \"number\": \"SINGULAR\", \"head\": 72, \"deprel\": \"CONJ\", \"lemma\": \"gene\"}}, {\"type\": \"Token\", \"start\": 390, \"end\": 397, \"id\": 199, \"features\": {\"pos\": \"NOUN\", \"number\": \"SINGULAR\", \"head\": 65, \"deprel\": \"CONJ\", \"lemma\": \"therapy\"}}, {\"type\": \"Token\", \"start\": 397, \"end\": 398, \"id\": 200, \"features\": {\"pos\": \"PUNCT\", \"head\": 64, \"deprel\": \"P\", \"lemma\": \".\"}}, {\"type\": \"Token\", \"start\": 399, \"end\": 403, \"id\": 201, \"features\": {\"pos\": \"NOUN\", \"number\": \"SINGULAR\", \"proper\": \"PROPER\", \"head\": 78, \"deprel\": \"NN\", \"lemma\": \"John\"}}, {\"type\": \"Token\", \"start\": 404, \"end\": 409, \"id\": 202, \"features\": {\"pos\": \"NOUN\", \"number\": \"SINGULAR\", \"proper\": \"PROPER\", \"head\": 79, \"deprel\": \"NSUBJ\", \"lemma\": \"Smith\"}}, {\"type\": \"Token\", \"start\": 410, \"end\": 414, \"id\": 203, \"features\": {\"pos\": \"VERB\", \"mood\": \"INDICATIVE\", \"tense\": \"PAST\", \"head\": 79, \"deprel\": \"ROOT\", \"lemma\": \"beat\"}}, {\"type\": \"Token\", \"start\": 415, \"end\": 421, \"id\": 204, \"features\": {\"pos\": \"NOUN\", \"number\": \"SINGULAR\", \"proper\": \"PROPER\", \"head\": 81, \"deprel\": \"NN\", \"lemma\": \"Harald\"}}, {\"type\": \"Token\", \"start\": 422, \"end\": 429, \"id\": 205, \"features\": {\"pos\": \"NOUN\", \"number\": \"SINGULAR\", \"proper\": \"PROPER\", \"head\": 79, \"deprel\": \"DOBJ\", \"lemma\": \"Schmidt\"}}, {\"type\": \"Token\", \"start\": 430, \"end\": 432, \"id\": 206, \"features\": {\"pos\": \"ADP\", \"head\": 79, \"deprel\": \"PREP\", \"lemma\": \"at\"}}, {\"type\": \"Token\", \"start\": 433, \"end\": 436, \"id\": 207, \"features\": {\"pos\": \"DET\", \"head\": 85, \"deprel\": \"DET\", \"lemma\": \"the\"}}, {\"type\": \"Token\", \"start\": 437, \"end\": 443, \"id\": 208, \"features\": {\"pos\": \"NOUN\", \"number\": \"SINGULAR\", \"head\": 85, \"deprel\": \"NN\", \"lemma\": \"tennis\"}}, {\"type\": \"Token\", \"start\": 444, \"end\": 454, \"id\": 209, \"features\": {\"pos\": \"NOUN\", \"number\": \"SINGULAR\", \"head\": 82, \"deprel\": \"POBJ\", \"lemma\": \"tournament\"}}, {\"type\": \"Token\", \"start\": 454, \"end\": 455, \"id\": 210, \"features\": {\"pos\": \"PUNCT\", \"head\": 79, \"deprel\": \"P\", \"lemma\": \".\"}}, {\"type\": \"OTHER\", \"start\": 19, \"end\": 31, \"id\": 211, \"features\": {\"type\": \"OTHER\", \"salience\": 0.5180041790008545, \"name\": \"example text\", \"mtype\": \"COMMON\", \"sentiment_magnitude\": 0.0, \"sentiment_score\": 0.0}}, {\"type\": \"PERSON\", \"start\": 67, \"end\": 79, \"id\": 212, \"features\": {\"type\": \"PERSON\", \"salience\": 0.09832148253917694, \"name\": \"Barack Obama\", \"mid\": \"/m/02mjmr\", \"wikipedia_url\": \"https://en.wikipedia.org/wiki/Barack_Obama\", \"mtype\": \"PROPER\", \"sentiment_magnitude\": 0.10000000149011612, \"sentiment_score\": 0.10000000149011612}}, {\"type\": \"PERSON\", \"start\": 57, \"end\": 66, \"id\": 213, \"features\": {\"type\": \"PERSON\", \"salience\": 0.09832148253917694, \"name\": \"Barack Obama\", \"mid\": \"/m/02mjmr\", \"wikipedia_url\": \"https://en.wikipedia.org/wiki/Barack_Obama\", \"mtype\": \"COMMON\", \"sentiment_magnitude\": 0.10000000149011612, \"sentiment_score\": 0.10000000149011612}}, {\"type\": \"PERSON\", \"start\": 259, \"end\": 271, \"id\": 214, \"features\": {\"type\": \"PERSON\", \"salience\": 0.09832148253917694, \"name\": \"Barack Obama\", \"mid\": \"/m/02mjmr\", \"wikipedia_url\": \"https://en.wikipedia.org/wiki/Barack_Obama\", \"mtype\": \"PROPER\", \"sentiment_magnitude\": 0.30000001192092896, \"sentiment_score\": 0.30000001192092896}}, {\"type\": \"OTHER\", \"start\": 49, \"end\": 53, \"id\": 215, \"features\": {\"type\": \"OTHER\", \"salience\": 0.08451000601053238, \"name\": \"name\", \"mtype\": \"COMMON\", \"sentiment_magnitude\": 0.10000000149011612, \"sentiment_score\": 0.10000000149011612}}, {\"type\": \"ORGANIZATION\", \"start\": 89, \"end\": 98, \"id\": 216, \"features\": {\"type\": \"ORGANIZATION\", \"salience\": 0.07212014496326447, \"name\": \"Microsoft\", \"wikipedia_url\": \"https://en.wikipedia.org/wiki/Microsoft\", \"mid\": \"/m/04sv4\", \"mtype\": \"COMMON\", \"sentiment_magnitude\": 0.10000000149011612, \"sentiment_score\": 0.10000000149011612}}, {\"type\": \"ORGANIZATION\", \"start\": 99, \"end\": 108, \"id\": 217, \"features\": {\"type\": \"ORGANIZATION\", \"salience\": 0.07212014496326447, \"name\": \"Microsoft\", \"wikipedia_url\": \"https://en.wikipedia.org/wiki/Microsoft\", \"mid\": \"/m/04sv4\", \"mtype\": \"PROPER\", \"sentiment_magnitude\": 0.10000000149011612, \"sentiment_score\": 0.10000000149011612}}, {\"type\": \"PERSON\", \"start\": 197, \"end\": 207, \"id\": 218, \"features\": {\"type\": \"PERSON\", \"salience\": 0.02215736173093319, \"name\": \"characters\", \"mtype\": \"COMMON\", \"sentiment_magnitude\": 0.0, \"sentiment_score\": 0.0}}, {\"type\": \"OTHER\", \"start\": 139, \"end\": 150, \"id\": 219, \"features\": {\"type\": \"OTHER\", \"salience\": 0.02199687622487545, \"name\": \"place names\", \"mtype\": \"COMMON\", \"sentiment_magnitude\": 0.10000000149011612, \"sentiment_score\": 0.10000000149011612}}, {\"type\": \"OTHER\", \"start\": 220, \"end\": 226, \"id\": 220, \"features\": {\"type\": \"OTHER\", \"salience\": 0.017877254635095596, \"name\": \"emojis\", \"mtype\": \"COMMON\", \"sentiment_magnitude\": 0.0, \"sentiment_score\": 0.0}}, {\"type\": \"ORGANIZATION\", \"start\": 110, \"end\": 113, \"id\": 221, \"features\": {\"type\": \"ORGANIZATION\", \"salience\": 0.016953714191913605, \"name\": \"IBM\", \"mid\": \"/m/03sc8\", \"wikipedia_url\": \"https://en.wikipedia.org/wiki/IBM\", \"mtype\": \"PROPER\", \"sentiment_magnitude\": 0.10000000149011612, \"sentiment_score\": 0.10000000149011612}}, {\"type\": \"LOCATION\", \"start\": 54, \"end\": 56, \"id\": 222, \"features\": {\"type\": \"LOCATION\", \"salience\": 0.016953714191913605, \"name\": \"US\", \"mid\": \"/m/09c7w0\", \"wikipedia_url\": \"https://en.wikipedia.org/wiki/United_States\", \"mtype\": \"PROPER\", \"sentiment_magnitude\": 0.10000000149011612, \"sentiment_score\": 0.10000000149011612}}, {\"type\": \"OTHER\", \"start\": 359, \"end\": 380, \"id\": 223, \"features\": {\"type\": \"OTHER\", \"salience\": 0.015251295641064644, \"name\": \"terms cloud computing\", \"mtype\": \"COMMON\", \"sentiment_magnitude\": 0.0, \"sentiment_score\": 0.0}}, {\"type\": \"OTHER\", \"start\": 385, \"end\": 397, \"id\": 224, \"features\": {\"type\": \"OTHER\", \"salience\": 0.013402333483099937, \"name\": \"gene therapy\", \"mtype\": \"COMMON\", \"sentiment_magnitude\": 0.0, \"sentiment_score\": 0.0}}, {\"type\": \"OTHER\", \"start\": 343, \"end\": 350, \"id\": 225, \"features\": {\"type\": \"OTHER\", \"salience\": 0.013402333483099937, \"name\": \"economy\", \"mtype\": \"COMMON\", \"sentiment_magnitude\": 0.0, \"sentiment_score\": 0.0}}, {\"type\": \"LOCATION\", \"start\": 172, \"end\": 180, \"id\": 226, \"features\": {\"type\": \"LOCATION\", \"salience\": 0.011593351140618324, \"name\": \"New York\", \"mid\": \"/m/02_286\", \"wikipedia_url\": \"https://en.wikipedia.org/wiki/New_York_City\", \"mtype\": \"PROPER\", \"sentiment_magnitude\": 0.10000000149011612, \"sentiment_score\": 0.10000000149011612}}, {\"type\": \"PERSON\", \"start\": 213, \"end\": 215, \"id\": 227, \"features\": {\"type\": \"PERSON\", \"salience\": 0.011535814963281155, \"name\": \"\\ud83d\\udca9\", \"mtype\": \"PROPER\", \"sentiment_magnitude\": 0.0, \"sentiment_score\": 0.0}}, {\"type\": \"ORGANIZATION\", \"start\": 115, \"end\": 121, \"id\": 228, \"features\": {\"type\": \"ORGANIZATION\", \"salience\": 0.011451964266598225, \"name\": \"Google\", \"wikipedia_url\": \"https://en.wikipedia.org/wiki/Google\", \"mid\": \"/m/045c7b\", \"mtype\": \"PROPER\", \"sentiment_magnitude\": 0.10000000149011612, \"sentiment_score\": 0.10000000149011612}}, {\"type\": \"LOCATION\", \"start\": 156, \"end\": 167, \"id\": 229, \"features\": {\"type\": \"LOCATION\", \"salience\": 0.011451964266598225, \"name\": \"Los Angeles\", \"mid\": \"/m/030qb3t\", \"wikipedia_url\": \"https://en.wikipedia.org/wiki/Los_Angeles\", \"mtype\": \"PROPER\", \"sentiment_magnitude\": 0.10000000149011612, \"sentiment_score\": 0.10000000149011612}}, {\"type\": \"PERSON\", \"start\": 232, \"end\": 234, \"id\": 230, \"features\": {\"type\": \"PERSON\", \"salience\": 0.010586180724203587, \"name\": \"\\ud83d\\ude0a\", \"mtype\": \"PROPER\", \"sentiment_magnitude\": 0.0, \"sentiment_score\": 0.0}}, {\"type\": \"PERSON\", \"start\": 399, \"end\": 409, \"id\": 231, \"features\": {\"type\": \"PERSON\", \"salience\": 0.009993533603847027, \"name\": \"John Smith\", \"mtype\": \"PROPER\", \"sentiment_magnitude\": 0.4000000059604645, \"sentiment_score\": 0.4000000059604645}}, {\"type\": \"EVENT\", \"start\": 437, \"end\": 454, \"id\": 232, \"features\": {\"type\": \"EVENT\", \"salience\": 0.009368153288960457, \"name\": \"tennis tournament\", \"mtype\": \"COMMON\", \"sentiment_magnitude\": 0.10000000149011612, \"sentiment_score\": 0.10000000149011612}}, {\"type\": \"OTHER\", \"start\": 327, \"end\": 338, \"id\": 233, \"features\": {\"type\": \"OTHER\", \"salience\": 0.005886400118470192, \"name\": \"mathematics\", \"mtype\": \"COMMON\", \"sentiment_magnitude\": 0.0, \"sentiment_score\": 0.0}}, {\"type\": \"PERSON\", \"start\": 415, \"end\": 429, \"id\": 234, \"features\": {\"type\": \"PERSON\", \"salience\": 0.003692450001835823, \"name\": \"Harald Schmidt\", \"wikipedia_url\": \"https://en.wikipedia.org/wiki/Harald_Schmidt\", \"mid\": \"/m/015tyq\", \"mtype\": \"PROPER\", \"sentiment_magnitude\": 0.4000000059604645, \"sentiment_score\": 0.4000000059604645}}, {\"type\": \"PERSON\", \"start\": 298, \"end\": 313, \"id\": 235, \"features\": {\"type\": \"PERSON\", \"salience\": 0.003489513648673892, \"name\": \"Charlie Chaplin\", \"mid\": \"/m/01lc5\", \"wikipedia_url\": \"https://en.wikipedia.org/wiki/Charlie_Chaplin\", \"mtype\": \"PROPER\", \"sentiment_magnitude\": 0.30000001192092896, \"sentiment_score\": 0.30000001192092896}}], \"next_annid\": 236}}, \"text\": \"\\nThis is just some example text. It mentions the name US President Barack Obama and the \\ncompanies Microsoft, IBM, Google as well as a few place names like Los Angeles and New York.\\nIt has strange characters like \\ud83d\\udca9 and emojis like \\ud83d\\ude0a and \\ud83d\\ude02.\\nHere we mention Barack Obama again and here we mention Charlie Chaplin.\\nIt mentions mathematics and economy and the terms cloud computing and gene therapy.\\nJohn Smith beat Harald Schmidt at the tennis tournament.\\n\", \"features\": {\"language\": \"en\", \"document_sentiment_magnitude\": 1.2000000476837158, \"document_sentiment_socre\": -0.10000000149011612}, \"offset_type\": \"j\", \"name\": \"\"} ; \n",
       "    new gatenlpDocView(new gatenlpDocRep(CGTCXFHPMN_data), \"CGTCXFHPMN-\").init();\n",
       "    </script>\n",
       "  </div>\n",
       "\n",
       "</div></div>"
      ],
      "text/plain": [
       "Document(\n",
       "This is just some example text. It mentions the name US President Barack Obama and the \n",
       "companies Microsoft, IBM, Google as well as a few place names like Los Angeles and New York.\n",
       "It has strange characters like 💩 and emojis like 😊 and 😂.\n",
       "Here we mention Barack Obama again and here we mention Charlie Chaplin.\n",
       "It mentions mathematics and economy and the terms cloud computing and gene therapy.\n",
       "John Smith beat Harald Schmidt at the tennis tournament.\n",
       ",features=Features({'language': 'en', 'document_sentiment_magnitude': 1.2000000476837158, 'document_sentiment_socre': -0.10000000149011612}),anns={'': AnnotationSet([Annotation(1,32,Sentence,features=Features({'sentiment_magnitude': 0.5, 'sentiment_score': -0.5}),id=118), Annotation(1,5,Token,features=Features({'pos': 'DET', 'number': 'SINGULAR', 'head': 1, 'deprel': 'NSUBJ', 'lemma': 'This'}),id=124), Annotation(6,8,Token,features=Features({'pos': 'VERB', 'number': 'SINGULAR', 'mood': 'INDICATIVE', 'person': 'THIRD', 'tense': 'PRESENT', 'head': 1, 'deprel': 'ROOT', 'lemma': 'be'}),id=125), Annotation(9,13,Token,features=Features({'pos': 'ADV', 'head': 5, 'deprel': 'ADVMOD', 'lemma': 'just'}),id=126), Annotation(14,18,Token,features=Features({'pos': 'DET', 'head': 5, 'deprel': 'DET', 'lemma': 'some'}),id=127), Annotation(19,26,Token,features=Features({'pos': 'NOUN', 'number': 'SINGULAR', 'head': 5, 'deprel': 'NN', 'lemma': 'example'}),id=128), Annotation(19,31,OTHER,features=Features({'type': 'OTHER', 'salience': 0.5180041790008545, 'name': 'example text', 'mtype': 'COMMON', 'sentiment_magnitude': 0.0, 'sentiment_score': 0.0}),id=211), Annotation(27,31,Token,features=Features({'pos': 'NOUN', 'number': 'SINGULAR', 'head': 1, 'deprel': 'ATTR', 'lemma': 'text'}),id=129), Annotation(31,32,Token,features=Features({'pos': 'PUNCT', 'head': 1, 'deprel': 'P', 'lemma': '.'}),id=130), Annotation(33,181,Sentence,features=Features({'sentiment_magnitude': 0.0, 'sentiment_score': 0.0}),id=119), Annotation(33,35,Token,features=Features({'pos': 'PRON', 'number': 'SINGULAR', 'person': 'THIRD', 'gender': 'NEUTER', 'case': 'NOMINATIVE', 'head': 8, 'deprel': 'NSUBJ', 'lemma': 'It'}),id=131), Annotation(36,44,Token,features=Features({'pos': 'VERB', 'number': 'SINGULAR', 'mood': 'INDICATIVE', 'person': 'THIRD', 'tense': 'PRESENT', 'head': 8, 'deprel': 'ROOT', 'lemma': 'mention'}),id=132), Annotation(45,48,Token,features=Features({'pos': 'DET', 'head': 10, 'deprel': 'DET', 'lemma': 'the'}),id=133), Annotation(49,53,Token,features=Features({'pos': 'NOUN', 'number': 'SINGULAR', 'head': 8, 'deprel': 'DOBJ', 'lemma': 'name'}),id=134), Annotation(49,53,OTHER,features=Features({'type': 'OTHER', 'salience': 0.08451000601053238, 'name': 'name', 'mtype': 'COMMON', 'sentiment_magnitude': 0.10000000149011612, 'sentiment_score': 0.10000000149011612}),id=215), Annotation(54,56,Token,features=Features({'pos': 'NOUN', 'number': 'SINGULAR', 'proper': 'PROPER', 'head': 12, 'deprel': 'NN', 'lemma': 'US'}),id=135), Annotation(54,56,LOCATION,features=Features({'type': 'LOCATION', 'salience': 0.016953714191913605, 'name': 'US', 'mid': '/m/09c7w0', 'wikipedia_url': 'https://en.wikipedia.org/wiki/United_States', 'mtype': 'PROPER', 'sentiment_magnitude': 0.10000000149011612, 'sentiment_score': 0.10000000149011612}),id=222), Annotation(57,66,Token,features=Features({'pos': 'NOUN', 'number': 'SINGULAR', 'proper': 'PROPER', 'head': 14, 'deprel': 'TITLE', 'lemma': 'President'}),id=136), Annotation(57,66,PERSON,features=Features({'type': 'PERSON', 'salience': 0.09832148253917694, 'name': 'Barack Obama', 'mid': '/m/02mjmr', 'wikipedia_url': 'https://en.wikipedia.org/wiki/Barack_Obama', 'mtype': 'COMMON', 'sentiment_magnitude': 0.10000000149011612, 'sentiment_score': 0.10000000149011612}),id=213), Annotation(67,73,Token,features=Features({'pos': 'NOUN', 'number': 'SINGULAR', 'proper': 'PROPER', 'head': 14, 'deprel': 'NN', 'lemma': 'Barack'}),id=137), Annotation(67,79,PERSON,features=Features({'type': 'PERSON', 'salience': 0.09832148253917694, 'name': 'Barack Obama', 'mid': '/m/02mjmr', 'wikipedia_url': 'https://en.wikipedia.org/wiki/Barack_Obama', 'mtype': 'PROPER', 'sentiment_magnitude': 0.10000000149011612, 'sentiment_score': 0.10000000149011612}),id=212), Annotation(74,79,Token,features=Features({'pos': 'NOUN', 'number': 'SINGULAR', 'proper': 'PROPER', 'head': 10, 'deprel': 'APPOS', 'lemma': 'Obama'}),id=138), Annotation(80,83,Token,features=Features({'pos': 'CONJ', 'head': 14, 'deprel': 'CC', 'lemma': 'and'}),id=139), Annotation(84,87,Token,features=Features({'pos': 'DET', 'head': 17, 'deprel': 'DET', 'lemma': 'the'}),id=140), Annotation(89,98,Token,features=Features({'pos': 'NOUN', 'number': 'PLURAL', 'head': 14, 'deprel': 'CONJ', 'lemma': 'company'}),id=141), Annotation(89,98,ORGANIZATION,features=Features({'type': 'ORGANIZATION', 'salience': 0.07212014496326447, 'name': 'Microsoft', 'wikipedia_url': 'https://en.wikipedia.org/wiki/Microsoft', 'mid': '/m/04sv4', 'mtype': 'COMMON', 'sentiment_magnitude': 0.10000000149011612, 'sentiment_score': 0.10000000149011612}),id=216), Annotation(99,108,Token,features=Features({'pos': 'NOUN', 'number': 'SINGULAR', 'proper': 'PROPER', 'head': 17, 'deprel': 'APPOS', 'lemma': 'Microsoft'}),id=142), Annotation(99,108,ORGANIZATION,features=Features({'type': 'ORGANIZATION', 'salience': 0.07212014496326447, 'name': 'Microsoft', 'wikipedia_url': 'https://en.wikipedia.org/wiki/Microsoft', 'mid': '/m/04sv4', 'mtype': 'PROPER', 'sentiment_magnitude': 0.10000000149011612, 'sentiment_score': 0.10000000149011612}),id=217), Annotation(108,109,Token,features=Features({'pos': 'PUNCT', 'head': 18, 'deprel': 'P', 'lemma': ','}),id=143), Annotation(110,113,Token,features=Features({'pos': 'NOUN', 'number': 'SINGULAR', 'proper': 'PROPER', 'head': 18, 'deprel': 'CONJ', 'lemma': 'IBM'}),id=144), Annotation(110,113,ORGANIZATION,features=Features({'type': 'ORGANIZATION', 'salience': 0.016953714191913605, 'name': 'IBM', 'mid': '/m/03sc8', 'wikipedia_url': 'https://en.wikipedia.org/wiki/IBM', 'mtype': 'PROPER', 'sentiment_magnitude': 0.10000000149011612, 'sentiment_score': 0.10000000149011612}),id=221), Annotation(113,114,Token,features=Features({'pos': 'PUNCT', 'head': 18, 'deprel': 'P', 'lemma': ','}),id=145), Annotation(115,121,Token,features=Features({'pos': 'NOUN', 'number': 'SINGULAR', 'proper': 'PROPER', 'head': 18, 'deprel': 'CONJ', 'lemma': 'Google'}),id=146), Annotation(115,121,ORGANIZATION,features=Features({'type': 'ORGANIZATION', 'salience': 0.011451964266598225, 'name': 'Google', 'wikipedia_url': 'https://en.wikipedia.org/wiki/Google', 'mid': '/m/045c7b', 'mtype': 'PROPER', 'sentiment_magnitude': 0.10000000149011612, 'sentiment_score': 0.10000000149011612}),id=228), Annotation(122,124,Token,features=Features({'pos': 'ADV', 'head': 24, 'deprel': 'ADVMOD', 'lemma': 'as'}),id=147), Annotation(125,129,Token,features=Features({'pos': 'ADV', 'head': 18, 'deprel': 'CC', 'lemma': 'well'}),id=148), Annotation(130,132,Token,features=Features({'pos': 'ADP', 'head': 24, 'deprel': 'MWE', 'lemma': 'as'}),id=149), Annotation(133,134,Token,features=Features({'pos': 'DET', 'head': 29, 'deprel': 'DET', 'lemma': 'a'}),id=150), Annotation(135,138,Token,features=Features({'pos': 'ADJ', 'head': 29, 'deprel': 'AMOD', 'lemma': 'few'}),id=151), Annotation(139,144,Token,features=Features({'pos': 'NOUN', 'number': 'SINGULAR', 'head': 29, 'deprel': 'NN', 'lemma': 'place'}),id=152), Annotation(139,150,OTHER,features=Features({'type': 'OTHER', 'salience': 0.02199687622487545, 'name': 'place names', 'mtype': 'COMMON', 'sentiment_magnitude': 0.10000000149011612, 'sentiment_score': 0.10000000149011612}),id=219), Annotation(145,150,Token,features=Features({'pos': 'NOUN', 'number': 'PLURAL', 'head': 18, 'deprel': 'CONJ', 'lemma': 'name'}),id=153), Annotation(151,155,Token,features=Features({'pos': 'ADP', 'head': 29, 'deprel': 'PREP', 'lemma': 'like'}),id=154), Annotation(156,159,Token,features=Features({'pos': 'NOUN', 'number': 'SINGULAR', 'proper': 'PROPER', 'head': 32, 'deprel': 'NN', 'lemma': 'Los'}),id=155), Annotation(156,167,LOCATION,features=Features({'type': 'LOCATION', 'salience': 0.011451964266598225, 'name': 'Los Angeles', 'mid': '/m/030qb3t', 'wikipedia_url': 'https://en.wikipedia.org/wiki/Los_Angeles', 'mtype': 'PROPER', 'sentiment_magnitude': 0.10000000149011612, 'sentiment_score': 0.10000000149011612}),id=229), Annotation(160,167,Token,features=Features({'pos': 'NOUN', 'number': 'SINGULAR', 'proper': 'PROPER', 'head': 30, 'deprel': 'POBJ', 'lemma': 'Angeles'}),id=156), Annotation(168,171,Token,features=Features({'pos': 'CONJ', 'head': 32, 'deprel': 'CC', 'lemma': 'and'}),id=157), Annotation(172,175,Token,features=Features({'pos': 'NOUN', 'number': 'SINGULAR', 'proper': 'PROPER', 'head': 35, 'deprel': 'NN', 'lemma': 'New'}),id=158), Annotation(172,180,LOCATION,features=Features({'type': 'LOCATION', 'salience': 0.011593351140618324, 'name': 'New York', 'mid': '/m/02_286', 'wikipedia_url': 'https://en.wikipedia.org/wiki/New_York_City', 'mtype': 'PROPER', 'sentiment_magnitude': 0.10000000149011612, 'sentiment_score': 0.10000000149011612}),id=226), Annotation(176,180,Token,features=Features({'pos': 'NOUN', 'number': 'SINGULAR', 'proper': 'PROPER', 'head': 32, 'deprel': 'CONJ', 'lemma': 'York'}),id=159), Annotation(180,181,Token,features=Features({'pos': 'PUNCT', 'head': 8, 'deprel': 'P', 'lemma': '.'}),id=160), Annotation(182,239,Sentence,features=Features({'sentiment_magnitude': 0.20000000298023224, 'sentiment_score': -0.20000000298023224}),id=120), Annotation(182,184,Token,features=Features({'pos': 'PRON', 'number': 'SINGULAR', 'person': 'THIRD', 'gender': 'NEUTER', 'case': 'NOMINATIVE', 'head': 38, 'deprel': 'NSUBJ', 'lemma': 'It'}),id=161), Annotation(185,188,Token,features=Features({'pos': 'VERB', 'number': 'SINGULAR', 'mood': 'INDICATIVE', 'person': 'THIRD', 'tense': 'PRESENT', 'head': 38, 'deprel': 'ROOT', 'lemma': 'have'}),id=162), Annotation(189,196,Token,features=Features({'pos': 'ADJ', 'head': 40, 'deprel': 'AMOD', 'lemma': 'strange'}),id=163), Annotation(197,207,Token,features=Features({'pos': 'NOUN', 'number': 'PLURAL', 'head': 38, 'deprel': 'DOBJ', 'lemma': 'character'}),id=164), Annotation(197,207,PERSON,features=Features({'type': 'PERSON', 'salience': 0.02215736173093319, 'name': 'characters', 'mtype': 'COMMON', 'sentiment_magnitude': 0.0, 'sentiment_score': 0.0}),id=218), Annotation(208,212,Token,features=Features({'pos': 'ADP', 'head': 40, 'deprel': 'PREP', 'lemma': 'like'}),id=165), Annotation(213,214,Token,features=Features({'pos': 'NUM', 'head': 41, 'deprel': 'POBJ', 'lemma': '💩'}),id=166), Annotation(213,214,PERSON,features=Features({'type': 'PERSON', 'salience': 0.011535814963281155, 'name': '💩', 'mtype': 'PROPER', 'sentiment_magnitude': 0.0, 'sentiment_score': 0.0}),id=227), Annotation(215,218,Token,features=Features({'pos': 'CONJ', 'head': 42, 'deprel': 'CC', 'lemma': 'and'}),id=167), Annotation(219,225,Token,features=Features({'pos': 'NOUN', 'number': 'SINGULAR', 'head': 42, 'deprel': 'CONJ', 'lemma': 'emoji'}),id=168), Annotation(219,225,OTHER,features=Features({'type': 'OTHER', 'salience': 0.017877254635095596, 'name': 'emojis', 'mtype': 'COMMON', 'sentiment_magnitude': 0.0, 'sentiment_score': 0.0}),id=220), Annotation(226,230,Token,features=Features({'pos': 'ADP', 'head': 44, 'deprel': 'PREP', 'lemma': 'like'}),id=169), Annotation(231,232,Token,features=Features({'pos': 'NUM', 'head': 45, 'deprel': 'POBJ', 'lemma': '😊'}),id=170), Annotation(231,232,PERSON,features=Features({'type': 'PERSON', 'salience': 0.010586180724203587, 'name': '😊', 'mtype': 'PROPER', 'sentiment_magnitude': 0.0, 'sentiment_score': 0.0}),id=230), Annotation(233,236,Token,features=Features({'pos': 'CONJ', 'head': 46, 'deprel': 'CC', 'lemma': 'and'}),id=171), Annotation(237,238,Token,features=Features({'pos': 'NUM', 'head': 46, 'deprel': 'CONJ', 'lemma': '😂'}),id=172), Annotation(238,239,Token,features=Features({'pos': 'PUNCT', 'head': 38, 'deprel': 'P', 'lemma': '.'}),id=173), Annotation(240,311,Sentence,features=Features({'sentiment_magnitude': 0.0, 'sentiment_score': 0.0}),id=121), Annotation(240,244,Token,features=Features({'pos': 'ADV', 'number': 'SINGULAR', 'person': 'THIRD', 'head': 52, 'deprel': 'ADVMOD', 'lemma': 'Here'}),id=174), Annotation(245,247,Token,features=Features({'pos': 'PRON', 'number': 'PLURAL', 'person': 'FIRST', 'case': 'NOMINATIVE', 'head': 52, 'deprel': 'NSUBJ', 'lemma': 'we'}),id=175), Annotation(248,255,Token,features=Features({'pos': 'VERB', 'mood': 'INDICATIVE', 'tense': 'PRESENT', 'head': 52, 'deprel': 'ROOT', 'lemma': 'mention'}),id=176), Annotation(256,262,Token,features=Features({'pos': 'NOUN', 'number': 'SINGULAR', 'proper': 'PROPER', 'head': 54, 'deprel': 'NN', 'lemma': 'Barack'}),id=177), Annotation(256,268,PERSON,features=Features({'type': 'PERSON', 'salience': 0.09832148253917694, 'name': 'Barack Obama', 'mid': '/m/02mjmr', 'wikipedia_url': 'https://en.wikipedia.org/wiki/Barack_Obama', 'mtype': 'PROPER', 'sentiment_magnitude': 0.30000001192092896, 'sentiment_score': 0.30000001192092896}),id=214), Annotation(263,268,Token,features=Features({'pos': 'NOUN', 'number': 'SINGULAR', 'proper': 'PROPER', 'head': 52, 'deprel': 'DOBJ', 'lemma': 'Obama'}),id=178), Annotation(269,274,Token,features=Features({'pos': 'ADV', 'head': 52, 'deprel': 'ADVMOD', 'lemma': 'again'}),id=179), Annotation(275,278,Token,features=Features({'pos': 'CONJ', 'head': 52, 'deprel': 'CC', 'lemma': 'and'}),id=180), Annotation(279,283,Token,features=Features({'pos': 'ADV', 'number': 'SINGULAR', 'person': 'THIRD', 'head': 59, 'deprel': 'ADVMOD', 'lemma': 'here'}),id=181), Annotation(284,286,Token,features=Features({'pos': 'PRON', 'number': 'PLURAL', 'person': 'FIRST', 'case': 'NOMINATIVE', 'head': 59, 'deprel': 'NSUBJ', 'lemma': 'we'}),id=182), Annotation(287,294,Token,features=Features({'pos': 'VERB', 'mood': 'INDICATIVE', 'tense': 'PRESENT', 'head': 52, 'deprel': 'CONJ', 'lemma': 'mention'}),id=183), Annotation(295,302,Token,features=Features({'pos': 'NOUN', 'number': 'SINGULAR', 'proper': 'PROPER', 'head': 61, 'deprel': 'NN', 'lemma': 'Charlie'}),id=184), Annotation(295,310,PERSON,features=Features({'type': 'PERSON', 'salience': 0.003489513648673892, 'name': 'Charlie Chaplin', 'mid': '/m/01lc5', 'wikipedia_url': 'https://en.wikipedia.org/wiki/Charlie_Chaplin', 'mtype': 'PROPER', 'sentiment_magnitude': 0.30000001192092896, 'sentiment_score': 0.30000001192092896}),id=235), Annotation(303,310,Token,features=Features({'pos': 'NOUN', 'number': 'SINGULAR', 'proper': 'PROPER', 'head': 59, 'deprel': 'NSUBJ', 'lemma': 'Chaplin'}),id=185), Annotation(310,311,Token,features=Features({'pos': 'PUNCT', 'head': 52, 'deprel': 'P', 'lemma': '.'}),id=186), Annotation(312,395,Sentence,features=Features({'sentiment_magnitude': 0.0, 'sentiment_score': 0.0}),id=122), Annotation(312,314,Token,features=Features({'pos': 'PRON', 'number': 'SINGULAR', 'person': 'THIRD', 'gender': 'NEUTER', 'case': 'NOMINATIVE', 'head': 64, 'deprel': 'NSUBJ', 'lemma': 'It'}),id=187), Annotation(315,323,Token,features=Features({'pos': 'VERB', 'number': 'SINGULAR', 'mood': 'INDICATIVE', 'person': 'THIRD', 'tense': 'PRESENT', 'head': 64, 'deprel': 'ROOT', 'lemma': 'mention'}),id=188), Annotation(324,335,Token,features=Features({'pos': 'NOUN', 'number': 'SINGULAR', 'head': 64, 'deprel': 'DOBJ', 'lemma': 'mathematics'}),id=189), Annotation(324,335,OTHER,features=Features({'type': 'OTHER', 'salience': 0.005886400118470192, 'name': 'mathematics', 'mtype': 'COMMON', 'sentiment_magnitude': 0.0, 'sentiment_score': 0.0}),id=233), Annotation(336,339,Token,features=Features({'pos': 'CONJ', 'head': 65, 'deprel': 'CC', 'lemma': 'and'}),id=190), Annotation(340,347,Token,features=Features({'pos': 'NOUN', 'number': 'SINGULAR', 'head': 65, 'deprel': 'CONJ', 'lemma': 'economy'}),id=191), Annotation(340,347,OTHER,features=Features({'type': 'OTHER', 'salience': 0.013402333483099937, 'name': 'economy', 'mtype': 'COMMON', 'sentiment_magnitude': 0.0, 'sentiment_score': 0.0}),id=225), Annotation(348,351,Token,features=Features({'pos': 'CONJ', 'head': 65, 'deprel': 'CC', 'lemma': 'and'}),id=192), Annotation(352,355,Token,features=Features({'pos': 'DET', 'head': 75, 'deprel': 'DET', 'lemma': 'the'}),id=193), Annotation(356,361,Token,features=Features({'pos': 'NOUN', 'number': 'PLURAL', 'head': 71, 'deprel': 'NN', 'lemma': 'term'}),id=194), Annotation(356,377,OTHER,features=Features({'type': 'OTHER', 'salience': 0.015251295641064644, 'name': 'terms cloud computing', 'mtype': 'COMMON', 'sentiment_magnitude': 0.0, 'sentiment_score': 0.0}),id=223), Annotation(362,367,Token,features=Features({'pos': 'NOUN', 'number': 'SINGULAR', 'head': 75, 'deprel': 'NN', 'lemma': 'cloud'}),id=195), Annotation(368,377,Token,features=Features({'pos': 'NOUN', 'number': 'SINGULAR', 'head': 75, 'deprel': 'NN', 'lemma': 'computing'}),id=196), Annotation(378,381,Token,features=Features({'pos': 'CONJ', 'head': 72, 'deprel': 'CC', 'lemma': 'and'}),id=197), Annotation(382,386,Token,features=Features({'pos': 'NOUN', 'number': 'SINGULAR', 'head': 72, 'deprel': 'CONJ', 'lemma': 'gene'}),id=198), Annotation(382,394,OTHER,features=Features({'type': 'OTHER', 'salience': 0.013402333483099937, 'name': 'gene therapy', 'mtype': 'COMMON', 'sentiment_magnitude': 0.0, 'sentiment_score': 0.0}),id=224), Annotation(387,394,Token,features=Features({'pos': 'NOUN', 'number': 'SINGULAR', 'head': 65, 'deprel': 'CONJ', 'lemma': 'therapy'}),id=199), Annotation(394,395,Token,features=Features({'pos': 'PUNCT', 'head': 64, 'deprel': 'P', 'lemma': '.'}),id=200), Annotation(396,452,Sentence,features=Features({'sentiment_magnitude': 0.10000000149011612, 'sentiment_score': 0.10000000149011612}),id=123), Annotation(396,400,Token,features=Features({'pos': 'NOUN', 'number': 'SINGULAR', 'proper': 'PROPER', 'head': 78, 'deprel': 'NN', 'lemma': 'John'}),id=201), Annotation(396,406,PERSON,features=Features({'type': 'PERSON', 'salience': 0.009993533603847027, 'name': 'John Smith', 'mtype': 'PROPER', 'sentiment_magnitude': 0.4000000059604645, 'sentiment_score': 0.4000000059604645}),id=231), Annotation(401,406,Token,features=Features({'pos': 'NOUN', 'number': 'SINGULAR', 'proper': 'PROPER', 'head': 79, 'deprel': 'NSUBJ', 'lemma': 'Smith'}),id=202), Annotation(407,411,Token,features=Features({'pos': 'VERB', 'mood': 'INDICATIVE', 'tense': 'PAST', 'head': 79, 'deprel': 'ROOT', 'lemma': 'beat'}),id=203), Annotation(412,418,Token,features=Features({'pos': 'NOUN', 'number': 'SINGULAR', 'proper': 'PROPER', 'head': 81, 'deprel': 'NN', 'lemma': 'Harald'}),id=204), Annotation(412,426,PERSON,features=Features({'type': 'PERSON', 'salience': 0.003692450001835823, 'name': 'Harald Schmidt', 'wikipedia_url': 'https://en.wikipedia.org/wiki/Harald_Schmidt', 'mid': '/m/015tyq', 'mtype': 'PROPER', 'sentiment_magnitude': 0.4000000059604645, 'sentiment_score': 0.4000000059604645}),id=234), Annotation(419,426,Token,features=Features({'pos': 'NOUN', 'number': 'SINGULAR', 'proper': 'PROPER', 'head': 79, 'deprel': 'DOBJ', 'lemma': 'Schmidt'}),id=205), Annotation(427,429,Token,features=Features({'pos': 'ADP', 'head': 79, 'deprel': 'PREP', 'lemma': 'at'}),id=206), Annotation(430,433,Token,features=Features({'pos': 'DET', 'head': 85, 'deprel': 'DET', 'lemma': 'the'}),id=207), Annotation(434,440,Token,features=Features({'pos': 'NOUN', 'number': 'SINGULAR', 'head': 85, 'deprel': 'NN', 'lemma': 'tennis'}),id=208), Annotation(434,451,EVENT,features=Features({'type': 'EVENT', 'salience': 0.009368153288960457, 'name': 'tennis tournament', 'mtype': 'COMMON', 'sentiment_magnitude': 0.10000000149011612, 'sentiment_score': 0.10000000149011612}),id=232), Annotation(441,451,Token,features=Features({'pos': 'NOUN', 'number': 'SINGULAR', 'head': 82, 'deprel': 'POBJ', 'lemma': 'tournament'}),id=209), Annotation(451,452,Token,features=Features({'pos': 'PUNCT', 'head': 79, 'deprel': 'P', 'lemma': '.'}),id=210)])})"
      ]
     },
     "execution_count": 12,
     "metadata": {},
     "output_type": "execute_result"
    }
   ],
   "source": [
    "annt(doc)\n",
    "doc"
   ]
  },
  {
   "cell_type": "code",
   "execution_count": null,
   "metadata": {},
   "outputs": [],
   "source": []
  }
 ],
 "metadata": {
  "interpreter": {
   "hash": "894109e46787fb430265e20e1827b1c148e8f49dd04d1d979ad223af39dddabc"
  },
  "kernelspec": {
   "display_name": "gatenlp-37",
   "language": "python",
   "name": "gatenlp-37"
  },
  "language_info": {
   "codemirror_mode": {
    "name": "ipython",
    "version": 3
   },
   "file_extension": ".py",
   "mimetype": "text/x-python",
   "name": "python",
   "nbconvert_exporter": "python",
   "pygments_lexer": "ipython3",
   "version": "3.7.9"
  }
 },
 "nbformat": 4,
 "nbformat_minor": 4
}
