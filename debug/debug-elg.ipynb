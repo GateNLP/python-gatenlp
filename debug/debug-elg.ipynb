{
 "cells": [
  {
   "cell_type": "markdown",
   "metadata": {},
   "source": [
    "# Try ELG Annotator"
   ]
  },
  {
   "cell_type": "code",
   "execution_count": 19,
   "metadata": {},
   "outputs": [],
   "source": [
    "from gatenlp import Document, Span\n",
    "from gatenlp.processing.client import ElgTextAnnotator\n",
    "from elg import Authentication"
   ]
  },
  {
   "cell_type": "code",
   "execution_count": 20,
   "metadata": {
    "scrolled": true
   },
   "outputs": [
    {
     "data": {
      "text/html": [
       "<div><style>#MDDHZSHLOQ-wrapper { color: black !important; }</style>\n",
       "<div id=\"MDDHZSHLOQ-wrapper\">\n",
       "\n",
       "<div>\n",
       "<style>\n",
       "#MDDHZSHLOQ-content {\n",
       "    width: 100%;\n",
       "    height: 100%;\n",
       "    font-family: -apple-system, BlinkMacSystemFont, 'Segoe UI', Roboto, Oxygen, Ubuntu, Cantarell, 'Open Sans', 'Helvetica Neue', sans-serif;\n",
       "}\n",
       "\n",
       ".MDDHZSHLOQ-row {\n",
       "    width: 100%;\n",
       "    display: flex;\n",
       "    flex-direction: row;\n",
       "    flex-wrap: nowrap;\n",
       "}\n",
       "\n",
       ".MDDHZSHLOQ-col {\n",
       "    border: 1px solid grey;\n",
       "    display: inline-block;\n",
       "    min-width: 200px;\n",
       "    padding: 5px;\n",
       "    /* white-space: normal; */\n",
       "    /* white-space: pre-wrap; */\n",
       "    overflow-y: auto;\n",
       "}\n",
       "\n",
       ".MDDHZSHLOQ-hdr {\n",
       "    font-size: 1.2rem;\n",
       "    font-weight: bold;\n",
       "}\n",
       "\n",
       ".MDDHZSHLOQ-label {\n",
       "    margin-bottom: -15px;\n",
       "    display: block;\n",
       "}\n",
       "\n",
       ".MDDHZSHLOQ-input {\n",
       "    vertical-align: middle;\n",
       "    position: relative;\n",
       "    *overflow: hidden;\n",
       "}\n",
       "\n",
       "#MDDHZSHLOQ-popup {\n",
       "    display: none;\n",
       "    color: black;\n",
       "    position: absolute;\n",
       "    margin-top: 10%;\n",
       "    margin-left: 10%;\n",
       "    background: #aaaaaa;\n",
       "    width: 60%;\n",
       "    height: 60%;\n",
       "    z-index: 50;\n",
       "    padding: 25px 25px 25px;\n",
       "    border: 1px solid black;\n",
       "    overflow: auto;\n",
       "}\n",
       "\n",
       ".MDDHZSHLOQ-selection {\n",
       "    margin-bottom: 5px;\n",
       "}\n",
       "\n",
       ".MDDHZSHLOQ-featuretable {\n",
       "    margin-top: 10px;\n",
       "}\n",
       "\n",
       ".MDDHZSHLOQ-fname {\n",
       "    text-align: left !important;\n",
       "    font-weight: bold;\n",
       "    margin-right: 10px;\n",
       "}\n",
       ".MDDHZSHLOQ-fvalue {\n",
       "    text-align: left !important;\n",
       "}\n",
       "</style>\n",
       "  <div id=\"MDDHZSHLOQ-content\">\n",
       "        <div id=\"MDDHZSHLOQ-popup\" style=\"display: none;\">\n",
       "        </div>\n",
       "        <div class=\"MDDHZSHLOQ-row\" id=\"MDDHZSHLOQ-row1\" style=\"min-height:5em;max-height:20em;\">\n",
       "            <div id=\"MDDHZSHLOQ-text-wrapper\" class=\"MDDHZSHLOQ-col\" style=\"width:70%;\">\n",
       "                <div class=\"MDDHZSHLOQ-hdr\" id=\"MDDHZSHLOQ-dochdr\"></div>\n",
       "                <div id=\"MDDHZSHLOQ-text\" style=\"\">\n",
       "                </div>\n",
       "            </div>\n",
       "            <div id=\"MDDHZSHLOQ-chooser\" class=\"MDDHZSHLOQ-col\" style=\"width:30%;border-left-width:0px;\"></div>\n",
       "        </div>\n",
       "        <div class=\"MDDHZSHLOQ-row\" id=\"MDDHZSHLOQ-row2\" style=\"min-height:3em;max-height:14em;\">\n",
       "            <div id=\"MDDHZSHLOQ-details\" class=\"MDDHZSHLOQ-col\" style=\"width:100%;border-top-width:0px;\">\n",
       "            </div>\n",
       "        </div>\n",
       "    </div>\n",
       "    \n",
       "    <script type=\"text/javascript\">\n",
       "    let MDDHZSHLOQ_data = {\"annotation_sets\": {}, \"text\": \"Ein \\ud83d\\udca9 Wort.\\nIch habs ins Dings gegeben.\", \"features\": {}, \"offset_type\": \"j\", \"name\": \"\"} ; \n",
       "    new gatenlpDocView(new gatenlpDocRep(MDDHZSHLOQ_data), \"MDDHZSHLOQ-\").init();\n",
       "    </script>\n",
       "  </div>\n",
       "\n",
       "</div></div>"
      ],
      "text/plain": [
       "Document(Ein 💩 Wort.\n",
       "Ich habs ins Dings gegeben.,features=Features({}),anns={})"
      ]
     },
     "execution_count": 20,
     "metadata": {},
     "output_type": "execute_result"
    }
   ],
   "source": [
    "\n",
    "# txt = \"A 💩 word.\\nBarack Obama met Angela Merkel in New York.\"\n",
    "txt = \"Ein 💩 Wort.\\nIch habs ins Dings gegeben.\"\n",
    "doc = Document(txt)\n",
    "doc"
   ]
  },
  {
   "cell_type": "code",
   "execution_count": 21,
   "metadata": {},
   "outputs": [],
   "source": [
    "# Only run if required: first time or when the tokens have expired\n",
    "#auth = Authentication.init(scope=\"offline_access\")\n",
    "#auth.to_json(\"tokens.json\")\n",
    "\n",
    "#print(f\"\\n\\nThe tokens will expire the {auth.refresh_expires_time}\")"
   ]
  },
  {
   "cell_type": "code",
   "execution_count": 37,
   "metadata": {},
   "outputs": [],
   "source": [
    "# if we run the service locally in docker\n",
    "# annt = ElgTextAnnotator(url=\"http://localhost:8801/udpipe/en\")\n",
    "\n",
    "# annt = ElgTextAnnotator(\n",
    "#     url=\"https://live.european-language-grid.eu/execution/process/gatenercen\",\n",
    "#     auth_file=\"tokens.json\"\n",
    "# )\n",
    "doc.annset().clear()\n",
    "annt = ElgTextAnnotator(\n",
    "    url=\"https://live.european-language-grid.eu/execution/process/udpipede\",\n",
    "    auth_file=\"tokens.json\", \n",
    "    anntypes_map = {\"udpipe/paragraphs\": \"Paragraph\", \"udpipe/sentences\": \"Sentence\", \"udpipe/tokens\": \"UDPToken\"}\n",
    ")"
   ]
  },
  {
   "cell_type": "code",
   "execution_count": 38,
   "metadata": {
    "scrolled": false
   },
   "outputs": [
    {
     "data": {
      "text/html": [
       "<div><style>#SMDEEJDVLU-wrapper { color: black !important; }</style>\n",
       "<div id=\"SMDEEJDVLU-wrapper\">\n",
       "\n",
       "<div>\n",
       "<style>\n",
       "#SMDEEJDVLU-content {\n",
       "    width: 100%;\n",
       "    height: 100%;\n",
       "    font-family: -apple-system, BlinkMacSystemFont, 'Segoe UI', Roboto, Oxygen, Ubuntu, Cantarell, 'Open Sans', 'Helvetica Neue', sans-serif;\n",
       "}\n",
       "\n",
       ".SMDEEJDVLU-row {\n",
       "    width: 100%;\n",
       "    display: flex;\n",
       "    flex-direction: row;\n",
       "    flex-wrap: nowrap;\n",
       "}\n",
       "\n",
       ".SMDEEJDVLU-col {\n",
       "    border: 1px solid grey;\n",
       "    display: inline-block;\n",
       "    min-width: 200px;\n",
       "    padding: 5px;\n",
       "    /* white-space: normal; */\n",
       "    /* white-space: pre-wrap; */\n",
       "    overflow-y: auto;\n",
       "}\n",
       "\n",
       ".SMDEEJDVLU-hdr {\n",
       "    font-size: 1.2rem;\n",
       "    font-weight: bold;\n",
       "}\n",
       "\n",
       ".SMDEEJDVLU-label {\n",
       "    margin-bottom: -15px;\n",
       "    display: block;\n",
       "}\n",
       "\n",
       ".SMDEEJDVLU-input {\n",
       "    vertical-align: middle;\n",
       "    position: relative;\n",
       "    *overflow: hidden;\n",
       "}\n",
       "\n",
       "#SMDEEJDVLU-popup {\n",
       "    display: none;\n",
       "    color: black;\n",
       "    position: absolute;\n",
       "    margin-top: 10%;\n",
       "    margin-left: 10%;\n",
       "    background: #aaaaaa;\n",
       "    width: 60%;\n",
       "    height: 60%;\n",
       "    z-index: 50;\n",
       "    padding: 25px 25px 25px;\n",
       "    border: 1px solid black;\n",
       "    overflow: auto;\n",
       "}\n",
       "\n",
       ".SMDEEJDVLU-selection {\n",
       "    margin-bottom: 5px;\n",
       "}\n",
       "\n",
       ".SMDEEJDVLU-featuretable {\n",
       "    margin-top: 10px;\n",
       "}\n",
       "\n",
       ".SMDEEJDVLU-fname {\n",
       "    text-align: left !important;\n",
       "    font-weight: bold;\n",
       "    margin-right: 10px;\n",
       "}\n",
       ".SMDEEJDVLU-fvalue {\n",
       "    text-align: left !important;\n",
       "}\n",
       "</style>\n",
       "  <div id=\"SMDEEJDVLU-content\">\n",
       "        <div id=\"SMDEEJDVLU-popup\" style=\"display: none;\">\n",
       "        </div>\n",
       "        <div class=\"SMDEEJDVLU-row\" id=\"SMDEEJDVLU-row1\" style=\"min-height:5em;max-height:20em;\">\n",
       "            <div id=\"SMDEEJDVLU-text-wrapper\" class=\"SMDEEJDVLU-col\" style=\"width:70%;\">\n",
       "                <div class=\"SMDEEJDVLU-hdr\" id=\"SMDEEJDVLU-dochdr\"></div>\n",
       "                <div id=\"SMDEEJDVLU-text\" style=\"\">\n",
       "                </div>\n",
       "            </div>\n",
       "            <div id=\"SMDEEJDVLU-chooser\" class=\"SMDEEJDVLU-col\" style=\"width:30%;border-left-width:0px;\"></div>\n",
       "        </div>\n",
       "        <div class=\"SMDEEJDVLU-row\" id=\"SMDEEJDVLU-row2\" style=\"min-height:3em;max-height:14em;\">\n",
       "            <div id=\"SMDEEJDVLU-details\" class=\"SMDEEJDVLU-col\" style=\"width:100%;border-top-width:0px;\">\n",
       "            </div>\n",
       "        </div>\n",
       "    </div>\n",
       "    \n",
       "    <script type=\"text/javascript\">\n",
       "    let SMDEEJDVLU_data = {\"annotation_sets\": {\"\": {\"name\": \"detached-from:\", \"annotations\": [{\"type\": \"Paragraph\", \"start\": 0, \"end\": 40, \"id\": 43, \"features\": {}}, {\"type\": \"Sentence\", \"start\": 0, \"end\": 12, \"id\": 44, \"features\": {}}, {\"type\": \"Sentence\", \"start\": 13, \"end\": 40, \"id\": 45, \"features\": {}}, {\"type\": \"UDPToken\", \"start\": 0, \"end\": 3, \"id\": 46, \"features\": {\"words\": [{\"form\": \"Ein\", \"lemma\": \"ein\", \"upos\": \"DET\", \"xpos\": \"ART\", \"feats\": \"Case=Nom|Definite=Ind|Gender=Neut|Number=Sing|PronType=Art\", \"head\": 3, \"deprel\": \"det\"}]}}, {\"type\": \"UDPToken\", \"start\": 4, \"end\": 6, \"id\": 47, \"features\": {\"words\": [{\"form\": \"\\ud83d\\udca9\", \"lemma\": \"\\ud83d\\udca9\", \"upos\": \"SYM\", \"xpos\": \"NE\", \"head\": 3, \"deprel\": \"cc\"}]}}, {\"type\": \"UDPToken\", \"start\": 7, \"end\": 11, \"id\": 48, \"features\": {\"words\": [{\"form\": \"Wort\", \"lemma\": \"Wort\", \"upos\": \"NOUN\", \"xpos\": \"NN\", \"feats\": \"Case=Nom|Gender=Neut|Number=Sing\", \"head\": 0, \"deprel\": \"root\"}]}}, {\"type\": \"UDPToken\", \"start\": 11, \"end\": 12, \"id\": 49, \"features\": {\"words\": [{\"form\": \".\", \"lemma\": \".\", \"upos\": \"PUNCT\", \"xpos\": \"$.\", \"head\": 3, \"deprel\": \"punct\"}]}}, {\"type\": \"UDPToken\", \"start\": 13, \"end\": 16, \"id\": 50, \"features\": {\"words\": [{\"form\": \"Ich\", \"lemma\": \"ich\", \"upos\": \"PRON\", \"xpos\": \"PPER\", \"feats\": \"Case=Nom|Number=Sing|Person=1|PronType=Prs\", \"head\": 6, \"deprel\": \"nsubj\"}]}}, {\"type\": \"UDPToken\", \"start\": 17, \"end\": 21, \"id\": 51, \"features\": {\"words\": [{\"form\": \"habs\", \"lemma\": \"habs\", \"upos\": \"X\", \"xpos\": \"NN\", \"feats\": \"Case=Acc|Gender=Masc|Number=Plur\", \"head\": 6, \"deprel\": \"obj\"}]}}, {\"type\": \"UDPToken\", \"start\": 22, \"end\": 25, \"id\": 52, \"features\": {\"words\": [{\"form\": \"in\", \"lemma\": \"in\", \"upos\": \"ADP\", \"xpos\": \"APPR\", \"head\": 5, \"deprel\": \"case\"}, {\"form\": \"das\", \"lemma\": \"der\", \"upos\": \"DET\", \"xpos\": \"ART\", \"feats\": \"Case=Acc|Definite=Def|Gender=Neut|Number=Sing|PronType=Art\", \"head\": 5, \"deprel\": \"det\"}]}}, {\"type\": \"UDPToken\", \"start\": 26, \"end\": 31, \"id\": 53, \"features\": {\"words\": [{\"form\": \"Dings\", \"lemma\": \"Dings\", \"upos\": \"NOUN\", \"xpos\": \"NN\", \"feats\": \"Case=Acc|Gender=Neut|Number=Plur\", \"head\": 6, \"deprel\": \"obl\"}]}}, {\"type\": \"UDPToken\", \"start\": 32, \"end\": 39, \"id\": 54, \"features\": {\"words\": [{\"form\": \"gegeben\", \"lemma\": \"geben\", \"upos\": \"VERB\", \"xpos\": \"VVPP\", \"feats\": \"VerbForm=Part\", \"head\": 0, \"deprel\": \"root\"}]}}, {\"type\": \"UDPToken\", \"start\": 39, \"end\": 40, \"id\": 55, \"features\": {\"words\": [{\"form\": \".\", \"lemma\": \".\", \"upos\": \"PUNCT\", \"xpos\": \"$.\", \"head\": 6, \"deprel\": \"punct\"}]}}], \"next_annid\": 56}}, \"text\": \"Ein \\ud83d\\udca9 Wort.\\nIch habs ins Dings gegeben.\", \"features\": {}, \"offset_type\": \"j\", \"name\": \"\"} ; \n",
       "    new gatenlpDocView(new gatenlpDocRep(SMDEEJDVLU_data), \"SMDEEJDVLU-\").init();\n",
       "    </script>\n",
       "  </div>\n",
       "\n",
       "</div></div>"
      ],
      "text/plain": [
       "Document(Ein 💩 Wort.\n",
       "Ich habs ins Dings gegeben.,features=Features({}),anns={'': AnnotationSet([Annotation(0,39,Paragraph,features=Features({}),id=43), Annotation(0,11,Sentence,features=Features({}),id=44), Annotation(0,3,UDPToken,features=Features({'words': [{'form': 'Ein', 'lemma': 'ein', 'upos': 'DET', 'xpos': 'ART', 'feats': 'Case=Nom|Definite=Ind|Gender=Neut|Number=Sing|PronType=Art', 'head': 3, 'deprel': 'det'}]}),id=46), Annotation(4,5,UDPToken,features=Features({'words': [{'form': '💩', 'lemma': '💩', 'upos': 'SYM', 'xpos': 'NE', 'head': 3, 'deprel': 'cc'}]}),id=47), Annotation(6,10,UDPToken,features=Features({'words': [{'form': 'Wort', 'lemma': 'Wort', 'upos': 'NOUN', 'xpos': 'NN', 'feats': 'Case=Nom|Gender=Neut|Number=Sing', 'head': 0, 'deprel': 'root'}]}),id=48), Annotation(10,11,UDPToken,features=Features({'words': [{'form': '.', 'lemma': '.', 'upos': 'PUNCT', 'xpos': '$.', 'head': 3, 'deprel': 'punct'}]}),id=49), Annotation(12,39,Sentence,features=Features({}),id=45), Annotation(12,15,UDPToken,features=Features({'words': [{'form': 'Ich', 'lemma': 'ich', 'upos': 'PRON', 'xpos': 'PPER', 'feats': 'Case=Nom|Number=Sing|Person=1|PronType=Prs', 'head': 6, 'deprel': 'nsubj'}]}),id=50), Annotation(16,20,UDPToken,features=Features({'words': [{'form': 'habs', 'lemma': 'habs', 'upos': 'X', 'xpos': 'NN', 'feats': 'Case=Acc|Gender=Masc|Number=Plur', 'head': 6, 'deprel': 'obj'}]}),id=51), Annotation(21,24,UDPToken,features=Features({'words': [{'form': 'in', 'lemma': 'in', 'upos': 'ADP', 'xpos': 'APPR', 'head': 5, 'deprel': 'case'}, {'form': 'das', 'lemma': 'der', 'upos': 'DET', 'xpos': 'ART', 'feats': 'Case=Acc|Definite=Def|Gender=Neut|Number=Sing|PronType=Art', 'head': 5, 'deprel': 'det'}]}),id=52), Annotation(25,30,UDPToken,features=Features({'words': [{'form': 'Dings', 'lemma': 'Dings', 'upos': 'NOUN', 'xpos': 'NN', 'feats': 'Case=Acc|Gender=Neut|Number=Plur', 'head': 6, 'deprel': 'obl'}]}),id=53), Annotation(31,38,UDPToken,features=Features({'words': [{'form': 'gegeben', 'lemma': 'geben', 'upos': 'VERB', 'xpos': 'VVPP', 'feats': 'VerbForm=Part', 'head': 0, 'deprel': 'root'}]}),id=54), Annotation(38,39,UDPToken,features=Features({'words': [{'form': '.', 'lemma': '.', 'upos': 'PUNCT', 'xpos': '$.', 'head': 6, 'deprel': 'punct'}]}),id=55)])})"
      ]
     },
     "execution_count": 38,
     "metadata": {},
     "output_type": "execute_result"
    }
   ],
   "source": [
    "annt(doc)"
   ]
  },
  {
   "cell_type": "code",
   "execution_count": 39,
   "metadata": {},
   "outputs": [
    {
     "data": {
      "text/plain": [
       "'n'"
      ]
     },
     "execution_count": 39,
     "metadata": {},
     "output_type": "execute_result"
    }
   ],
   "source": [
    "doc[2:3]"
   ]
  },
  {
   "cell_type": "code",
   "execution_count": 40,
   "metadata": {},
   "outputs": [],
   "source": [
    "# convert the UDPToken annotations into actual Token, Word and MWT annotations, as is done for Stanza\n",
    "# for now, do not bother with the dependency parse ids\n",
    "# If an UDPToken contains a single word, we generate a Token annotation\n",
    "# If there are several, we generate a MWT annotation over the span and for each word a Token annotation, \n",
    "#   where the spans of the token annotations get calculated using Span.squeeze(start, end, nrwords)\n",
    "utokens = doc.annset().with_type(\"UDPToken\")\n",
    "outset = doc.annset()\n",
    "for utoken in utokens:\n",
    "    words = utoken.features[\"words\"]\n",
    "    if len(words) == 1:\n",
    "        outset.add(utoken.start, utoken.end, \"Token\", features=words[0])\n",
    "    else:\n",
    "        spans = Span.squeeze(utoken.start, utoken.end, len(words))\n",
    "        assert len(words)==len(spans)\n",
    "        annids = []\n",
    "        for word, span in zip(words,spans):\n",
    "            ann = outset.add(span.start, span.end, \"Token\", features=word)\n",
    "            annids.append(ann.id)\n",
    "        outset.add(utoken.start, utoken.end, \"MWT\", features=dict(word_ids=annids))"
   ]
  },
  {
   "cell_type": "code",
   "execution_count": 41,
   "metadata": {},
   "outputs": [
    {
     "data": {
      "text/html": [
       "<div><style>#YDHFYPRXVV-wrapper { color: black !important; }</style>\n",
       "<div id=\"YDHFYPRXVV-wrapper\">\n",
       "\n",
       "<div>\n",
       "<style>\n",
       "#YDHFYPRXVV-content {\n",
       "    width: 100%;\n",
       "    height: 100%;\n",
       "    font-family: -apple-system, BlinkMacSystemFont, 'Segoe UI', Roboto, Oxygen, Ubuntu, Cantarell, 'Open Sans', 'Helvetica Neue', sans-serif;\n",
       "}\n",
       "\n",
       ".YDHFYPRXVV-row {\n",
       "    width: 100%;\n",
       "    display: flex;\n",
       "    flex-direction: row;\n",
       "    flex-wrap: nowrap;\n",
       "}\n",
       "\n",
       ".YDHFYPRXVV-col {\n",
       "    border: 1px solid grey;\n",
       "    display: inline-block;\n",
       "    min-width: 200px;\n",
       "    padding: 5px;\n",
       "    /* white-space: normal; */\n",
       "    /* white-space: pre-wrap; */\n",
       "    overflow-y: auto;\n",
       "}\n",
       "\n",
       ".YDHFYPRXVV-hdr {\n",
       "    font-size: 1.2rem;\n",
       "    font-weight: bold;\n",
       "}\n",
       "\n",
       ".YDHFYPRXVV-label {\n",
       "    margin-bottom: -15px;\n",
       "    display: block;\n",
       "}\n",
       "\n",
       ".YDHFYPRXVV-input {\n",
       "    vertical-align: middle;\n",
       "    position: relative;\n",
       "    *overflow: hidden;\n",
       "}\n",
       "\n",
       "#YDHFYPRXVV-popup {\n",
       "    display: none;\n",
       "    color: black;\n",
       "    position: absolute;\n",
       "    margin-top: 10%;\n",
       "    margin-left: 10%;\n",
       "    background: #aaaaaa;\n",
       "    width: 60%;\n",
       "    height: 60%;\n",
       "    z-index: 50;\n",
       "    padding: 25px 25px 25px;\n",
       "    border: 1px solid black;\n",
       "    overflow: auto;\n",
       "}\n",
       "\n",
       ".YDHFYPRXVV-selection {\n",
       "    margin-bottom: 5px;\n",
       "}\n",
       "\n",
       ".YDHFYPRXVV-featuretable {\n",
       "    margin-top: 10px;\n",
       "}\n",
       "\n",
       ".YDHFYPRXVV-fname {\n",
       "    text-align: left !important;\n",
       "    font-weight: bold;\n",
       "    margin-right: 10px;\n",
       "}\n",
       ".YDHFYPRXVV-fvalue {\n",
       "    text-align: left !important;\n",
       "}\n",
       "</style>\n",
       "  <div id=\"YDHFYPRXVV-content\">\n",
       "        <div id=\"YDHFYPRXVV-popup\" style=\"display: none;\">\n",
       "        </div>\n",
       "        <div class=\"YDHFYPRXVV-row\" id=\"YDHFYPRXVV-row1\" style=\"min-height:5em;max-height:20em;\">\n",
       "            <div id=\"YDHFYPRXVV-text-wrapper\" class=\"YDHFYPRXVV-col\" style=\"width:70%;\">\n",
       "                <div class=\"YDHFYPRXVV-hdr\" id=\"YDHFYPRXVV-dochdr\"></div>\n",
       "                <div id=\"YDHFYPRXVV-text\" style=\"\">\n",
       "                </div>\n",
       "            </div>\n",
       "            <div id=\"YDHFYPRXVV-chooser\" class=\"YDHFYPRXVV-col\" style=\"width:30%;border-left-width:0px;\"></div>\n",
       "        </div>\n",
       "        <div class=\"YDHFYPRXVV-row\" id=\"YDHFYPRXVV-row2\" style=\"min-height:3em;max-height:14em;\">\n",
       "            <div id=\"YDHFYPRXVV-details\" class=\"YDHFYPRXVV-col\" style=\"width:100%;border-top-width:0px;\">\n",
       "            </div>\n",
       "        </div>\n",
       "    </div>\n",
       "    \n",
       "    <script type=\"text/javascript\">\n",
       "    let YDHFYPRXVV_data = {\"annotation_sets\": {\"\": {\"name\": \"detached-from:\", \"annotations\": [{\"type\": \"Paragraph\", \"start\": 0, \"end\": 40, \"id\": 43, \"features\": {}}, {\"type\": \"Sentence\", \"start\": 0, \"end\": 12, \"id\": 44, \"features\": {}}, {\"type\": \"Sentence\", \"start\": 13, \"end\": 40, \"id\": 45, \"features\": {}}, {\"type\": \"UDPToken\", \"start\": 0, \"end\": 3, \"id\": 46, \"features\": {\"words\": [{\"form\": \"Ein\", \"lemma\": \"ein\", \"upos\": \"DET\", \"xpos\": \"ART\", \"feats\": \"Case=Nom|Definite=Ind|Gender=Neut|Number=Sing|PronType=Art\", \"head\": 3, \"deprel\": \"det\"}]}}, {\"type\": \"UDPToken\", \"start\": 4, \"end\": 6, \"id\": 47, \"features\": {\"words\": [{\"form\": \"\\ud83d\\udca9\", \"lemma\": \"\\ud83d\\udca9\", \"upos\": \"SYM\", \"xpos\": \"NE\", \"head\": 3, \"deprel\": \"cc\"}]}}, {\"type\": \"UDPToken\", \"start\": 7, \"end\": 11, \"id\": 48, \"features\": {\"words\": [{\"form\": \"Wort\", \"lemma\": \"Wort\", \"upos\": \"NOUN\", \"xpos\": \"NN\", \"feats\": \"Case=Nom|Gender=Neut|Number=Sing\", \"head\": 0, \"deprel\": \"root\"}]}}, {\"type\": \"UDPToken\", \"start\": 11, \"end\": 12, \"id\": 49, \"features\": {\"words\": [{\"form\": \".\", \"lemma\": \".\", \"upos\": \"PUNCT\", \"xpos\": \"$.\", \"head\": 3, \"deprel\": \"punct\"}]}}, {\"type\": \"UDPToken\", \"start\": 13, \"end\": 16, \"id\": 50, \"features\": {\"words\": [{\"form\": \"Ich\", \"lemma\": \"ich\", \"upos\": \"PRON\", \"xpos\": \"PPER\", \"feats\": \"Case=Nom|Number=Sing|Person=1|PronType=Prs\", \"head\": 6, \"deprel\": \"nsubj\"}]}}, {\"type\": \"UDPToken\", \"start\": 17, \"end\": 21, \"id\": 51, \"features\": {\"words\": [{\"form\": \"habs\", \"lemma\": \"habs\", \"upos\": \"X\", \"xpos\": \"NN\", \"feats\": \"Case=Acc|Gender=Masc|Number=Plur\", \"head\": 6, \"deprel\": \"obj\"}]}}, {\"type\": \"UDPToken\", \"start\": 22, \"end\": 25, \"id\": 52, \"features\": {\"words\": [{\"form\": \"in\", \"lemma\": \"in\", \"upos\": \"ADP\", \"xpos\": \"APPR\", \"head\": 5, \"deprel\": \"case\"}, {\"form\": \"das\", \"lemma\": \"der\", \"upos\": \"DET\", \"xpos\": \"ART\", \"feats\": \"Case=Acc|Definite=Def|Gender=Neut|Number=Sing|PronType=Art\", \"head\": 5, \"deprel\": \"det\"}]}}, {\"type\": \"UDPToken\", \"start\": 26, \"end\": 31, \"id\": 53, \"features\": {\"words\": [{\"form\": \"Dings\", \"lemma\": \"Dings\", \"upos\": \"NOUN\", \"xpos\": \"NN\", \"feats\": \"Case=Acc|Gender=Neut|Number=Plur\", \"head\": 6, \"deprel\": \"obl\"}]}}, {\"type\": \"UDPToken\", \"start\": 32, \"end\": 39, \"id\": 54, \"features\": {\"words\": [{\"form\": \"gegeben\", \"lemma\": \"geben\", \"upos\": \"VERB\", \"xpos\": \"VVPP\", \"feats\": \"VerbForm=Part\", \"head\": 0, \"deprel\": \"root\"}]}}, {\"type\": \"UDPToken\", \"start\": 39, \"end\": 40, \"id\": 55, \"features\": {\"words\": [{\"form\": \".\", \"lemma\": \".\", \"upos\": \"PUNCT\", \"xpos\": \"$.\", \"head\": 6, \"deprel\": \"punct\"}]}}, {\"type\": \"Token\", \"start\": 0, \"end\": 3, \"id\": 56, \"features\": {\"form\": \"Ein\", \"lemma\": \"ein\", \"upos\": \"DET\", \"xpos\": \"ART\", \"feats\": \"Case=Nom|Definite=Ind|Gender=Neut|Number=Sing|PronType=Art\", \"head\": 3, \"deprel\": \"det\"}}, {\"type\": \"Token\", \"start\": 4, \"end\": 6, \"id\": 57, \"features\": {\"form\": \"\\ud83d\\udca9\", \"lemma\": \"\\ud83d\\udca9\", \"upos\": \"SYM\", \"xpos\": \"NE\", \"head\": 3, \"deprel\": \"cc\"}}, {\"type\": \"Token\", \"start\": 7, \"end\": 11, \"id\": 58, \"features\": {\"form\": \"Wort\", \"lemma\": \"Wort\", \"upos\": \"NOUN\", \"xpos\": \"NN\", \"feats\": \"Case=Nom|Gender=Neut|Number=Sing\", \"head\": 0, \"deprel\": \"root\"}}, {\"type\": \"Token\", \"start\": 11, \"end\": 12, \"id\": 59, \"features\": {\"form\": \".\", \"lemma\": \".\", \"upos\": \"PUNCT\", \"xpos\": \"$.\", \"head\": 3, \"deprel\": \"punct\"}}, {\"type\": \"Token\", \"start\": 13, \"end\": 16, \"id\": 60, \"features\": {\"form\": \"Ich\", \"lemma\": \"ich\", \"upos\": \"PRON\", \"xpos\": \"PPER\", \"feats\": \"Case=Nom|Number=Sing|Person=1|PronType=Prs\", \"head\": 6, \"deprel\": \"nsubj\"}}, {\"type\": \"Token\", \"start\": 17, \"end\": 21, \"id\": 61, \"features\": {\"form\": \"habs\", \"lemma\": \"habs\", \"upos\": \"X\", \"xpos\": \"NN\", \"feats\": \"Case=Acc|Gender=Masc|Number=Plur\", \"head\": 6, \"deprel\": \"obj\"}}, {\"type\": \"Token\", \"start\": 22, \"end\": 24, \"id\": 62, \"features\": {\"form\": \"in\", \"lemma\": \"in\", \"upos\": \"ADP\", \"xpos\": \"APPR\", \"head\": 5, \"deprel\": \"case\"}}, {\"type\": \"Token\", \"start\": 24, \"end\": 25, \"id\": 63, \"features\": {\"form\": \"das\", \"lemma\": \"der\", \"upos\": \"DET\", \"xpos\": \"ART\", \"feats\": \"Case=Acc|Definite=Def|Gender=Neut|Number=Sing|PronType=Art\", \"head\": 5, \"deprel\": \"det\"}}, {\"type\": \"MWT\", \"start\": 22, \"end\": 25, \"id\": 64, \"features\": {\"word_ids\": [62, 63]}}, {\"type\": \"Token\", \"start\": 26, \"end\": 31, \"id\": 65, \"features\": {\"form\": \"Dings\", \"lemma\": \"Dings\", \"upos\": \"NOUN\", \"xpos\": \"NN\", \"feats\": \"Case=Acc|Gender=Neut|Number=Plur\", \"head\": 6, \"deprel\": \"obl\"}}, {\"type\": \"Token\", \"start\": 32, \"end\": 39, \"id\": 66, \"features\": {\"form\": \"gegeben\", \"lemma\": \"geben\", \"upos\": \"VERB\", \"xpos\": \"VVPP\", \"feats\": \"VerbForm=Part\", \"head\": 0, \"deprel\": \"root\"}}, {\"type\": \"Token\", \"start\": 39, \"end\": 40, \"id\": 67, \"features\": {\"form\": \".\", \"lemma\": \".\", \"upos\": \"PUNCT\", \"xpos\": \"$.\", \"head\": 6, \"deprel\": \"punct\"}}], \"next_annid\": 68}}, \"text\": \"Ein \\ud83d\\udca9 Wort.\\nIch habs ins Dings gegeben.\", \"features\": {}, \"offset_type\": \"j\", \"name\": \"\"} ; \n",
       "    new gatenlpDocView(new gatenlpDocRep(YDHFYPRXVV_data), \"YDHFYPRXVV-\").init();\n",
       "    </script>\n",
       "  </div>\n",
       "\n",
       "</div></div>"
      ],
      "text/plain": [
       "Document(Ein 💩 Wort.\n",
       "Ich habs ins Dings gegeben.,features=Features({}),anns={'': AnnotationSet([Annotation(0,39,Paragraph,features=Features({}),id=43), Annotation(0,11,Sentence,features=Features({}),id=44), Annotation(0,3,UDPToken,features=Features({'words': [{'form': 'Ein', 'lemma': 'ein', 'upos': 'DET', 'xpos': 'ART', 'feats': 'Case=Nom|Definite=Ind|Gender=Neut|Number=Sing|PronType=Art', 'head': 3, 'deprel': 'det'}]}),id=46), Annotation(0,3,Token,features=Features({'form': 'Ein', 'lemma': 'ein', 'upos': 'DET', 'xpos': 'ART', 'feats': 'Case=Nom|Definite=Ind|Gender=Neut|Number=Sing|PronType=Art', 'head': 3, 'deprel': 'det'}),id=56), Annotation(4,5,UDPToken,features=Features({'words': [{'form': '💩', 'lemma': '💩', 'upos': 'SYM', 'xpos': 'NE', 'head': 3, 'deprel': 'cc'}]}),id=47), Annotation(4,5,Token,features=Features({'form': '💩', 'lemma': '💩', 'upos': 'SYM', 'xpos': 'NE', 'head': 3, 'deprel': 'cc'}),id=57), Annotation(6,10,UDPToken,features=Features({'words': [{'form': 'Wort', 'lemma': 'Wort', 'upos': 'NOUN', 'xpos': 'NN', 'feats': 'Case=Nom|Gender=Neut|Number=Sing', 'head': 0, 'deprel': 'root'}]}),id=48), Annotation(6,10,Token,features=Features({'form': 'Wort', 'lemma': 'Wort', 'upos': 'NOUN', 'xpos': 'NN', 'feats': 'Case=Nom|Gender=Neut|Number=Sing', 'head': 0, 'deprel': 'root'}),id=58), Annotation(10,11,UDPToken,features=Features({'words': [{'form': '.', 'lemma': '.', 'upos': 'PUNCT', 'xpos': '$.', 'head': 3, 'deprel': 'punct'}]}),id=49), Annotation(10,11,Token,features=Features({'form': '.', 'lemma': '.', 'upos': 'PUNCT', 'xpos': '$.', 'head': 3, 'deprel': 'punct'}),id=59), Annotation(12,39,Sentence,features=Features({}),id=45), Annotation(12,15,UDPToken,features=Features({'words': [{'form': 'Ich', 'lemma': 'ich', 'upos': 'PRON', 'xpos': 'PPER', 'feats': 'Case=Nom|Number=Sing|Person=1|PronType=Prs', 'head': 6, 'deprel': 'nsubj'}]}),id=50), Annotation(12,15,Token,features=Features({'form': 'Ich', 'lemma': 'ich', 'upos': 'PRON', 'xpos': 'PPER', 'feats': 'Case=Nom|Number=Sing|Person=1|PronType=Prs', 'head': 6, 'deprel': 'nsubj'}),id=60), Annotation(16,20,UDPToken,features=Features({'words': [{'form': 'habs', 'lemma': 'habs', 'upos': 'X', 'xpos': 'NN', 'feats': 'Case=Acc|Gender=Masc|Number=Plur', 'head': 6, 'deprel': 'obj'}]}),id=51), Annotation(16,20,Token,features=Features({'form': 'habs', 'lemma': 'habs', 'upos': 'X', 'xpos': 'NN', 'feats': 'Case=Acc|Gender=Masc|Number=Plur', 'head': 6, 'deprel': 'obj'}),id=61), Annotation(21,24,UDPToken,features=Features({'words': [{'form': 'in', 'lemma': 'in', 'upos': 'ADP', 'xpos': 'APPR', 'head': 5, 'deprel': 'case'}, {'form': 'das', 'lemma': 'der', 'upos': 'DET', 'xpos': 'ART', 'feats': 'Case=Acc|Definite=Def|Gender=Neut|Number=Sing|PronType=Art', 'head': 5, 'deprel': 'det'}]}),id=52), Annotation(21,23,Token,features=Features({'form': 'in', 'lemma': 'in', 'upos': 'ADP', 'xpos': 'APPR', 'head': 5, 'deprel': 'case'}),id=62), Annotation(21,24,MWT,features=Features({'word_ids': [62, 63]}),id=64), Annotation(23,24,Token,features=Features({'form': 'das', 'lemma': 'der', 'upos': 'DET', 'xpos': 'ART', 'feats': 'Case=Acc|Definite=Def|Gender=Neut|Number=Sing|PronType=Art', 'head': 5, 'deprel': 'det'}),id=63), Annotation(25,30,UDPToken,features=Features({'words': [{'form': 'Dings', 'lemma': 'Dings', 'upos': 'NOUN', 'xpos': 'NN', 'feats': 'Case=Acc|Gender=Neut|Number=Plur', 'head': 6, 'deprel': 'obl'}]}),id=53), Annotation(25,30,Token,features=Features({'form': 'Dings', 'lemma': 'Dings', 'upos': 'NOUN', 'xpos': 'NN', 'feats': 'Case=Acc|Gender=Neut|Number=Plur', 'head': 6, 'deprel': 'obl'}),id=65), Annotation(31,38,UDPToken,features=Features({'words': [{'form': 'gegeben', 'lemma': 'geben', 'upos': 'VERB', 'xpos': 'VVPP', 'feats': 'VerbForm=Part', 'head': 0, 'deprel': 'root'}]}),id=54), Annotation(31,38,Token,features=Features({'form': 'gegeben', 'lemma': 'geben', 'upos': 'VERB', 'xpos': 'VVPP', 'feats': 'VerbForm=Part', 'head': 0, 'deprel': 'root'}),id=66), Annotation(38,39,UDPToken,features=Features({'words': [{'form': '.', 'lemma': '.', 'upos': 'PUNCT', 'xpos': '$.', 'head': 6, 'deprel': 'punct'}]}),id=55), Annotation(38,39,Token,features=Features({'form': '.', 'lemma': '.', 'upos': 'PUNCT', 'xpos': '$.', 'head': 6, 'deprel': 'punct'}),id=67)])})"
      ]
     },
     "execution_count": 41,
     "metadata": {},
     "output_type": "execute_result"
    }
   ],
   "source": [
    "doc"
   ]
  },
  {
   "cell_type": "code",
   "execution_count": 34,
   "metadata": {
    "scrolled": false
   },
   "outputs": [],
   "source": [
    "anns = doc.annset().with_type(\"MWT\")"
   ]
  },
  {
   "cell_type": "code",
   "execution_count": 35,
   "metadata": {},
   "outputs": [
    {
     "name": "stdout",
     "output_type": "stream",
     "text": [
      "Features({'word_ids': [Annotation(21,23,Token,features=Features({'form': 'in', 'lemma': 'in', 'upos': 'ADP', 'xpos': 'APPR', 'head': 5, 'deprel': 'case'}),id=25), Annotation(23,24,Token,features=Features({'form': 'das', 'lemma': 'der', 'upos': 'DET', 'xpos': 'ART', 'feats': 'Case=Acc|Definite=Def|Gender=Neut|Number=Sing|PronType=Art', 'head': 5, 'deprel': 'det'}),id=26)]})\n",
      "Features({'word_ids': [37, 38]})\n"
     ]
    }
   ],
   "source": [
    "for ann in anns:\n",
    "    print(ann.features)"
   ]
  },
  {
   "cell_type": "code",
   "execution_count": null,
   "metadata": {},
   "outputs": [],
   "source": []
  }
 ],
 "metadata": {
  "interpreter": {
   "hash": "894109e46787fb430265e20e1827b1c148e8f49dd04d1d979ad223af39dddabc"
  },
  "kernelspec": {
   "display_name": "gatenlp-37",
   "language": "python",
   "name": "gatenlp-37"
  },
  "language_info": {
   "codemirror_mode": {
    "name": "ipython",
    "version": 3
   },
   "file_extension": ".py",
   "mimetype": "text/x-python",
   "name": "python",
   "nbconvert_exporter": "python",
   "pygments_lexer": "ipython3",
   "version": "3.7.9"
  }
 },
 "nbformat": 4,
 "nbformat_minor": 4
}
