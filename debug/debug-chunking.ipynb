{
 "cells": [
  {
   "cell_type": "code",
   "execution_count": 1,
   "metadata": {},
   "outputs": [
    {
     "name": "stderr",
     "output_type": "stream",
     "text": [
      "/home/johann/software/anaconda/envs/gatenlp-37/lib/python3.7/site-packages/torch/cuda/__init__.py:80: UserWarning: CUDA initialization: The NVIDIA driver on your system is too old (found version 9010). Please update your GPU driver by downloading and installing a new version from the URL: http://www.nvidia.com/Download/index.aspx Alternatively, go to: https://pytorch.org to install a PyTorch version that has been compiled with your version of the CUDA driver. (Triggered internally at  ../c10/cuda/CUDAFunctions.cpp:112.)\n",
      "  return torch._C._cuda_getDeviceCount() > 0\n"
     ]
    }
   ],
   "source": [
    "from gatenlp import Document, AnnotationSet\n",
    "from gatenlp.chunking import anns2ibo\n",
    "from gatenlp.lib_spacy import AnnSpacy"
   ]
  },
  {
   "cell_type": "code",
   "execution_count": null,
   "metadata": {},
   "outputs": [],
   "source": []
  },
  {
   "cell_type": "code",
   "execution_count": 6,
   "metadata": {},
   "outputs": [],
   "source": [
    "texts = [\n",
    "    \"Vladimir Putin is dead. He was shot in Moscow.\"\n",
    "]\n",
    "docs = [Document(t) for t in texts]\n",
    "doc0 = docs[0]"
   ]
  },
  {
   "cell_type": "code",
   "execution_count": 7,
   "metadata": {},
   "outputs": [
    {
     "data": {
      "text/html": [
       "<div><style>#PZVOXWARFY-wrapper { color: black !important; }</style>\n",
       "<div id=\"PZVOXWARFY-wrapper\">\n",
       "\n",
       "<div>\n",
       "<style>\n",
       "#PZVOXWARFY-content {\n",
       "    width: 100%;\n",
       "    height: 100%;\n",
       "    font-family: -apple-system, BlinkMacSystemFont, 'Segoe UI', Roboto, Oxygen, Ubuntu, Cantarell, 'Open Sans', 'Helvetica Neue', sans-serif;\n",
       "}\n",
       "\n",
       ".PZVOXWARFY-row {\n",
       "    width: 100%;\n",
       "    display: flex;\n",
       "    flex-direction: row;\n",
       "    flex-wrap: nowrap;\n",
       "}\n",
       "\n",
       ".PZVOXWARFY-col {\n",
       "    border: 1px solid grey;\n",
       "    display: inline-block;\n",
       "    min-width: 200px;\n",
       "    padding: 5px;\n",
       "    /* white-space: normal; */\n",
       "    /* white-space: pre-wrap; */\n",
       "    overflow-y: auto;\n",
       "}\n",
       "\n",
       ".PZVOXWARFY-hdr {\n",
       "    font-size: 1.2rem;\n",
       "    font-weight: bold;\n",
       "}\n",
       "\n",
       ".PZVOXWARFY-label {\n",
       "    margin-bottom: -15px;\n",
       "    display: block;\n",
       "}\n",
       "\n",
       ".PZVOXWARFY-input {\n",
       "    vertical-align: middle;\n",
       "    position: relative;\n",
       "    *overflow: hidden;\n",
       "}\n",
       "\n",
       "#PZVOXWARFY-popup {\n",
       "    display: none;\n",
       "    color: black;\n",
       "    position: absolute;\n",
       "    margin-top: 10%;\n",
       "    margin-left: 10%;\n",
       "    background: #aaaaaa;\n",
       "    width: 60%;\n",
       "    height: 60%;\n",
       "    z-index: 50;\n",
       "    padding: 25px 25px 25px;\n",
       "    border: 1px solid black;\n",
       "    overflow: auto;\n",
       "}\n",
       "\n",
       ".PZVOXWARFY-selection {\n",
       "    margin-bottom: 5px;\n",
       "}\n",
       "\n",
       ".PZVOXWARFY-featuretable {\n",
       "    margin-top: 10px;\n",
       "}\n",
       "\n",
       ".PZVOXWARFY-fname {\n",
       "    text-align: left !important;\n",
       "    font-weight: bold;\n",
       "    margin-right: 10px;\n",
       "}\n",
       ".PZVOXWARFY-fvalue {\n",
       "    text-align: left !important;\n",
       "}\n",
       "</style>\n",
       "  <div id=\"PZVOXWARFY-content\">\n",
       "        <div id=\"PZVOXWARFY-popup\" style=\"display: none;\">\n",
       "        </div>\n",
       "        <div class=\"PZVOXWARFY-row\" id=\"PZVOXWARFY-row1\" style=\"min-height:5em;max-height:20em; min-height:5em;\">\n",
       "            <div id=\"PZVOXWARFY-text-wrapper\" class=\"PZVOXWARFY-col\" style=\"width:70%;\">\n",
       "                <div class=\"PZVOXWARFY-hdr\" id=\"PZVOXWARFY-dochdr\"></div>\n",
       "                <div id=\"PZVOXWARFY-text\" style=\"\">\n",
       "                </div>\n",
       "            </div>\n",
       "            <div id=\"PZVOXWARFY-chooser\" class=\"PZVOXWARFY-col\" style=\"width:30%; border-left-width: 0px;\"></div>\n",
       "        </div>\n",
       "        <div class=\"PZVOXWARFY-row\" id=\"PZVOXWARFY-row2\" style=\"min-height:3em;max-height:14em; min-height: 3em;\">\n",
       "            <div id=\"PZVOXWARFY-details\" class=\"PZVOXWARFY-col\" style=\"width:100%; border-top-width: 0px;\">\n",
       "            </div>\n",
       "        </div>\n",
       "    </div>\n",
       "    \n",
       "    <script type=\"text/javascript\">\n",
       "    let PZVOXWARFY_data = {\"annotation_sets\": {\"\": {\"name\": \"detached-from:\", \"annotations\": [{\"type\": \"Token\", \"start\": 0, \"end\": 8, \"id\": 0, \"features\": {\"_i\": 0, \"is_alpha\": true, \"is_bracket\": false, \"is_currency\": false, \"is_digit\": false, \"is_left_punct\": false, \"is_lower\": false, \"is_oov\": true, \"is_punct\": false, \"is_quote\": false, \"is_right_punct\": false, \"is_sent_start\": true, \"is_space\": false, \"is_stop\": false, \"is_title\": true, \"is_upper\": false, \"lang\": \"en\", \"lemma\": \"Vladimir\", \"like_email\": false, \"like_num\": false, \"like_url\": false, \"orth\": 17089380091370364195, \"pos\": \"PROPN\", \"prefix\": \"V\", \"prob\": -20.0, \"rank\": 18446744073709551615, \"sentiment\": 0.0, \"tag\": \"NNP\", \"shape\": \"Xxxxx\", \"suffix\": \"mir\", \"ent_type\": \"PERSON\", \"dep\": \"compound\", \"head\": 2, \"left_edge\": 0, \"right_edge\": 0}}, {\"type\": \"SpaceToken\", \"start\": 8, \"end\": 9, \"id\": 1, \"features\": {\"is_space\": true}}, {\"type\": \"Token\", \"start\": 9, \"end\": 14, \"id\": 2, \"features\": {\"_i\": 1, \"is_alpha\": true, \"is_bracket\": false, \"is_currency\": false, \"is_digit\": false, \"is_left_punct\": false, \"is_lower\": false, \"is_oov\": true, \"is_punct\": false, \"is_quote\": false, \"is_right_punct\": false, \"is_sent_start\": false, \"is_space\": false, \"is_stop\": false, \"is_title\": true, \"is_upper\": false, \"lang\": \"en\", \"lemma\": \"Putin\", \"like_email\": false, \"like_num\": false, \"like_url\": false, \"orth\": 3319857949122050683, \"pos\": \"PROPN\", \"prefix\": \"P\", \"prob\": -20.0, \"rank\": 18446744073709551615, \"sentiment\": 0.0, \"tag\": \"NNP\", \"shape\": \"Xxxxx\", \"suffix\": \"tin\", \"ent_type\": \"PERSON\", \"dep\": \"nsubj\", \"head\": 4, \"left_edge\": 0, \"right_edge\": 2}}, {\"type\": \"SpaceToken\", \"start\": 14, \"end\": 15, \"id\": 3, \"features\": {\"is_space\": true}}, {\"type\": \"Token\", \"start\": 15, \"end\": 17, \"id\": 4, \"features\": {\"_i\": 2, \"is_alpha\": true, \"is_bracket\": false, \"is_currency\": false, \"is_digit\": false, \"is_left_punct\": false, \"is_lower\": true, \"is_oov\": true, \"is_punct\": false, \"is_quote\": false, \"is_right_punct\": false, \"is_sent_start\": false, \"is_space\": false, \"is_stop\": true, \"is_title\": false, \"is_upper\": false, \"lang\": \"en\", \"lemma\": \"be\", \"like_email\": false, \"like_num\": false, \"like_url\": false, \"orth\": 3411606890003347522, \"pos\": \"AUX\", \"prefix\": \"i\", \"prob\": -20.0, \"rank\": 18446744073709551615, \"sentiment\": 0.0, \"tag\": \"VBZ\", \"shape\": \"xx\", \"suffix\": \"is\", \"ent_type\": \"\", \"dep\": \"ROOT\", \"head\": 4, \"left_edge\": 0, \"right_edge\": 7}}, {\"type\": \"SpaceToken\", \"start\": 17, \"end\": 18, \"id\": 5, \"features\": {\"is_space\": true}}, {\"type\": \"Token\", \"start\": 18, \"end\": 22, \"id\": 6, \"features\": {\"_i\": 3, \"is_alpha\": true, \"is_bracket\": false, \"is_currency\": false, \"is_digit\": false, \"is_left_punct\": false, \"is_lower\": true, \"is_oov\": true, \"is_punct\": false, \"is_quote\": false, \"is_right_punct\": false, \"is_sent_start\": false, \"is_space\": false, \"is_stop\": false, \"is_title\": false, \"is_upper\": false, \"lang\": \"en\", \"lemma\": \"dead\", \"like_email\": false, \"like_num\": false, \"like_url\": false, \"orth\": 7918612102688024668, \"pos\": \"ADJ\", \"prefix\": \"d\", \"prob\": -20.0, \"rank\": 18446744073709551615, \"sentiment\": 0.0, \"tag\": \"JJ\", \"shape\": \"xxxx\", \"suffix\": \"ead\", \"ent_type\": \"\", \"dep\": \"acomp\", \"head\": 4, \"left_edge\": 6, \"right_edge\": 6}}, {\"type\": \"Token\", \"start\": 22, \"end\": 23, \"id\": 7, \"features\": {\"_i\": 4, \"is_alpha\": false, \"is_bracket\": false, \"is_currency\": false, \"is_digit\": false, \"is_left_punct\": false, \"is_lower\": false, \"is_oov\": true, \"is_punct\": true, \"is_quote\": false, \"is_right_punct\": false, \"is_sent_start\": false, \"is_space\": false, \"is_stop\": false, \"is_title\": false, \"is_upper\": false, \"lang\": \"en\", \"lemma\": \".\", \"like_email\": false, \"like_num\": false, \"like_url\": false, \"orth\": 12646065887601541794, \"pos\": \"PUNCT\", \"prefix\": \".\", \"prob\": -20.0, \"rank\": 18446744073709551615, \"sentiment\": 0.0, \"tag\": \".\", \"shape\": \".\", \"suffix\": \".\", \"ent_type\": \"\", \"dep\": \"punct\", \"head\": 4, \"left_edge\": 7, \"right_edge\": 7}}, {\"type\": \"SpaceToken\", \"start\": 23, \"end\": 24, \"id\": 8, \"features\": {\"is_space\": true}}, {\"type\": \"Token\", \"start\": 24, \"end\": 26, \"id\": 9, \"features\": {\"_i\": 5, \"is_alpha\": true, \"is_bracket\": false, \"is_currency\": false, \"is_digit\": false, \"is_left_punct\": false, \"is_lower\": false, \"is_oov\": true, \"is_punct\": false, \"is_quote\": false, \"is_right_punct\": false, \"is_sent_start\": true, \"is_space\": false, \"is_stop\": true, \"is_title\": true, \"is_upper\": false, \"lang\": \"en\", \"lemma\": \"he\", \"like_email\": false, \"like_num\": false, \"like_url\": false, \"orth\": 1692983299745037067, \"pos\": \"PRON\", \"prefix\": \"H\", \"prob\": -20.0, \"rank\": 18446744073709551615, \"sentiment\": 0.0, \"tag\": \"PRP\", \"shape\": \"Xx\", \"suffix\": \"He\", \"ent_type\": \"\", \"dep\": \"nsubjpass\", \"head\": 13, \"left_edge\": 9, \"right_edge\": 9}}, {\"type\": \"SpaceToken\", \"start\": 26, \"end\": 27, \"id\": 10, \"features\": {\"is_space\": true}}, {\"type\": \"Token\", \"start\": 27, \"end\": 30, \"id\": 11, \"features\": {\"_i\": 6, \"is_alpha\": true, \"is_bracket\": false, \"is_currency\": false, \"is_digit\": false, \"is_left_punct\": false, \"is_lower\": true, \"is_oov\": true, \"is_punct\": false, \"is_quote\": false, \"is_right_punct\": false, \"is_sent_start\": false, \"is_space\": false, \"is_stop\": true, \"is_title\": false, \"is_upper\": false, \"lang\": \"en\", \"lemma\": \"be\", \"like_email\": false, \"like_num\": false, \"like_url\": false, \"orth\": 9921686513378912864, \"pos\": \"AUX\", \"prefix\": \"w\", \"prob\": -20.0, \"rank\": 18446744073709551615, \"sentiment\": 0.0, \"tag\": \"VBD\", \"shape\": \"xxx\", \"suffix\": \"was\", \"ent_type\": \"\", \"dep\": \"auxpass\", \"head\": 13, \"left_edge\": 11, \"right_edge\": 11}}, {\"type\": \"SpaceToken\", \"start\": 30, \"end\": 31, \"id\": 12, \"features\": {\"is_space\": true}}, {\"type\": \"Token\", \"start\": 31, \"end\": 35, \"id\": 13, \"features\": {\"_i\": 7, \"is_alpha\": true, \"is_bracket\": false, \"is_currency\": false, \"is_digit\": false, \"is_left_punct\": false, \"is_lower\": true, \"is_oov\": true, \"is_punct\": false, \"is_quote\": false, \"is_right_punct\": false, \"is_sent_start\": false, \"is_space\": false, \"is_stop\": false, \"is_title\": false, \"is_upper\": false, \"lang\": \"en\", \"lemma\": \"shoot\", \"like_email\": false, \"like_num\": false, \"like_url\": false, \"orth\": 4199299267551125623, \"pos\": \"VERB\", \"prefix\": \"s\", \"prob\": -20.0, \"rank\": 18446744073709551615, \"sentiment\": 0.0, \"tag\": \"VBN\", \"shape\": \"xxxx\", \"suffix\": \"hot\", \"ent_type\": \"\", \"dep\": \"ROOT\", \"head\": 13, \"left_edge\": 9, \"right_edge\": 18}}, {\"type\": \"SpaceToken\", \"start\": 35, \"end\": 36, \"id\": 14, \"features\": {\"is_space\": true}}, {\"type\": \"Token\", \"start\": 36, \"end\": 38, \"id\": 15, \"features\": {\"_i\": 8, \"is_alpha\": true, \"is_bracket\": false, \"is_currency\": false, \"is_digit\": false, \"is_left_punct\": false, \"is_lower\": true, \"is_oov\": true, \"is_punct\": false, \"is_quote\": false, \"is_right_punct\": false, \"is_sent_start\": false, \"is_space\": false, \"is_stop\": true, \"is_title\": false, \"is_upper\": false, \"lang\": \"en\", \"lemma\": \"in\", \"like_email\": false, \"like_num\": false, \"like_url\": false, \"orth\": 3002984154512732771, \"pos\": \"ADP\", \"prefix\": \"i\", \"prob\": -20.0, \"rank\": 18446744073709551615, \"sentiment\": 0.0, \"tag\": \"IN\", \"shape\": \"xx\", \"suffix\": \"in\", \"ent_type\": \"\", \"dep\": \"prep\", \"head\": 13, \"left_edge\": 15, \"right_edge\": 17}}, {\"type\": \"SpaceToken\", \"start\": 38, \"end\": 39, \"id\": 16, \"features\": {\"is_space\": true}}, {\"type\": \"Token\", \"start\": 39, \"end\": 45, \"id\": 17, \"features\": {\"_i\": 9, \"is_alpha\": true, \"is_bracket\": false, \"is_currency\": false, \"is_digit\": false, \"is_left_punct\": false, \"is_lower\": false, \"is_oov\": true, \"is_punct\": false, \"is_quote\": false, \"is_right_punct\": false, \"is_sent_start\": false, \"is_space\": false, \"is_stop\": false, \"is_title\": true, \"is_upper\": false, \"lang\": \"en\", \"lemma\": \"Moscow\", \"like_email\": false, \"like_num\": false, \"like_url\": false, \"orth\": 13549936205470267463, \"pos\": \"PROPN\", \"prefix\": \"M\", \"prob\": -20.0, \"rank\": 18446744073709551615, \"sentiment\": 0.0, \"tag\": \"NNP\", \"shape\": \"Xxxxx\", \"suffix\": \"cow\", \"ent_type\": \"GPE\", \"dep\": \"pobj\", \"head\": 15, \"left_edge\": 17, \"right_edge\": 17}}, {\"type\": \"Token\", \"start\": 45, \"end\": 46, \"id\": 18, \"features\": {\"_i\": 10, \"is_alpha\": false, \"is_bracket\": false, \"is_currency\": false, \"is_digit\": false, \"is_left_punct\": false, \"is_lower\": false, \"is_oov\": true, \"is_punct\": true, \"is_quote\": false, \"is_right_punct\": false, \"is_sent_start\": false, \"is_space\": false, \"is_stop\": false, \"is_title\": false, \"is_upper\": false, \"lang\": \"en\", \"lemma\": \".\", \"like_email\": false, \"like_num\": false, \"like_url\": false, \"orth\": 12646065887601541794, \"pos\": \"PUNCT\", \"prefix\": \".\", \"prob\": -20.0, \"rank\": 18446744073709551615, \"sentiment\": 0.0, \"tag\": \".\", \"shape\": \".\", \"suffix\": \".\", \"ent_type\": \"\", \"dep\": \"punct\", \"head\": 13, \"left_edge\": 18, \"right_edge\": 18}}, {\"type\": \"PERSON\", \"start\": 0, \"end\": 14, \"id\": 19, \"features\": {\"lemma\": \"Vladimir Putin\"}}, {\"type\": \"GPE\", \"start\": 39, \"end\": 45, \"id\": 20, \"features\": {\"lemma\": \"Moscow\"}}, {\"type\": \"Sentence\", \"start\": 0, \"end\": 23, \"id\": 21, \"features\": {}}, {\"type\": \"Sentence\", \"start\": 24, \"end\": 46, \"id\": 22, \"features\": {}}, {\"type\": \"NounChunk\", \"start\": 0, \"end\": 14, \"id\": 23, \"features\": {}}, {\"type\": \"NounChunk\", \"start\": 24, \"end\": 26, \"id\": 24, \"features\": {}}, {\"type\": \"NounChunk\", \"start\": 39, \"end\": 45, \"id\": 25, \"features\": {}}], \"next_annid\": 26}}, \"text\": \"Vladimir Putin is dead. He was shot in Moscow.\", \"features\": {}, \"offset_type\": \"j\", \"name\": \"\"} ; \n",
       "    let PZVOXWARFY_parms = {\"presel_set\": [], \"presel_list\": [], \"cols4types\": {}} ;\n",
       "    new gatenlpDocView(new gatenlpDocRep(PZVOXWARFY_data, PZVOXWARFY_parms), \"PZVOXWARFY-\").init();\n",
       "    </script>\n",
       "  </div>\n",
       "\n",
       "</div></div>"
      ],
      "text/plain": [
       "Document(Vladimir Putin is dead. He was shot in Moscow.,features=Features({}),anns={'': AnnotationSet([Annotation(0,8,Token,features=Features({'_i': 0, 'is_alpha': True, 'is_bracket': False, 'is_currency': False, 'is_digit': False, 'is_left_punct': False, 'is_lower': False, 'is_oov': True, 'is_punct': False, 'is_quote': False, 'is_right_punct': False, 'is_sent_start': True, 'is_space': False, 'is_stop': False, 'is_title': True, 'is_upper': False, 'lang': 'en', 'lemma': 'Vladimir', 'like_email': False, 'like_num': False, 'like_url': False, 'orth': 17089380091370364195, 'pos': 'PROPN', 'prefix': 'V', 'prob': -20.0, 'rank': 18446744073709551615, 'sentiment': 0.0, 'tag': 'NNP', 'shape': 'Xxxxx', 'suffix': 'mir', 'ent_type': 'PERSON', 'dep': 'compound', 'head': 2, 'left_edge': 0, 'right_edge': 0}),id=0), Annotation(0,14,PERSON,features=Features({'lemma': 'Vladimir Putin'}),id=19), Annotation(0,23,Sentence,features=Features({}),id=21), Annotation(0,14,NounChunk,features=Features({}),id=23), Annotation(8,9,SpaceToken,features=Features({'is_space': True}),id=1), Annotation(9,14,Token,features=Features({'_i': 1, 'is_alpha': True, 'is_bracket': False, 'is_currency': False, 'is_digit': False, 'is_left_punct': False, 'is_lower': False, 'is_oov': True, 'is_punct': False, 'is_quote': False, 'is_right_punct': False, 'is_sent_start': False, 'is_space': False, 'is_stop': False, 'is_title': True, 'is_upper': False, 'lang': 'en', 'lemma': 'Putin', 'like_email': False, 'like_num': False, 'like_url': False, 'orth': 3319857949122050683, 'pos': 'PROPN', 'prefix': 'P', 'prob': -20.0, 'rank': 18446744073709551615, 'sentiment': 0.0, 'tag': 'NNP', 'shape': 'Xxxxx', 'suffix': 'tin', 'ent_type': 'PERSON', 'dep': 'nsubj', 'head': 4, 'left_edge': 0, 'right_edge': 2}),id=2), Annotation(14,15,SpaceToken,features=Features({'is_space': True}),id=3), Annotation(15,17,Token,features=Features({'_i': 2, 'is_alpha': True, 'is_bracket': False, 'is_currency': False, 'is_digit': False, 'is_left_punct': False, 'is_lower': True, 'is_oov': True, 'is_punct': False, 'is_quote': False, 'is_right_punct': False, 'is_sent_start': False, 'is_space': False, 'is_stop': True, 'is_title': False, 'is_upper': False, 'lang': 'en', 'lemma': 'be', 'like_email': False, 'like_num': False, 'like_url': False, 'orth': 3411606890003347522, 'pos': 'AUX', 'prefix': 'i', 'prob': -20.0, 'rank': 18446744073709551615, 'sentiment': 0.0, 'tag': 'VBZ', 'shape': 'xx', 'suffix': 'is', 'ent_type': '', 'dep': 'ROOT', 'head': 4, 'left_edge': 0, 'right_edge': 7}),id=4), Annotation(17,18,SpaceToken,features=Features({'is_space': True}),id=5), Annotation(18,22,Token,features=Features({'_i': 3, 'is_alpha': True, 'is_bracket': False, 'is_currency': False, 'is_digit': False, 'is_left_punct': False, 'is_lower': True, 'is_oov': True, 'is_punct': False, 'is_quote': False, 'is_right_punct': False, 'is_sent_start': False, 'is_space': False, 'is_stop': False, 'is_title': False, 'is_upper': False, 'lang': 'en', 'lemma': 'dead', 'like_email': False, 'like_num': False, 'like_url': False, 'orth': 7918612102688024668, 'pos': 'ADJ', 'prefix': 'd', 'prob': -20.0, 'rank': 18446744073709551615, 'sentiment': 0.0, 'tag': 'JJ', 'shape': 'xxxx', 'suffix': 'ead', 'ent_type': '', 'dep': 'acomp', 'head': 4, 'left_edge': 6, 'right_edge': 6}),id=6), Annotation(22,23,Token,features=Features({'_i': 4, 'is_alpha': False, 'is_bracket': False, 'is_currency': False, 'is_digit': False, 'is_left_punct': False, 'is_lower': False, 'is_oov': True, 'is_punct': True, 'is_quote': False, 'is_right_punct': False, 'is_sent_start': False, 'is_space': False, 'is_stop': False, 'is_title': False, 'is_upper': False, 'lang': 'en', 'lemma': '.', 'like_email': False, 'like_num': False, 'like_url': False, 'orth': 12646065887601541794, 'pos': 'PUNCT', 'prefix': '.', 'prob': -20.0, 'rank': 18446744073709551615, 'sentiment': 0.0, 'tag': '.', 'shape': '.', 'suffix': '.', 'ent_type': '', 'dep': 'punct', 'head': 4, 'left_edge': 7, 'right_edge': 7}),id=7), Annotation(23,24,SpaceToken,features=Features({'is_space': True}),id=8), Annotation(24,26,Token,features=Features({'_i': 5, 'is_alpha': True, 'is_bracket': False, 'is_currency': False, 'is_digit': False, 'is_left_punct': False, 'is_lower': False, 'is_oov': True, 'is_punct': False, 'is_quote': False, 'is_right_punct': False, 'is_sent_start': True, 'is_space': False, 'is_stop': True, 'is_title': True, 'is_upper': False, 'lang': 'en', 'lemma': 'he', 'like_email': False, 'like_num': False, 'like_url': False, 'orth': 1692983299745037067, 'pos': 'PRON', 'prefix': 'H', 'prob': -20.0, 'rank': 18446744073709551615, 'sentiment': 0.0, 'tag': 'PRP', 'shape': 'Xx', 'suffix': 'He', 'ent_type': '', 'dep': 'nsubjpass', 'head': 13, 'left_edge': 9, 'right_edge': 9}),id=9), Annotation(24,46,Sentence,features=Features({}),id=22), Annotation(24,26,NounChunk,features=Features({}),id=24), Annotation(26,27,SpaceToken,features=Features({'is_space': True}),id=10), Annotation(27,30,Token,features=Features({'_i': 6, 'is_alpha': True, 'is_bracket': False, 'is_currency': False, 'is_digit': False, 'is_left_punct': False, 'is_lower': True, 'is_oov': True, 'is_punct': False, 'is_quote': False, 'is_right_punct': False, 'is_sent_start': False, 'is_space': False, 'is_stop': True, 'is_title': False, 'is_upper': False, 'lang': 'en', 'lemma': 'be', 'like_email': False, 'like_num': False, 'like_url': False, 'orth': 9921686513378912864, 'pos': 'AUX', 'prefix': 'w', 'prob': -20.0, 'rank': 18446744073709551615, 'sentiment': 0.0, 'tag': 'VBD', 'shape': 'xxx', 'suffix': 'was', 'ent_type': '', 'dep': 'auxpass', 'head': 13, 'left_edge': 11, 'right_edge': 11}),id=11), Annotation(30,31,SpaceToken,features=Features({'is_space': True}),id=12), Annotation(31,35,Token,features=Features({'_i': 7, 'is_alpha': True, 'is_bracket': False, 'is_currency': False, 'is_digit': False, 'is_left_punct': False, 'is_lower': True, 'is_oov': True, 'is_punct': False, 'is_quote': False, 'is_right_punct': False, 'is_sent_start': False, 'is_space': False, 'is_stop': False, 'is_title': False, 'is_upper': False, 'lang': 'en', 'lemma': 'shoot', 'like_email': False, 'like_num': False, 'like_url': False, 'orth': 4199299267551125623, 'pos': 'VERB', 'prefix': 's', 'prob': -20.0, 'rank': 18446744073709551615, 'sentiment': 0.0, 'tag': 'VBN', 'shape': 'xxxx', 'suffix': 'hot', 'ent_type': '', 'dep': 'ROOT', 'head': 13, 'left_edge': 9, 'right_edge': 18}),id=13), Annotation(35,36,SpaceToken,features=Features({'is_space': True}),id=14), Annotation(36,38,Token,features=Features({'_i': 8, 'is_alpha': True, 'is_bracket': False, 'is_currency': False, 'is_digit': False, 'is_left_punct': False, 'is_lower': True, 'is_oov': True, 'is_punct': False, 'is_quote': False, 'is_right_punct': False, 'is_sent_start': False, 'is_space': False, 'is_stop': True, 'is_title': False, 'is_upper': False, 'lang': 'en', 'lemma': 'in', 'like_email': False, 'like_num': False, 'like_url': False, 'orth': 3002984154512732771, 'pos': 'ADP', 'prefix': 'i', 'prob': -20.0, 'rank': 18446744073709551615, 'sentiment': 0.0, 'tag': 'IN', 'shape': 'xx', 'suffix': 'in', 'ent_type': '', 'dep': 'prep', 'head': 13, 'left_edge': 15, 'right_edge': 17}),id=15), Annotation(38,39,SpaceToken,features=Features({'is_space': True}),id=16), Annotation(39,45,Token,features=Features({'_i': 9, 'is_alpha': True, 'is_bracket': False, 'is_currency': False, 'is_digit': False, 'is_left_punct': False, 'is_lower': False, 'is_oov': True, 'is_punct': False, 'is_quote': False, 'is_right_punct': False, 'is_sent_start': False, 'is_space': False, 'is_stop': False, 'is_title': True, 'is_upper': False, 'lang': 'en', 'lemma': 'Moscow', 'like_email': False, 'like_num': False, 'like_url': False, 'orth': 13549936205470267463, 'pos': 'PROPN', 'prefix': 'M', 'prob': -20.0, 'rank': 18446744073709551615, 'sentiment': 0.0, 'tag': 'NNP', 'shape': 'Xxxxx', 'suffix': 'cow', 'ent_type': 'GPE', 'dep': 'pobj', 'head': 15, 'left_edge': 17, 'right_edge': 17}),id=17), Annotation(39,45,GPE,features=Features({'lemma': 'Moscow'}),id=20), Annotation(39,45,NounChunk,features=Features({}),id=25), Annotation(45,46,Token,features=Features({'_i': 10, 'is_alpha': False, 'is_bracket': False, 'is_currency': False, 'is_digit': False, 'is_left_punct': False, 'is_lower': False, 'is_oov': True, 'is_punct': True, 'is_quote': False, 'is_right_punct': False, 'is_sent_start': False, 'is_space': False, 'is_stop': False, 'is_title': False, 'is_upper': False, 'lang': 'en', 'lemma': '.', 'like_email': False, 'like_num': False, 'like_url': False, 'orth': 12646065887601541794, 'pos': 'PUNCT', 'prefix': '.', 'prob': -20.0, 'rank': 18446744073709551615, 'sentiment': 0.0, 'tag': '.', 'shape': '.', 'suffix': '.', 'ent_type': '', 'dep': 'punct', 'head': 13, 'left_edge': 18, 'right_edge': 18}),id=18)])})"
      ]
     },
     "execution_count": 7,
     "metadata": {},
     "output_type": "execute_result"
    }
   ],
   "source": [
    "doc0.annset().clear()\n",
    "anntr = AnnSpacy()\n",
    "anntr(doc0)\n",
    "doc0"
   ]
  },
  {
   "cell_type": "code",
   "execution_count": 9,
   "metadata": {},
   "outputs": [
    {
     "data": {
      "text/plain": [
       "[[('Vladimir', 'B-PERSON'),\n",
       "  ('Putin', 'I-PERSON'),\n",
       "  ('is', 'O'),\n",
       "  ('dead', 'O'),\n",
       "  ('.', 'O')],\n",
       " [('He', 'O'),\n",
       "  ('was', 'O'),\n",
       "  ('shot', 'O'),\n",
       "  ('in', 'O'),\n",
       "  ('Moscow', 'B-GPE'),\n",
       "  ('.', 'O')]]"
      ]
     },
     "execution_count": 9,
     "metadata": {},
     "output_type": "execute_result"
    }
   ],
   "source": [
    "list(anns2ibo(doc0, sentence_type=\"Sentence\", chunk_types=[\"PERSON\", \"GPE\"]))"
   ]
  },
  {
   "cell_type": "code",
   "execution_count": null,
   "metadata": {},
   "outputs": [],
   "source": []
  },
  {
   "cell_type": "code",
   "execution_count": null,
   "metadata": {},
   "outputs": [],
   "source": []
  }
 ],
 "metadata": {
  "kernelspec": {
   "display_name": "gatenlp-37",
   "language": "python",
   "name": "gatenlp-37"
  },
  "language_info": {
   "codemirror_mode": {
    "name": "ipython",
    "version": 3
   },
   "file_extension": ".py",
   "mimetype": "text/x-python",
   "name": "python",
   "nbconvert_exporter": "python",
   "pygments_lexer": "ipython3",
   "version": "3.7.9"
  }
 },
 "nbformat": 4,
 "nbformat_minor": 4
}
