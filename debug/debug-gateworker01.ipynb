{
 "cells": [
  {
   "cell_type": "markdown",
   "id": "61bf3e05",
   "metadata": {},
   "source": [
    "# debug-gateworker01\n"
   ]
  },
  {
   "cell_type": "code",
   "execution_count": 1,
   "id": "869bdf27",
   "metadata": {},
   "outputs": [],
   "source": [
    "from gatenlp.gateworker import GateWorker, GateWorkerAnnotator\n",
    "from gatenlp import Document"
   ]
  },
  {
   "cell_type": "code",
   "execution_count": 5,
   "id": "c73aae1a",
   "metadata": {
    "scrolled": false
   },
   "outputs": [
    {
     "name": "stderr",
     "output_type": "stream",
     "text": [
      "Trying to start GATE Worker on port=33116 host=127.0.0.1 log=false keep=false\n",
      "Process id is 221986\n"
     ]
    },
    {
     "name": "stdout",
     "output_type": "stream",
     "text": [
      "CREOLE plugin loaded: creole \n",
      "CREOLE plugin loaded: Format: Bdoc 1.10\n",
      "Plugin Python version: 3.0.7 commit: 9adf5ed dirty: false\n",
      "Lib interaction version: 4.1 commit: 7819f1c dirty: false\n",
      "Python gatenlp version: 1.0.7 commit: 8c15d82 dirty: false\n",
      "CREOLE plugin loaded: Python 3.0.7\n"
     ]
    },
    {
     "name": "stderr",
     "output_type": "stream",
     "text": [
      "PythonWorkerRunner.java: starting server with 33116/127.0.0.1/rxjnH0k8x3jUvNsscUZOboRnbiI/false\n"
     ]
    },
    {
     "data": {
      "text/plain": [
       "Gateworker(port=33116,host=127.0.0.1),gate_home=/data/johann/software/gate-developer"
      ]
     },
     "execution_count": 5,
     "metadata": {},
     "output_type": "execute_result"
    }
   ],
   "source": [
    "gw = GateWorker(port=33116,start=True)\n",
    "gw"
   ]
  },
  {
   "cell_type": "code",
   "execution_count": 55,
   "id": "00a8c0d6",
   "metadata": {},
   "outputs": [],
   "source": [
    "fm1 = gw.jvm.gate.Factory.newFeatureMap()"
   ]
  },
  {
   "cell_type": "code",
   "execution_count": 57,
   "id": "1a0a1b95",
   "metadata": {},
   "outputs": [
    {
     "data": {
      "text/plain": [
       "221986"
      ]
     },
     "execution_count": 57,
     "metadata": {},
     "output_type": "execute_result"
    }
   ],
   "source": [
    "gw.gateprocess.pid"
   ]
  },
  {
   "cell_type": "code",
   "execution_count": 58,
   "id": "df05f157",
   "metadata": {},
   "outputs": [],
   "source": [
    "gdoc2 = gw.load_gdoc(\"../docs/testdocument1.xml\")"
   ]
  },
  {
   "cell_type": "code",
   "execution_count": 64,
   "id": "d6ad2942",
   "metadata": {},
   "outputs": [
    {
     "name": "stdout",
     "output_type": "stream",
     "text": [
      "Help on class DocumentImpl in package gate.corpora:\n",
      "\n",
      "DocumentImpl extends gate.creole.AbstractLanguageResource implements gate.TextualDocument, gate.event.CreoleListener, gate.event.DatastoreListener {\n",
      "|  \n",
      "|  Methods defined here:\n",
      "|  \n",
      "|  getAnnotations(String) : AnnotationSet\n",
      "|  \n",
      "|  getAnnotations() : AnnotationSet\n",
      "|  \n",
      "|  ------------------------------------------------------------\n",
      "|  Fields defined here:\n",
      "|  \n",
      "|  ------------------------------------------------------------\n",
      "|  Internal classes defined here:\n",
      "|  \n",
      "}\n"
     ]
    }
   ],
   "source": [
    "gw.gateway.help(gdoc2.getAnnotations)"
   ]
  },
  {
   "cell_type": "code",
   "execution_count": 67,
   "id": "b8871864",
   "metadata": {},
   "outputs": [],
   "source": [
    "pdoc2=gw.gdoc2pdoc(gdoc2)"
   ]
  },
  {
   "cell_type": "code",
   "execution_count": 71,
   "id": "3688251b",
   "metadata": {},
   "outputs": [],
   "source": [
    "gdoc3 = gw.createDocument(\"Some Text\")"
   ]
  },
  {
   "cell_type": "code",
   "execution_count": 73,
   "id": "3b4a8e3a",
   "metadata": {},
   "outputs": [
    {
     "data": {
      "text/plain": [
       "'Some Text'"
      ]
     },
     "execution_count": 73,
     "metadata": {},
     "output_type": "execute_result"
    }
   ],
   "source": [
    "gdoc3.getStringContent()"
   ]
  },
  {
   "cell_type": "code",
   "execution_count": 74,
   "id": "4424b952",
   "metadata": {},
   "outputs": [
    {
     "name": "stderr",
     "output_type": "stream",
     "text": [
      "Java GatenlpWorker ENDING: 221986\n"
     ]
    }
   ],
   "source": [
    "gw.close()"
   ]
  },
  {
   "cell_type": "code",
   "execution_count": null,
   "id": "1c96a174",
   "metadata": {},
   "outputs": [],
   "source": []
  }
 ],
 "metadata": {
  "kernelspec": {
   "display_name": "gatenlp-37",
   "language": "python",
   "name": "gatenlp-37"
  },
  "language_info": {
   "codemirror_mode": {
    "name": "ipython",
    "version": 3
   },
   "file_extension": ".py",
   "mimetype": "text/x-python",
   "name": "python",
   "nbconvert_exporter": "python",
   "pygments_lexer": "ipython3",
   "version": "3.7.9"
  }
 },
 "nbformat": 4,
 "nbformat_minor": 5
}
