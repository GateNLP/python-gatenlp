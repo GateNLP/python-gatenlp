{
 "cells": [
  {
   "cell_type": "markdown",
   "metadata": {},
   "source": [
    "# debug-gatezetteer-string\n",
    "## Debug/test string gazetteer "
   ]
  },
  {
   "cell_type": "code",
   "execution_count": 1,
   "metadata": {},
   "outputs": [],
   "source": [
    "import sys, os\n",
    "from gatenlp.processing.gazetteer import StringGazetteer\n",
    "from gatenlp import Document\n"
   ]
  },
  {
   "cell_type": "markdown",
   "metadata": {},
   "source": [
    "## Basic Usage"
   ]
  },
  {
   "cell_type": "code",
   "execution_count": 46,
   "metadata": {
    "scrolled": false,
    "slideshow": {
     "slide_type": "subslide"
    }
   },
   "outputs": [],
   "source": [
    "# try loading the GATE ANNIE gazetteer\n",
    "# this needs a symbolic link ./gazetteer to the ANNIE src/main/resources/resources/gazetteer directory or a copy\n",
    "gaz1 = StringGazetteer(source=\"gazetteer/lists.def\", longest_only=False, source_sep=\":\")"
   ]
  },
  {
   "cell_type": "code",
   "execution_count": null,
   "metadata": {
    "scrolled": true
   },
   "outputs": [],
   "source": []
  },
  {
   "cell_type": "code",
   "execution_count": 3,
   "metadata": {},
   "outputs": [
    {
     "data": {
      "text/plain": [
       "[{'majorType': 'location', 'minorType': 'city'}]"
      ]
     },
     "execution_count": 3,
     "metadata": {},
     "output_type": "execute_result"
    }
   ],
   "source": [
    "gaz1.get(\"South Acton\")\n"
   ]
  },
  {
   "cell_type": "code",
   "execution_count": 4,
   "metadata": {},
   "outputs": [
    {
     "data": {
      "text/plain": [
       "True"
      ]
     },
     "execution_count": 4,
     "metadata": {},
     "output_type": "execute_result"
    }
   ],
   "source": [
    "\"South Acton\" in gaz1"
   ]
  },
  {
   "cell_type": "code",
   "execution_count": 5,
   "metadata": {},
   "outputs": [
    {
     "data": {
      "text/plain": [
       "[{'majorType': 'location', 'minorType': 'city'}]"
      ]
     },
     "execution_count": 5,
     "metadata": {},
     "output_type": "execute_result"
    }
   ],
   "source": [
    "gaz1.get(\"Drax\")"
   ]
  },
  {
   "cell_type": "code",
   "execution_count": 6,
   "metadata": {},
   "outputs": [
    {
     "data": {
      "text/plain": [
       "[{'majorType': 'location', 'minorType': 'city'}]"
      ]
     },
     "execution_count": 6,
     "metadata": {},
     "output_type": "execute_result"
    }
   ],
   "source": [
    "gaz1[\"South Acton\"]"
   ]
  },
  {
   "cell_type": "code",
   "execution_count": 20,
   "metadata": {},
   "outputs": [
    {
     "data": {
      "text/plain": [
       "80766"
      ]
     },
     "execution_count": 20,
     "metadata": {},
     "output_type": "execute_result"
    }
   ],
   "source": [
    "len(gaz1)"
   ]
  },
  {
   "cell_type": "code",
   "execution_count": 47,
   "metadata": {},
   "outputs": [
    {
     "data": {
      "text/plain": [
       "[{'gender': 'male', 'majorType': 'person_full'}]"
      ]
     },
     "execution_count": 47,
     "metadata": {},
     "output_type": "execute_result"
    }
   ],
   "source": [
    "gaz1.get(\"Barack Obama\")"
   ]
  },
  {
   "cell_type": "code",
   "execution_count": 48,
   "metadata": {},
   "outputs": [],
   "source": [
    "doc = Document(\"Barack Obama arrived in Westminster in London today.\")"
   ]
  },
  {
   "cell_type": "code",
   "execution_count": 49,
   "metadata": {},
   "outputs": [],
   "source": [
    "doc.annset().clear()\n",
    "doc = gaz1(doc)"
   ]
  },
  {
   "cell_type": "code",
   "execution_count": 50,
   "metadata": {
    "scrolled": true
   },
   "outputs": [
    {
     "data": {
      "text/html": [
       "<div><style>#AQJZTCLSGX-wrapper { color: black !important; }</style>\n",
       "<div id=\"AQJZTCLSGX-wrapper\">\n",
       "\n",
       "<div>\n",
       "<style>\n",
       "#AQJZTCLSGX-content {\n",
       "    width: 100%;\n",
       "    height: 100%;\n",
       "    font-family: -apple-system, BlinkMacSystemFont, 'Segoe UI', Roboto, Oxygen, Ubuntu, Cantarell, 'Open Sans', 'Helvetica Neue', sans-serif;\n",
       "}\n",
       "\n",
       ".AQJZTCLSGX-row {\n",
       "    width: 100%;\n",
       "    display: flex;\n",
       "    flex-direction: row;\n",
       "    flex-wrap: nowrap;\n",
       "}\n",
       "\n",
       ".AQJZTCLSGX-col {\n",
       "    border: 1px solid grey;\n",
       "    display: inline-block;\n",
       "    min-width: 200px;\n",
       "    padding: 5px;\n",
       "    /* white-space: normal; */\n",
       "    /* white-space: pre-wrap; */\n",
       "    overflow-y: auto;\n",
       "}\n",
       "\n",
       ".AQJZTCLSGX-hdr {\n",
       "    font-size: 1.2rem;\n",
       "    font-weight: bold;\n",
       "}\n",
       "\n",
       ".AQJZTCLSGX-label {\n",
       "    margin-bottom: -15px;\n",
       "    display: block;\n",
       "}\n",
       "\n",
       ".AQJZTCLSGX-input {\n",
       "    vertical-align: middle;\n",
       "    position: relative;\n",
       "    *overflow: hidden;\n",
       "}\n",
       "\n",
       "#AQJZTCLSGX-popup {\n",
       "    display: none;\n",
       "    color: black;\n",
       "    position: absolute;\n",
       "    margin-top: 10%;\n",
       "    margin-left: 10%;\n",
       "    background: #aaaaaa;\n",
       "    width: 60%;\n",
       "    height: 60%;\n",
       "    z-index: 50;\n",
       "    padding: 25px 25px 25px;\n",
       "    border: 1px solid black;\n",
       "    overflow: auto;\n",
       "}\n",
       "\n",
       ".AQJZTCLSGX-selection {\n",
       "    margin-bottom: 5px;\n",
       "}\n",
       "\n",
       ".AQJZTCLSGX-featuretable {\n",
       "    margin-top: 10px;\n",
       "}\n",
       "\n",
       ".AQJZTCLSGX-fname {\n",
       "    text-align: left !important;\n",
       "    font-weight: bold;\n",
       "    margin-right: 10px;\n",
       "}\n",
       ".AQJZTCLSGX-fvalue {\n",
       "    text-align: left !important;\n",
       "}\n",
       "</style>\n",
       "  <div id=\"AQJZTCLSGX-content\">\n",
       "        <div id=\"AQJZTCLSGX-popup\" style=\"display: none;\">\n",
       "        </div>\n",
       "        <div class=\"AQJZTCLSGX-row\" id=\"AQJZTCLSGX-row1\" style=\"max-height: 20em; min-height:5em;\">\n",
       "            <div id=\"AQJZTCLSGX-text-wrapper\" class=\"AQJZTCLSGX-col\" style=\"width:70%;\">\n",
       "                <div class=\"AQJZTCLSGX-hdr\" id=\"AQJZTCLSGX-dochdr\"></div>\n",
       "                <div id=\"AQJZTCLSGX-text\" style=\"\">\n",
       "                </div>\n",
       "            </div>\n",
       "            <div id=\"AQJZTCLSGX-chooser\" class=\"AQJZTCLSGX-col\" style=\"width:30%; border-left-width: 0px;\"></div>\n",
       "        </div>\n",
       "        <div class=\"AQJZTCLSGX-row\" id=\"AQJZTCLSGX-row2\" style=\"max-height: 14em; min-height: 3em;\">\n",
       "            <div id=\"AQJZTCLSGX-details\" class=\"AQJZTCLSGX-col\" style=\"width:100%; border-top-width: 0px;\">\n",
       "            </div>\n",
       "        </div>\n",
       "    </div>\n",
       "    \n",
       "    <script type=\"text/javascript\">\n",
       "    let AQJZTCLSGX_data = {\"annotation_sets\": {\"\": {\"name\": \"detached-from:\", \"annotations\": [{\"type\": \"Lookup\", \"start\": 0, \"end\": 12, \"id\": 0, \"features\": {\"majorType\": \"person_full\", \"gender\": \"male\"}}, {\"type\": \"Lookup\", \"start\": 1, \"end\": 3, \"id\": 1, \"features\": {\"majorType\": \"country_code\"}}, {\"type\": \"Lookup\", \"start\": 1, \"end\": 4, \"id\": 2, \"features\": {\"majorType\": \"person_first\", \"minorType\": \"female\"}}, {\"type\": \"Lookup\", \"start\": 3, \"end\": 5, \"id\": 3, \"features\": {\"majorType\": \"url_key\"}}, {\"type\": \"Lookup\", \"start\": 7, \"end\": 10, \"id\": 4, \"features\": {\"majorType\": \"person_first\", \"minorType\": \"male\"}}, {\"type\": \"Lookup\", \"start\": 7, \"end\": 12, \"id\": 5, \"features\": {\"majorType\": \"person_full\", \"gender\": \"male\"}}, {\"type\": \"Lookup\", \"start\": 17, \"end\": 19, \"id\": 6, \"features\": {\"majorType\": \"country_code\"}}, {\"type\": \"Lookup\", \"start\": 36, \"end\": 38, \"id\": 7, \"features\": {\"majorType\": \"country_code\"}}], \"next_annid\": 8}}, \"text\": \"Barack Obama arrived in Westminster in London today.\", \"features\": {}, \"offset_type\": \"j\", \"name\": \"\"} ; \n",
       "    new gatenlpDocView(new gatenlpDocRep(AQJZTCLSGX_data), \"AQJZTCLSGX-\").init();\n",
       "    </script>\n",
       "  </div>\n",
       "\n",
       "</div></div>"
      ],
      "text/plain": [
       "Document(Barack Obama arrived in Westminster in London today.,features=Features({}),anns={'': AnnotationSet([Annotation(0,12,Lookup,features=Features({'majorType': 'person_full', 'gender': 'male'}),id=0), Annotation(1,3,Lookup,features=Features({'majorType': 'country_code'}),id=1), Annotation(1,4,Lookup,features=Features({'majorType': 'person_first', 'minorType': 'female'}),id=2), Annotation(3,5,Lookup,features=Features({'majorType': 'url_key'}),id=3), Annotation(7,10,Lookup,features=Features({'majorType': 'person_first', 'minorType': 'male'}),id=4), Annotation(7,12,Lookup,features=Features({'majorType': 'person_full', 'gender': 'male'}),id=5), Annotation(17,19,Lookup,features=Features({'majorType': 'country_code'}),id=6), Annotation(36,38,Lookup,features=Features({'majorType': 'country_code'}),id=7)])})"
      ]
     },
     "execution_count": 50,
     "metadata": {},
     "output_type": "execute_result"
    }
   ],
   "source": [
    "doc"
   ]
  },
  {
   "cell_type": "code",
   "execution_count": 51,
   "metadata": {},
   "outputs": [
    {
     "data": {
      "text/plain": [
       "<gatenlp.processing.gazetteer.stringgazetteer._Node at 0x7fa801ec0988>"
      ]
     },
     "execution_count": 51,
     "metadata": {},
     "output_type": "execute_result"
    }
   ],
   "source": [
    "node=gaz1._root.children[\"B\"].children[\"a\"].children[\"r\"].children[\"a\"].children[\"c\"].children[\"k\"].children[\" \"].children[\"O\"]\n",
    "node=node.children[\"b\"].children[\"a\"].children[\"m\"].children[\"a\"]\n",
    "node"
   ]
  },
  {
   "cell_type": "code",
   "execution_count": 52,
   "metadata": {},
   "outputs": [
    {
     "data": {
      "text/plain": [
       "True"
      ]
     },
     "execution_count": 52,
     "metadata": {},
     "output_type": "execute_result"
    }
   ],
   "source": [
    "node.is_match()"
   ]
  },
  {
   "cell_type": "code",
   "execution_count": 45,
   "metadata": {},
   "outputs": [
    {
     "data": {
      "text/plain": [
       "'Node(value=None,listidxs=None,children=[::Node(value=None,listidxs=None,children=[g:Node(value=None,listidxs=None,children=[e:Node(value=None,listidxs=None,children=[n:Node(value=None,listidxs=None,children=[d:Node(value=None,listidxs=None,children=[e:Node(value=None,listidxs=None,children=[r:Node(value=None,listidxs=None,children=[=:Node(value=None,listidxs=None,children=[m:Node(value=None,listidxs=None,children=[a:Node(value=None,listidxs=None,children=[l:Node(value=None,listidxs=None,children=[e:Node(value={},listidxs=64,children=[])])])])])])])])])])])])])'"
      ]
     },
     "execution_count": 45,
     "metadata": {},
     "output_type": "execute_result"
    }
   ],
   "source": [
    "node.format_node()"
   ]
  },
  {
   "cell_type": "code",
   "execution_count": null,
   "metadata": {},
   "outputs": [],
   "source": []
  }
 ],
 "metadata": {
  "kernelspec": {
   "display_name": "Python (gatenlp-36)",
   "language": "python",
   "name": "gatenlp-36"
  },
  "language_info": {
   "codemirror_mode": {
    "name": "ipython",
    "version": 3
   },
   "file_extension": ".py",
   "mimetype": "text/x-python",
   "name": "python",
   "nbconvert_exporter": "python",
   "pygments_lexer": "ipython3",
   "version": "3.6.12"
  }
 },
 "nbformat": 4,
 "nbformat_minor": 4
}
