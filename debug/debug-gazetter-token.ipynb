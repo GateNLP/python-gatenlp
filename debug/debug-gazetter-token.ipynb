{
 "cells": [
  {
   "cell_type": "markdown",
   "metadata": {},
   "source": [
    "# debug-gatezetteer-token\n",
    "## Debug/test token gazetteer "
   ]
  },
  {
   "cell_type": "code",
   "execution_count": 1,
   "metadata": {},
   "outputs": [],
   "source": [
    "import sys, os\n",
    "from gatenlp.processing.gazetteer import TokenGazetteer\n",
    "from gatenlp import Document\n",
    "from gatenlp.gateworker import GateWorker"
   ]
  },
  {
   "cell_type": "markdown",
   "metadata": {},
   "source": [
    "## Basic Usage"
   ]
  },
  {
   "cell_type": "code",
   "execution_count": 3,
   "metadata": {
    "scrolled": false,
    "slideshow": {
     "slide_type": "subslide"
    }
   },
   "outputs": [],
   "source": [
    "# try loading the GATE ANNIE gazetteer\n",
    "# this needs a symbolic link ./gazetteer to the ANNIE src/main/resources/resources/gazetteer directory or a copy\n",
    "gaz1 = TokenGazetteer(source=\"gazetteer/lists.def\", source_sep=\":\", source_tokenizer=None)"
   ]
  },
  {
   "cell_type": "code",
   "execution_count": 4,
   "metadata": {
    "scrolled": true
   },
   "outputs": [
    {
     "data": {
      "text/plain": [
       "Node(is_match=True,data=[{}],listidx=[9],nodes=None)"
      ]
     },
     "execution_count": 4,
     "metadata": {},
     "output_type": "execute_result"
    }
   ],
   "source": [
    "gaz1.nodes[\"Drax\"]"
   ]
  },
  {
   "cell_type": "code",
   "execution_count": 5,
   "metadata": {},
   "outputs": [
    {
     "data": {
      "text/plain": [
       "[{'majorType': 'location', 'minorType': 'city'}]"
      ]
     },
     "execution_count": 5,
     "metadata": {},
     "output_type": "execute_result"
    }
   ],
   "source": [
    "gaz1.get([\"South\", \"Acton\"])\n"
   ]
  },
  {
   "cell_type": "code",
   "execution_count": 6,
   "metadata": {},
   "outputs": [
    {
     "data": {
      "text/plain": [
       "True"
      ]
     },
     "execution_count": 6,
     "metadata": {},
     "output_type": "execute_result"
    }
   ],
   "source": [
    "[\"South\", \"Acton\"] in gaz1"
   ]
  },
  {
   "cell_type": "code",
   "execution_count": 7,
   "metadata": {},
   "outputs": [
    {
     "data": {
      "text/plain": [
       "[{'majorType': 'location', 'minorType': 'city'}]"
      ]
     },
     "execution_count": 7,
     "metadata": {},
     "output_type": "execute_result"
    }
   ],
   "source": [
    "gaz1.get(\"Drax\")"
   ]
  },
  {
   "cell_type": "code",
   "execution_count": 8,
   "metadata": {},
   "outputs": [
    {
     "data": {
      "text/plain": [
       "[{'majorType': 'location', 'minorType': 'city'}]"
      ]
     },
     "execution_count": 8,
     "metadata": {},
     "output_type": "execute_result"
    }
   ],
   "source": [
    "gaz1[[\"South\", \"Acton\"]]"
   ]
  },
  {
   "cell_type": "code",
   "execution_count": 9,
   "metadata": {},
   "outputs": [
    {
     "data": {
      "text/plain": [
       "80766"
      ]
     },
     "execution_count": 9,
     "metadata": {},
     "output_type": "execute_result"
    }
   ],
   "source": [
    "len(gaz1)"
   ]
  },
  {
   "cell_type": "code",
   "execution_count": 10,
   "metadata": {},
   "outputs": [
    {
     "data": {
      "text/plain": [
       "66729"
      ]
     },
     "execution_count": 10,
     "metadata": {},
     "output_type": "execute_result"
    }
   ],
   "source": [
    "len(gaz1.nodes)"
   ]
  },
  {
   "cell_type": "code",
   "execution_count": 11,
   "metadata": {},
   "outputs": [
    {
     "data": {
      "text/plain": [
       "[{'majorType': 'person_full', 'minorType': 'music'}]"
      ]
     },
     "execution_count": 11,
     "metadata": {},
     "output_type": "execute_result"
    }
   ],
   "source": [
    "gaz1[[\"Tupac\", \"Shakur\"]]"
   ]
  },
  {
   "cell_type": "code",
   "execution_count": 12,
   "metadata": {},
   "outputs": [
    {
     "data": {
      "text/plain": [
       "[{'gender': 'male', 'majorType': 'person_full'}]"
      ]
     },
     "execution_count": 12,
     "metadata": {},
     "output_type": "execute_result"
    }
   ],
   "source": [
    "gaz1[[\"Barack\", \"Obama\"]]"
   ]
  },
  {
   "cell_type": "markdown",
   "metadata": {},
   "source": [
    "## Test using Annie tokenizer for gazetteer list"
   ]
  },
  {
   "cell_type": "code",
   "execution_count": null,
   "metadata": {},
   "outputs": [],
   "source": [
    "SYNTAXERROR TO PREVENT REST FROM RUNNING BY DEFAULT"
   ]
  },
  {
   "cell_type": "code",
   "execution_count": null,
   "metadata": {},
   "outputs": [],
   "source": [
    "text = \"\"\"\n",
    "Some text for testing.\n",
    "Includes words like Apple, Apple#, A.B.C., Apple/ and @User\n",
    "\"\"\"\n",
    "doc = Document(text)"
   ]
  },
  {
   "cell_type": "code",
   "execution_count": null,
   "metadata": {},
   "outputs": [],
   "source": [
    "doc"
   ]
  },
  {
   "cell_type": "code",
   "execution_count": null,
   "metadata": {},
   "outputs": [],
   "source": [
    "# Run ANNIE on that document\n",
    "if \"gs\" not in vars():\n",
    "    gs = GateWorker()\n",
    "gs.loadMavenPlugin(\"uk.ac.gate.plugins\", \"annie\", \"9.0\")\n",
    "gpipe = gs.loadPipelineFromPlugin(\"uk.ac.gate.plugins\", \"annie\", \"/resources/ANNIE_with_defaults.gapp\")\n",
    "gdoc = gs.pdoc2gdoc(doc)\n",
    "gcorp = gs.newCorpus()\n",
    "gcorp.add(gdoc)\n",
    "gpipe.setCorpus(gcorp)\n",
    "gpipe.execute()\n",
    "anniedoc = gs.gdoc2pdoc(gdoc)\n",
    "anniedoc"
   ]
  },
  {
   "cell_type": "code",
   "execution_count": null,
   "metadata": {},
   "outputs": [],
   "source": [
    "gazlist = [\n",
    "    \"Apple\",\n",
    "    \"Apple#\",\n",
    "    \"A.B.C.\",\n",
    "    \"@User\",\n",
    "    \"text for\",\n",
    "]\n",
    "# create temporary GATE-style gazetteer files\n",
    "dfile = \"/tmp/debug-gazetteer-token-def1.def\"\n",
    "lfile = \"/tmp/debug-gazetteer-token-lst1.lst\"\n",
    "with open(dfile, \"wt\") as outfp:\n",
    "    print(\"debug-gazetteer-token-lst1.lst:major:minor:lang\", file=outfp)\n",
    "with open(lfile, \"wt\") as outfp:\n",
    "    for e in gazlist:\n",
    "        print(e, file=outfp)"
   ]
  },
  {
   "cell_type": "code",
   "execution_count": null,
   "metadata": {
    "tags": []
   },
   "outputs": [],
   "source": [
    "# Create a token gazetteer from the def file, using the default tokenizer\n",
    "tok1 = TokenGazetteer(dfile, fmt=\"gate-def\", outset=\"tok1\")\n",
    "# apply to anniedoc \n",
    "tok1(anniedoc)\n",
    "anniedoc"
   ]
  },
  {
   "cell_type": "code",
   "execution_count": null,
   "metadata": {},
   "outputs": [],
   "source": [
    "# manually create a pre-gokenized gazetteer list \n",
    "gazlist_tok1 = [\n",
    "    ([\"Apple\"], dict()),\n",
    "    ([\"Apple\", \"#\"], dict()),\n",
    "    ([\"A\",\".\",\"B\",\".\",\"C\",\".\"], dict()),\n",
    "    ([\"@\", \"User\"], dict()),\n",
    "    ([\"text for\"], dict())\n",
    "]"
   ]
  },
  {
   "cell_type": "code",
   "execution_count": null,
   "metadata": {},
   "outputs": [],
   "source": [
    "# Create a token gazetteer from the tokenized list\n",
    "tok2 = TokenGazetteer(gazlist_tok1, fmt=\"gazlist\", outset=\"tok2\")\n",
    "# apply to anniedoc \n",
    "tok2(anniedoc)\n",
    "anniedoc"
   ]
  },
  {
   "cell_type": "code",
   "execution_count": null,
   "metadata": {},
   "outputs": [],
   "source": [
    "# now try to implement code that makes it possible to use the ANNIE tokenizer for tokenizing\n",
    "# the GATE format gazetteer list(s)\n",
    "\n",
    "from gatenlp.processing.annotator import Annotator\n",
    "\n",
    "class AnnieTokenizer(Annotator):\n",
    "    def __init__(self, gateworker, tokeniserPR):\n",
    "        self._gw = gateworker\n",
    "        self._tok = tokeniserPR    \n",
    "        self._ctrl = gateworker.jvm.gate.Factory.createResource(\"gate.creole.SerialAnalyserController\")\n",
    "        self._ctrl.add(tokeniserPR)\n",
    "        self._corpus = gateworker.newCorpus()\n",
    "        self._ctrl.setCorpus(self._corpus)\n",
    "    def __call__(self, doc):\n",
    "        gdoc = self._gw.pdoc2gdoc(doc)\n",
    "        self._corpus.add(gdoc)\n",
    "        self._ctrl.execute()\n",
    "        self._corpus.remove(gdoc)\n",
    "        tmpdoc = self._gw.gdoc2pdoc(gdoc)\n",
    "        # make sure we return the SAME document!\n",
    "        outset = doc.annset()\n",
    "        for ann in tmpdoc.annset().with_type(\"Token\"):\n",
    "            outset.add_ann(ann)\n",
    "        return doc\n",
    "        \n",
    "annietok = AnnieTokenizer(gs, gpipe.getPRs()[1])        "
   ]
  },
  {
   "cell_type": "code",
   "execution_count": null,
   "metadata": {},
   "outputs": [],
   "source": [
    "tmpdoc1 = Document(\"A.B.C. and Apple and Apple#\")\n",
    "tmpdoc1 = annietok(tmpdoc1)\n",
    "print(tmpdoc1.annset())\n",
    "tmpdoc1"
   ]
  },
  {
   "cell_type": "code",
   "execution_count": null,
   "metadata": {},
   "outputs": [],
   "source": [
    "# Create a token gazetteer from the def file, using the ANNIE tokenizer\n",
    "tok3 = TokenGazetteer(dfile, fmt=\"gate-def\", outset=\"tok3\", tokenizer=annietok)\n",
    "# apply to anniedoc \n"
   ]
  },
  {
   "cell_type": "code",
   "execution_count": null,
   "metadata": {},
   "outputs": [],
   "source": [
    "# should be able to close the gateworker now\n",
    "gs.close()"
   ]
  },
  {
   "cell_type": "code",
   "execution_count": null,
   "metadata": {},
   "outputs": [],
   "source": [
    "anniedoc2 = tok3(anniedoc)\n",
    "anniedoc2"
   ]
  },
  {
   "cell_type": "code",
   "execution_count": null,
   "metadata": {},
   "outputs": [],
   "source": []
  }
 ],
 "metadata": {
  "kernelspec": {
   "display_name": "Python (gatenlp-36)",
   "language": "python",
   "name": "gatenlp-36"
  },
  "language_info": {
   "codemirror_mode": {
    "name": "ipython",
    "version": 3
   },
   "file_extension": ".py",
   "mimetype": "text/x-python",
   "name": "python",
   "nbconvert_exporter": "python",
   "pygments_lexer": "ipython3",
   "version": "3.6.12"
  }
 },
 "nbformat": 4,
 "nbformat_minor": 4
}
